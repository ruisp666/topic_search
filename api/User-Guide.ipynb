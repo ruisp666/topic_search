{
 "cells": [
  {
   "cell_type": "markdown",
   "source": [
    "# Api user guide\n",
    "Below we give examples on how to use the endpoints of the web service.\n",
    "All the endpoints except root return a dictionary with 3 keys one per section, namely 'Section1', 'Section1A', 'Section7', which correspond to 'Item1', 'Item1A' and 'Item7' as per the Readme file. They may also contain other keys depending on the user input.\n",
    "This choice reflects a preference for having different topic families, modelled with documents that belong to related but slightly different domains.\n",
    "The web service contains the following endpoints:\n",
    "* root - Entry point\n",
    "* get_topics_time - Extracts the evolution of topics over time.\n",
    "* get_topics_sentiment - Extracts the evolution of topic sentiment over time.\n",
    "* get_topics_url - Allows the use to input an url, and get the corresponding topics from each of the three topic models.\n",
    "* docs - Contains the documentation of the endpoints.\n",
    "Below we give examples on how to use the 3 get endpoints. Please check the docs endpoint for more details."
   ],
   "metadata": {
    "collapsed": false
   }
  },
  {
   "cell_type": "markdown",
   "source": [
    "### get_topics_time\n",
    "\n",
    "We illustrate four  cases:\n",
    "1. Full retrieval; Gets the data without any filtering or resampling.\n",
    "2. Resampling: This allows the user to resample for a desired frequency.\n",
    "3. Top_n : This extracts only the top_n more important topics, including the outliers topic.\n",
    "4. Resampling and Top_n: Combines both 2 and 3.\n",
    "\n",
    "Let's start by calling the endpoint and extract the keys of the dictionary response. The computation of the resampling may take a while."
   ],
   "metadata": {
    "collapsed": false
   }
  },
  {
   "cell_type": "code",
   "execution_count": 2,
   "outputs": [
    {
     "name": "stdout",
     "output_type": "stream",
     "text": [
      "dict_keys(['Section1', 'Section1A', 'Section7'])\n",
      "dict_keys(['frequency', 'Section1', 'Section1A', 'Section7'])\n",
      "dict_keys(['top_n', 'Section1', 'Section1A', 'Section7'])\n",
      "dict_keys(['frequency', 'top_n', 'Section1', 'Section1A', 'Section7'])\n"
     ]
    }
   ],
   "source": [
    "import requests\n",
    "import pandas as pd\n",
    "host = 'http://127.0.0.1:8080'\n",
    "def get_topics_time_dict(freq: str = None, top_N: int = None):\n",
    "    \"\"\"Returns a dictionary of 3 dataframes\"\"\"\n",
    "    if freq and top_N:\n",
    "        response = requests.get(f\"{host}/get_topics_time\", params={'top_n':f'{top_N}', 'freq':f'{freq}'})\n",
    "    elif top_N is not None:\n",
    "        response = requests.get(f\"{host}/get_topics_time\", params={'top_n':f'{top_N}'})\n",
    "    elif freq is not None:\n",
    "        response = requests.get(f\"{host}/get_topics_time\", params={'freq':f'{freq}'})\n",
    "    else:\n",
    "        response = requests.get(f\"{host}/get_topics_time\")\n",
    "    text = response.json()\n",
    "    return text\n",
    "\n",
    "# 4 dictionaries for each of the four cases.\n",
    "\n",
    "dict_full = get_topics_time_dict()\n",
    "dict_resample = get_topics_time_dict(freq='1Y', top_N=None)\n",
    "dict_top_n = get_topics_time_dict(top_N=20, freq=None)\n",
    "dict_top_n_resample = get_topics_time_dict(top_N=20, freq='1Y')\n",
    "\n",
    "#Print the keys\n",
    "for k in [dict_full,dict_resample, dict_top_n, dict_top_n_resample]:\n",
    "    print(k.keys())"
   ],
   "metadata": {
    "collapsed": false,
    "ExecuteTime": {
     "start_time": "2023-09-01T13:18:07.669477Z",
     "end_time": "2023-09-01T13:19:38.831069Z"
    }
   }
  },
  {
   "cell_type": "markdown",
   "source": [
    "We can see two things:\n",
    "1. All the dictionaries have 3 keys in common, namely 'Section1', 'Section1A', and 'Section7'.\n",
    "1. Depending on the user input the dictionary may an additional frequency or/and top_n key.\n",
    "\n",
    "Let's parse one of the dataframes, so that we can validate the answer. We will use the dict_top_n_resample, but recall we need to exclude the frequency and top_n keys."
   ],
   "metadata": {
    "collapsed": false
   }
  },
  {
   "cell_type": "code",
   "execution_count": 6,
   "outputs": [],
   "source": [
    "sections = ['Section1', 'Section1A', 'Section7']\n",
    "dict_df= {s: pd.read_json(dict_top_n_resample[s], orient='records') for s in sections}"
   ],
   "metadata": {
    "collapsed": false,
    "ExecuteTime": {
     "start_time": "2023-09-01T13:20:46.643399Z",
     "end_time": "2023-09-01T13:20:46.661474Z"
    }
   }
  },
  {
   "cell_type": "markdown",
   "source": [
    "We can now inspect one of the dataframes. Say the one corresponding to the management discussions, section 7."
   ],
   "metadata": {
    "collapsed": false
   }
  },
  {
   "cell_type": "code",
   "execution_count": 29,
   "outputs": [
    {
     "data": {
      "text/plain": "   Topic                                              Words  Timestamp  \\\n0     -1  28 2023, january 28, fiscal 2023, 8203 adjustm... 2023-12-31   \n1     -1    30 2023, 2023, fiscal 2023, june 30, ended june 2023-12-31   \n2     -1               31 2019, 2019, 2019 2018, 8203, 2018 2020-12-31   \n3     -1     31 2019, 2019, 2019 compared, 2018, start 8226 2020-12-31   \n4     -1          31 2020, 2020, 2020 2019, covid 19, covid 2021-12-31   \n\n   Frequency  \n0        128  \n1        415  \n2       9043  \n3       6388  \n4       7268  ",
      "text/html": "<div>\n<style scoped>\n    .dataframe tbody tr th:only-of-type {\n        vertical-align: middle;\n    }\n\n    .dataframe tbody tr th {\n        vertical-align: top;\n    }\n\n    .dataframe thead th {\n        text-align: right;\n    }\n</style>\n<table border=\"1\" class=\"dataframe\">\n  <thead>\n    <tr style=\"text-align: right;\">\n      <th></th>\n      <th>Topic</th>\n      <th>Words</th>\n      <th>Timestamp</th>\n      <th>Frequency</th>\n    </tr>\n  </thead>\n  <tbody>\n    <tr>\n      <th>0</th>\n      <td>-1</td>\n      <td>28 2023, january 28, fiscal 2023, 8203 adjustm...</td>\n      <td>2023-12-31</td>\n      <td>128</td>\n    </tr>\n    <tr>\n      <th>1</th>\n      <td>-1</td>\n      <td>30 2023, 2023, fiscal 2023, june 30, ended june</td>\n      <td>2023-12-31</td>\n      <td>415</td>\n    </tr>\n    <tr>\n      <th>2</th>\n      <td>-1</td>\n      <td>31 2019, 2019, 2019 2018, 8203, 2018</td>\n      <td>2020-12-31</td>\n      <td>9043</td>\n    </tr>\n    <tr>\n      <th>3</th>\n      <td>-1</td>\n      <td>31 2019, 2019, 2019 compared, 2018, start 8226</td>\n      <td>2020-12-31</td>\n      <td>6388</td>\n    </tr>\n    <tr>\n      <th>4</th>\n      <td>-1</td>\n      <td>31 2020, 2020, 2020 2019, covid 19, covid</td>\n      <td>2021-12-31</td>\n      <td>7268</td>\n    </tr>\n  </tbody>\n</table>\n</div>"
     },
     "execution_count": 29,
     "metadata": {},
     "output_type": "execute_result"
    }
   ],
   "source": [
    "dict_df['Section7'].head(5)"
   ],
   "metadata": {
    "collapsed": false,
    "ExecuteTime": {
     "start_time": "2023-09-01T11:53:58.210078Z",
     "end_time": "2023-09-01T11:53:58.214262Z"
    }
   }
  },
  {
   "cell_type": "markdown",
   "source": [
    "We can see the words and the topics associated. Let's verify that we actually have yearly stamps and 20 + 1 unique timestamps."
   ],
   "metadata": {
    "collapsed": false
   }
  },
  {
   "cell_type": "code",
   "execution_count": 32,
   "outputs": [
    {
     "name": "stdout",
     "output_type": "stream",
     "text": [
      "Unique Topics (including the one for outliers) 21\n",
      "Unique Timestamps  ['2023-12-31T00:00:00.000000000' '2020-12-31T00:00:00.000000000'\n",
      " '2021-12-31T00:00:00.000000000' '2022-12-31T00:00:00.000000000'\n",
      " '2019-12-31T00:00:00.000000000']\n"
     ]
    }
   ],
   "source": [
    "print(f\"Unique Topics (including the one for outliers) {dict_df['Section7'].loc[:,'Topic'].nunique()}\")\n",
    "print(f\"Unique Timestamps  {dict_df['Section7'].loc[:,'Timestamp'].unique()}\")"
   ],
   "metadata": {
    "collapsed": false,
    "ExecuteTime": {
     "start_time": "2023-09-01T11:56:56.703397Z",
     "end_time": "2023-09-01T11:56:56.710401Z"
    }
   }
  },
  {
   "cell_type": "markdown",
   "source": [
    "Thus, we verify the endpoint yields what is expected (see also the [tests](test_routes.py) for more robust testing). We now move to get_topic_sentiment."
   ],
   "metadata": {
    "collapsed": false
   }
  },
  {
   "cell_type": "markdown",
   "source": [
    "### get_topic_sentiment\n",
    "\n",
    "This endpoint is to be used to analyze the sentiment for topics"
   ],
   "metadata": {
    "collapsed": false
   }
  },
  {
   "cell_type": "code",
   "execution_count": 3,
   "outputs": [
    {
     "name": "stdout",
     "output_type": "stream",
     "text": [
      "dict_keys(['Section1', 'Section1A', 'Section7', 'frequency'])\n",
      "dict_keys(['Section1', 'Section1A', 'Section7', 'frequency'])\n"
     ]
    }
   ],
   "source": [
    "def get_topics_sentiment_dict(freq: str = None):\n",
    "    \"\"\"Returns a dictionary of 3 dataframes with sentiment\"\"\"\n",
    "    if freq:\n",
    "        response = requests.get(f\"{host}/get_topics_sentiment\", params={'freq': f'{freq}'})\n",
    "    else:\n",
    "        response = requests.get(f\"{host}/get_topics_sentiment\")\n",
    "    text = response.json()\n",
    "    return text\n",
    "\n",
    "sentiment_full = get_topics_sentiment_dict()\n",
    "sentiment_resampled = get_topics_sentiment_dict(freq='3M')\n",
    "\n",
    "for el in [sentiment_full, sentiment_resampled]:\n",
    "    print(el.keys())"
   ],
   "metadata": {
    "collapsed": false,
    "ExecuteTime": {
     "start_time": "2023-09-01T13:19:38.832810Z",
     "end_time": "2023-09-01T13:19:51.983444Z"
    }
   }
  },
  {
   "cell_type": "markdown",
   "source": [
    "Here, we can see that both cases received the frequency key. Let's look inside."
   ],
   "metadata": {
    "collapsed": false
   }
  },
  {
   "cell_type": "code",
   "execution_count": 4,
   "outputs": [
    {
     "name": "stdout",
     "output_type": "stream",
     "text": [
      "3M\n",
      "No frequency specified\n"
     ]
    }
   ],
   "source": [
    "print(sentiment_resampled['frequency'])\n",
    "print(sentiment_full['frequency'])"
   ],
   "metadata": {
    "collapsed": false,
    "ExecuteTime": {
     "start_time": "2023-09-01T13:20:37.699757Z",
     "end_time": "2023-09-01T13:20:37.706185Z"
    }
   }
  },
  {
   "cell_type": "markdown",
   "source": [
    "We can see that when frequency is not specified that message is passed to the frequency key. This discrepancy with the behaviour of the get_topics_time was already noted, and future versions of the service will handle that. Let's analyze one of the dataframes, again for section 7."
   ],
   "metadata": {
    "collapsed": false
   }
  },
  {
   "cell_type": "code",
   "execution_count": 7,
   "outputs": [
    {
     "data": {
      "text/plain": "   Topic                         Name  Timestamp      mean  median\n0     -1  -1_cash_debt_income_expense 2019-01-31  0.141774     0.0\n1     -1  -1_cash_debt_income_expense 2019-04-30  0.087433     0.0\n2     -1  -1_cash_debt_income_expense 2019-07-31  0.076477     0.0\n3     -1  -1_cash_debt_income_expense 2019-10-31  0.096196     0.0\n4     -1  -1_cash_debt_income_expense 2020-01-31  0.097544     0.0",
      "text/html": "<div>\n<style scoped>\n    .dataframe tbody tr th:only-of-type {\n        vertical-align: middle;\n    }\n\n    .dataframe tbody tr th {\n        vertical-align: top;\n    }\n\n    .dataframe thead th {\n        text-align: right;\n    }\n</style>\n<table border=\"1\" class=\"dataframe\">\n  <thead>\n    <tr style=\"text-align: right;\">\n      <th></th>\n      <th>Topic</th>\n      <th>Name</th>\n      <th>Timestamp</th>\n      <th>mean</th>\n      <th>median</th>\n    </tr>\n  </thead>\n  <tbody>\n    <tr>\n      <th>0</th>\n      <td>-1</td>\n      <td>-1_cash_debt_income_expense</td>\n      <td>2019-01-31</td>\n      <td>0.141774</td>\n      <td>0.0</td>\n    </tr>\n    <tr>\n      <th>1</th>\n      <td>-1</td>\n      <td>-1_cash_debt_income_expense</td>\n      <td>2019-04-30</td>\n      <td>0.087433</td>\n      <td>0.0</td>\n    </tr>\n    <tr>\n      <th>2</th>\n      <td>-1</td>\n      <td>-1_cash_debt_income_expense</td>\n      <td>2019-07-31</td>\n      <td>0.076477</td>\n      <td>0.0</td>\n    </tr>\n    <tr>\n      <th>3</th>\n      <td>-1</td>\n      <td>-1_cash_debt_income_expense</td>\n      <td>2019-10-31</td>\n      <td>0.096196</td>\n      <td>0.0</td>\n    </tr>\n    <tr>\n      <th>4</th>\n      <td>-1</td>\n      <td>-1_cash_debt_income_expense</td>\n      <td>2020-01-31</td>\n      <td>0.097544</td>\n      <td>0.0</td>\n    </tr>\n  </tbody>\n</table>\n</div>"
     },
     "execution_count": 7,
     "metadata": {},
     "output_type": "execute_result"
    }
   ],
   "source": [
    "sentiment_df = {s: pd.read_json(sentiment_resampled[s], orient='records') for s in sections}\n",
    "sentiment_df['Section7'].head()"
   ],
   "metadata": {
    "collapsed": false,
    "ExecuteTime": {
     "start_time": "2023-09-01T13:20:54.276741Z",
     "end_time": "2023-09-01T13:20:54.443729Z"
    }
   }
  },
  {
   "cell_type": "markdown",
   "source": [
    "We see the medians and the mean sentiment. Let's plot the mean in the graph. For ease of visualization, let's exclude the outliers which are represented by the topic -1, and include only the top 20, since in bertopic the numbers correspond to the ranking in frequency."
   ],
   "metadata": {
    "collapsed": false
   }
  },
  {
   "cell_type": "code",
   "execution_count": 11,
   "outputs": [
    {
     "data": {
      "application/vnd.plotly.v1+json": {
       "data": [
        {
         "hovertemplate": "Name=1_repurchase program_share repurchase_shares_dividend<br>Timestamp=%{x}<br>mean=%{y}<extra></extra>",
         "legendgroup": "1_repurchase program_share repurchase_shares_dividend",
         "line": {
          "color": "#636efa",
          "dash": "solid"
         },
         "marker": {
          "symbol": "circle"
         },
         "mode": "lines",
         "name": "1_repurchase program_share repurchase_shares_dividend",
         "orientation": "v",
         "showlegend": true,
         "x": [
          "2019-01-31T00:00:00",
          "2019-04-30T00:00:00",
          "2019-07-31T00:00:00",
          "2019-10-31T00:00:00",
          "2020-01-31T00:00:00",
          "2020-04-30T00:00:00",
          "2020-07-31T00:00:00",
          "2020-10-31T00:00:00",
          "2021-01-31T00:00:00",
          "2021-04-30T00:00:00",
          "2021-07-31T00:00:00",
          "2021-10-31T00:00:00",
          "2022-01-31T00:00:00",
          "2022-04-30T00:00:00",
          "2022-07-31T00:00:00",
          "2022-10-31T00:00:00",
          "2023-01-31T00:00:00",
          "2023-04-30T00:00:00",
          "2023-07-31T00:00:00",
          "2023-10-31T00:00:00"
         ],
         "xaxis": "x",
         "y": [
          0.2412193634,
          0.29330266850000003,
          0.23166760960000002,
          0.1271342751,
          0.2749150172,
          0.2742475103,
          2.820823E-4,
          0.2571122174,
          0.1496577036,
          0.2485803393,
          0.1744454571,
          0.1983421649,
          0.2115601072,
          0.2655043924,
          0.2007748566,
          0.3033357362,
          0.1650556195,
          0.2155820776,
          0.0610940081,
          0.5467396974000001
         ],
         "yaxis": "y",
         "type": "scatter"
        },
        {
         "hovertemplate": "Name=2_value reporting_reporting units_goodwill_goodwill impairment<br>Timestamp=%{x}<br>mean=%{y}<extra></extra>",
         "legendgroup": "2_value reporting_reporting units_goodwill_goodwill impairment",
         "line": {
          "color": "#EF553B",
          "dash": "solid"
         },
         "marker": {
          "symbol": "circle"
         },
         "mode": "lines",
         "name": "2_value reporting_reporting units_goodwill_goodwill impairment",
         "orientation": "v",
         "showlegend": true,
         "x": [
          "2019-01-31T00:00:00",
          "2019-04-30T00:00:00",
          "2019-07-31T00:00:00",
          "2019-10-31T00:00:00",
          "2020-01-31T00:00:00",
          "2020-04-30T00:00:00",
          "2020-07-31T00:00:00",
          "2020-10-31T00:00:00",
          "2021-01-31T00:00:00",
          "2021-04-30T00:00:00",
          "2021-07-31T00:00:00",
          "2021-10-31T00:00:00",
          "2022-01-31T00:00:00",
          "2022-04-30T00:00:00",
          "2022-07-31T00:00:00",
          "2022-10-31T00:00:00",
          "2023-01-31T00:00:00",
          "2023-04-30T00:00:00",
          "2023-07-31T00:00:00",
          "2023-10-31T00:00:00"
         ],
         "xaxis": "x",
         "y": [
          0.0,
          -0.0453473004,
          0.1013571087,
          -0.0266746004,
          -0.031092516900000002,
          -0.0525202944,
          -0.0714094043,
          -0.0200919234,
          -0.0455849004,
          -0.0708370364,
          0.0,
          0.025429877,
          -0.0052226322000000006,
          -0.020807112200000002,
          0.0,
          -0.0741329268,
          -0.0264022558,
          -0.0731887363,
          -0.0413212683,
          0.0
         ],
         "yaxis": "y",
         "type": "scatter"
        },
        {
         "hovertemplate": "Name=3_accounting policies_critical accounting_accounting_accounting estimates<br>Timestamp=%{x}<br>mean=%{y}<extra></extra>",
         "legendgroup": "3_accounting policies_critical accounting_accounting_accounting estimates",
         "line": {
          "color": "#00cc96",
          "dash": "solid"
         },
         "marker": {
          "symbol": "circle"
         },
         "mode": "lines",
         "name": "3_accounting policies_critical accounting_accounting_accounting estimates",
         "orientation": "v",
         "showlegend": true,
         "x": [
          "2019-01-31T00:00:00",
          "2019-04-30T00:00:00",
          "2019-07-31T00:00:00",
          "2019-10-31T00:00:00",
          "2020-01-31T00:00:00",
          "2020-04-30T00:00:00",
          "2020-07-31T00:00:00",
          "2020-10-31T00:00:00",
          "2021-01-31T00:00:00",
          "2021-04-30T00:00:00",
          "2021-07-31T00:00:00",
          "2021-10-31T00:00:00",
          "2022-01-31T00:00:00",
          "2022-04-30T00:00:00",
          "2022-07-31T00:00:00",
          "2022-10-31T00:00:00",
          "2023-01-31T00:00:00",
          "2023-04-30T00:00:00",
          "2023-07-31T00:00:00",
          "2023-10-31T00:00:00"
         ],
         "xaxis": "x",
         "y": [
          0.0,
          0.0037588249000000003,
          0.0,
          -0.0231535311,
          0.039357711000000004,
          -0.0043587193,
          0.0,
          0.0495211542,
          0.0082810044,
          0.0222378784,
          0.0,
          0.0753292166,
          0.0203406489,
          0.023637119300000002,
          0.0,
          -0.049504664500000004,
          -0.0067915705,
          0.004459940700000001,
          0.0482694149,
          0.0
         ],
         "yaxis": "y",
         "type": "scatter"
        },
        {
         "hovertemplate": "Name=4_change 160_160 change_revenue 160_percentages<br>Timestamp=%{x}<br>mean=%{y}<extra></extra>",
         "legendgroup": "4_change 160_160 change_revenue 160_percentages",
         "line": {
          "color": "#ab63fa",
          "dash": "solid"
         },
         "marker": {
          "symbol": "circle"
         },
         "mode": "lines",
         "name": "4_change 160_160 change_revenue 160_percentages",
         "orientation": "v",
         "showlegend": true,
         "x": [
          "2019-01-31T00:00:00",
          "2019-04-30T00:00:00",
          "2019-07-31T00:00:00",
          "2019-10-31T00:00:00",
          "2020-01-31T00:00:00",
          "2020-04-30T00:00:00",
          "2020-07-31T00:00:00",
          "2020-10-31T00:00:00",
          "2021-01-31T00:00:00",
          "2021-04-30T00:00:00",
          "2021-07-31T00:00:00",
          "2021-10-31T00:00:00",
          "2022-01-31T00:00:00",
          "2022-04-30T00:00:00",
          "2022-07-31T00:00:00",
          "2022-10-31T00:00:00",
          "2023-01-31T00:00:00",
          "2023-04-30T00:00:00",
          "2023-07-31T00:00:00",
          "2023-10-31T00:00:00"
         ],
         "xaxis": "x",
         "y": [
          0.0829771956,
          0.0564457463,
          -0.1165127088,
          0.0385006712,
          -0.007056593900000001,
          0.0489582075,
          0.0685389141,
          0.030044894200000002,
          -0.0468508568,
          -0.0158967925,
          -0.0990179115,
          0.0,
          0.11089910730000001,
          0.0697094025,
          0.0,
          0.1515526221,
          -0.007352760900000001,
          0.0381778484,
          0.0,
          0.15575835700000001
         ],
         "yaxis": "y",
         "type": "scatter"
        },
        {
         "hovertemplate": "Name=5_looking statements_forward looking_expect 8221_8220 expect<br>Timestamp=%{x}<br>mean=%{y}<extra></extra>",
         "legendgroup": "5_looking statements_forward looking_expect 8221_8220 expect",
         "line": {
          "color": "#FFA15A",
          "dash": "solid"
         },
         "marker": {
          "symbol": "circle"
         },
         "mode": "lines",
         "name": "5_looking statements_forward looking_expect 8221_8220 expect",
         "orientation": "v",
         "showlegend": true,
         "x": [
          "2019-01-31T00:00:00",
          "2019-04-30T00:00:00",
          "2019-07-31T00:00:00",
          "2019-10-31T00:00:00",
          "2020-01-31T00:00:00",
          "2020-04-30T00:00:00",
          "2020-07-31T00:00:00",
          "2020-10-31T00:00:00",
          "2021-01-31T00:00:00",
          "2021-04-30T00:00:00",
          "2021-07-31T00:00:00",
          "2021-10-31T00:00:00",
          "2022-01-31T00:00:00",
          "2022-04-30T00:00:00",
          "2022-07-31T00:00:00",
          "2022-10-31T00:00:00",
          "2023-01-31T00:00:00",
          "2023-04-30T00:00:00",
          "2023-07-31T00:00:00",
          "2023-10-31T00:00:00"
         ],
         "xaxis": "x",
         "y": [
          0.0,
          -0.0296131062,
          0.0,
          -0.033686764200000004,
          -0.0032567852,
          -0.012368575000000001,
          0.0,
          0.0,
          -0.0456727403,
          -0.026636007000000003,
          0.0,
          -0.044198907600000004,
          -0.08125690120000001,
          -0.0172223406,
          0.0,
          0.01255541,
          0.0,
          -0.012947033,
          0.0,
          0.0
         ],
         "yaxis": "y",
         "type": "scatter"
        },
        {
         "hovertemplate": "Name=6_tier capital_basel iii_regulatory capital_risk weighted<br>Timestamp=%{x}<br>mean=%{y}<extra></extra>",
         "legendgroup": "6_tier capital_basel iii_regulatory capital_risk weighted",
         "line": {
          "color": "#19d3f3",
          "dash": "solid"
         },
         "marker": {
          "symbol": "circle"
         },
         "mode": "lines",
         "name": "6_tier capital_basel iii_regulatory capital_risk weighted",
         "orientation": "v",
         "showlegend": true,
         "x": [
          "2019-02-28T00:00:00",
          "2019-05-31T00:00:00",
          "2019-08-31T00:00:00",
          "2019-11-30T00:00:00",
          "2020-02-29T00:00:00",
          "2020-05-31T00:00:00",
          "2020-08-31T00:00:00",
          "2020-11-30T00:00:00",
          "2021-02-28T00:00:00",
          "2021-05-31T00:00:00",
          "2021-08-31T00:00:00",
          "2021-11-30T00:00:00",
          "2022-02-28T00:00:00",
          "2022-05-31T00:00:00",
          "2022-08-31T00:00:00",
          "2022-11-30T00:00:00",
          "2023-02-28T00:00:00"
         ],
         "xaxis": "x",
         "y": [
          -0.006603437100000001,
          -0.0401431251,
          null,
          null,
          0.0424021246,
          0.0575323159,
          null,
          null,
          0.06509340620000001,
          null,
          null,
          null,
          0.0269539796,
          null,
          null,
          0.0,
          0.010375026800000001
         ],
         "yaxis": "y",
         "type": "scatter"
        },
        {
         "hovertemplate": "Name=7_stable_bbb_credit ratings_credit rating<br>Timestamp=%{x}<br>mean=%{y}<extra></extra>",
         "legendgroup": "7_stable_bbb_credit ratings_credit rating",
         "line": {
          "color": "#FF6692",
          "dash": "solid"
         },
         "marker": {
          "symbol": "circle"
         },
         "mode": "lines",
         "name": "7_stable_bbb_credit ratings_credit rating",
         "orientation": "v",
         "showlegend": true,
         "x": [
          "2019-01-31T00:00:00",
          "2019-04-30T00:00:00",
          "2019-07-31T00:00:00",
          "2019-10-31T00:00:00",
          "2020-01-31T00:00:00",
          "2020-04-30T00:00:00",
          "2020-07-31T00:00:00",
          "2020-10-31T00:00:00",
          "2021-01-31T00:00:00",
          "2021-04-30T00:00:00",
          "2021-07-31T00:00:00",
          "2021-10-31T00:00:00",
          "2022-01-31T00:00:00",
          "2022-04-30T00:00:00",
          "2022-07-31T00:00:00",
          "2022-10-31T00:00:00",
          "2023-01-31T00:00:00",
          "2023-04-30T00:00:00",
          "2023-07-31T00:00:00",
          "2023-10-31T00:00:00"
         ],
         "xaxis": "x",
         "y": [
          0.0,
          -0.0062844051,
          -0.1217510005,
          0.4121016065,
          -0.0405362684,
          0.0141052616,
          0.0047237277,
          -0.0145968795,
          -0.1073832576,
          -0.0490188487,
          -0.0861293256,
          0.0,
          -0.1779655367,
          0.0274442895,
          -0.17813332880000002,
          0.3237796625,
          -0.0626052088,
          0.1181211962,
          -0.0769667079,
          0.9895137548
         ],
         "yaxis": "y",
         "type": "scatter"
        },
        {
         "hovertemplate": "Name=8_tax act_tax rate_effective tax_tax<br>Timestamp=%{x}<br>mean=%{y}<extra></extra>",
         "legendgroup": "8_tax act_tax rate_effective tax_tax",
         "line": {
          "color": "#B6E880",
          "dash": "solid"
         },
         "marker": {
          "symbol": "circle"
         },
         "mode": "lines",
         "name": "8_tax act_tax rate_effective tax_tax",
         "orientation": "v",
         "showlegend": true,
         "x": [
          "2019-01-31T00:00:00",
          "2019-04-30T00:00:00",
          "2019-07-31T00:00:00",
          "2019-10-31T00:00:00",
          "2020-01-31T00:00:00",
          "2020-04-30T00:00:00",
          "2020-07-31T00:00:00",
          "2020-10-31T00:00:00",
          "2021-01-31T00:00:00",
          "2021-04-30T00:00:00",
          "2021-07-31T00:00:00",
          "2021-10-31T00:00:00",
          "2022-01-31T00:00:00",
          "2022-04-30T00:00:00",
          "2022-07-31T00:00:00",
          "2022-10-31T00:00:00",
          "2023-01-31T00:00:00",
          "2023-04-30T00:00:00",
          "2023-07-31T00:00:00",
          "2023-10-31T00:00:00"
         ],
         "xaxis": "x",
         "y": [
          0.23383510910000002,
          0.086409661,
          -0.12416762710000001,
          -0.19578487600000002,
          0.1861544525,
          0.0902320424,
          0.13517908750000002,
          -0.30677413940000003,
          -0.0023863082000000002,
          0.1389716034,
          -0.28725035990000003,
          -0.42720190680000003,
          0.358003296,
          0.0593876609,
          0.0234802008,
          0.9029222131,
          0.2489255816,
          -0.0054330349000000005,
          0.10811327700000001,
          0.520142436
         ],
         "yaxis": "y",
         "type": "scatter"
        },
        {
         "hovertemplate": "Name=9_stock options_restricted stock_stock based_scholes<br>Timestamp=%{x}<br>mean=%{y}<extra></extra>",
         "legendgroup": "9_stock options_restricted stock_stock based_scholes",
         "line": {
          "color": "#FF97FF",
          "dash": "solid"
         },
         "marker": {
          "symbol": "circle"
         },
         "mode": "lines",
         "name": "9_stock options_restricted stock_stock based_scholes",
         "orientation": "v",
         "showlegend": true,
         "x": [
          "2019-02-28T00:00:00",
          "2019-05-31T00:00:00",
          "2019-08-31T00:00:00",
          "2019-11-30T00:00:00",
          "2020-02-29T00:00:00",
          "2020-05-31T00:00:00",
          "2020-08-31T00:00:00",
          "2020-11-30T00:00:00",
          "2021-02-28T00:00:00",
          "2021-05-31T00:00:00",
          "2021-08-31T00:00:00",
          "2021-11-30T00:00:00",
          "2022-02-28T00:00:00",
          "2022-05-31T00:00:00",
          "2022-08-31T00:00:00",
          "2022-11-30T00:00:00",
          "2023-02-28T00:00:00",
          "2023-05-31T00:00:00",
          "2023-08-31T00:00:00"
         ],
         "xaxis": "x",
         "y": [
          -0.0104721766,
          -0.0294649697,
          0.0535132846,
          0.0,
          0.0063336726000000005,
          0.0492837301,
          0.0206485306,
          0.0,
          -0.0047893186,
          0.0309897878,
          0.0287109703,
          0.0,
          0.018953886,
          -0.06858240560000001,
          0.0458639935,
          0.0,
          0.0358105512,
          0.0,
          0.0
         ],
         "yaxis": "y",
         "type": "scatter"
        },
        {
         "hovertemplate": "Name=10_senior notes_notes_notes 8221_million aggregate<br>Timestamp=%{x}<br>mean=%{y}<extra></extra>",
         "legendgroup": "10_senior notes_notes_notes 8221_million aggregate",
         "line": {
          "color": "#FECB52",
          "dash": "solid"
         },
         "marker": {
          "symbol": "circle"
         },
         "mode": "lines",
         "name": "10_senior notes_notes_notes 8221_million aggregate",
         "orientation": "v",
         "showlegend": true,
         "x": [
          "2019-02-28T00:00:00",
          "2019-05-31T00:00:00",
          "2019-08-31T00:00:00",
          "2019-11-30T00:00:00",
          "2020-02-29T00:00:00",
          "2020-05-31T00:00:00",
          "2020-08-31T00:00:00",
          "2020-11-30T00:00:00",
          "2021-02-28T00:00:00",
          "2021-05-31T00:00:00",
          "2021-08-31T00:00:00",
          "2021-11-30T00:00:00",
          "2022-02-28T00:00:00",
          "2022-05-31T00:00:00",
          "2022-08-31T00:00:00",
          "2022-11-30T00:00:00",
          "2023-02-28T00:00:00",
          "2023-05-31T00:00:00",
          "2023-08-31T00:00:00"
         ],
         "xaxis": "x",
         "y": [
          0.014222119,
          0.11349896990000001,
          -0.1241533682,
          0.0,
          -0.009735228700000001,
          0.0,
          -0.1192795709,
          0.0,
          0.0211911642,
          -0.0182987217,
          0.0378722681,
          -0.043938169900000004,
          0.0228419274,
          -0.007235337400000001,
          -0.11730434890000001,
          0.0759516771,
          0.0286032315,
          0.12660052230000002,
          0.0
         ],
         "yaxis": "y",
         "type": "scatter"
        },
        {
         "hovertemplate": "Name=11_foreign currency_forward contracts_cross currency_exchange risk<br>Timestamp=%{x}<br>mean=%{y}<extra></extra>",
         "legendgroup": "11_foreign currency_forward contracts_cross currency_exchange risk",
         "line": {
          "color": "#636efa",
          "dash": "solid"
         },
         "marker": {
          "symbol": "circle"
         },
         "mode": "lines",
         "name": "11_foreign currency_forward contracts_cross currency_exchange risk",
         "orientation": "v",
         "showlegend": true,
         "x": [
          "2019-01-31T00:00:00",
          "2019-04-30T00:00:00",
          "2019-07-31T00:00:00",
          "2019-10-31T00:00:00",
          "2020-01-31T00:00:00",
          "2020-04-30T00:00:00",
          "2020-07-31T00:00:00",
          "2020-10-31T00:00:00",
          "2021-01-31T00:00:00",
          "2021-04-30T00:00:00",
          "2021-07-31T00:00:00",
          "2021-10-31T00:00:00",
          "2022-01-31T00:00:00",
          "2022-04-30T00:00:00",
          "2022-07-31T00:00:00",
          "2022-10-31T00:00:00",
          "2023-01-31T00:00:00",
          "2023-04-30T00:00:00",
          "2023-07-31T00:00:00",
          "2023-10-31T00:00:00"
         ],
         "xaxis": "x",
         "y": [
          0.0,
          -0.018626393,
          -0.077626052,
          0.0290667159,
          0.0358333728,
          -0.0502530161,
          -0.1120070865,
          0.0399030277,
          0.0955243031,
          -0.07591734500000001,
          0.0474899352,
          -0.11064624120000001,
          -0.0205958451,
          -0.0926351807,
          -0.0498245358,
          -0.20258531400000002,
          -0.092631249,
          -0.0791313958,
          -0.0803596106,
          -0.4752762616
         ],
         "yaxis": "y",
         "type": "scatter"
        },
        {
         "hovertemplate": "Name=12_contractual obligations_obligations 160_payments period_lease obligations<br>Timestamp=%{x}<br>mean=%{y}<extra></extra>",
         "legendgroup": "12_contractual obligations_obligations 160_payments period_lease obligations",
         "line": {
          "color": "#EF553B",
          "dash": "solid"
         },
         "marker": {
          "symbol": "circle"
         },
         "mode": "lines",
         "name": "12_contractual obligations_obligations 160_payments period_lease obligations",
         "orientation": "v",
         "showlegend": true,
         "x": [
          "2019-01-31T00:00:00",
          "2019-04-30T00:00:00",
          "2019-07-31T00:00:00",
          "2019-10-31T00:00:00",
          "2020-01-31T00:00:00",
          "2020-04-30T00:00:00",
          "2020-07-31T00:00:00",
          "2020-10-31T00:00:00",
          "2021-01-31T00:00:00",
          "2021-04-30T00:00:00",
          "2021-07-31T00:00:00",
          "2021-10-31T00:00:00",
          "2022-01-31T00:00:00",
          "2022-04-30T00:00:00",
          "2022-07-31T00:00:00",
          "2022-10-31T00:00:00",
          "2023-01-31T00:00:00",
          "2023-04-30T00:00:00",
          "2023-07-31T00:00:00",
          "2023-10-31T00:00:00"
         ],
         "xaxis": "x",
         "y": [
          0.0,
          -0.0044982731,
          -0.147016267,
          0.0,
          -0.0182669838,
          1.265868E-4,
          0.0,
          0.0,
          -0.07002806240000001,
          -0.014163243300000001,
          0.0,
          0.12253361200000001,
          0.0,
          0.009678813500000001,
          0.0,
          0.0,
          0.0,
          0.0177234014,
          0.0,
          0.0
         ],
         "yaxis": "y",
         "type": "scatter"
        },
        {
         "hovertemplate": "Name=13_georgia_southern company_georgia power_mississippi power<br>Timestamp=%{x}<br>mean=%{y}<extra></extra>",
         "legendgroup": "13_georgia_southern company_georgia power_mississippi power",
         "line": {
          "color": "#00cc96",
          "dash": "solid"
         },
         "marker": {
          "symbol": "circle"
         },
         "mode": "lines",
         "name": "13_georgia_southern company_georgia power_mississippi power",
         "orientation": "v",
         "showlegend": true,
         "x": [
          "2019-02-28T00:00:00",
          "2019-05-31T00:00:00",
          "2019-08-31T00:00:00",
          "2019-11-30T00:00:00",
          "2020-02-29T00:00:00",
          "2020-05-31T00:00:00",
          "2020-08-31T00:00:00",
          "2020-11-30T00:00:00",
          "2021-02-28T00:00:00"
         ],
         "xaxis": "x",
         "y": [
          0.0480023174,
          0.0,
          null,
          null,
          0.0,
          null,
          null,
          null,
          0.0
         ],
         "yaxis": "y",
         "type": "scatter"
        },
        {
         "hovertemplate": "Name=14_credit agreement_credit facility_revolving credit_sofr<br>Timestamp=%{x}<br>mean=%{y}<extra></extra>",
         "legendgroup": "14_credit agreement_credit facility_revolving credit_sofr",
         "line": {
          "color": "#ab63fa",
          "dash": "solid"
         },
         "marker": {
          "symbol": "circle"
         },
         "mode": "lines",
         "name": "14_credit agreement_credit facility_revolving credit_sofr",
         "orientation": "v",
         "showlegend": true,
         "x": [
          "2019-01-31T00:00:00",
          "2019-04-30T00:00:00",
          "2019-07-31T00:00:00",
          "2019-10-31T00:00:00",
          "2020-01-31T00:00:00",
          "2020-04-30T00:00:00",
          "2020-07-31T00:00:00",
          "2020-10-31T00:00:00",
          "2021-01-31T00:00:00",
          "2021-04-30T00:00:00",
          "2021-07-31T00:00:00",
          "2021-10-31T00:00:00",
          "2022-01-31T00:00:00",
          "2022-04-30T00:00:00",
          "2022-07-31T00:00:00",
          "2022-10-31T00:00:00",
          "2023-01-31T00:00:00",
          "2023-04-30T00:00:00",
          "2023-07-31T00:00:00",
          "2023-10-31T00:00:00"
         ],
         "xaxis": "x",
         "y": [
          0.0,
          0.06732259980000001,
          0.0,
          0.0698158691,
          0.083787425,
          0.034243049500000004,
          0.2429579794,
          0.0560645426,
          -0.12221666800000001,
          0.0313577347,
          0.16352000830000002,
          0.10505988200000001,
          0.1252249877,
          0.1044269812,
          0.0,
          0.049010043,
          0.2517426099,
          0.0679443912,
          0.0,
          0.0
         ],
         "yaxis": "y",
         "type": "scatter"
        },
        {
         "hovertemplate": "Name=15_aircraft fuel_passenger revenue_fuel expense_asms<br>Timestamp=%{x}<br>mean=%{y}<extra></extra>",
         "legendgroup": "15_aircraft fuel_passenger revenue_fuel expense_asms",
         "line": {
          "color": "#FFA15A",
          "dash": "solid"
         },
         "marker": {
          "symbol": "circle"
         },
         "mode": "lines",
         "name": "15_aircraft fuel_passenger revenue_fuel expense_asms",
         "orientation": "v",
         "showlegend": true,
         "x": [
          "2019-02-28T00:00:00",
          "2019-05-31T00:00:00",
          "2019-08-31T00:00:00",
          "2019-11-30T00:00:00",
          "2020-02-29T00:00:00",
          "2020-05-31T00:00:00",
          "2020-08-31T00:00:00",
          "2020-11-30T00:00:00",
          "2021-02-28T00:00:00",
          "2021-05-31T00:00:00",
          "2021-08-31T00:00:00",
          "2021-11-30T00:00:00",
          "2022-02-28T00:00:00",
          "2022-05-31T00:00:00",
          "2022-08-31T00:00:00",
          "2022-11-30T00:00:00",
          "2023-02-28T00:00:00"
         ],
         "xaxis": "x",
         "y": [
          0.3100079407,
          null,
          null,
          null,
          0.19194402130000002,
          null,
          null,
          null,
          -0.2589992866,
          -0.8003394703000001,
          null,
          null,
          0.2803072808,
          -0.8868969083,
          null,
          null,
          0.3962691753
         ],
         "yaxis": "y",
         "type": "scatter"
        },
        {
         "hovertemplate": "Name=16_asset group_lived assets_value asset_undiscounted cash<br>Timestamp=%{x}<br>mean=%{y}<extra></extra>",
         "legendgroup": "16_asset group_lived assets_value asset_undiscounted cash",
         "line": {
          "color": "#19d3f3",
          "dash": "solid"
         },
         "marker": {
          "symbol": "circle"
         },
         "mode": "lines",
         "name": "16_asset group_lived assets_value asset_undiscounted cash",
         "orientation": "v",
         "showlegend": true,
         "x": [
          "2019-01-31T00:00:00",
          "2019-04-30T00:00:00",
          "2019-07-31T00:00:00",
          "2019-10-31T00:00:00",
          "2020-01-31T00:00:00",
          "2020-04-30T00:00:00",
          "2020-07-31T00:00:00",
          "2020-10-31T00:00:00",
          "2021-01-31T00:00:00",
          "2021-04-30T00:00:00",
          "2021-07-31T00:00:00",
          "2021-10-31T00:00:00",
          "2022-01-31T00:00:00",
          "2022-04-30T00:00:00",
          "2022-07-31T00:00:00",
          "2022-10-31T00:00:00",
          "2023-01-31T00:00:00",
          "2023-04-30T00:00:00",
          "2023-07-31T00:00:00",
          "2023-10-31T00:00:00"
         ],
         "xaxis": "x",
         "y": [
          0.0,
          -0.0218962109,
          -0.0964247386,
          0.0,
          -0.0569440998,
          -0.0435942582,
          -0.09760649,
          0.0,
          0.0,
          -0.0403449649,
          -0.0869275808,
          0.0,
          0.0,
          -0.0192654766,
          0.0,
          0.0,
          -0.0404732062,
          -0.0385503226,
          -0.1177235603,
          0.0
         ],
         "yaxis": "y",
         "type": "scatter"
        },
        {
         "hovertemplate": "Name=17_assets acquired_liabilities assumed_acquired liabilities_intangible assets<br>Timestamp=%{x}<br>mean=%{y}<extra></extra>",
         "legendgroup": "17_assets acquired_liabilities assumed_acquired liabilities_intangible assets",
         "line": {
          "color": "#FF6692",
          "dash": "solid"
         },
         "marker": {
          "symbol": "circle"
         },
         "mode": "lines",
         "name": "17_assets acquired_liabilities assumed_acquired liabilities_intangible assets",
         "orientation": "v",
         "showlegend": true,
         "x": [
          "2019-01-31T00:00:00",
          "2019-04-30T00:00:00",
          "2019-07-31T00:00:00",
          "2019-10-31T00:00:00",
          "2020-01-31T00:00:00",
          "2020-04-30T00:00:00",
          "2020-07-31T00:00:00",
          "2020-10-31T00:00:00",
          "2021-01-31T00:00:00",
          "2021-04-30T00:00:00",
          "2021-07-31T00:00:00",
          "2021-10-31T00:00:00",
          "2022-01-31T00:00:00",
          "2022-04-30T00:00:00",
          "2022-07-31T00:00:00",
          "2022-10-31T00:00:00",
          "2023-01-31T00:00:00",
          "2023-04-30T00:00:00",
          "2023-07-31T00:00:00",
          "2023-10-31T00:00:00"
         ],
         "xaxis": "x",
         "y": [
          0.0,
          -0.0016642641,
          0.0,
          0.0,
          0.0,
          0.0248979015,
          0.0,
          0.0317109446,
          0.075474817,
          -0.0038390353000000003,
          0.0,
          0.0,
          -0.0276869034,
          0.0,
          0.0,
          0.0,
          0.0,
          -0.010203383,
          0.0,
          0.0
         ],
         "yaxis": "y",
         "type": "scatter"
        },
        {
         "hovertemplate": "Name=18_membership_medicare_medicare advantage_medical membership<br>Timestamp=%{x}<br>mean=%{y}<extra></extra>",
         "legendgroup": "18_membership_medicare_medicare advantage_medical membership",
         "line": {
          "color": "#B6E880",
          "dash": "solid"
         },
         "marker": {
          "symbol": "circle"
         },
         "mode": "lines",
         "name": "18_membership_medicare_medicare advantage_medical membership",
         "orientation": "v",
         "showlegend": true,
         "x": [
          "2019-02-28T00:00:00",
          "2019-05-31T00:00:00",
          "2019-08-31T00:00:00",
          "2019-11-30T00:00:00",
          "2020-02-29T00:00:00",
          "2020-05-31T00:00:00",
          "2020-08-31T00:00:00",
          "2020-11-30T00:00:00",
          "2021-02-28T00:00:00",
          "2021-05-31T00:00:00",
          "2021-08-31T00:00:00",
          "2021-11-30T00:00:00",
          "2022-02-28T00:00:00",
          "2022-05-31T00:00:00",
          "2022-08-31T00:00:00",
          "2022-11-30T00:00:00",
          "2023-02-28T00:00:00",
          "2023-05-31T00:00:00",
          "2023-08-31T00:00:00"
         ],
         "xaxis": "x",
         "y": [
          0.1231387049,
          null,
          null,
          null,
          0.29601022120000003,
          null,
          null,
          null,
          0.24818583260000002,
          0.42156773140000003,
          null,
          null,
          0.18330198020000002,
          null,
          null,
          null,
          0.1994531136,
          null,
          0.0
         ],
         "yaxis": "y",
         "type": "scatter"
        },
        {
         "hovertemplate": "Name=19_research development_development expenses_marketing expenses_increase personnel<br>Timestamp=%{x}<br>mean=%{y}<extra></extra>",
         "legendgroup": "19_research development_development expenses_marketing expenses_increase personnel",
         "line": {
          "color": "#FF97FF",
          "dash": "solid"
         },
         "marker": {
          "symbol": "circle"
         },
         "mode": "lines",
         "name": "19_research development_development expenses_marketing expenses_increase personnel",
         "orientation": "v",
         "showlegend": true,
         "x": [
          "2019-01-31T00:00:00",
          "2019-04-30T00:00:00",
          "2019-07-31T00:00:00",
          "2019-10-31T00:00:00",
          "2020-01-31T00:00:00",
          "2020-04-30T00:00:00",
          "2020-07-31T00:00:00",
          "2020-10-31T00:00:00",
          "2021-01-31T00:00:00",
          "2021-04-30T00:00:00",
          "2021-07-31T00:00:00",
          "2021-10-31T00:00:00",
          "2022-01-31T00:00:00",
          "2022-04-30T00:00:00",
          "2022-07-31T00:00:00",
          "2022-10-31T00:00:00",
          "2023-01-31T00:00:00",
          "2023-04-30T00:00:00",
          "2023-07-31T00:00:00",
          "2023-10-31T00:00:00"
         ],
         "xaxis": "x",
         "y": [
          0.6488603618000001,
          0.5283131337,
          0.0081394116,
          0.7881999552000001,
          0.48662269340000003,
          0.6098625318,
          -0.0028627983000000003,
          0.9234088958000001,
          0.6290548304,
          0.49179238220000004,
          0.2903712889,
          0.20623105760000002,
          0.8215454496,
          0.5416977372,
          0.3652764342,
          0.0323688164,
          0.7528871298,
          0.6586107409,
          0.1683517532,
          0.9919735193
         ],
         "yaxis": "y",
         "type": "scatter"
        },
        {
         "hovertemplate": "Name=20_adjusted ebitda_ebitda adjusted_ebitda margin_ebitda net<br>Timestamp=%{x}<br>mean=%{y}<extra></extra>",
         "legendgroup": "20_adjusted ebitda_ebitda adjusted_ebitda margin_ebitda net",
         "line": {
          "color": "#FECB52",
          "dash": "solid"
         },
         "marker": {
          "symbol": "circle"
         },
         "mode": "lines",
         "name": "20_adjusted ebitda_ebitda adjusted_ebitda margin_ebitda net",
         "orientation": "v",
         "showlegend": true,
         "x": [
          "2019-01-31T00:00:00",
          "2019-04-30T00:00:00",
          "2019-07-31T00:00:00",
          "2019-10-31T00:00:00",
          "2020-01-31T00:00:00",
          "2020-04-30T00:00:00",
          "2020-07-31T00:00:00",
          "2020-10-31T00:00:00",
          "2021-01-31T00:00:00",
          "2021-04-30T00:00:00",
          "2021-07-31T00:00:00",
          "2021-10-31T00:00:00",
          "2022-01-31T00:00:00",
          "2022-04-30T00:00:00",
          "2022-07-31T00:00:00",
          "2022-10-31T00:00:00",
          "2023-01-31T00:00:00",
          "2023-04-30T00:00:00",
          "2023-07-31T00:00:00",
          "2023-10-31T00:00:00"
         ],
         "xaxis": "x",
         "y": [
          0.0663921118,
          0.0633269321,
          0.0,
          0.1358389854,
          0.2004711429,
          0.0859236346,
          0.0,
          0.1073736787,
          0.22479557990000001,
          0.028557041800000002,
          0.0,
          0.233119452,
          0.0614002546,
          0.029917554800000003,
          0.0,
          0.16846548020000002,
          0.055380586100000004,
          0.0930919931,
          null,
          0.0
         ],
         "yaxis": "y",
         "type": "scatter"
        }
       ],
       "layout": {
        "template": {
         "data": {
          "histogram2dcontour": [
           {
            "type": "histogram2dcontour",
            "colorbar": {
             "outlinewidth": 0,
             "ticks": ""
            },
            "colorscale": [
             [
              0.0,
              "#0d0887"
             ],
             [
              0.1111111111111111,
              "#46039f"
             ],
             [
              0.2222222222222222,
              "#7201a8"
             ],
             [
              0.3333333333333333,
              "#9c179e"
             ],
             [
              0.4444444444444444,
              "#bd3786"
             ],
             [
              0.5555555555555556,
              "#d8576b"
             ],
             [
              0.6666666666666666,
              "#ed7953"
             ],
             [
              0.7777777777777778,
              "#fb9f3a"
             ],
             [
              0.8888888888888888,
              "#fdca26"
             ],
             [
              1.0,
              "#f0f921"
             ]
            ]
           }
          ],
          "choropleth": [
           {
            "type": "choropleth",
            "colorbar": {
             "outlinewidth": 0,
             "ticks": ""
            }
           }
          ],
          "histogram2d": [
           {
            "type": "histogram2d",
            "colorbar": {
             "outlinewidth": 0,
             "ticks": ""
            },
            "colorscale": [
             [
              0.0,
              "#0d0887"
             ],
             [
              0.1111111111111111,
              "#46039f"
             ],
             [
              0.2222222222222222,
              "#7201a8"
             ],
             [
              0.3333333333333333,
              "#9c179e"
             ],
             [
              0.4444444444444444,
              "#bd3786"
             ],
             [
              0.5555555555555556,
              "#d8576b"
             ],
             [
              0.6666666666666666,
              "#ed7953"
             ],
             [
              0.7777777777777778,
              "#fb9f3a"
             ],
             [
              0.8888888888888888,
              "#fdca26"
             ],
             [
              1.0,
              "#f0f921"
             ]
            ]
           }
          ],
          "heatmap": [
           {
            "type": "heatmap",
            "colorbar": {
             "outlinewidth": 0,
             "ticks": ""
            },
            "colorscale": [
             [
              0.0,
              "#0d0887"
             ],
             [
              0.1111111111111111,
              "#46039f"
             ],
             [
              0.2222222222222222,
              "#7201a8"
             ],
             [
              0.3333333333333333,
              "#9c179e"
             ],
             [
              0.4444444444444444,
              "#bd3786"
             ],
             [
              0.5555555555555556,
              "#d8576b"
             ],
             [
              0.6666666666666666,
              "#ed7953"
             ],
             [
              0.7777777777777778,
              "#fb9f3a"
             ],
             [
              0.8888888888888888,
              "#fdca26"
             ],
             [
              1.0,
              "#f0f921"
             ]
            ]
           }
          ],
          "heatmapgl": [
           {
            "type": "heatmapgl",
            "colorbar": {
             "outlinewidth": 0,
             "ticks": ""
            },
            "colorscale": [
             [
              0.0,
              "#0d0887"
             ],
             [
              0.1111111111111111,
              "#46039f"
             ],
             [
              0.2222222222222222,
              "#7201a8"
             ],
             [
              0.3333333333333333,
              "#9c179e"
             ],
             [
              0.4444444444444444,
              "#bd3786"
             ],
             [
              0.5555555555555556,
              "#d8576b"
             ],
             [
              0.6666666666666666,
              "#ed7953"
             ],
             [
              0.7777777777777778,
              "#fb9f3a"
             ],
             [
              0.8888888888888888,
              "#fdca26"
             ],
             [
              1.0,
              "#f0f921"
             ]
            ]
           }
          ],
          "contourcarpet": [
           {
            "type": "contourcarpet",
            "colorbar": {
             "outlinewidth": 0,
             "ticks": ""
            }
           }
          ],
          "contour": [
           {
            "type": "contour",
            "colorbar": {
             "outlinewidth": 0,
             "ticks": ""
            },
            "colorscale": [
             [
              0.0,
              "#0d0887"
             ],
             [
              0.1111111111111111,
              "#46039f"
             ],
             [
              0.2222222222222222,
              "#7201a8"
             ],
             [
              0.3333333333333333,
              "#9c179e"
             ],
             [
              0.4444444444444444,
              "#bd3786"
             ],
             [
              0.5555555555555556,
              "#d8576b"
             ],
             [
              0.6666666666666666,
              "#ed7953"
             ],
             [
              0.7777777777777778,
              "#fb9f3a"
             ],
             [
              0.8888888888888888,
              "#fdca26"
             ],
             [
              1.0,
              "#f0f921"
             ]
            ]
           }
          ],
          "surface": [
           {
            "type": "surface",
            "colorbar": {
             "outlinewidth": 0,
             "ticks": ""
            },
            "colorscale": [
             [
              0.0,
              "#0d0887"
             ],
             [
              0.1111111111111111,
              "#46039f"
             ],
             [
              0.2222222222222222,
              "#7201a8"
             ],
             [
              0.3333333333333333,
              "#9c179e"
             ],
             [
              0.4444444444444444,
              "#bd3786"
             ],
             [
              0.5555555555555556,
              "#d8576b"
             ],
             [
              0.6666666666666666,
              "#ed7953"
             ],
             [
              0.7777777777777778,
              "#fb9f3a"
             ],
             [
              0.8888888888888888,
              "#fdca26"
             ],
             [
              1.0,
              "#f0f921"
             ]
            ]
           }
          ],
          "mesh3d": [
           {
            "type": "mesh3d",
            "colorbar": {
             "outlinewidth": 0,
             "ticks": ""
            }
           }
          ],
          "scatter": [
           {
            "marker": {
             "line": {
              "color": "#283442"
             }
            },
            "type": "scatter"
           }
          ],
          "parcoords": [
           {
            "type": "parcoords",
            "line": {
             "colorbar": {
              "outlinewidth": 0,
              "ticks": ""
             }
            }
           }
          ],
          "scatterpolargl": [
           {
            "type": "scatterpolargl",
            "marker": {
             "colorbar": {
              "outlinewidth": 0,
              "ticks": ""
             }
            }
           }
          ],
          "bar": [
           {
            "error_x": {
             "color": "#f2f5fa"
            },
            "error_y": {
             "color": "#f2f5fa"
            },
            "marker": {
             "line": {
              "color": "rgb(17,17,17)",
              "width": 0.5
             },
             "pattern": {
              "fillmode": "overlay",
              "size": 10,
              "solidity": 0.2
             }
            },
            "type": "bar"
           }
          ],
          "scattergeo": [
           {
            "type": "scattergeo",
            "marker": {
             "colorbar": {
              "outlinewidth": 0,
              "ticks": ""
             }
            }
           }
          ],
          "scatterpolar": [
           {
            "type": "scatterpolar",
            "marker": {
             "colorbar": {
              "outlinewidth": 0,
              "ticks": ""
             }
            }
           }
          ],
          "histogram": [
           {
            "marker": {
             "pattern": {
              "fillmode": "overlay",
              "size": 10,
              "solidity": 0.2
             }
            },
            "type": "histogram"
           }
          ],
          "scattergl": [
           {
            "marker": {
             "line": {
              "color": "#283442"
             }
            },
            "type": "scattergl"
           }
          ],
          "scatter3d": [
           {
            "type": "scatter3d",
            "line": {
             "colorbar": {
              "outlinewidth": 0,
              "ticks": ""
             }
            },
            "marker": {
             "colorbar": {
              "outlinewidth": 0,
              "ticks": ""
             }
            }
           }
          ],
          "scattermapbox": [
           {
            "type": "scattermapbox",
            "marker": {
             "colorbar": {
              "outlinewidth": 0,
              "ticks": ""
             }
            }
           }
          ],
          "scatterternary": [
           {
            "type": "scatterternary",
            "marker": {
             "colorbar": {
              "outlinewidth": 0,
              "ticks": ""
             }
            }
           }
          ],
          "scattercarpet": [
           {
            "type": "scattercarpet",
            "marker": {
             "colorbar": {
              "outlinewidth": 0,
              "ticks": ""
             }
            }
           }
          ],
          "carpet": [
           {
            "aaxis": {
             "endlinecolor": "#A2B1C6",
             "gridcolor": "#506784",
             "linecolor": "#506784",
             "minorgridcolor": "#506784",
             "startlinecolor": "#A2B1C6"
            },
            "baxis": {
             "endlinecolor": "#A2B1C6",
             "gridcolor": "#506784",
             "linecolor": "#506784",
             "minorgridcolor": "#506784",
             "startlinecolor": "#A2B1C6"
            },
            "type": "carpet"
           }
          ],
          "table": [
           {
            "cells": {
             "fill": {
              "color": "#506784"
             },
             "line": {
              "color": "rgb(17,17,17)"
             }
            },
            "header": {
             "fill": {
              "color": "#2a3f5f"
             },
             "line": {
              "color": "rgb(17,17,17)"
             }
            },
            "type": "table"
           }
          ],
          "barpolar": [
           {
            "marker": {
             "line": {
              "color": "rgb(17,17,17)",
              "width": 0.5
             },
             "pattern": {
              "fillmode": "overlay",
              "size": 10,
              "solidity": 0.2
             }
            },
            "type": "barpolar"
           }
          ],
          "pie": [
           {
            "automargin": true,
            "type": "pie"
           }
          ]
         },
         "layout": {
          "autotypenumbers": "strict",
          "colorway": [
           "#636efa",
           "#EF553B",
           "#00cc96",
           "#ab63fa",
           "#FFA15A",
           "#19d3f3",
           "#FF6692",
           "#B6E880",
           "#FF97FF",
           "#FECB52"
          ],
          "font": {
           "color": "#f2f5fa"
          },
          "hovermode": "closest",
          "hoverlabel": {
           "align": "left"
          },
          "paper_bgcolor": "rgb(17,17,17)",
          "plot_bgcolor": "rgb(17,17,17)",
          "polar": {
           "bgcolor": "rgb(17,17,17)",
           "angularaxis": {
            "gridcolor": "#506784",
            "linecolor": "#506784",
            "ticks": ""
           },
           "radialaxis": {
            "gridcolor": "#506784",
            "linecolor": "#506784",
            "ticks": ""
           }
          },
          "ternary": {
           "bgcolor": "rgb(17,17,17)",
           "aaxis": {
            "gridcolor": "#506784",
            "linecolor": "#506784",
            "ticks": ""
           },
           "baxis": {
            "gridcolor": "#506784",
            "linecolor": "#506784",
            "ticks": ""
           },
           "caxis": {
            "gridcolor": "#506784",
            "linecolor": "#506784",
            "ticks": ""
           }
          },
          "coloraxis": {
           "colorbar": {
            "outlinewidth": 0,
            "ticks": ""
           }
          },
          "colorscale": {
           "sequential": [
            [
             0.0,
             "#0d0887"
            ],
            [
             0.1111111111111111,
             "#46039f"
            ],
            [
             0.2222222222222222,
             "#7201a8"
            ],
            [
             0.3333333333333333,
             "#9c179e"
            ],
            [
             0.4444444444444444,
             "#bd3786"
            ],
            [
             0.5555555555555556,
             "#d8576b"
            ],
            [
             0.6666666666666666,
             "#ed7953"
            ],
            [
             0.7777777777777778,
             "#fb9f3a"
            ],
            [
             0.8888888888888888,
             "#fdca26"
            ],
            [
             1.0,
             "#f0f921"
            ]
           ],
           "sequentialminus": [
            [
             0.0,
             "#0d0887"
            ],
            [
             0.1111111111111111,
             "#46039f"
            ],
            [
             0.2222222222222222,
             "#7201a8"
            ],
            [
             0.3333333333333333,
             "#9c179e"
            ],
            [
             0.4444444444444444,
             "#bd3786"
            ],
            [
             0.5555555555555556,
             "#d8576b"
            ],
            [
             0.6666666666666666,
             "#ed7953"
            ],
            [
             0.7777777777777778,
             "#fb9f3a"
            ],
            [
             0.8888888888888888,
             "#fdca26"
            ],
            [
             1.0,
             "#f0f921"
            ]
           ],
           "diverging": [
            [
             0,
             "#8e0152"
            ],
            [
             0.1,
             "#c51b7d"
            ],
            [
             0.2,
             "#de77ae"
            ],
            [
             0.3,
             "#f1b6da"
            ],
            [
             0.4,
             "#fde0ef"
            ],
            [
             0.5,
             "#f7f7f7"
            ],
            [
             0.6,
             "#e6f5d0"
            ],
            [
             0.7,
             "#b8e186"
            ],
            [
             0.8,
             "#7fbc41"
            ],
            [
             0.9,
             "#4d9221"
            ],
            [
             1,
             "#276419"
            ]
           ]
          },
          "xaxis": {
           "gridcolor": "#283442",
           "linecolor": "#506784",
           "ticks": "",
           "title": {
            "standoff": 15
           },
           "zerolinecolor": "#283442",
           "automargin": true,
           "zerolinewidth": 2
          },
          "yaxis": {
           "gridcolor": "#283442",
           "linecolor": "#506784",
           "ticks": "",
           "title": {
            "standoff": 15
           },
           "zerolinecolor": "#283442",
           "automargin": true,
           "zerolinewidth": 2
          },
          "scene": {
           "xaxis": {
            "backgroundcolor": "rgb(17,17,17)",
            "gridcolor": "#506784",
            "linecolor": "#506784",
            "showbackground": true,
            "ticks": "",
            "zerolinecolor": "#C8D4E3",
            "gridwidth": 2
           },
           "yaxis": {
            "backgroundcolor": "rgb(17,17,17)",
            "gridcolor": "#506784",
            "linecolor": "#506784",
            "showbackground": true,
            "ticks": "",
            "zerolinecolor": "#C8D4E3",
            "gridwidth": 2
           },
           "zaxis": {
            "backgroundcolor": "rgb(17,17,17)",
            "gridcolor": "#506784",
            "linecolor": "#506784",
            "showbackground": true,
            "ticks": "",
            "zerolinecolor": "#C8D4E3",
            "gridwidth": 2
           }
          },
          "shapedefaults": {
           "line": {
            "color": "#f2f5fa"
           }
          },
          "annotationdefaults": {
           "arrowcolor": "#f2f5fa",
           "arrowhead": 0,
           "arrowwidth": 1
          },
          "geo": {
           "bgcolor": "rgb(17,17,17)",
           "landcolor": "rgb(17,17,17)",
           "subunitcolor": "#506784",
           "showland": true,
           "showlakes": true,
           "lakecolor": "rgb(17,17,17)"
          },
          "title": {
           "x": 0.05
          },
          "updatemenudefaults": {
           "bgcolor": "#506784",
           "borderwidth": 0
          },
          "sliderdefaults": {
           "bgcolor": "#C8D4E3",
           "borderwidth": 1,
           "bordercolor": "rgb(17,17,17)",
           "tickwidth": 0
          },
          "mapbox": {
           "style": "dark"
          }
         }
        },
        "xaxis": {
         "anchor": "y",
         "domain": [
          0.0,
          1.0
         ],
         "title": {
          "text": "Time"
         }
        },
        "yaxis": {
         "anchor": "x",
         "domain": [
          0.0,
          1.0
         ],
         "title": {
          "text": "Average Sentiment per period"
         }
        },
        "legend": {
         "title": {
          "text": "Name"
         },
         "tracegroupgap": 0
        },
        "margin": {
         "t": 60
        },
        "title": {
         "text": "Topic sentiment - Section 7"
        }
       },
       "config": {
        "plotlyServerURL": "https://plot.ly"
       }
      },
      "text/html": "<div>                            <div id=\"97958b07-c8a7-4f79-ae9a-b2c52f0fa265\" class=\"plotly-graph-div\" style=\"height:525px; width:100%;\"></div>            <script type=\"text/javascript\">                require([\"plotly\"], function(Plotly) {                    window.PLOTLYENV=window.PLOTLYENV || {};                                    if (document.getElementById(\"97958b07-c8a7-4f79-ae9a-b2c52f0fa265\")) {                    Plotly.newPlot(                        \"97958b07-c8a7-4f79-ae9a-b2c52f0fa265\",                        [{\"hovertemplate\":\"Name=1_repurchase program_share repurchase_shares_dividend\\u003cbr\\u003eTimestamp=%{x}\\u003cbr\\u003emean=%{y}\\u003cextra\\u003e\\u003c\\u002fextra\\u003e\",\"legendgroup\":\"1_repurchase program_share repurchase_shares_dividend\",\"line\":{\"color\":\"#636efa\",\"dash\":\"solid\"},\"marker\":{\"symbol\":\"circle\"},\"mode\":\"lines\",\"name\":\"1_repurchase program_share repurchase_shares_dividend\",\"orientation\":\"v\",\"showlegend\":true,\"x\":[\"2019-01-31T00:00:00\",\"2019-04-30T00:00:00\",\"2019-07-31T00:00:00\",\"2019-10-31T00:00:00\",\"2020-01-31T00:00:00\",\"2020-04-30T00:00:00\",\"2020-07-31T00:00:00\",\"2020-10-31T00:00:00\",\"2021-01-31T00:00:00\",\"2021-04-30T00:00:00\",\"2021-07-31T00:00:00\",\"2021-10-31T00:00:00\",\"2022-01-31T00:00:00\",\"2022-04-30T00:00:00\",\"2022-07-31T00:00:00\",\"2022-10-31T00:00:00\",\"2023-01-31T00:00:00\",\"2023-04-30T00:00:00\",\"2023-07-31T00:00:00\",\"2023-10-31T00:00:00\"],\"xaxis\":\"x\",\"y\":[0.2412193634,0.29330266850000003,0.23166760960000002,0.1271342751,0.2749150172,0.2742475103,0.0002820823,0.2571122174,0.1496577036,0.2485803393,0.1744454571,0.1983421649,0.2115601072,0.2655043924,0.2007748566,0.3033357362,0.1650556195,0.2155820776,0.0610940081,0.5467396974000001],\"yaxis\":\"y\",\"type\":\"scatter\"},{\"hovertemplate\":\"Name=2_value reporting_reporting units_goodwill_goodwill impairment\\u003cbr\\u003eTimestamp=%{x}\\u003cbr\\u003emean=%{y}\\u003cextra\\u003e\\u003c\\u002fextra\\u003e\",\"legendgroup\":\"2_value reporting_reporting units_goodwill_goodwill impairment\",\"line\":{\"color\":\"#EF553B\",\"dash\":\"solid\"},\"marker\":{\"symbol\":\"circle\"},\"mode\":\"lines\",\"name\":\"2_value reporting_reporting units_goodwill_goodwill impairment\",\"orientation\":\"v\",\"showlegend\":true,\"x\":[\"2019-01-31T00:00:00\",\"2019-04-30T00:00:00\",\"2019-07-31T00:00:00\",\"2019-10-31T00:00:00\",\"2020-01-31T00:00:00\",\"2020-04-30T00:00:00\",\"2020-07-31T00:00:00\",\"2020-10-31T00:00:00\",\"2021-01-31T00:00:00\",\"2021-04-30T00:00:00\",\"2021-07-31T00:00:00\",\"2021-10-31T00:00:00\",\"2022-01-31T00:00:00\",\"2022-04-30T00:00:00\",\"2022-07-31T00:00:00\",\"2022-10-31T00:00:00\",\"2023-01-31T00:00:00\",\"2023-04-30T00:00:00\",\"2023-07-31T00:00:00\",\"2023-10-31T00:00:00\"],\"xaxis\":\"x\",\"y\":[0.0,-0.0453473004,0.1013571087,-0.0266746004,-0.031092516900000002,-0.0525202944,-0.0714094043,-0.0200919234,-0.0455849004,-0.0708370364,0.0,0.025429877,-0.0052226322000000006,-0.020807112200000002,0.0,-0.0741329268,-0.0264022558,-0.0731887363,-0.0413212683,0.0],\"yaxis\":\"y\",\"type\":\"scatter\"},{\"hovertemplate\":\"Name=3_accounting policies_critical accounting_accounting_accounting estimates\\u003cbr\\u003eTimestamp=%{x}\\u003cbr\\u003emean=%{y}\\u003cextra\\u003e\\u003c\\u002fextra\\u003e\",\"legendgroup\":\"3_accounting policies_critical accounting_accounting_accounting estimates\",\"line\":{\"color\":\"#00cc96\",\"dash\":\"solid\"},\"marker\":{\"symbol\":\"circle\"},\"mode\":\"lines\",\"name\":\"3_accounting policies_critical accounting_accounting_accounting estimates\",\"orientation\":\"v\",\"showlegend\":true,\"x\":[\"2019-01-31T00:00:00\",\"2019-04-30T00:00:00\",\"2019-07-31T00:00:00\",\"2019-10-31T00:00:00\",\"2020-01-31T00:00:00\",\"2020-04-30T00:00:00\",\"2020-07-31T00:00:00\",\"2020-10-31T00:00:00\",\"2021-01-31T00:00:00\",\"2021-04-30T00:00:00\",\"2021-07-31T00:00:00\",\"2021-10-31T00:00:00\",\"2022-01-31T00:00:00\",\"2022-04-30T00:00:00\",\"2022-07-31T00:00:00\",\"2022-10-31T00:00:00\",\"2023-01-31T00:00:00\",\"2023-04-30T00:00:00\",\"2023-07-31T00:00:00\",\"2023-10-31T00:00:00\"],\"xaxis\":\"x\",\"y\":[0.0,0.0037588249000000003,0.0,-0.0231535311,0.039357711000000004,-0.0043587193,0.0,0.0495211542,0.0082810044,0.0222378784,0.0,0.0753292166,0.0203406489,0.023637119300000002,0.0,-0.049504664500000004,-0.0067915705,0.004459940700000001,0.0482694149,0.0],\"yaxis\":\"y\",\"type\":\"scatter\"},{\"hovertemplate\":\"Name=4_change 160_160 change_revenue 160_percentages\\u003cbr\\u003eTimestamp=%{x}\\u003cbr\\u003emean=%{y}\\u003cextra\\u003e\\u003c\\u002fextra\\u003e\",\"legendgroup\":\"4_change 160_160 change_revenue 160_percentages\",\"line\":{\"color\":\"#ab63fa\",\"dash\":\"solid\"},\"marker\":{\"symbol\":\"circle\"},\"mode\":\"lines\",\"name\":\"4_change 160_160 change_revenue 160_percentages\",\"orientation\":\"v\",\"showlegend\":true,\"x\":[\"2019-01-31T00:00:00\",\"2019-04-30T00:00:00\",\"2019-07-31T00:00:00\",\"2019-10-31T00:00:00\",\"2020-01-31T00:00:00\",\"2020-04-30T00:00:00\",\"2020-07-31T00:00:00\",\"2020-10-31T00:00:00\",\"2021-01-31T00:00:00\",\"2021-04-30T00:00:00\",\"2021-07-31T00:00:00\",\"2021-10-31T00:00:00\",\"2022-01-31T00:00:00\",\"2022-04-30T00:00:00\",\"2022-07-31T00:00:00\",\"2022-10-31T00:00:00\",\"2023-01-31T00:00:00\",\"2023-04-30T00:00:00\",\"2023-07-31T00:00:00\",\"2023-10-31T00:00:00\"],\"xaxis\":\"x\",\"y\":[0.0829771956,0.0564457463,-0.1165127088,0.0385006712,-0.007056593900000001,0.0489582075,0.0685389141,0.030044894200000002,-0.0468508568,-0.0158967925,-0.0990179115,0.0,0.11089910730000001,0.0697094025,0.0,0.1515526221,-0.007352760900000001,0.0381778484,0.0,0.15575835700000001],\"yaxis\":\"y\",\"type\":\"scatter\"},{\"hovertemplate\":\"Name=5_looking statements_forward looking_expect 8221_8220 expect\\u003cbr\\u003eTimestamp=%{x}\\u003cbr\\u003emean=%{y}\\u003cextra\\u003e\\u003c\\u002fextra\\u003e\",\"legendgroup\":\"5_looking statements_forward looking_expect 8221_8220 expect\",\"line\":{\"color\":\"#FFA15A\",\"dash\":\"solid\"},\"marker\":{\"symbol\":\"circle\"},\"mode\":\"lines\",\"name\":\"5_looking statements_forward looking_expect 8221_8220 expect\",\"orientation\":\"v\",\"showlegend\":true,\"x\":[\"2019-01-31T00:00:00\",\"2019-04-30T00:00:00\",\"2019-07-31T00:00:00\",\"2019-10-31T00:00:00\",\"2020-01-31T00:00:00\",\"2020-04-30T00:00:00\",\"2020-07-31T00:00:00\",\"2020-10-31T00:00:00\",\"2021-01-31T00:00:00\",\"2021-04-30T00:00:00\",\"2021-07-31T00:00:00\",\"2021-10-31T00:00:00\",\"2022-01-31T00:00:00\",\"2022-04-30T00:00:00\",\"2022-07-31T00:00:00\",\"2022-10-31T00:00:00\",\"2023-01-31T00:00:00\",\"2023-04-30T00:00:00\",\"2023-07-31T00:00:00\",\"2023-10-31T00:00:00\"],\"xaxis\":\"x\",\"y\":[0.0,-0.0296131062,0.0,-0.033686764200000004,-0.0032567852,-0.012368575000000001,0.0,0.0,-0.0456727403,-0.026636007000000003,0.0,-0.044198907600000004,-0.08125690120000001,-0.0172223406,0.0,0.01255541,0.0,-0.012947033,0.0,0.0],\"yaxis\":\"y\",\"type\":\"scatter\"},{\"hovertemplate\":\"Name=6_tier capital_basel iii_regulatory capital_risk weighted\\u003cbr\\u003eTimestamp=%{x}\\u003cbr\\u003emean=%{y}\\u003cextra\\u003e\\u003c\\u002fextra\\u003e\",\"legendgroup\":\"6_tier capital_basel iii_regulatory capital_risk weighted\",\"line\":{\"color\":\"#19d3f3\",\"dash\":\"solid\"},\"marker\":{\"symbol\":\"circle\"},\"mode\":\"lines\",\"name\":\"6_tier capital_basel iii_regulatory capital_risk weighted\",\"orientation\":\"v\",\"showlegend\":true,\"x\":[\"2019-02-28T00:00:00\",\"2019-05-31T00:00:00\",\"2019-08-31T00:00:00\",\"2019-11-30T00:00:00\",\"2020-02-29T00:00:00\",\"2020-05-31T00:00:00\",\"2020-08-31T00:00:00\",\"2020-11-30T00:00:00\",\"2021-02-28T00:00:00\",\"2021-05-31T00:00:00\",\"2021-08-31T00:00:00\",\"2021-11-30T00:00:00\",\"2022-02-28T00:00:00\",\"2022-05-31T00:00:00\",\"2022-08-31T00:00:00\",\"2022-11-30T00:00:00\",\"2023-02-28T00:00:00\"],\"xaxis\":\"x\",\"y\":[-0.006603437100000001,-0.0401431251,null,null,0.0424021246,0.0575323159,null,null,0.06509340620000001,null,null,null,0.0269539796,null,null,0.0,0.010375026800000001],\"yaxis\":\"y\",\"type\":\"scatter\"},{\"hovertemplate\":\"Name=7_stable_bbb_credit ratings_credit rating\\u003cbr\\u003eTimestamp=%{x}\\u003cbr\\u003emean=%{y}\\u003cextra\\u003e\\u003c\\u002fextra\\u003e\",\"legendgroup\":\"7_stable_bbb_credit ratings_credit rating\",\"line\":{\"color\":\"#FF6692\",\"dash\":\"solid\"},\"marker\":{\"symbol\":\"circle\"},\"mode\":\"lines\",\"name\":\"7_stable_bbb_credit ratings_credit rating\",\"orientation\":\"v\",\"showlegend\":true,\"x\":[\"2019-01-31T00:00:00\",\"2019-04-30T00:00:00\",\"2019-07-31T00:00:00\",\"2019-10-31T00:00:00\",\"2020-01-31T00:00:00\",\"2020-04-30T00:00:00\",\"2020-07-31T00:00:00\",\"2020-10-31T00:00:00\",\"2021-01-31T00:00:00\",\"2021-04-30T00:00:00\",\"2021-07-31T00:00:00\",\"2021-10-31T00:00:00\",\"2022-01-31T00:00:00\",\"2022-04-30T00:00:00\",\"2022-07-31T00:00:00\",\"2022-10-31T00:00:00\",\"2023-01-31T00:00:00\",\"2023-04-30T00:00:00\",\"2023-07-31T00:00:00\",\"2023-10-31T00:00:00\"],\"xaxis\":\"x\",\"y\":[0.0,-0.0062844051,-0.1217510005,0.4121016065,-0.0405362684,0.0141052616,0.0047237277,-0.0145968795,-0.1073832576,-0.0490188487,-0.0861293256,0.0,-0.1779655367,0.0274442895,-0.17813332880000002,0.3237796625,-0.0626052088,0.1181211962,-0.0769667079,0.9895137548],\"yaxis\":\"y\",\"type\":\"scatter\"},{\"hovertemplate\":\"Name=8_tax act_tax rate_effective tax_tax\\u003cbr\\u003eTimestamp=%{x}\\u003cbr\\u003emean=%{y}\\u003cextra\\u003e\\u003c\\u002fextra\\u003e\",\"legendgroup\":\"8_tax act_tax rate_effective tax_tax\",\"line\":{\"color\":\"#B6E880\",\"dash\":\"solid\"},\"marker\":{\"symbol\":\"circle\"},\"mode\":\"lines\",\"name\":\"8_tax act_tax rate_effective tax_tax\",\"orientation\":\"v\",\"showlegend\":true,\"x\":[\"2019-01-31T00:00:00\",\"2019-04-30T00:00:00\",\"2019-07-31T00:00:00\",\"2019-10-31T00:00:00\",\"2020-01-31T00:00:00\",\"2020-04-30T00:00:00\",\"2020-07-31T00:00:00\",\"2020-10-31T00:00:00\",\"2021-01-31T00:00:00\",\"2021-04-30T00:00:00\",\"2021-07-31T00:00:00\",\"2021-10-31T00:00:00\",\"2022-01-31T00:00:00\",\"2022-04-30T00:00:00\",\"2022-07-31T00:00:00\",\"2022-10-31T00:00:00\",\"2023-01-31T00:00:00\",\"2023-04-30T00:00:00\",\"2023-07-31T00:00:00\",\"2023-10-31T00:00:00\"],\"xaxis\":\"x\",\"y\":[0.23383510910000002,0.086409661,-0.12416762710000001,-0.19578487600000002,0.1861544525,0.0902320424,0.13517908750000002,-0.30677413940000003,-0.0023863082000000002,0.1389716034,-0.28725035990000003,-0.42720190680000003,0.358003296,0.0593876609,0.0234802008,0.9029222131,0.2489255816,-0.0054330349000000005,0.10811327700000001,0.520142436],\"yaxis\":\"y\",\"type\":\"scatter\"},{\"hovertemplate\":\"Name=9_stock options_restricted stock_stock based_scholes\\u003cbr\\u003eTimestamp=%{x}\\u003cbr\\u003emean=%{y}\\u003cextra\\u003e\\u003c\\u002fextra\\u003e\",\"legendgroup\":\"9_stock options_restricted stock_stock based_scholes\",\"line\":{\"color\":\"#FF97FF\",\"dash\":\"solid\"},\"marker\":{\"symbol\":\"circle\"},\"mode\":\"lines\",\"name\":\"9_stock options_restricted stock_stock based_scholes\",\"orientation\":\"v\",\"showlegend\":true,\"x\":[\"2019-02-28T00:00:00\",\"2019-05-31T00:00:00\",\"2019-08-31T00:00:00\",\"2019-11-30T00:00:00\",\"2020-02-29T00:00:00\",\"2020-05-31T00:00:00\",\"2020-08-31T00:00:00\",\"2020-11-30T00:00:00\",\"2021-02-28T00:00:00\",\"2021-05-31T00:00:00\",\"2021-08-31T00:00:00\",\"2021-11-30T00:00:00\",\"2022-02-28T00:00:00\",\"2022-05-31T00:00:00\",\"2022-08-31T00:00:00\",\"2022-11-30T00:00:00\",\"2023-02-28T00:00:00\",\"2023-05-31T00:00:00\",\"2023-08-31T00:00:00\"],\"xaxis\":\"x\",\"y\":[-0.0104721766,-0.0294649697,0.0535132846,0.0,0.0063336726000000005,0.0492837301,0.0206485306,0.0,-0.0047893186,0.0309897878,0.0287109703,0.0,0.018953886,-0.06858240560000001,0.0458639935,0.0,0.0358105512,0.0,0.0],\"yaxis\":\"y\",\"type\":\"scatter\"},{\"hovertemplate\":\"Name=10_senior notes_notes_notes 8221_million aggregate\\u003cbr\\u003eTimestamp=%{x}\\u003cbr\\u003emean=%{y}\\u003cextra\\u003e\\u003c\\u002fextra\\u003e\",\"legendgroup\":\"10_senior notes_notes_notes 8221_million aggregate\",\"line\":{\"color\":\"#FECB52\",\"dash\":\"solid\"},\"marker\":{\"symbol\":\"circle\"},\"mode\":\"lines\",\"name\":\"10_senior notes_notes_notes 8221_million aggregate\",\"orientation\":\"v\",\"showlegend\":true,\"x\":[\"2019-02-28T00:00:00\",\"2019-05-31T00:00:00\",\"2019-08-31T00:00:00\",\"2019-11-30T00:00:00\",\"2020-02-29T00:00:00\",\"2020-05-31T00:00:00\",\"2020-08-31T00:00:00\",\"2020-11-30T00:00:00\",\"2021-02-28T00:00:00\",\"2021-05-31T00:00:00\",\"2021-08-31T00:00:00\",\"2021-11-30T00:00:00\",\"2022-02-28T00:00:00\",\"2022-05-31T00:00:00\",\"2022-08-31T00:00:00\",\"2022-11-30T00:00:00\",\"2023-02-28T00:00:00\",\"2023-05-31T00:00:00\",\"2023-08-31T00:00:00\"],\"xaxis\":\"x\",\"y\":[0.014222119,0.11349896990000001,-0.1241533682,0.0,-0.009735228700000001,0.0,-0.1192795709,0.0,0.0211911642,-0.0182987217,0.0378722681,-0.043938169900000004,0.0228419274,-0.007235337400000001,-0.11730434890000001,0.0759516771,0.0286032315,0.12660052230000002,0.0],\"yaxis\":\"y\",\"type\":\"scatter\"},{\"hovertemplate\":\"Name=11_foreign currency_forward contracts_cross currency_exchange risk\\u003cbr\\u003eTimestamp=%{x}\\u003cbr\\u003emean=%{y}\\u003cextra\\u003e\\u003c\\u002fextra\\u003e\",\"legendgroup\":\"11_foreign currency_forward contracts_cross currency_exchange risk\",\"line\":{\"color\":\"#636efa\",\"dash\":\"solid\"},\"marker\":{\"symbol\":\"circle\"},\"mode\":\"lines\",\"name\":\"11_foreign currency_forward contracts_cross currency_exchange risk\",\"orientation\":\"v\",\"showlegend\":true,\"x\":[\"2019-01-31T00:00:00\",\"2019-04-30T00:00:00\",\"2019-07-31T00:00:00\",\"2019-10-31T00:00:00\",\"2020-01-31T00:00:00\",\"2020-04-30T00:00:00\",\"2020-07-31T00:00:00\",\"2020-10-31T00:00:00\",\"2021-01-31T00:00:00\",\"2021-04-30T00:00:00\",\"2021-07-31T00:00:00\",\"2021-10-31T00:00:00\",\"2022-01-31T00:00:00\",\"2022-04-30T00:00:00\",\"2022-07-31T00:00:00\",\"2022-10-31T00:00:00\",\"2023-01-31T00:00:00\",\"2023-04-30T00:00:00\",\"2023-07-31T00:00:00\",\"2023-10-31T00:00:00\"],\"xaxis\":\"x\",\"y\":[0.0,-0.018626393,-0.077626052,0.0290667159,0.0358333728,-0.0502530161,-0.1120070865,0.0399030277,0.0955243031,-0.07591734500000001,0.0474899352,-0.11064624120000001,-0.0205958451,-0.0926351807,-0.0498245358,-0.20258531400000002,-0.092631249,-0.0791313958,-0.0803596106,-0.4752762616],\"yaxis\":\"y\",\"type\":\"scatter\"},{\"hovertemplate\":\"Name=12_contractual obligations_obligations 160_payments period_lease obligations\\u003cbr\\u003eTimestamp=%{x}\\u003cbr\\u003emean=%{y}\\u003cextra\\u003e\\u003c\\u002fextra\\u003e\",\"legendgroup\":\"12_contractual obligations_obligations 160_payments period_lease obligations\",\"line\":{\"color\":\"#EF553B\",\"dash\":\"solid\"},\"marker\":{\"symbol\":\"circle\"},\"mode\":\"lines\",\"name\":\"12_contractual obligations_obligations 160_payments period_lease obligations\",\"orientation\":\"v\",\"showlegend\":true,\"x\":[\"2019-01-31T00:00:00\",\"2019-04-30T00:00:00\",\"2019-07-31T00:00:00\",\"2019-10-31T00:00:00\",\"2020-01-31T00:00:00\",\"2020-04-30T00:00:00\",\"2020-07-31T00:00:00\",\"2020-10-31T00:00:00\",\"2021-01-31T00:00:00\",\"2021-04-30T00:00:00\",\"2021-07-31T00:00:00\",\"2021-10-31T00:00:00\",\"2022-01-31T00:00:00\",\"2022-04-30T00:00:00\",\"2022-07-31T00:00:00\",\"2022-10-31T00:00:00\",\"2023-01-31T00:00:00\",\"2023-04-30T00:00:00\",\"2023-07-31T00:00:00\",\"2023-10-31T00:00:00\"],\"xaxis\":\"x\",\"y\":[0.0,-0.0044982731,-0.147016267,0.0,-0.0182669838,0.0001265868,0.0,0.0,-0.07002806240000001,-0.014163243300000001,0.0,0.12253361200000001,0.0,0.009678813500000001,0.0,0.0,0.0,0.0177234014,0.0,0.0],\"yaxis\":\"y\",\"type\":\"scatter\"},{\"hovertemplate\":\"Name=13_georgia_southern company_georgia power_mississippi power\\u003cbr\\u003eTimestamp=%{x}\\u003cbr\\u003emean=%{y}\\u003cextra\\u003e\\u003c\\u002fextra\\u003e\",\"legendgroup\":\"13_georgia_southern company_georgia power_mississippi power\",\"line\":{\"color\":\"#00cc96\",\"dash\":\"solid\"},\"marker\":{\"symbol\":\"circle\"},\"mode\":\"lines\",\"name\":\"13_georgia_southern company_georgia power_mississippi power\",\"orientation\":\"v\",\"showlegend\":true,\"x\":[\"2019-02-28T00:00:00\",\"2019-05-31T00:00:00\",\"2019-08-31T00:00:00\",\"2019-11-30T00:00:00\",\"2020-02-29T00:00:00\",\"2020-05-31T00:00:00\",\"2020-08-31T00:00:00\",\"2020-11-30T00:00:00\",\"2021-02-28T00:00:00\"],\"xaxis\":\"x\",\"y\":[0.0480023174,0.0,null,null,0.0,null,null,null,0.0],\"yaxis\":\"y\",\"type\":\"scatter\"},{\"hovertemplate\":\"Name=14_credit agreement_credit facility_revolving credit_sofr\\u003cbr\\u003eTimestamp=%{x}\\u003cbr\\u003emean=%{y}\\u003cextra\\u003e\\u003c\\u002fextra\\u003e\",\"legendgroup\":\"14_credit agreement_credit facility_revolving credit_sofr\",\"line\":{\"color\":\"#ab63fa\",\"dash\":\"solid\"},\"marker\":{\"symbol\":\"circle\"},\"mode\":\"lines\",\"name\":\"14_credit agreement_credit facility_revolving credit_sofr\",\"orientation\":\"v\",\"showlegend\":true,\"x\":[\"2019-01-31T00:00:00\",\"2019-04-30T00:00:00\",\"2019-07-31T00:00:00\",\"2019-10-31T00:00:00\",\"2020-01-31T00:00:00\",\"2020-04-30T00:00:00\",\"2020-07-31T00:00:00\",\"2020-10-31T00:00:00\",\"2021-01-31T00:00:00\",\"2021-04-30T00:00:00\",\"2021-07-31T00:00:00\",\"2021-10-31T00:00:00\",\"2022-01-31T00:00:00\",\"2022-04-30T00:00:00\",\"2022-07-31T00:00:00\",\"2022-10-31T00:00:00\",\"2023-01-31T00:00:00\",\"2023-04-30T00:00:00\",\"2023-07-31T00:00:00\",\"2023-10-31T00:00:00\"],\"xaxis\":\"x\",\"y\":[0.0,0.06732259980000001,0.0,0.0698158691,0.083787425,0.034243049500000004,0.2429579794,0.0560645426,-0.12221666800000001,0.0313577347,0.16352000830000002,0.10505988200000001,0.1252249877,0.1044269812,0.0,0.049010043,0.2517426099,0.0679443912,0.0,0.0],\"yaxis\":\"y\",\"type\":\"scatter\"},{\"hovertemplate\":\"Name=15_aircraft fuel_passenger revenue_fuel expense_asms\\u003cbr\\u003eTimestamp=%{x}\\u003cbr\\u003emean=%{y}\\u003cextra\\u003e\\u003c\\u002fextra\\u003e\",\"legendgroup\":\"15_aircraft fuel_passenger revenue_fuel expense_asms\",\"line\":{\"color\":\"#FFA15A\",\"dash\":\"solid\"},\"marker\":{\"symbol\":\"circle\"},\"mode\":\"lines\",\"name\":\"15_aircraft fuel_passenger revenue_fuel expense_asms\",\"orientation\":\"v\",\"showlegend\":true,\"x\":[\"2019-02-28T00:00:00\",\"2019-05-31T00:00:00\",\"2019-08-31T00:00:00\",\"2019-11-30T00:00:00\",\"2020-02-29T00:00:00\",\"2020-05-31T00:00:00\",\"2020-08-31T00:00:00\",\"2020-11-30T00:00:00\",\"2021-02-28T00:00:00\",\"2021-05-31T00:00:00\",\"2021-08-31T00:00:00\",\"2021-11-30T00:00:00\",\"2022-02-28T00:00:00\",\"2022-05-31T00:00:00\",\"2022-08-31T00:00:00\",\"2022-11-30T00:00:00\",\"2023-02-28T00:00:00\"],\"xaxis\":\"x\",\"y\":[0.3100079407,null,null,null,0.19194402130000002,null,null,null,-0.2589992866,-0.8003394703000001,null,null,0.2803072808,-0.8868969083,null,null,0.3962691753],\"yaxis\":\"y\",\"type\":\"scatter\"},{\"hovertemplate\":\"Name=16_asset group_lived assets_value asset_undiscounted cash\\u003cbr\\u003eTimestamp=%{x}\\u003cbr\\u003emean=%{y}\\u003cextra\\u003e\\u003c\\u002fextra\\u003e\",\"legendgroup\":\"16_asset group_lived assets_value asset_undiscounted cash\",\"line\":{\"color\":\"#19d3f3\",\"dash\":\"solid\"},\"marker\":{\"symbol\":\"circle\"},\"mode\":\"lines\",\"name\":\"16_asset group_lived assets_value asset_undiscounted cash\",\"orientation\":\"v\",\"showlegend\":true,\"x\":[\"2019-01-31T00:00:00\",\"2019-04-30T00:00:00\",\"2019-07-31T00:00:00\",\"2019-10-31T00:00:00\",\"2020-01-31T00:00:00\",\"2020-04-30T00:00:00\",\"2020-07-31T00:00:00\",\"2020-10-31T00:00:00\",\"2021-01-31T00:00:00\",\"2021-04-30T00:00:00\",\"2021-07-31T00:00:00\",\"2021-10-31T00:00:00\",\"2022-01-31T00:00:00\",\"2022-04-30T00:00:00\",\"2022-07-31T00:00:00\",\"2022-10-31T00:00:00\",\"2023-01-31T00:00:00\",\"2023-04-30T00:00:00\",\"2023-07-31T00:00:00\",\"2023-10-31T00:00:00\"],\"xaxis\":\"x\",\"y\":[0.0,-0.0218962109,-0.0964247386,0.0,-0.0569440998,-0.0435942582,-0.09760649,0.0,0.0,-0.0403449649,-0.0869275808,0.0,0.0,-0.0192654766,0.0,0.0,-0.0404732062,-0.0385503226,-0.1177235603,0.0],\"yaxis\":\"y\",\"type\":\"scatter\"},{\"hovertemplate\":\"Name=17_assets acquired_liabilities assumed_acquired liabilities_intangible assets\\u003cbr\\u003eTimestamp=%{x}\\u003cbr\\u003emean=%{y}\\u003cextra\\u003e\\u003c\\u002fextra\\u003e\",\"legendgroup\":\"17_assets acquired_liabilities assumed_acquired liabilities_intangible assets\",\"line\":{\"color\":\"#FF6692\",\"dash\":\"solid\"},\"marker\":{\"symbol\":\"circle\"},\"mode\":\"lines\",\"name\":\"17_assets acquired_liabilities assumed_acquired liabilities_intangible assets\",\"orientation\":\"v\",\"showlegend\":true,\"x\":[\"2019-01-31T00:00:00\",\"2019-04-30T00:00:00\",\"2019-07-31T00:00:00\",\"2019-10-31T00:00:00\",\"2020-01-31T00:00:00\",\"2020-04-30T00:00:00\",\"2020-07-31T00:00:00\",\"2020-10-31T00:00:00\",\"2021-01-31T00:00:00\",\"2021-04-30T00:00:00\",\"2021-07-31T00:00:00\",\"2021-10-31T00:00:00\",\"2022-01-31T00:00:00\",\"2022-04-30T00:00:00\",\"2022-07-31T00:00:00\",\"2022-10-31T00:00:00\",\"2023-01-31T00:00:00\",\"2023-04-30T00:00:00\",\"2023-07-31T00:00:00\",\"2023-10-31T00:00:00\"],\"xaxis\":\"x\",\"y\":[0.0,-0.0016642641,0.0,0.0,0.0,0.0248979015,0.0,0.0317109446,0.075474817,-0.0038390353000000003,0.0,0.0,-0.0276869034,0.0,0.0,0.0,0.0,-0.010203383,0.0,0.0],\"yaxis\":\"y\",\"type\":\"scatter\"},{\"hovertemplate\":\"Name=18_membership_medicare_medicare advantage_medical membership\\u003cbr\\u003eTimestamp=%{x}\\u003cbr\\u003emean=%{y}\\u003cextra\\u003e\\u003c\\u002fextra\\u003e\",\"legendgroup\":\"18_membership_medicare_medicare advantage_medical membership\",\"line\":{\"color\":\"#B6E880\",\"dash\":\"solid\"},\"marker\":{\"symbol\":\"circle\"},\"mode\":\"lines\",\"name\":\"18_membership_medicare_medicare advantage_medical membership\",\"orientation\":\"v\",\"showlegend\":true,\"x\":[\"2019-02-28T00:00:00\",\"2019-05-31T00:00:00\",\"2019-08-31T00:00:00\",\"2019-11-30T00:00:00\",\"2020-02-29T00:00:00\",\"2020-05-31T00:00:00\",\"2020-08-31T00:00:00\",\"2020-11-30T00:00:00\",\"2021-02-28T00:00:00\",\"2021-05-31T00:00:00\",\"2021-08-31T00:00:00\",\"2021-11-30T00:00:00\",\"2022-02-28T00:00:00\",\"2022-05-31T00:00:00\",\"2022-08-31T00:00:00\",\"2022-11-30T00:00:00\",\"2023-02-28T00:00:00\",\"2023-05-31T00:00:00\",\"2023-08-31T00:00:00\"],\"xaxis\":\"x\",\"y\":[0.1231387049,null,null,null,0.29601022120000003,null,null,null,0.24818583260000002,0.42156773140000003,null,null,0.18330198020000002,null,null,null,0.1994531136,null,0.0],\"yaxis\":\"y\",\"type\":\"scatter\"},{\"hovertemplate\":\"Name=19_research development_development expenses_marketing expenses_increase personnel\\u003cbr\\u003eTimestamp=%{x}\\u003cbr\\u003emean=%{y}\\u003cextra\\u003e\\u003c\\u002fextra\\u003e\",\"legendgroup\":\"19_research development_development expenses_marketing expenses_increase personnel\",\"line\":{\"color\":\"#FF97FF\",\"dash\":\"solid\"},\"marker\":{\"symbol\":\"circle\"},\"mode\":\"lines\",\"name\":\"19_research development_development expenses_marketing expenses_increase personnel\",\"orientation\":\"v\",\"showlegend\":true,\"x\":[\"2019-01-31T00:00:00\",\"2019-04-30T00:00:00\",\"2019-07-31T00:00:00\",\"2019-10-31T00:00:00\",\"2020-01-31T00:00:00\",\"2020-04-30T00:00:00\",\"2020-07-31T00:00:00\",\"2020-10-31T00:00:00\",\"2021-01-31T00:00:00\",\"2021-04-30T00:00:00\",\"2021-07-31T00:00:00\",\"2021-10-31T00:00:00\",\"2022-01-31T00:00:00\",\"2022-04-30T00:00:00\",\"2022-07-31T00:00:00\",\"2022-10-31T00:00:00\",\"2023-01-31T00:00:00\",\"2023-04-30T00:00:00\",\"2023-07-31T00:00:00\",\"2023-10-31T00:00:00\"],\"xaxis\":\"x\",\"y\":[0.6488603618000001,0.5283131337,0.0081394116,0.7881999552000001,0.48662269340000003,0.6098625318,-0.0028627983000000003,0.9234088958000001,0.6290548304,0.49179238220000004,0.2903712889,0.20623105760000002,0.8215454496,0.5416977372,0.3652764342,0.0323688164,0.7528871298,0.6586107409,0.1683517532,0.9919735193],\"yaxis\":\"y\",\"type\":\"scatter\"},{\"hovertemplate\":\"Name=20_adjusted ebitda_ebitda adjusted_ebitda margin_ebitda net\\u003cbr\\u003eTimestamp=%{x}\\u003cbr\\u003emean=%{y}\\u003cextra\\u003e\\u003c\\u002fextra\\u003e\",\"legendgroup\":\"20_adjusted ebitda_ebitda adjusted_ebitda margin_ebitda net\",\"line\":{\"color\":\"#FECB52\",\"dash\":\"solid\"},\"marker\":{\"symbol\":\"circle\"},\"mode\":\"lines\",\"name\":\"20_adjusted ebitda_ebitda adjusted_ebitda margin_ebitda net\",\"orientation\":\"v\",\"showlegend\":true,\"x\":[\"2019-01-31T00:00:00\",\"2019-04-30T00:00:00\",\"2019-07-31T00:00:00\",\"2019-10-31T00:00:00\",\"2020-01-31T00:00:00\",\"2020-04-30T00:00:00\",\"2020-07-31T00:00:00\",\"2020-10-31T00:00:00\",\"2021-01-31T00:00:00\",\"2021-04-30T00:00:00\",\"2021-07-31T00:00:00\",\"2021-10-31T00:00:00\",\"2022-01-31T00:00:00\",\"2022-04-30T00:00:00\",\"2022-07-31T00:00:00\",\"2022-10-31T00:00:00\",\"2023-01-31T00:00:00\",\"2023-04-30T00:00:00\",\"2023-07-31T00:00:00\",\"2023-10-31T00:00:00\"],\"xaxis\":\"x\",\"y\":[0.0663921118,0.0633269321,0.0,0.1358389854,0.2004711429,0.0859236346,0.0,0.1073736787,0.22479557990000001,0.028557041800000002,0.0,0.233119452,0.0614002546,0.029917554800000003,0.0,0.16846548020000002,0.055380586100000004,0.0930919931,null,0.0],\"yaxis\":\"y\",\"type\":\"scatter\"}],                        {\"template\":{\"data\":{\"histogram2dcontour\":[{\"type\":\"histogram2dcontour\",\"colorbar\":{\"outlinewidth\":0,\"ticks\":\"\"},\"colorscale\":[[0.0,\"#0d0887\"],[0.1111111111111111,\"#46039f\"],[0.2222222222222222,\"#7201a8\"],[0.3333333333333333,\"#9c179e\"],[0.4444444444444444,\"#bd3786\"],[0.5555555555555556,\"#d8576b\"],[0.6666666666666666,\"#ed7953\"],[0.7777777777777778,\"#fb9f3a\"],[0.8888888888888888,\"#fdca26\"],[1.0,\"#f0f921\"]]}],\"choropleth\":[{\"type\":\"choropleth\",\"colorbar\":{\"outlinewidth\":0,\"ticks\":\"\"}}],\"histogram2d\":[{\"type\":\"histogram2d\",\"colorbar\":{\"outlinewidth\":0,\"ticks\":\"\"},\"colorscale\":[[0.0,\"#0d0887\"],[0.1111111111111111,\"#46039f\"],[0.2222222222222222,\"#7201a8\"],[0.3333333333333333,\"#9c179e\"],[0.4444444444444444,\"#bd3786\"],[0.5555555555555556,\"#d8576b\"],[0.6666666666666666,\"#ed7953\"],[0.7777777777777778,\"#fb9f3a\"],[0.8888888888888888,\"#fdca26\"],[1.0,\"#f0f921\"]]}],\"heatmap\":[{\"type\":\"heatmap\",\"colorbar\":{\"outlinewidth\":0,\"ticks\":\"\"},\"colorscale\":[[0.0,\"#0d0887\"],[0.1111111111111111,\"#46039f\"],[0.2222222222222222,\"#7201a8\"],[0.3333333333333333,\"#9c179e\"],[0.4444444444444444,\"#bd3786\"],[0.5555555555555556,\"#d8576b\"],[0.6666666666666666,\"#ed7953\"],[0.7777777777777778,\"#fb9f3a\"],[0.8888888888888888,\"#fdca26\"],[1.0,\"#f0f921\"]]}],\"heatmapgl\":[{\"type\":\"heatmapgl\",\"colorbar\":{\"outlinewidth\":0,\"ticks\":\"\"},\"colorscale\":[[0.0,\"#0d0887\"],[0.1111111111111111,\"#46039f\"],[0.2222222222222222,\"#7201a8\"],[0.3333333333333333,\"#9c179e\"],[0.4444444444444444,\"#bd3786\"],[0.5555555555555556,\"#d8576b\"],[0.6666666666666666,\"#ed7953\"],[0.7777777777777778,\"#fb9f3a\"],[0.8888888888888888,\"#fdca26\"],[1.0,\"#f0f921\"]]}],\"contourcarpet\":[{\"type\":\"contourcarpet\",\"colorbar\":{\"outlinewidth\":0,\"ticks\":\"\"}}],\"contour\":[{\"type\":\"contour\",\"colorbar\":{\"outlinewidth\":0,\"ticks\":\"\"},\"colorscale\":[[0.0,\"#0d0887\"],[0.1111111111111111,\"#46039f\"],[0.2222222222222222,\"#7201a8\"],[0.3333333333333333,\"#9c179e\"],[0.4444444444444444,\"#bd3786\"],[0.5555555555555556,\"#d8576b\"],[0.6666666666666666,\"#ed7953\"],[0.7777777777777778,\"#fb9f3a\"],[0.8888888888888888,\"#fdca26\"],[1.0,\"#f0f921\"]]}],\"surface\":[{\"type\":\"surface\",\"colorbar\":{\"outlinewidth\":0,\"ticks\":\"\"},\"colorscale\":[[0.0,\"#0d0887\"],[0.1111111111111111,\"#46039f\"],[0.2222222222222222,\"#7201a8\"],[0.3333333333333333,\"#9c179e\"],[0.4444444444444444,\"#bd3786\"],[0.5555555555555556,\"#d8576b\"],[0.6666666666666666,\"#ed7953\"],[0.7777777777777778,\"#fb9f3a\"],[0.8888888888888888,\"#fdca26\"],[1.0,\"#f0f921\"]]}],\"mesh3d\":[{\"type\":\"mesh3d\",\"colorbar\":{\"outlinewidth\":0,\"ticks\":\"\"}}],\"scatter\":[{\"marker\":{\"line\":{\"color\":\"#283442\"}},\"type\":\"scatter\"}],\"parcoords\":[{\"type\":\"parcoords\",\"line\":{\"colorbar\":{\"outlinewidth\":0,\"ticks\":\"\"}}}],\"scatterpolargl\":[{\"type\":\"scatterpolargl\",\"marker\":{\"colorbar\":{\"outlinewidth\":0,\"ticks\":\"\"}}}],\"bar\":[{\"error_x\":{\"color\":\"#f2f5fa\"},\"error_y\":{\"color\":\"#f2f5fa\"},\"marker\":{\"line\":{\"color\":\"rgb(17,17,17)\",\"width\":0.5},\"pattern\":{\"fillmode\":\"overlay\",\"size\":10,\"solidity\":0.2}},\"type\":\"bar\"}],\"scattergeo\":[{\"type\":\"scattergeo\",\"marker\":{\"colorbar\":{\"outlinewidth\":0,\"ticks\":\"\"}}}],\"scatterpolar\":[{\"type\":\"scatterpolar\",\"marker\":{\"colorbar\":{\"outlinewidth\":0,\"ticks\":\"\"}}}],\"histogram\":[{\"marker\":{\"pattern\":{\"fillmode\":\"overlay\",\"size\":10,\"solidity\":0.2}},\"type\":\"histogram\"}],\"scattergl\":[{\"marker\":{\"line\":{\"color\":\"#283442\"}},\"type\":\"scattergl\"}],\"scatter3d\":[{\"type\":\"scatter3d\",\"line\":{\"colorbar\":{\"outlinewidth\":0,\"ticks\":\"\"}},\"marker\":{\"colorbar\":{\"outlinewidth\":0,\"ticks\":\"\"}}}],\"scattermapbox\":[{\"type\":\"scattermapbox\",\"marker\":{\"colorbar\":{\"outlinewidth\":0,\"ticks\":\"\"}}}],\"scatterternary\":[{\"type\":\"scatterternary\",\"marker\":{\"colorbar\":{\"outlinewidth\":0,\"ticks\":\"\"}}}],\"scattercarpet\":[{\"type\":\"scattercarpet\",\"marker\":{\"colorbar\":{\"outlinewidth\":0,\"ticks\":\"\"}}}],\"carpet\":[{\"aaxis\":{\"endlinecolor\":\"#A2B1C6\",\"gridcolor\":\"#506784\",\"linecolor\":\"#506784\",\"minorgridcolor\":\"#506784\",\"startlinecolor\":\"#A2B1C6\"},\"baxis\":{\"endlinecolor\":\"#A2B1C6\",\"gridcolor\":\"#506784\",\"linecolor\":\"#506784\",\"minorgridcolor\":\"#506784\",\"startlinecolor\":\"#A2B1C6\"},\"type\":\"carpet\"}],\"table\":[{\"cells\":{\"fill\":{\"color\":\"#506784\"},\"line\":{\"color\":\"rgb(17,17,17)\"}},\"header\":{\"fill\":{\"color\":\"#2a3f5f\"},\"line\":{\"color\":\"rgb(17,17,17)\"}},\"type\":\"table\"}],\"barpolar\":[{\"marker\":{\"line\":{\"color\":\"rgb(17,17,17)\",\"width\":0.5},\"pattern\":{\"fillmode\":\"overlay\",\"size\":10,\"solidity\":0.2}},\"type\":\"barpolar\"}],\"pie\":[{\"automargin\":true,\"type\":\"pie\"}]},\"layout\":{\"autotypenumbers\":\"strict\",\"colorway\":[\"#636efa\",\"#EF553B\",\"#00cc96\",\"#ab63fa\",\"#FFA15A\",\"#19d3f3\",\"#FF6692\",\"#B6E880\",\"#FF97FF\",\"#FECB52\"],\"font\":{\"color\":\"#f2f5fa\"},\"hovermode\":\"closest\",\"hoverlabel\":{\"align\":\"left\"},\"paper_bgcolor\":\"rgb(17,17,17)\",\"plot_bgcolor\":\"rgb(17,17,17)\",\"polar\":{\"bgcolor\":\"rgb(17,17,17)\",\"angularaxis\":{\"gridcolor\":\"#506784\",\"linecolor\":\"#506784\",\"ticks\":\"\"},\"radialaxis\":{\"gridcolor\":\"#506784\",\"linecolor\":\"#506784\",\"ticks\":\"\"}},\"ternary\":{\"bgcolor\":\"rgb(17,17,17)\",\"aaxis\":{\"gridcolor\":\"#506784\",\"linecolor\":\"#506784\",\"ticks\":\"\"},\"baxis\":{\"gridcolor\":\"#506784\",\"linecolor\":\"#506784\",\"ticks\":\"\"},\"caxis\":{\"gridcolor\":\"#506784\",\"linecolor\":\"#506784\",\"ticks\":\"\"}},\"coloraxis\":{\"colorbar\":{\"outlinewidth\":0,\"ticks\":\"\"}},\"colorscale\":{\"sequential\":[[0.0,\"#0d0887\"],[0.1111111111111111,\"#46039f\"],[0.2222222222222222,\"#7201a8\"],[0.3333333333333333,\"#9c179e\"],[0.4444444444444444,\"#bd3786\"],[0.5555555555555556,\"#d8576b\"],[0.6666666666666666,\"#ed7953\"],[0.7777777777777778,\"#fb9f3a\"],[0.8888888888888888,\"#fdca26\"],[1.0,\"#f0f921\"]],\"sequentialminus\":[[0.0,\"#0d0887\"],[0.1111111111111111,\"#46039f\"],[0.2222222222222222,\"#7201a8\"],[0.3333333333333333,\"#9c179e\"],[0.4444444444444444,\"#bd3786\"],[0.5555555555555556,\"#d8576b\"],[0.6666666666666666,\"#ed7953\"],[0.7777777777777778,\"#fb9f3a\"],[0.8888888888888888,\"#fdca26\"],[1.0,\"#f0f921\"]],\"diverging\":[[0,\"#8e0152\"],[0.1,\"#c51b7d\"],[0.2,\"#de77ae\"],[0.3,\"#f1b6da\"],[0.4,\"#fde0ef\"],[0.5,\"#f7f7f7\"],[0.6,\"#e6f5d0\"],[0.7,\"#b8e186\"],[0.8,\"#7fbc41\"],[0.9,\"#4d9221\"],[1,\"#276419\"]]},\"xaxis\":{\"gridcolor\":\"#283442\",\"linecolor\":\"#506784\",\"ticks\":\"\",\"title\":{\"standoff\":15},\"zerolinecolor\":\"#283442\",\"automargin\":true,\"zerolinewidth\":2},\"yaxis\":{\"gridcolor\":\"#283442\",\"linecolor\":\"#506784\",\"ticks\":\"\",\"title\":{\"standoff\":15},\"zerolinecolor\":\"#283442\",\"automargin\":true,\"zerolinewidth\":2},\"scene\":{\"xaxis\":{\"backgroundcolor\":\"rgb(17,17,17)\",\"gridcolor\":\"#506784\",\"linecolor\":\"#506784\",\"showbackground\":true,\"ticks\":\"\",\"zerolinecolor\":\"#C8D4E3\",\"gridwidth\":2},\"yaxis\":{\"backgroundcolor\":\"rgb(17,17,17)\",\"gridcolor\":\"#506784\",\"linecolor\":\"#506784\",\"showbackground\":true,\"ticks\":\"\",\"zerolinecolor\":\"#C8D4E3\",\"gridwidth\":2},\"zaxis\":{\"backgroundcolor\":\"rgb(17,17,17)\",\"gridcolor\":\"#506784\",\"linecolor\":\"#506784\",\"showbackground\":true,\"ticks\":\"\",\"zerolinecolor\":\"#C8D4E3\",\"gridwidth\":2}},\"shapedefaults\":{\"line\":{\"color\":\"#f2f5fa\"}},\"annotationdefaults\":{\"arrowcolor\":\"#f2f5fa\",\"arrowhead\":0,\"arrowwidth\":1},\"geo\":{\"bgcolor\":\"rgb(17,17,17)\",\"landcolor\":\"rgb(17,17,17)\",\"subunitcolor\":\"#506784\",\"showland\":true,\"showlakes\":true,\"lakecolor\":\"rgb(17,17,17)\"},\"title\":{\"x\":0.05},\"updatemenudefaults\":{\"bgcolor\":\"#506784\",\"borderwidth\":0},\"sliderdefaults\":{\"bgcolor\":\"#C8D4E3\",\"borderwidth\":1,\"bordercolor\":\"rgb(17,17,17)\",\"tickwidth\":0},\"mapbox\":{\"style\":\"dark\"}}},\"xaxis\":{\"anchor\":\"y\",\"domain\":[0.0,1.0],\"title\":{\"text\":\"Time\"}},\"yaxis\":{\"anchor\":\"x\",\"domain\":[0.0,1.0],\"title\":{\"text\":\"Average Sentiment per period\"}},\"legend\":{\"title\":{\"text\":\"Name\"},\"tracegroupgap\":0},\"margin\":{\"t\":60},\"title\":{\"text\":\"Topic sentiment - Section 7\"}},                        {\"responsive\": true}                    ).then(function(){\n                            \nvar gd = document.getElementById('97958b07-c8a7-4f79-ae9a-b2c52f0fa265');\nvar x = new MutationObserver(function (mutations, observer) {{\n        var display = window.getComputedStyle(gd).display;\n        if (!display || display === 'none') {{\n            console.log([gd, 'removed!']);\n            Plotly.purge(gd);\n            observer.disconnect();\n        }}\n}});\n\n// Listen for the removal of the full notebook cells\nvar notebookContainer = gd.closest('#notebook-container');\nif (notebookContainer) {{\n    x.observe(notebookContainer, {childList: true});\n}}\n\n// Listen for the clearing of the current output cell\nvar outputEl = gd.closest('.output');\nif (outputEl) {{\n    x.observe(outputEl, {childList: true});\n}}\n\n                        })                };                });            </script>        </div>"
     },
     "metadata": {},
     "output_type": "display_data"
    }
   ],
   "source": [
    "import plotly.express as px\n",
    "\n",
    "sentiment_to_plot = sentiment_df['Section7'].loc[sentiment_df['Section7'].Topic.isin(range(1, 21)),:]\n",
    "fig = px.line(data_frame=sentiment_to_plot, x='Timestamp', y='mean', color='Name')\n",
    "fig.update_layout(\n",
    "    title=f'Topic sentiment - Section 7',\n",
    "    xaxis_title='Time',\n",
    "    yaxis_title='Average Sentiment per period'\n",
    ")\n",
    "\n",
    "\n",
    "fig.show()"
   ],
   "metadata": {
    "collapsed": false,
    "ExecuteTime": {
     "start_time": "2023-09-01T13:24:53.878052Z",
     "end_time": "2023-09-01T13:24:53.920948Z"
    }
   }
  },
  {
   "cell_type": "markdown",
   "source": [
    "As github cannot render directly from fig.show(), the [image](topic-sentiment-Section%207.png) showing is below.\n",
    "![Sentiment - Section 7](topic-sentiment-Section%207.png)"
   ],
   "metadata": {
    "collapsed": false
   }
  },
  {
   "cell_type": "markdown",
   "source": [
    "\n",
    "\n",
    "Above we can see some oscillation in the topics. For instance we can see topic 19 which relates to research and development  We can also see topic 15 which relates to the fuel expenses, and passenger revenue whose sentiment was very negative both in May 2021, and May 2020. This corresponds broadly with the pandemic period, where a significant number of airlines had to be bailed out by their respective governments, and this was  most likely reflected by management discussions and disclosures in the  10-k filings. It is worth to remark that looking at the topics aggregated frequencies can actually help in getting a complete picture of the sentiment for certain topics. You can simply change the frequency parameter to achieve this.\n",
    "Finally, we can see the frequency corresponds to what is expected."
   ],
   "metadata": {
    "collapsed": false
   }
  },
  {
   "cell_type": "code",
   "execution_count": 40,
   "outputs": [
    {
     "name": "stdout",
     "output_type": "stream",
     "text": [
      "Unique Timestamps  ['2019-01-31T00:00:00.000000000' '2019-04-30T00:00:00.000000000'\n",
      " '2019-07-31T00:00:00.000000000' '2019-10-31T00:00:00.000000000'\n",
      " '2020-01-31T00:00:00.000000000' '2020-04-30T00:00:00.000000000'\n",
      " '2020-07-31T00:00:00.000000000' '2020-10-31T00:00:00.000000000'\n",
      " '2021-01-31T00:00:00.000000000' '2021-04-30T00:00:00.000000000'\n",
      " '2021-07-31T00:00:00.000000000' '2021-10-31T00:00:00.000000000'\n",
      " '2022-01-31T00:00:00.000000000' '2022-04-30T00:00:00.000000000'\n",
      " '2022-07-31T00:00:00.000000000' '2022-10-31T00:00:00.000000000'\n",
      " '2023-01-31T00:00:00.000000000' '2023-04-30T00:00:00.000000000'\n",
      " '2023-07-31T00:00:00.000000000' '2023-10-31T00:00:00.000000000'\n",
      " '2019-02-28T00:00:00.000000000' '2019-05-31T00:00:00.000000000'\n",
      " '2019-08-31T00:00:00.000000000' '2019-11-30T00:00:00.000000000'\n",
      " '2020-02-29T00:00:00.000000000' '2020-05-31T00:00:00.000000000'\n",
      " '2020-08-31T00:00:00.000000000' '2020-11-30T00:00:00.000000000'\n",
      " '2021-02-28T00:00:00.000000000' '2021-05-31T00:00:00.000000000'\n",
      " '2021-08-31T00:00:00.000000000' '2021-11-30T00:00:00.000000000'\n",
      " '2022-02-28T00:00:00.000000000' '2022-05-31T00:00:00.000000000'\n",
      " '2022-08-31T00:00:00.000000000' '2022-11-30T00:00:00.000000000'\n",
      " '2023-02-28T00:00:00.000000000' '2023-05-31T00:00:00.000000000'\n",
      " '2023-08-31T00:00:00.000000000' '2019-12-31T00:00:00.000000000'\n",
      " '2020-03-31T00:00:00.000000000' '2020-06-30T00:00:00.000000000'\n",
      " '2020-09-30T00:00:00.000000000' '2020-12-31T00:00:00.000000000'\n",
      " '2021-03-31T00:00:00.000000000' '2021-06-30T00:00:00.000000000'\n",
      " '2021-09-30T00:00:00.000000000' '2021-12-31T00:00:00.000000000'\n",
      " '2022-03-31T00:00:00.000000000' '2022-06-30T00:00:00.000000000'\n",
      " '2022-09-30T00:00:00.000000000' '2022-12-31T00:00:00.000000000'\n",
      " '2023-03-31T00:00:00.000000000' '2019-03-31T00:00:00.000000000'\n",
      " '2019-06-30T00:00:00.000000000' '2019-09-30T00:00:00.000000000'\n",
      " '2023-06-30T00:00:00.000000000' '2023-09-30T00:00:00.000000000']\n"
     ]
    }
   ],
   "source": [
    "print(f\"Unique Timestamps  {sentiment_df['Section7'].loc[:,'Timestamp'].unique()}\")"
   ],
   "metadata": {
    "collapsed": false,
    "ExecuteTime": {
     "start_time": "2023-09-01T12:20:42.905143Z",
     "end_time": "2023-09-01T12:20:42.908724Z"
    }
   }
  },
  {
   "cell_type": "markdown",
   "source": [
    "### get_topics_url\n",
    "We use this endpoint to extract the topics present in any website according to the 3 topic models. Let's see what we get if we test it with\n",
    "the ecb and the nasa websites. We do two types of extraction:\n",
    "1. All topics\n",
    "2. All unique topics\n"
   ],
   "metadata": {
    "collapsed": false
   }
  },
  {
   "cell_type": "code",
   "execution_count": 13,
   "outputs": [],
   "source": [
    "def get_topics_url_lists(url, keep_all=False):\n",
    "    response = requests.get(f\"{host}/get_topics_url\", params={'url': url, 'keep_all': f'{keep_all}'})\n",
    "    return response.json()\n"
   ],
   "metadata": {
    "collapsed": false,
    "ExecuteTime": {
     "start_time": "2023-09-01T13:48:03.813805Z",
     "end_time": "2023-09-01T13:48:03.819923Z"
    }
   }
  },
  {
   "cell_type": "code",
   "execution_count": 18,
   "outputs": [],
   "source": [
    "topics_1 = get_topics_url_lists(url='https://www.ecb.europa.eu/home/html/index.en.html')\n",
    "topics_2 = get_topics_url_lists(url='https://www.nasa.gov')\n",
    "topics_1_keep_all = get_topics_url_lists(url='https://www.ecb.europa.eu/home/html/index.en.html', keep_all=True)"
   ],
   "metadata": {
    "collapsed": false,
    "ExecuteTime": {
     "start_time": "2023-09-01T13:49:06.880300Z",
     "end_time": "2023-09-01T13:49:12.917361Z"
    }
   }
  },
  {
   "cell_type": "markdown",
   "source": [
    "Let' see the topics corresponding to the section7 model."
   ],
   "metadata": {
    "collapsed": false
   }
  },
  {
   "cell_type": "code",
   "execution_count": 19,
   "outputs": [
    {
     "name": "stdout",
     "output_type": "stream",
     "text": [
      "ecb: ['1674_climate change_change impacts_address climate_cdp climate', '2334_fte basis_fte_income fte_purposes bancorp', '2600_french tax_booking com_million euros_authorities issued', '44_rate risk_rate scenarios_yield curve_rate scenario', '43_var_var model_stressed var_var based', '50_credit losses_allowance credit_forecast period_allowance loan', '36_libor_alternative reference_reference rates_sofr', '1358_investment grade_grade securities_bonds_issuers investment', '2098_nitrogen fertilizer_fertilizer demand_supply demand_fertilizers', '1269_stress_stress testing_historical stress_stress events', '477_levelized foreign_160 levelized_translation 160_currency translation', '1809_fomc_funds rate_pnc expects_pnc', '2005_corporation 8217_financial markets_instability impact_certain corporation', '170_emissions_ghg emissions_paris agreement_epa', '81_currencies_exchange rates_currency exchange_foreign currencies', '1924_segment ebitda_europe segment_ebitda year_ebitda included', '1761_sustainability_sustainability report_law sec_annual sustainability', '1751_ccpa_cfpb 8217_consumer financial_enforcement', '2038_markets exchange_bank japan_monetary policy_government deficits', '1643_submarkets_apartment communities_suburban submarkets_markets submarkets', '1319_institutions 8212_sovereigns 8212_sovereigns_sovereign financial', '107_brexit_eu_european union_transition period', '1013_liquidity reserves_balances federal_liquid asset_backed securitizations']\n",
      "Nasa: ['615_campus_life science_marcus_certification']\n"
     ]
    }
   ],
   "source": [
    "print(f'ecb: {topics_1[\"Section7\"]}')\n",
    "print(f'Nasa: {topics_2[\"Section7\"]}')"
   ],
   "metadata": {
    "collapsed": false,
    "ExecuteTime": {
     "start_time": "2023-09-01T13:49:15.926889Z",
     "end_time": "2023-09-01T13:49:15.933042Z"
    }
   }
  },
  {
   "cell_type": "markdown",
   "source": [
    "We can see that Nasa has only one topic while ecb has many attached topics. Let's look at the non-unique topics fpr ecb"
   ],
   "metadata": {
    "collapsed": false
   }
  },
  {
   "cell_type": "code",
   "execution_count": 25,
   "outputs": [
    {
     "data": {
      "text/plain": "                                              element  topic_count\n0   225_libor_benchmarks indices_libor settings_re...            3\n4   878_monetary policy_monetary policies_instrume...            3\n5   1726_59 table_8226 expectation_fiscal_8226 fiscal            3\n1   189_withdrawal agreement_transition period_ref...            3\n10  366_bonds_bond market_corporate bond_corporate...            3\n3   574_subject risk_current expectations_credit l...            2\n12  64_credit facility_term loan_senior unsecured_...            1\n17  4_data protection_personal data_ccpa_protectio...            1\n16  381_free trade_footwear apparel_trade restrict...            1\n15  576_return periods_catastrophe loss_events_cat...            1\n14  1258_housing industry_homebuilders_local homeb...            1\n13  279_paris agreement_ghg emissions_conference p...            1\n9   178_financial services_investment banking_fina...            1\n11  1129_eu taxonomy_sustainability reporting_disc...            1\n8   524_basel committee_standardized approach_oper...            1\n7                 135_msci_indexes_msci esg_8226 msci            1\n6   83_federal reserve_stress testing_stress tests...            1\n2                 92_lloyd 8217_eea_syndicate_pra fca            1\n18                   1060_glba_ftc act_ftc_bliley act            1",
      "text/html": "<div>\n<style scoped>\n    .dataframe tbody tr th:only-of-type {\n        vertical-align: middle;\n    }\n\n    .dataframe tbody tr th {\n        vertical-align: top;\n    }\n\n    .dataframe thead th {\n        text-align: right;\n    }\n</style>\n<table border=\"1\" class=\"dataframe\">\n  <thead>\n    <tr style=\"text-align: right;\">\n      <th></th>\n      <th>element</th>\n      <th>topic_count</th>\n    </tr>\n  </thead>\n  <tbody>\n    <tr>\n      <th>0</th>\n      <td>225_libor_benchmarks indices_libor settings_re...</td>\n      <td>3</td>\n    </tr>\n    <tr>\n      <th>4</th>\n      <td>878_monetary policy_monetary policies_instrume...</td>\n      <td>3</td>\n    </tr>\n    <tr>\n      <th>5</th>\n      <td>1726_59 table_8226 expectation_fiscal_8226 fiscal</td>\n      <td>3</td>\n    </tr>\n    <tr>\n      <th>1</th>\n      <td>189_withdrawal agreement_transition period_ref...</td>\n      <td>3</td>\n    </tr>\n    <tr>\n      <th>10</th>\n      <td>366_bonds_bond market_corporate bond_corporate...</td>\n      <td>3</td>\n    </tr>\n    <tr>\n      <th>3</th>\n      <td>574_subject risk_current expectations_credit l...</td>\n      <td>2</td>\n    </tr>\n    <tr>\n      <th>12</th>\n      <td>64_credit facility_term loan_senior unsecured_...</td>\n      <td>1</td>\n    </tr>\n    <tr>\n      <th>17</th>\n      <td>4_data protection_personal data_ccpa_protectio...</td>\n      <td>1</td>\n    </tr>\n    <tr>\n      <th>16</th>\n      <td>381_free trade_footwear apparel_trade restrict...</td>\n      <td>1</td>\n    </tr>\n    <tr>\n      <th>15</th>\n      <td>576_return periods_catastrophe loss_events_cat...</td>\n      <td>1</td>\n    </tr>\n    <tr>\n      <th>14</th>\n      <td>1258_housing industry_homebuilders_local homeb...</td>\n      <td>1</td>\n    </tr>\n    <tr>\n      <th>13</th>\n      <td>279_paris agreement_ghg emissions_conference p...</td>\n      <td>1</td>\n    </tr>\n    <tr>\n      <th>9</th>\n      <td>178_financial services_investment banking_fina...</td>\n      <td>1</td>\n    </tr>\n    <tr>\n      <th>11</th>\n      <td>1129_eu taxonomy_sustainability reporting_disc...</td>\n      <td>1</td>\n    </tr>\n    <tr>\n      <th>8</th>\n      <td>524_basel committee_standardized approach_oper...</td>\n      <td>1</td>\n    </tr>\n    <tr>\n      <th>7</th>\n      <td>135_msci_indexes_msci esg_8226 msci</td>\n      <td>1</td>\n    </tr>\n    <tr>\n      <th>6</th>\n      <td>83_federal reserve_stress testing_stress tests...</td>\n      <td>1</td>\n    </tr>\n    <tr>\n      <th>2</th>\n      <td>92_lloyd 8217_eea_syndicate_pra fca</td>\n      <td>1</td>\n    </tr>\n    <tr>\n      <th>18</th>\n      <td>1060_glba_ftc act_ftc_bliley act</td>\n      <td>1</td>\n    </tr>\n  </tbody>\n</table>\n</div>"
     },
     "metadata": {},
     "output_type": "display_data"
    }
   ],
   "source": [
    "from collections import Counter\n",
    "counter = Counter(topics_1_keep_all[\"Section1\"])\n",
    "import pandas as pd\n",
    "\n",
    "df = pd.DataFrame.from_dict(counter, orient='index').reset_index()\n",
    "df = df.rename(columns={'index':'element', 0:'topic_count'})\n",
    "display(df.sort_values('topic_count', ascending=False))\n"
   ],
   "metadata": {
    "collapsed": false,
    "ExecuteTime": {
     "start_time": "2023-09-01T13:55:29.217830Z",
     "end_time": "2023-09-01T13:55:29.223841Z"
    }
   }
  },
  {
   "cell_type": "markdown",
   "source": [
    "We see 5 topics with counts of 3. Let's see all topics matched for the nasa website."
   ],
   "metadata": {
    "collapsed": false
   }
  },
  {
   "cell_type": "code",
   "execution_count": 100,
   "outputs": [
    {
     "name": "stdout",
     "output_type": "stream",
     "text": [
      "Nasa-Section1-model topics: ['756_mission systems_national security_missions_mission support'] \n",
      "\n",
      "Nasa-Section1A-model topics: ['503_gps_satellites_gnss_satellite'] \n",
      "\n",
      "Nasa-Section7-model topics: ['615_campus_life science_marcus_certification'] \n",
      "\n"
     ]
    }
   ],
   "source": [
    "for s in sections:\n",
    "    print(f'Nasa-{s}-model topics: {topics_2[s]} \\n')"
   ],
   "metadata": {
    "collapsed": false,
    "ExecuteTime": {
     "start_time": "2023-09-01T13:02:48.417502Z",
     "end_time": "2023-09-01T13:02:48.443194Z"
    }
   }
  },
  {
   "cell_type": "markdown",
   "source": [
    "Let's look at the topics for a particular company."
   ],
   "metadata": {
    "collapsed": false
   }
  },
  {
   "cell_type": "code",
   "execution_count": 36,
   "outputs": [
    {
     "name": "stdout",
     "output_type": "stream",
     "text": [
      "The Home Depot-Section1-model topics: ['1231_home depot_pro_depot_pro customers', '634_home improvement_lowe 8217_lowe_improvement products'] \n",
      "\n",
      "The Home Depot-Section1A-model topics: ['1485_buyers_buyers sellers_contracted purchase_sellers buyers', '694_delivery times_pickup_home improvement_delivery options'] \n",
      "\n",
      "The Home Depot-Section7-model topics: ['354_assortment_shopping_merchandising_shopping experience', '1176_income shipments_sales distributors_rebate programs_certain distributors', '2132_premium outlets_designer outlet_outlets_outlet'] \n",
      "\n"
     ]
    }
   ],
   "source": [
    "topics_3 = get_topics_url_lists(url='https://www.homedepot.ca/en/home.html')\n",
    "\n",
    "for s in sections:\n",
    "    print(f'The Home Depot-{s}-model topics: {topics_3[s]} \\n')"
   ],
   "metadata": {
    "collapsed": false,
    "ExecuteTime": {
     "start_time": "2023-09-01T14:49:25.211850Z",
     "end_time": "2023-09-01T14:49:26.692648Z"
    }
   }
  },
  {
   "cell_type": "markdown",
   "source": [
    "And we can see topics related to furniture design, shopping, which reflects the domain of the company. We finish with wikipedia."
   ],
   "metadata": {
    "collapsed": false
   }
  },
  {
   "cell_type": "code",
   "execution_count": 102,
   "outputs": [
    {
     "name": "stdout",
     "output_type": "stream",
     "text": [
      "Wikipedia-Section1-model topics: ['346_8220 duralast_paints 174_coatings_weed control', '1619_parish la_la 160_parish_operated 160', '968_methods treatment_ep_methods_formulation', '807_160 hydro_argentina 160_gas diesel_160 chile', '978_vitiligo_ruxolitinib cream_cream_ruxolitinib', '436_eurosport_tvn_viewers_international networks', '1822_8212 64_kucing liar_big gossan_160 grasberg', '1532_38 europe_zoledronate_zoledronate generics_generics various', '272_africa 160_160 africa_total africa_asia 160', '587_web addresses_textual references_inactive textual_reference report'] \n",
      "\n",
      "Wikipedia-Section1A-model topics: ['576_32 32_32_160 32_160 160', '854_coffee_arabica coffee_coffee beans_quality arabica', '190_search services_travel services_trivago_online travel', '340_eylea_vegf_eye_asthma', '391_jakafi_myelofibrosis_host disease_graft versus', '1517_indonesia_indonesia 8217_indonesia government_mining operations', '542_spam_quality content_search results_linkedin microsoft'] \n",
      "\n",
      "Wikipedia-Section7-model topics: ['2123_8212 8212_america 8212_australia 8212_south america', '1642_noi 8203_communities noi_noi_communities', '2236_8203 south_america 8203_south america_160 australia', '2068_pulmonary hypertension_hypertension_infectious diseases_pulmonary', '1507_8203 vascular_8203 neuromodulation_electrophysiology_structural heart', '734_8203 8203_8203 period_8203 boddington_tanami 8203', '2017_cymbalta_cyramza_trajenta_humulin', '477_levelized foreign_160 levelized_translation 160_currency translation'] \n",
      "\n"
     ]
    }
   ],
   "source": [
    "topics_4 = get_topics_url_lists(url='https://www.wikipedia.org')\n",
    "for s in sections:\n",
    "    print(f'Wikipedia-{s}-model topics: {topics_4[s]} \\n')"
   ],
   "metadata": {
    "collapsed": false,
    "ExecuteTime": {
     "start_time": "2023-09-01T13:02:58.616532Z",
     "end_time": "2023-09-01T13:03:00.143447Z"
    }
   }
  },
  {
   "cell_type": "markdown",
   "source": [
    "## Other uses\n",
    "\n",
    "You can use the above get_topics_url_lists function to track the evolution of topics for a specific website we may be monitoring for changes. For instance, this could be used to track whether a certain company filed with SEC some report that could be potentially market moving. In particular, pne could build an alert system to alert the user anytime something related to restructuring happens."
   ],
   "metadata": {
    "collapsed": false
   }
  },
  {
   "cell_type": "code",
   "execution_count": 26,
   "outputs": [],
   "source": [
    "import pandas as pd\n",
    "df = pd.read_csv('../all_filings_and_sections.csv')"
   ],
   "metadata": {
    "collapsed": false,
    "ExecuteTime": {
     "start_time": "2023-09-01T14:10:03.965525Z",
     "end_time": "2023-09-01T14:10:07.071231Z"
    }
   }
  },
  {
   "cell_type": "code",
   "execution_count": 30,
   "outputs": [],
   "source": [
    "df.drop(columns='Unnamed: 0').to_csv('../data_sample.csv')"
   ],
   "metadata": {
    "collapsed": false,
    "ExecuteTime": {
     "start_time": "2023-09-01T14:11:25.415221Z",
     "end_time": "2023-09-01T14:11:29.638781Z"
    }
   }
  },
  {
   "cell_type": "code",
   "execution_count": 35,
   "outputs": [],
   "source": [
    "df.drop(columns='Unnamed: 0').head(1).to_csv('data_sample.csv')"
   ],
   "metadata": {
    "collapsed": false,
    "ExecuteTime": {
     "start_time": "2023-09-01T14:14:22.961757Z",
     "end_time": "2023-09-01T14:14:22.970544Z"
    }
   }
  },
  {
   "cell_type": "code",
   "execution_count": null,
   "outputs": [],
   "source": [],
   "metadata": {
    "collapsed": false
   }
  }
 ],
 "metadata": {
  "kernelspec": {
   "display_name": "Python 3",
   "language": "python",
   "name": "python3"
  },
  "language_info": {
   "codemirror_mode": {
    "name": "ipython",
    "version": 2
   },
   "file_extension": ".py",
   "mimetype": "text/x-python",
   "name": "python",
   "nbconvert_exporter": "python",
   "pygments_lexer": "ipython2",
   "version": "2.7.6"
  }
 },
 "nbformat": 4,
 "nbformat_minor": 0
}
