{
 "cells": [
  {
   "cell_type": "markdown",
   "source": [
    "### Measuring Topic Sentiment with FinancialBert\n",
    "There are various ways of approaching this problem. Here, we will use the information that we already have from the topic modelling, namely the\n",
    "topic models. We then apply sentiment at document level. For that purpose we will use a model that is hosted in hugging face, and that constitutes an improvement over FinBert. The advantage of this approach is that we don't have to use the external api vendors and submit our data to them. However, under the right circumstances, and with the appropriate budget considerations, this problem can be solved with prompt engineering directly. We load the data containing the documents for each section and then load the topic models.\n"
   ],
   "metadata": {
    "collapsed": false
   }
  },
  {
   "cell_type": "code",
   "execution_count": 1,
   "outputs": [
    {
     "name": "stderr",
     "output_type": "stream",
     "text": [
      "/Users/sapereira/anaconda3/envs/audio-course-huggingface/lib/python3.10/site-packages/umap/distances.py:1063: NumbaDeprecationWarning: The 'nopython' keyword argument was not supplied to the 'numba.jit' decorator. The implicit default value for this argument is currently False, but it will be changed to True in Numba 0.59.0. See https://numba.readthedocs.io/en/stable/reference/deprecation.html#deprecation-of-object-mode-fall-back-behaviour-when-using-jit for details.\n",
      "  @numba.jit()\n",
      "/Users/sapereira/anaconda3/envs/audio-course-huggingface/lib/python3.10/site-packages/umap/distances.py:1071: NumbaDeprecationWarning: The 'nopython' keyword argument was not supplied to the 'numba.jit' decorator. The implicit default value for this argument is currently False, but it will be changed to True in Numba 0.59.0. See https://numba.readthedocs.io/en/stable/reference/deprecation.html#deprecation-of-object-mode-fall-back-behaviour-when-using-jit for details.\n",
      "  @numba.jit()\n",
      "/Users/sapereira/anaconda3/envs/audio-course-huggingface/lib/python3.10/site-packages/umap/distances.py:1086: NumbaDeprecationWarning: The 'nopython' keyword argument was not supplied to the 'numba.jit' decorator. The implicit default value for this argument is currently False, but it will be changed to True in Numba 0.59.0. See https://numba.readthedocs.io/en/stable/reference/deprecation.html#deprecation-of-object-mode-fall-back-behaviour-when-using-jit for details.\n",
      "  @numba.jit()\n",
      "/Users/sapereira/anaconda3/envs/audio-course-huggingface/lib/python3.10/site-packages/umap/umap_.py:660: NumbaDeprecationWarning: The 'nopython' keyword argument was not supplied to the 'numba.jit' decorator. The implicit default value for this argument is currently False, but it will be changed to True in Numba 0.59.0. See https://numba.readthedocs.io/en/stable/reference/deprecation.html#deprecation-of-object-mode-fall-back-behaviour-when-using-jit for details.\n",
      "  @numba.jit()\n"
     ]
    }
   ],
   "source": [
    "import pandas as pd\n",
    "from bertopic import BERTopic\n",
    "import pickle\n",
    "sections = [f'Section{s}' for s in ['1', '1A', '7'] ]\n",
    "topic_models = {s: BERTopic.load(f'../topic_models/topic_models_{s}') for s in sections}\n",
    "\n",
    "# Load the split_sections_file\n",
    "with open(\"../data/split_sections_text.pickle\", \"rb\") as file:\n",
    "    split_sections_text = pickle.load(file)\n"
   ],
   "metadata": {
    "collapsed": false,
    "ExecuteTime": {
     "start_time": "2023-08-31T08:09:26.650725Z",
     "end_time": "2023-08-31T08:09:34.044147Z"
    }
   }
  },
  {
   "cell_type": "code",
   "execution_count": 27,
   "outputs": [],
   "source": [
    "topics_and_docs = {s: tm.get_document_info(split_sections_text[s]['text']) for s,tm in topic_models.items() }\n",
    "for s,v in topics_and_docs.items():\n",
    "    topics_and_docs[s]['Timestamp'] = pd.Series(data=[meta['filedAt'] for meta in split_sections_text[s]['meta']])\n"
   ],
   "metadata": {
    "collapsed": false,
    "ExecuteTime": {
     "start_time": "2023-08-31T10:17:57.996715Z",
     "end_time": "2023-08-31T10:17:58.501086Z"
    }
   }
  },
  {
   "cell_type": "code",
   "execution_count": 3,
   "outputs": [
    {
     "data": {
      "text/plain": "                                                 Document  Topic  \\\n0       item 1. business assurant, inc. was incorporat...    458   \n1       , voluntary homeowners insurance and other spe...     -1   \n2       emerging technologies and operations, includin...     -1   \n3       partnerships with major clients and prospects ...    732   \n4       we are focused on strategically attracting, de...   1062   \n...                                                   ...    ...   \n105993  many cases, under our customer agreements and ...      2   \n105994  officer joseph w. logan & # 160 ; & # 160 ; sa...   1561   \n105995  and as our president and a member of our board...   1561   \n105996  joseph w. logan serves as our sales and corpor...   1561   \n105997  , los angeles. there are no family relationshi...   1561   \n\n                                                     Name  \\\n0       458_global lifestyle_credit insurance_global a...   \n1                           -1_reports_sec_form_employees   \n2                           -1_reports_sec_form_employees   \n3       732_client_client relationships_support client...   \n4       1062_shared success_guiding principles_clients...   \n...                                                   ...   \n105993  2_patents_intellectual property_patent applica...   \n105994     1561_synopsys_runkel_joined synopsys_foon chan   \n105995     1561_synopsys_runkel_joined synopsys_foon chan   \n105996     1561_synopsys_runkel_joined synopsys_foon chan   \n105997     1561_synopsys_runkel_joined synopsys_foon chan   \n\n                                           Representation  \\\n0       [global lifestyle, credit insurance, global au...   \n1       [reports, sec, form, employees, form 10, repor...   \n2       [reports, sec, form, employees, form 10, repor...   \n3       [client, client relationships, support clients...   \n4       [shared success, guiding principles, clients p...   \n...                                                   ...   \n105993  [patents, intellectual property, patent applic...   \n105994  [synopsys, runkel, joined synopsys, foon chan,...   \n105995  [synopsys, runkel, joined synopsys, foon chan,...   \n105996  [synopsys, runkel, joined synopsys, foon chan,...   \n105997  [synopsys, runkel, joined synopsys, foon chan,...   \n\n        Representative_Docs  \\\n0                       NaN   \n1                       NaN   \n2                       NaN   \n3                       NaN   \n4                       NaN   \n...                     ...   \n105993                  NaN   \n105994                  NaN   \n105995                  NaN   \n105996                  NaN   \n105997                  NaN   \n\n                                              Top_n_words  \\\n0       global lifestyle - credit insurance - global a...   \n1       reports - sec - form - employees - form 10 - r...   \n2       reports - sec - form - employees - form 10 - r...   \n3       client - client relationships - support client...   \n4       shared success - guiding principles - clients ...   \n...                                                   ...   \n105993  patents - intellectual property - patent appli...   \n105994  synopsys - runkel - joined synopsys - foon cha...   \n105995  synopsys - runkel - joined synopsys - foon cha...   \n105996  synopsys - runkel - joined synopsys - foon cha...   \n105997  synopsys - runkel - joined synopsys - foon cha...   \n\n        Representative_document                  Timestamp  \n0                         False  2023-02-17 16:12:13-05:00  \n1                         False  2023-02-17 16:12:13-05:00  \n2                         False  2023-02-17 16:12:13-05:00  \n3                         False  2023-02-17 16:12:13-05:00  \n4                         False  2023-02-17 16:12:13-05:00  \n...                         ...                        ...  \n105993                    False  2019-12-20 17:04:07-05:00  \n105994                    False  2019-12-20 17:04:07-05:00  \n105995                    False  2019-12-20 17:04:07-05:00  \n105996                    False  2019-12-20 17:04:07-05:00  \n105997                    False  2019-12-20 17:04:07-05:00  \n\n[105998 rows x 8 columns]",
      "text/html": "<div>\n<style scoped>\n    .dataframe tbody tr th:only-of-type {\n        vertical-align: middle;\n    }\n\n    .dataframe tbody tr th {\n        vertical-align: top;\n    }\n\n    .dataframe thead th {\n        text-align: right;\n    }\n</style>\n<table border=\"1\" class=\"dataframe\">\n  <thead>\n    <tr style=\"text-align: right;\">\n      <th></th>\n      <th>Document</th>\n      <th>Topic</th>\n      <th>Name</th>\n      <th>Representation</th>\n      <th>Representative_Docs</th>\n      <th>Top_n_words</th>\n      <th>Representative_document</th>\n      <th>Timestamp</th>\n    </tr>\n  </thead>\n  <tbody>\n    <tr>\n      <th>0</th>\n      <td>item 1. business assurant, inc. was incorporat...</td>\n      <td>458</td>\n      <td>458_global lifestyle_credit insurance_global a...</td>\n      <td>[global lifestyle, credit insurance, global au...</td>\n      <td>NaN</td>\n      <td>global lifestyle - credit insurance - global a...</td>\n      <td>False</td>\n      <td>2023-02-17 16:12:13-05:00</td>\n    </tr>\n    <tr>\n      <th>1</th>\n      <td>, voluntary homeowners insurance and other spe...</td>\n      <td>-1</td>\n      <td>-1_reports_sec_form_employees</td>\n      <td>[reports, sec, form, employees, form 10, repor...</td>\n      <td>NaN</td>\n      <td>reports - sec - form - employees - form 10 - r...</td>\n      <td>False</td>\n      <td>2023-02-17 16:12:13-05:00</td>\n    </tr>\n    <tr>\n      <th>2</th>\n      <td>emerging technologies and operations, includin...</td>\n      <td>-1</td>\n      <td>-1_reports_sec_form_employees</td>\n      <td>[reports, sec, form, employees, form 10, repor...</td>\n      <td>NaN</td>\n      <td>reports - sec - form - employees - form 10 - r...</td>\n      <td>False</td>\n      <td>2023-02-17 16:12:13-05:00</td>\n    </tr>\n    <tr>\n      <th>3</th>\n      <td>partnerships with major clients and prospects ...</td>\n      <td>732</td>\n      <td>732_client_client relationships_support client...</td>\n      <td>[client, client relationships, support clients...</td>\n      <td>NaN</td>\n      <td>client - client relationships - support client...</td>\n      <td>False</td>\n      <td>2023-02-17 16:12:13-05:00</td>\n    </tr>\n    <tr>\n      <th>4</th>\n      <td>we are focused on strategically attracting, de...</td>\n      <td>1062</td>\n      <td>1062_shared success_guiding principles_clients...</td>\n      <td>[shared success, guiding principles, clients p...</td>\n      <td>NaN</td>\n      <td>shared success - guiding principles - clients ...</td>\n      <td>False</td>\n      <td>2023-02-17 16:12:13-05:00</td>\n    </tr>\n    <tr>\n      <th>...</th>\n      <td>...</td>\n      <td>...</td>\n      <td>...</td>\n      <td>...</td>\n      <td>...</td>\n      <td>...</td>\n      <td>...</td>\n      <td>...</td>\n    </tr>\n    <tr>\n      <th>105993</th>\n      <td>many cases, under our customer agreements and ...</td>\n      <td>2</td>\n      <td>2_patents_intellectual property_patent applica...</td>\n      <td>[patents, intellectual property, patent applic...</td>\n      <td>NaN</td>\n      <td>patents - intellectual property - patent appli...</td>\n      <td>False</td>\n      <td>2019-12-20 17:04:07-05:00</td>\n    </tr>\n    <tr>\n      <th>105994</th>\n      <td>officer joseph w. logan &amp; # 160 ; &amp; # 160 ; sa...</td>\n      <td>1561</td>\n      <td>1561_synopsys_runkel_joined synopsys_foon chan</td>\n      <td>[synopsys, runkel, joined synopsys, foon chan,...</td>\n      <td>NaN</td>\n      <td>synopsys - runkel - joined synopsys - foon cha...</td>\n      <td>False</td>\n      <td>2019-12-20 17:04:07-05:00</td>\n    </tr>\n    <tr>\n      <th>105995</th>\n      <td>and as our president and a member of our board...</td>\n      <td>1561</td>\n      <td>1561_synopsys_runkel_joined synopsys_foon chan</td>\n      <td>[synopsys, runkel, joined synopsys, foon chan,...</td>\n      <td>NaN</td>\n      <td>synopsys - runkel - joined synopsys - foon cha...</td>\n      <td>False</td>\n      <td>2019-12-20 17:04:07-05:00</td>\n    </tr>\n    <tr>\n      <th>105996</th>\n      <td>joseph w. logan serves as our sales and corpor...</td>\n      <td>1561</td>\n      <td>1561_synopsys_runkel_joined synopsys_foon chan</td>\n      <td>[synopsys, runkel, joined synopsys, foon chan,...</td>\n      <td>NaN</td>\n      <td>synopsys - runkel - joined synopsys - foon cha...</td>\n      <td>False</td>\n      <td>2019-12-20 17:04:07-05:00</td>\n    </tr>\n    <tr>\n      <th>105997</th>\n      <td>, los angeles. there are no family relationshi...</td>\n      <td>1561</td>\n      <td>1561_synopsys_runkel_joined synopsys_foon chan</td>\n      <td>[synopsys, runkel, joined synopsys, foon chan,...</td>\n      <td>NaN</td>\n      <td>synopsys - runkel - joined synopsys - foon cha...</td>\n      <td>False</td>\n      <td>2019-12-20 17:04:07-05:00</td>\n    </tr>\n  </tbody>\n</table>\n<p>105998 rows × 8 columns</p>\n</div>"
     },
     "execution_count": 3,
     "metadata": {},
     "output_type": "execute_result"
    }
   ],
   "source": [
    "topics_and_docs[sections[0]]"
   ],
   "metadata": {
    "collapsed": false,
    "ExecuteTime": {
     "start_time": "2023-08-31T08:09:48.956080Z",
     "end_time": "2023-08-31T08:09:48.964355Z"
    }
   }
  },
  {
   "cell_type": "markdown",
   "source": [
    "Now, we can apply sentiment to each of the document. We will use a fine tuned version of  [FinancialBERT](https://huggingface.co/Sigma/financial-sentiment-analysis) on the financial_phrasebank dataset. This model is currently the top performer on this dataset.\n"
   ],
   "metadata": {
    "collapsed": false
   }
  },
  {
   "cell_type": "code",
   "execution_count": 4,
   "outputs": [],
   "source": [
    "from transformers import pipeline\n",
    "import torch\n",
    "device = 'mps' if torch.backends.mps.is_available() else 'cpu'\n",
    "device = 'cuda' if torch.cuda.is_available() else device\n",
    "classifier = pipeline(model='Sigma/financial-sentiment-analysis', task='sentiment-analysis', device=device)"
   ],
   "metadata": {
    "collapsed": false,
    "ExecuteTime": {
     "start_time": "2023-08-31T08:10:11.058311Z",
     "end_time": "2023-08-31T08:10:13.226420Z"
    }
   }
  },
  {
   "cell_type": "markdown",
   "source": [
    "We can now call the classifier to predict the label and the probability associated with that label. We then compute a sentiment value using those scores if the label is positive, or their symetric if the label is negative. We also have to perform a mapping of labels because the authors of the model use\n",
    "the labels 'LABEL_0', 'LABEL_1' amd 'LABEL_2' which map to 'NEGATIVE', 'NEUTRAL', and 'POSITIVE' respectively. We start by"
   ],
   "metadata": {
    "collapsed": false
   }
  },
  {
   "cell_type": "code",
   "execution_count": 5,
   "outputs": [],
   "source": [
    "\n",
    "sentiment_labels = {s: classifier(topics_and_docs[s]['Document'].tolist()) for s in topics_and_docs}"
   ],
   "metadata": {
    "collapsed": false,
    "ExecuteTime": {
     "start_time": "2023-08-31T08:10:21.796126Z",
     "end_time": "2023-08-31T09:55:24.311681Z"
    }
   }
  },
  {
   "cell_type": "code",
   "execution_count": 55,
   "outputs": [],
   "source": [
    "import json\n",
    "with open(\"../api/assets/sentiment_labels.json\", \"w\") as file:\n",
    "    json.dump(sentiment_labels, file)"
   ],
   "metadata": {
    "collapsed": false,
    "ExecuteTime": {
     "start_time": "2023-08-31T11:05:09.546939Z",
     "end_time": "2023-08-31T11:05:10.484609Z"
    }
   }
  },
  {
   "cell_type": "code",
   "execution_count": 36,
   "outputs": [],
   "source": [
    "import pandas as pd\n",
    "import numpy as np\n",
    "documents_df = {}\n",
    "for s in topics_and_docs:\n",
    "    documents_df[s] = pd.DataFrame(sentiment_labels[s]).add_suffix('_sigma_fsa')\n",
    "\n",
    "\n",
    "# Dictionary to map sentiment and add sentiment to topics_and_docs\n",
    "sentiment_mapping = {'LABEL_0': 'NEGATIVE', 'LABEL_1': 'NEUTRAL', 'LABEL_2': 'POSITIVE'}\n",
    "for s in topics_and_docs:\n",
    "    topics_and_docs[s]['label_sigma_fsa'] = documents_df[s]['label_sigma_fsa'].map(sentiment_mapping)\n",
    "    topics_and_docs[s]['score_sigma_fsa'] = documents_df[s]['score_sigma_fsa']\n",
    "    topics_and_docs[s]['sentiment_sigma_fsa'] = np.where(topics_and_docs[s]['label_sigma_fsa'] =='NEGATIVE', -1 *topics_and_docs[s]['score_sigma_fsa'], topics_and_docs[s]['score_sigma_fsa'])\n",
    "    topics_and_docs[s].loc[topics_and_docs[s]['label_sigma_fsa']=='NEUTRAL','sentiment_sigma_fsa'] = 0\n",
    "    # We need to parse the date again. We remove time-zone awareness so that we can parse the datetime.\n",
    "    # We need to keep in mind that -5 will be changed to 0\n",
    "    topics_and_docs[s]['Timestamp'] = pd.to_datetime(topics_and_docs[s]['Timestamp'], infer_datetime_format=True, utc=True)\n"
   ],
   "metadata": {
    "collapsed": false,
    "ExecuteTime": {
     "start_time": "2023-08-31T10:26:03.707213Z",
     "end_time": "2023-08-31T10:26:04.351579Z"
    }
   }
  },
  {
   "cell_type": "code",
   "execution_count": 37,
   "outputs": [
    {
     "name": "stdout",
     "output_type": "stream",
     "text": [
      "<class 'pandas.core.frame.DataFrame'>\n",
      "Int64Index: 105998 entries, 0 to 105997\n",
      "Data columns (total 11 columns):\n",
      " #   Column                   Non-Null Count   Dtype              \n",
      "---  ------                   --------------   -----              \n",
      " 0   Document                 105998 non-null  object             \n",
      " 1   Topic                    105998 non-null  int64              \n",
      " 2   Name                     105998 non-null  object             \n",
      " 3   Representation           105998 non-null  object             \n",
      " 4   Representative_Docs      0 non-null       float64            \n",
      " 5   Top_n_words              105998 non-null  object             \n",
      " 6   Representative_document  105998 non-null  bool               \n",
      " 7   Timestamp                105998 non-null  datetime64[ns, UTC]\n",
      " 8   label_sigma_fsa          105998 non-null  object             \n",
      " 9   score_sigma_fsa          105998 non-null  float64            \n",
      " 10  sentiment_sigma_fsa      105998 non-null  float64            \n",
      "dtypes: bool(1), datetime64[ns, UTC](1), float64(3), int64(1), object(5)\n",
      "memory usage: 9.0+ MB\n",
      "None\n",
      "<class 'pandas.core.frame.DataFrame'>\n",
      "Int64Index: 122895 entries, 0 to 122894\n",
      "Data columns (total 11 columns):\n",
      " #   Column                   Non-Null Count   Dtype              \n",
      "---  ------                   --------------   -----              \n",
      " 0   Document                 122895 non-null  object             \n",
      " 1   Topic                    122895 non-null  int64              \n",
      " 2   Name                     122895 non-null  object             \n",
      " 3   Representation           122895 non-null  object             \n",
      " 4   Representative_Docs      0 non-null       float64            \n",
      " 5   Top_n_words              122895 non-null  object             \n",
      " 6   Representative_document  122895 non-null  bool               \n",
      " 7   Timestamp                122895 non-null  datetime64[ns, UTC]\n",
      " 8   label_sigma_fsa          122895 non-null  object             \n",
      " 9   score_sigma_fsa          122895 non-null  float64            \n",
      " 10  sentiment_sigma_fsa      122895 non-null  float64            \n",
      "dtypes: bool(1), datetime64[ns, UTC](1), float64(3), int64(1), object(5)\n",
      "memory usage: 10.4+ MB\n",
      "None\n",
      "<class 'pandas.core.frame.DataFrame'>\n",
      "Int64Index: 202252 entries, 0 to 202251\n",
      "Data columns (total 11 columns):\n",
      " #   Column                   Non-Null Count   Dtype              \n",
      "---  ------                   --------------   -----              \n",
      " 0   Document                 202252 non-null  object             \n",
      " 1   Topic                    202252 non-null  int64              \n",
      " 2   Name                     202252 non-null  object             \n",
      " 3   Representation           202252 non-null  object             \n",
      " 4   Representative_Docs      0 non-null       float64            \n",
      " 5   Top_n_words              202252 non-null  object             \n",
      " 6   Representative_document  202252 non-null  bool               \n",
      " 7   Timestamp                202252 non-null  datetime64[ns, UTC]\n",
      " 8   label_sigma_fsa          202252 non-null  object             \n",
      " 9   score_sigma_fsa          202252 non-null  float64            \n",
      " 10  sentiment_sigma_fsa      202252 non-null  float64            \n",
      "dtypes: bool(1), datetime64[ns, UTC](1), float64(3), int64(1), object(5)\n",
      "memory usage: 17.2+ MB\n",
      "None\n"
     ]
    }
   ],
   "source": [
    "for s in topics_and_docs:\n",
    "    print(topics_and_docs[s].info())"
   ],
   "metadata": {
    "collapsed": false,
    "ExecuteTime": {
     "start_time": "2023-08-31T10:26:22.076527Z",
     "end_time": "2023-08-31T10:26:22.234609Z"
    }
   }
  },
  {
   "cell_type": "markdown",
   "source": [
    "### Aggregated Sentiment\n",
    " Now that we have the individual documents scored, we can aggregate them at a user-defined frequency and return that time series."
   ],
   "metadata": {
    "collapsed": false
   }
  },
  {
   "cell_type": "code",
   "execution_count": 46,
   "outputs": [
    {
     "name": "stdout",
     "output_type": "stream",
     "text": [
      "Section1\n",
      "Section1A\n",
      "Section7\n"
     ]
    }
   ],
   "source": [
    "agg_sentiment = {}\n",
    "import numpy as np\n",
    "for s in topics_and_docs:\n",
    "    print(s)\n",
    "    agg_sentiment[s] =topics_and_docs[s].set_index('Timestamp').groupby(['Topic','Name']).resample(rule='1Y').agg({'sentiment_sigma_fsa': [np.mean, np.median]}).reset_index(level=(0,1,2,))\n",
    "    agg_sentiment[s].columns = [col_1+col_2 for col_1, col_2 in agg_sentiment[s].columns]"
   ],
   "metadata": {
    "collapsed": false,
    "ExecuteTime": {
     "start_time": "2023-08-31T10:32:46.997030Z",
     "end_time": "2023-08-31T10:32:53.177586Z"
    }
   }
  },
  {
   "cell_type": "markdown",
   "source": [
    "Since we want to aggregate across topics, we keep topic, name and compute the mean and median sentiment."
   ],
   "metadata": {
    "collapsed": false
   }
  },
  {
   "cell_type": "code",
   "execution_count": 56,
   "outputs": [],
   "source": [
    "topics_and_docs[sections[0]]['Timestamp'] = pd.to_datetime(topics_and_docs[sections[0]]['Timestamp'], utc=True)\n",
    "sentiment = topics_and_docs[sections[0]].set_index('Timestamp').groupby(['Topic','Name'])['sentiment_sigma_fsa'].resample(rule='1Y').mean().reset_index(level=(0,1,2,))"
   ],
   "metadata": {
    "collapsed": false,
    "ExecuteTime": {
     "start_time": "2023-08-30T21:52:32.536539Z",
     "end_time": "2023-08-30T21:52:33.076503Z"
    }
   }
  },
  {
   "cell_type": "code",
   "execution_count": 47,
   "outputs": [
    {
     "name": "stdout",
     "output_type": "stream",
     "text": [
      "<class 'pandas.core.frame.DataFrame'>\n",
      "RangeIndex: 7404 entries, 0 to 7403\n",
      "Data columns (total 5 columns):\n",
      " #   Column                     Non-Null Count  Dtype              \n",
      "---  ------                     --------------  -----              \n",
      " 0   Topic                      7404 non-null   int64              \n",
      " 1   Name                       7404 non-null   object             \n",
      " 2   Timestamp                  7404 non-null   datetime64[ns, UTC]\n",
      " 3   sentiment_sigma_fsamean    7380 non-null   float64            \n",
      " 4   sentiment_sigma_fsamedian  7380 non-null   float64            \n",
      "dtypes: datetime64[ns, UTC](1), float64(2), int64(1), object(1)\n",
      "memory usage: 289.3+ KB\n"
     ]
    }
   ],
   "source": [
    "agg_sentiment[sections[1]].info()"
   ],
   "metadata": {
    "collapsed": false,
    "ExecuteTime": {
     "start_time": "2023-08-31T10:32:54.103659Z",
     "end_time": "2023-08-31T10:32:54.107750Z"
    }
   }
  },
  {
   "cell_type": "code",
   "execution_count": 50,
   "outputs": [
    {
     "data": {
      "application/vnd.plotly.v1+json": {
       "data": [
        {
         "hovertemplate": "Name=1_diversity_workforce_diversity inclusion_diversity equity<br>Timestamp=%{x}<br>sentiment_sigma_fsamean=%{y}<extra></extra>",
         "legendgroup": "1_diversity_workforce_diversity inclusion_diversity equity",
         "line": {
          "color": "#636efa",
          "dash": "solid"
         },
         "marker": {
          "symbol": "circle"
         },
         "mode": "lines",
         "name": "1_diversity_workforce_diversity inclusion_diversity equity",
         "orientation": "v",
         "showlegend": true,
         "x": [
          "2019-12-31T00:00:00+00:00",
          "2020-12-31T00:00:00+00:00",
          "2021-12-31T00:00:00+00:00",
          "2022-12-31T00:00:00+00:00",
          "2023-12-31T00:00:00+00:00"
         ],
         "xaxis": "x",
         "y": [
          0.4684392809867859,
          0.6104222571148592,
          0.456794174846459,
          0.4434625357037177,
          0.41768186651436984
         ],
         "yaxis": "y",
         "type": "scatter"
        },
        {
         "hovertemplate": "Name=2_patents_intellectual property_patent applications_trade secrets<br>Timestamp=%{x}<br>sentiment_sigma_fsamean=%{y}<extra></extra>",
         "legendgroup": "2_patents_intellectual property_patent applications_trade secrets",
         "line": {
          "color": "#EF553B",
          "dash": "solid"
         },
         "marker": {
          "symbol": "circle"
         },
         "mode": "lines",
         "name": "2_patents_intellectual property_patent applications_trade secrets",
         "orientation": "v",
         "showlegend": true,
         "x": [
          "2019-12-31T00:00:00+00:00",
          "2020-12-31T00:00:00+00:00",
          "2021-12-31T00:00:00+00:00",
          "2022-12-31T00:00:00+00:00",
          "2023-12-31T00:00:00+00:00"
         ],
         "xaxis": "x",
         "y": [
          0.1077394466246328,
          0.07084869624686842,
          0.1138247615199978,
          0.09931849231024156,
          0.12508803906922156
         ],
         "yaxis": "y",
         "type": "scatter"
        },
        {
         "hovertemplate": "Name=3_wellness_benefits_mental health_19 pandemic<br>Timestamp=%{x}<br>sentiment_sigma_fsamean=%{y}<extra></extra>",
         "legendgroup": "3_wellness_benefits_mental health_19 pandemic",
         "line": {
          "color": "#00cc96",
          "dash": "solid"
         },
         "marker": {
          "symbol": "circle"
         },
         "mode": "lines",
         "name": "3_wellness_benefits_mental health_19 pandemic",
         "orientation": "v",
         "showlegend": true,
         "x": [
          "2020-12-31T00:00:00+00:00",
          "2021-12-31T00:00:00+00:00",
          "2022-12-31T00:00:00+00:00",
          "2023-12-31T00:00:00+00:00"
         ],
         "xaxis": "x",
         "y": [
          0.3009925812482834,
          0.45384105745443076,
          0.42961877559201195,
          0.38247908115386964
         ],
         "yaxis": "y",
         "type": "scatter"
        },
        {
         "hovertemplate": "Name=4_data protection_personal data_ccpa_protection regulation<br>Timestamp=%{x}<br>sentiment_sigma_fsamean=%{y}<extra></extra>",
         "legendgroup": "4_data protection_personal data_ccpa_protection regulation",
         "line": {
          "color": "#ab63fa",
          "dash": "solid"
         },
         "marker": {
          "symbol": "circle"
         },
         "mode": "lines",
         "name": "4_data protection_personal data_ccpa_protection regulation",
         "orientation": "v",
         "showlegend": true,
         "x": [
          "2019-12-31T00:00:00+00:00",
          "2020-12-31T00:00:00+00:00",
          "2021-12-31T00:00:00+00:00",
          "2022-12-31T00:00:00+00:00",
          "2023-12-31T00:00:00+00:00"
         ],
         "xaxis": "x",
         "y": [
          0.08780900692498242,
          0.06792178829511007,
          0.059400047654303435,
          0.025047628808829745,
          0.01261481208105882
         ],
         "yaxis": "y",
         "type": "scatter"
        },
        {
         "hovertemplate": "Name=5_raw materials_components_suppliers_materials components<br>Timestamp=%{x}<br>sentiment_sigma_fsamean=%{y}<extra></extra>",
         "legendgroup": "5_raw materials_components_suppliers_materials components",
         "line": {
          "color": "#FFA15A",
          "dash": "solid"
         },
         "marker": {
          "symbol": "circle"
         },
         "mode": "lines",
         "name": "5_raw materials_components_suppliers_materials components",
         "orientation": "v",
         "showlegend": true,
         "x": [
          "2019-12-31T00:00:00+00:00",
          "2020-12-31T00:00:00+00:00",
          "2021-12-31T00:00:00+00:00",
          "2022-12-31T00:00:00+00:00",
          "2023-12-31T00:00:00+00:00"
         ],
         "xaxis": "x",
         "y": [
          0.09382703706815645,
          0.0354032972279717,
          0.05586196924303914,
          -0.06067474434773127,
          -0.07957977209335719
         ],
         "yaxis": "y",
         "type": "scatter"
        },
        {
         "hovertemplate": "Name=6_remediation_environmental laws_environmental matters_remediation costs<br>Timestamp=%{x}<br>sentiment_sigma_fsamean=%{y}<extra></extra>",
         "legendgroup": "6_remediation_environmental laws_environmental matters_remediation costs",
         "line": {
          "color": "#19d3f3",
          "dash": "solid"
         },
         "marker": {
          "symbol": "circle"
         },
         "mode": "lines",
         "name": "6_remediation_environmental laws_environmental matters_remediation costs",
         "orientation": "v",
         "showlegend": true,
         "x": [
          "2019-12-31T00:00:00+00:00",
          "2020-12-31T00:00:00+00:00",
          "2021-12-31T00:00:00+00:00",
          "2022-12-31T00:00:00+00:00",
          "2023-12-31T00:00:00+00:00"
         ],
         "xaxis": "x",
         "y": [
          0.022694770424138932,
          0.03246113772575672,
          0.0435816275922558,
          6.224060213411009E-4,
          0.04069877102186805
         ],
         "yaxis": "y",
         "type": "scatter"
        },
        {
         "hovertemplate": "Name=7_cruise_cruises_ships_cruise guests<br>Timestamp=%{x}<br>sentiment_sigma_fsamean=%{y}<extra></extra>",
         "legendgroup": "7_cruise_cruises_ships_cruise guests",
         "line": {
          "color": "#FF6692",
          "dash": "solid"
         },
         "marker": {
          "symbol": "circle"
         },
         "mode": "lines",
         "name": "7_cruise_cruises_ships_cruise guests",
         "orientation": "v",
         "showlegend": true,
         "x": [
          "2019-12-31T00:00:00+00:00",
          "2020-12-31T00:00:00+00:00",
          "2021-12-31T00:00:00+00:00",
          "2022-12-31T00:00:00+00:00",
          "2023-12-31T00:00:00+00:00"
         ],
         "xaxis": "x",
         "y": [
          0.30988357944802924,
          0.305511282926256,
          0.19970449001070054,
          0.2766179346269177,
          0.24915555212646723
         ],
         "yaxis": "y",
         "type": "scatter"
        },
        {
         "hovertemplate": "Name=8_skills_leadership development_coaching_succession planning<br>Timestamp=%{x}<br>sentiment_sigma_fsamean=%{y}<extra></extra>",
         "legendgroup": "8_skills_leadership development_coaching_succession planning",
         "line": {
          "color": "#B6E880",
          "dash": "solid"
         },
         "marker": {
          "symbol": "circle"
         },
         "mode": "lines",
         "name": "8_skills_leadership development_coaching_succession planning",
         "orientation": "v",
         "showlegend": true,
         "x": [
          "2019-12-31T00:00:00+00:00",
          "2020-12-31T00:00:00+00:00",
          "2021-12-31T00:00:00+00:00",
          "2022-12-31T00:00:00+00:00",
          "2023-12-31T00:00:00+00:00"
         ],
         "xaxis": "x",
         "y": [
          0.0,
          0.39610761404037476,
          0.37875307027412497,
          0.4104373769760132,
          0.4006195738367791
         ],
         "yaxis": "y",
         "type": "scatter"
        },
        {
         "hovertemplate": "Name=9_health safety_incidents_incident rate_safety performance<br>Timestamp=%{x}<br>sentiment_sigma_fsamean=%{y}<extra></extra>",
         "legendgroup": "9_health safety_incidents_incident rate_safety performance",
         "line": {
          "color": "#FF97FF",
          "dash": "solid"
         },
         "marker": {
          "symbol": "circle"
         },
         "mode": "lines",
         "name": "9_health safety_incidents_incident rate_safety performance",
         "orientation": "v",
         "showlegend": true,
         "x": [
          "2019-12-31T00:00:00+00:00",
          "2020-12-31T00:00:00+00:00",
          "2021-12-31T00:00:00+00:00",
          "2022-12-31T00:00:00+00:00",
          "2023-12-31T00:00:00+00:00"
         ],
         "xaxis": "x",
         "y": [
          0.06499949842691422,
          0.28268885612487793,
          0.3081560147569535,
          0.3348031829703938,
          0.41518419324804884
         ],
         "yaxis": "y",
         "type": "scatter"
        },
        {
         "hovertemplate": "Name=10_covid 19_covid_pandemic_19 pandemic<br>Timestamp=%{x}<br>sentiment_sigma_fsamean=%{y}<extra></extra>",
         "legendgroup": "10_covid 19_covid_pandemic_19 pandemic",
         "line": {
          "color": "#FECB52",
          "dash": "solid"
         },
         "marker": {
          "symbol": "circle"
         },
         "mode": "lines",
         "name": "10_covid 19_covid_pandemic_19 pandemic",
         "orientation": "v",
         "showlegend": true,
         "x": [
          "2020-12-31T00:00:00+00:00",
          "2021-12-31T00:00:00+00:00",
          "2022-12-31T00:00:00+00:00",
          "2023-12-31T00:00:00+00:00"
         ],
         "xaxis": "x",
         "y": [
          -0.39735972742701686,
          -0.2508518481814621,
          -0.1378347807460361,
          -0.3087691927657408
         ],
         "yaxis": "y",
         "type": "scatter"
        },
        {
         "hovertemplate": "Name=11_fedex_fedex express_fedex freight_fedex office<br>Timestamp=%{x}<br>sentiment_sigma_fsamean=%{y}<extra></extra>",
         "legendgroup": "11_fedex_fedex express_fedex freight_fedex office",
         "line": {
          "color": "#636efa",
          "dash": "solid"
         },
         "marker": {
          "symbol": "circle"
         },
         "mode": "lines",
         "name": "11_fedex_fedex express_fedex freight_fedex office",
         "orientation": "v",
         "showlegend": true,
         "x": [
          "2019-12-31T00:00:00+00:00",
          "2020-12-31T00:00:00+00:00",
          "2021-12-31T00:00:00+00:00",
          "2022-12-31T00:00:00+00:00",
          "2023-12-31T00:00:00+00:00"
         ],
         "xaxis": "x",
         "y": [
          0.21161500350484308,
          0.2815813849369685,
          0.30179510445430363,
          0.3137123693119396,
          0.2661629021167755
         ],
         "yaxis": "y",
         "type": "scatter"
        },
        {
         "hovertemplate": "Name=12_prior joining_vice president_president chief_senior vice<br>Timestamp=%{x}<br>sentiment_sigma_fsamean=%{y}<extra></extra>",
         "legendgroup": "12_prior joining_vice president_president chief_senior vice",
         "line": {
          "color": "#EF553B",
          "dash": "solid"
         },
         "marker": {
          "symbol": "circle"
         },
         "mode": "lines",
         "name": "12_prior joining_vice president_president chief_senior vice",
         "orientation": "v",
         "showlegend": true,
         "x": [
          "2019-12-31T00:00:00+00:00",
          "2020-12-31T00:00:00+00:00",
          "2021-12-31T00:00:00+00:00",
          "2022-12-31T00:00:00+00:00",
          "2023-12-31T00:00:00+00:00"
         ],
         "xaxis": "x",
         "y": [
          0.0,
          0.0,
          0.0,
          0.0,
          0.0
         ],
         "yaxis": "y",
         "type": "scatter"
        },
        {
         "hovertemplate": "Name=13_taxable reit_taxable income_reit subsidiary_reit subsidiaries<br>Timestamp=%{x}<br>sentiment_sigma_fsamean=%{y}<extra></extra>",
         "legendgroup": "13_taxable reit_taxable income_reit subsidiary_reit subsidiaries",
         "line": {
          "color": "#00cc96",
          "dash": "solid"
         },
         "marker": {
          "symbol": "circle"
         },
         "mode": "lines",
         "name": "13_taxable reit_taxable income_reit subsidiary_reit subsidiaries",
         "orientation": "v",
         "showlegend": true,
         "x": [
          "2019-12-31T00:00:00+00:00",
          "2020-12-31T00:00:00+00:00",
          "2021-12-31T00:00:00+00:00",
          "2022-12-31T00:00:00+00:00",
          "2023-12-31T00:00:00+00:00"
         ],
         "xaxis": "x",
         "y": [
          -0.011545345187187195,
          -0.0018895700269815872,
          -0.06292649731040001,
          -0.0043090345958868665,
          -0.016639855224639177
         ],
         "yaxis": "y",
         "type": "scatter"
        },
        {
         "hovertemplate": "Name=14_money laundering_laundering_anti money_patriot act<br>Timestamp=%{x}<br>sentiment_sigma_fsamean=%{y}<extra></extra>",
         "legendgroup": "14_money laundering_laundering_anti money_patriot act",
         "line": {
          "color": "#ab63fa",
          "dash": "solid"
         },
         "marker": {
          "symbol": "circle"
         },
         "mode": "lines",
         "name": "14_money laundering_laundering_anti money_patriot act",
         "orientation": "v",
         "showlegend": true,
         "x": [
          "2019-12-31T00:00:00+00:00",
          "2020-12-31T00:00:00+00:00",
          "2021-12-31T00:00:00+00:00",
          "2022-12-31T00:00:00+00:00",
          "2023-12-31T00:00:00+00:00"
         ],
         "xaxis": "x",
         "y": [
          0.03749275593845933,
          0.03460466927952237,
          0.02412419076319094,
          0.05919997984508298,
          0.0
         ],
         "yaxis": "y",
         "type": "scatter"
        },
        {
         "hovertemplate": "Name=15_aum_net inflows_inflows_etfs<br>Timestamp=%{x}<br>sentiment_sigma_fsamean=%{y}<extra></extra>",
         "legendgroup": "15_aum_net inflows_inflows_etfs",
         "line": {
          "color": "#FFA15A",
          "dash": "solid"
         },
         "marker": {
          "symbol": "circle"
         },
         "mode": "lines",
         "name": "15_aum_net inflows_inflows_etfs",
         "orientation": "v",
         "showlegend": true,
         "x": [
          "2019-12-31T00:00:00+00:00",
          "2020-12-31T00:00:00+00:00",
          "2021-12-31T00:00:00+00:00",
          "2022-12-31T00:00:00+00:00",
          "2023-12-31T00:00:00+00:00"
         ],
         "xaxis": "x",
         "y": [
          0.3062798887491226,
          0.3631524257361889,
          0.373438975032495,
          0.3676528242918161,
          0.2133643769699594
         ],
         "yaxis": "y",
         "type": "scatter"
        },
        {
         "hovertemplate": "Name=16_human capital_capital management_employees_capital strategy<br>Timestamp=%{x}<br>sentiment_sigma_fsamean=%{y}<extra></extra>",
         "legendgroup": "16_human capital_capital management_employees_capital strategy",
         "line": {
          "color": "#19d3f3",
          "dash": "solid"
         },
         "marker": {
          "symbol": "circle"
         },
         "mode": "lines",
         "name": "16_human capital_capital management_employees_capital strategy",
         "orientation": "v",
         "showlegend": true,
         "x": [
          "2019-12-31T00:00:00+00:00",
          "2020-12-31T00:00:00+00:00",
          "2021-12-31T00:00:00+00:00",
          "2022-12-31T00:00:00+00:00",
          "2023-12-31T00:00:00+00:00"
         ],
         "xaxis": "x",
         "y": [
          0.0,
          0.0,
          0.1947338799042488,
          0.21169930301150497,
          0.20884993833464546
         ],
         "yaxis": "y",
         "type": "scatter"
        },
        {
         "hovertemplate": "Name=17_rebate_medicaid_rebates_medicare<br>Timestamp=%{x}<br>sentiment_sigma_fsamean=%{y}<extra></extra>",
         "legendgroup": "17_rebate_medicaid_rebates_medicare",
         "line": {
          "color": "#FF6692",
          "dash": "solid"
         },
         "marker": {
          "symbol": "circle"
         },
         "mode": "lines",
         "name": "17_rebate_medicaid_rebates_medicare",
         "orientation": "v",
         "showlegend": true,
         "x": [
          "2019-12-31T00:00:00+00:00",
          "2020-12-31T00:00:00+00:00",
          "2021-12-31T00:00:00+00:00",
          "2022-12-31T00:00:00+00:00",
          "2023-12-31T00:00:00+00:00"
         ],
         "xaxis": "x",
         "y": [
          -0.034499450309856516,
          0.03734476291216337,
          -0.00332449049484439,
          -0.06635473303075107,
          -0.06315747982469098
         ],
         "yaxis": "y",
         "type": "scatter"
        },
        {
         "hovertemplate": "Name=18_currency_currency exchange_foreign currency_international operations<br>Timestamp=%{x}<br>sentiment_sigma_fsamean=%{y}<extra></extra>",
         "legendgroup": "18_currency_currency exchange_foreign currency_international operations",
         "line": {
          "color": "#B6E880",
          "dash": "solid"
         },
         "marker": {
          "symbol": "circle"
         },
         "mode": "lines",
         "name": "18_currency_currency exchange_foreign currency_international operations",
         "orientation": "v",
         "showlegend": true,
         "x": [
          "2019-12-31T00:00:00+00:00",
          "2020-12-31T00:00:00+00:00",
          "2021-12-31T00:00:00+00:00",
          "2022-12-31T00:00:00+00:00",
          "2023-12-31T00:00:00+00:00"
         ],
         "xaxis": "x",
         "y": [
          0.05183136463165283,
          0.005746166756812563,
          -0.010220174382372601,
          0.044011104769176905,
          0.01757131740450859
         ],
         "yaxis": "y",
         "type": "scatter"
        },
        {
         "hovertemplate": "Name=19_payroll_hr_paychex flex_benefits administration<br>Timestamp=%{x}<br>sentiment_sigma_fsamean=%{y}<extra></extra>",
         "legendgroup": "19_payroll_hr_paychex flex_benefits administration",
         "line": {
          "color": "#FF97FF",
          "dash": "solid"
         },
         "marker": {
          "symbol": "circle"
         },
         "mode": "lines",
         "name": "19_payroll_hr_paychex flex_benefits administration",
         "orientation": "v",
         "showlegend": true,
         "x": [
          "2019-12-31T00:00:00+00:00",
          "2020-12-31T00:00:00+00:00",
          "2021-12-31T00:00:00+00:00",
          "2022-12-31T00:00:00+00:00",
          "2023-12-31T00:00:00+00:00"
         ],
         "xaxis": "x",
         "y": [
          0.2209914283054631,
          0.24139923584170458,
          0.2980060983211436,
          0.22912592203059096,
          0.23782281243071265
         ],
         "yaxis": "y",
         "type": "scatter"
        }
       ],
       "layout": {
        "template": {
         "data": {
          "histogram2dcontour": [
           {
            "type": "histogram2dcontour",
            "colorbar": {
             "outlinewidth": 0,
             "ticks": ""
            },
            "colorscale": [
             [
              0.0,
              "#0d0887"
             ],
             [
              0.1111111111111111,
              "#46039f"
             ],
             [
              0.2222222222222222,
              "#7201a8"
             ],
             [
              0.3333333333333333,
              "#9c179e"
             ],
             [
              0.4444444444444444,
              "#bd3786"
             ],
             [
              0.5555555555555556,
              "#d8576b"
             ],
             [
              0.6666666666666666,
              "#ed7953"
             ],
             [
              0.7777777777777778,
              "#fb9f3a"
             ],
             [
              0.8888888888888888,
              "#fdca26"
             ],
             [
              1.0,
              "#f0f921"
             ]
            ]
           }
          ],
          "choropleth": [
           {
            "type": "choropleth",
            "colorbar": {
             "outlinewidth": 0,
             "ticks": ""
            }
           }
          ],
          "histogram2d": [
           {
            "type": "histogram2d",
            "colorbar": {
             "outlinewidth": 0,
             "ticks": ""
            },
            "colorscale": [
             [
              0.0,
              "#0d0887"
             ],
             [
              0.1111111111111111,
              "#46039f"
             ],
             [
              0.2222222222222222,
              "#7201a8"
             ],
             [
              0.3333333333333333,
              "#9c179e"
             ],
             [
              0.4444444444444444,
              "#bd3786"
             ],
             [
              0.5555555555555556,
              "#d8576b"
             ],
             [
              0.6666666666666666,
              "#ed7953"
             ],
             [
              0.7777777777777778,
              "#fb9f3a"
             ],
             [
              0.8888888888888888,
              "#fdca26"
             ],
             [
              1.0,
              "#f0f921"
             ]
            ]
           }
          ],
          "heatmap": [
           {
            "type": "heatmap",
            "colorbar": {
             "outlinewidth": 0,
             "ticks": ""
            },
            "colorscale": [
             [
              0.0,
              "#0d0887"
             ],
             [
              0.1111111111111111,
              "#46039f"
             ],
             [
              0.2222222222222222,
              "#7201a8"
             ],
             [
              0.3333333333333333,
              "#9c179e"
             ],
             [
              0.4444444444444444,
              "#bd3786"
             ],
             [
              0.5555555555555556,
              "#d8576b"
             ],
             [
              0.6666666666666666,
              "#ed7953"
             ],
             [
              0.7777777777777778,
              "#fb9f3a"
             ],
             [
              0.8888888888888888,
              "#fdca26"
             ],
             [
              1.0,
              "#f0f921"
             ]
            ]
           }
          ],
          "heatmapgl": [
           {
            "type": "heatmapgl",
            "colorbar": {
             "outlinewidth": 0,
             "ticks": ""
            },
            "colorscale": [
             [
              0.0,
              "#0d0887"
             ],
             [
              0.1111111111111111,
              "#46039f"
             ],
             [
              0.2222222222222222,
              "#7201a8"
             ],
             [
              0.3333333333333333,
              "#9c179e"
             ],
             [
              0.4444444444444444,
              "#bd3786"
             ],
             [
              0.5555555555555556,
              "#d8576b"
             ],
             [
              0.6666666666666666,
              "#ed7953"
             ],
             [
              0.7777777777777778,
              "#fb9f3a"
             ],
             [
              0.8888888888888888,
              "#fdca26"
             ],
             [
              1.0,
              "#f0f921"
             ]
            ]
           }
          ],
          "contourcarpet": [
           {
            "type": "contourcarpet",
            "colorbar": {
             "outlinewidth": 0,
             "ticks": ""
            }
           }
          ],
          "contour": [
           {
            "type": "contour",
            "colorbar": {
             "outlinewidth": 0,
             "ticks": ""
            },
            "colorscale": [
             [
              0.0,
              "#0d0887"
             ],
             [
              0.1111111111111111,
              "#46039f"
             ],
             [
              0.2222222222222222,
              "#7201a8"
             ],
             [
              0.3333333333333333,
              "#9c179e"
             ],
             [
              0.4444444444444444,
              "#bd3786"
             ],
             [
              0.5555555555555556,
              "#d8576b"
             ],
             [
              0.6666666666666666,
              "#ed7953"
             ],
             [
              0.7777777777777778,
              "#fb9f3a"
             ],
             [
              0.8888888888888888,
              "#fdca26"
             ],
             [
              1.0,
              "#f0f921"
             ]
            ]
           }
          ],
          "surface": [
           {
            "type": "surface",
            "colorbar": {
             "outlinewidth": 0,
             "ticks": ""
            },
            "colorscale": [
             [
              0.0,
              "#0d0887"
             ],
             [
              0.1111111111111111,
              "#46039f"
             ],
             [
              0.2222222222222222,
              "#7201a8"
             ],
             [
              0.3333333333333333,
              "#9c179e"
             ],
             [
              0.4444444444444444,
              "#bd3786"
             ],
             [
              0.5555555555555556,
              "#d8576b"
             ],
             [
              0.6666666666666666,
              "#ed7953"
             ],
             [
              0.7777777777777778,
              "#fb9f3a"
             ],
             [
              0.8888888888888888,
              "#fdca26"
             ],
             [
              1.0,
              "#f0f921"
             ]
            ]
           }
          ],
          "mesh3d": [
           {
            "type": "mesh3d",
            "colorbar": {
             "outlinewidth": 0,
             "ticks": ""
            }
           }
          ],
          "scatter": [
           {
            "marker": {
             "line": {
              "color": "#283442"
             }
            },
            "type": "scatter"
           }
          ],
          "parcoords": [
           {
            "type": "parcoords",
            "line": {
             "colorbar": {
              "outlinewidth": 0,
              "ticks": ""
             }
            }
           }
          ],
          "scatterpolargl": [
           {
            "type": "scatterpolargl",
            "marker": {
             "colorbar": {
              "outlinewidth": 0,
              "ticks": ""
             }
            }
           }
          ],
          "bar": [
           {
            "error_x": {
             "color": "#f2f5fa"
            },
            "error_y": {
             "color": "#f2f5fa"
            },
            "marker": {
             "line": {
              "color": "rgb(17,17,17)",
              "width": 0.5
             },
             "pattern": {
              "fillmode": "overlay",
              "size": 10,
              "solidity": 0.2
             }
            },
            "type": "bar"
           }
          ],
          "scattergeo": [
           {
            "type": "scattergeo",
            "marker": {
             "colorbar": {
              "outlinewidth": 0,
              "ticks": ""
             }
            }
           }
          ],
          "scatterpolar": [
           {
            "type": "scatterpolar",
            "marker": {
             "colorbar": {
              "outlinewidth": 0,
              "ticks": ""
             }
            }
           }
          ],
          "histogram": [
           {
            "marker": {
             "pattern": {
              "fillmode": "overlay",
              "size": 10,
              "solidity": 0.2
             }
            },
            "type": "histogram"
           }
          ],
          "scattergl": [
           {
            "marker": {
             "line": {
              "color": "#283442"
             }
            },
            "type": "scattergl"
           }
          ],
          "scatter3d": [
           {
            "type": "scatter3d",
            "line": {
             "colorbar": {
              "outlinewidth": 0,
              "ticks": ""
             }
            },
            "marker": {
             "colorbar": {
              "outlinewidth": 0,
              "ticks": ""
             }
            }
           }
          ],
          "scattermapbox": [
           {
            "type": "scattermapbox",
            "marker": {
             "colorbar": {
              "outlinewidth": 0,
              "ticks": ""
             }
            }
           }
          ],
          "scatterternary": [
           {
            "type": "scatterternary",
            "marker": {
             "colorbar": {
              "outlinewidth": 0,
              "ticks": ""
             }
            }
           }
          ],
          "scattercarpet": [
           {
            "type": "scattercarpet",
            "marker": {
             "colorbar": {
              "outlinewidth": 0,
              "ticks": ""
             }
            }
           }
          ],
          "carpet": [
           {
            "aaxis": {
             "endlinecolor": "#A2B1C6",
             "gridcolor": "#506784",
             "linecolor": "#506784",
             "minorgridcolor": "#506784",
             "startlinecolor": "#A2B1C6"
            },
            "baxis": {
             "endlinecolor": "#A2B1C6",
             "gridcolor": "#506784",
             "linecolor": "#506784",
             "minorgridcolor": "#506784",
             "startlinecolor": "#A2B1C6"
            },
            "type": "carpet"
           }
          ],
          "table": [
           {
            "cells": {
             "fill": {
              "color": "#506784"
             },
             "line": {
              "color": "rgb(17,17,17)"
             }
            },
            "header": {
             "fill": {
              "color": "#2a3f5f"
             },
             "line": {
              "color": "rgb(17,17,17)"
             }
            },
            "type": "table"
           }
          ],
          "barpolar": [
           {
            "marker": {
             "line": {
              "color": "rgb(17,17,17)",
              "width": 0.5
             },
             "pattern": {
              "fillmode": "overlay",
              "size": 10,
              "solidity": 0.2
             }
            },
            "type": "barpolar"
           }
          ],
          "pie": [
           {
            "automargin": true,
            "type": "pie"
           }
          ]
         },
         "layout": {
          "autotypenumbers": "strict",
          "colorway": [
           "#636efa",
           "#EF553B",
           "#00cc96",
           "#ab63fa",
           "#FFA15A",
           "#19d3f3",
           "#FF6692",
           "#B6E880",
           "#FF97FF",
           "#FECB52"
          ],
          "font": {
           "color": "#f2f5fa"
          },
          "hovermode": "closest",
          "hoverlabel": {
           "align": "left"
          },
          "paper_bgcolor": "rgb(17,17,17)",
          "plot_bgcolor": "rgb(17,17,17)",
          "polar": {
           "bgcolor": "rgb(17,17,17)",
           "angularaxis": {
            "gridcolor": "#506784",
            "linecolor": "#506784",
            "ticks": ""
           },
           "radialaxis": {
            "gridcolor": "#506784",
            "linecolor": "#506784",
            "ticks": ""
           }
          },
          "ternary": {
           "bgcolor": "rgb(17,17,17)",
           "aaxis": {
            "gridcolor": "#506784",
            "linecolor": "#506784",
            "ticks": ""
           },
           "baxis": {
            "gridcolor": "#506784",
            "linecolor": "#506784",
            "ticks": ""
           },
           "caxis": {
            "gridcolor": "#506784",
            "linecolor": "#506784",
            "ticks": ""
           }
          },
          "coloraxis": {
           "colorbar": {
            "outlinewidth": 0,
            "ticks": ""
           }
          },
          "colorscale": {
           "sequential": [
            [
             0.0,
             "#0d0887"
            ],
            [
             0.1111111111111111,
             "#46039f"
            ],
            [
             0.2222222222222222,
             "#7201a8"
            ],
            [
             0.3333333333333333,
             "#9c179e"
            ],
            [
             0.4444444444444444,
             "#bd3786"
            ],
            [
             0.5555555555555556,
             "#d8576b"
            ],
            [
             0.6666666666666666,
             "#ed7953"
            ],
            [
             0.7777777777777778,
             "#fb9f3a"
            ],
            [
             0.8888888888888888,
             "#fdca26"
            ],
            [
             1.0,
             "#f0f921"
            ]
           ],
           "sequentialminus": [
            [
             0.0,
             "#0d0887"
            ],
            [
             0.1111111111111111,
             "#46039f"
            ],
            [
             0.2222222222222222,
             "#7201a8"
            ],
            [
             0.3333333333333333,
             "#9c179e"
            ],
            [
             0.4444444444444444,
             "#bd3786"
            ],
            [
             0.5555555555555556,
             "#d8576b"
            ],
            [
             0.6666666666666666,
             "#ed7953"
            ],
            [
             0.7777777777777778,
             "#fb9f3a"
            ],
            [
             0.8888888888888888,
             "#fdca26"
            ],
            [
             1.0,
             "#f0f921"
            ]
           ],
           "diverging": [
            [
             0,
             "#8e0152"
            ],
            [
             0.1,
             "#c51b7d"
            ],
            [
             0.2,
             "#de77ae"
            ],
            [
             0.3,
             "#f1b6da"
            ],
            [
             0.4,
             "#fde0ef"
            ],
            [
             0.5,
             "#f7f7f7"
            ],
            [
             0.6,
             "#e6f5d0"
            ],
            [
             0.7,
             "#b8e186"
            ],
            [
             0.8,
             "#7fbc41"
            ],
            [
             0.9,
             "#4d9221"
            ],
            [
             1,
             "#276419"
            ]
           ]
          },
          "xaxis": {
           "gridcolor": "#283442",
           "linecolor": "#506784",
           "ticks": "",
           "title": {
            "standoff": 15
           },
           "zerolinecolor": "#283442",
           "automargin": true,
           "zerolinewidth": 2
          },
          "yaxis": {
           "gridcolor": "#283442",
           "linecolor": "#506784",
           "ticks": "",
           "title": {
            "standoff": 15
           },
           "zerolinecolor": "#283442",
           "automargin": true,
           "zerolinewidth": 2
          },
          "scene": {
           "xaxis": {
            "backgroundcolor": "rgb(17,17,17)",
            "gridcolor": "#506784",
            "linecolor": "#506784",
            "showbackground": true,
            "ticks": "",
            "zerolinecolor": "#C8D4E3",
            "gridwidth": 2
           },
           "yaxis": {
            "backgroundcolor": "rgb(17,17,17)",
            "gridcolor": "#506784",
            "linecolor": "#506784",
            "showbackground": true,
            "ticks": "",
            "zerolinecolor": "#C8D4E3",
            "gridwidth": 2
           },
           "zaxis": {
            "backgroundcolor": "rgb(17,17,17)",
            "gridcolor": "#506784",
            "linecolor": "#506784",
            "showbackground": true,
            "ticks": "",
            "zerolinecolor": "#C8D4E3",
            "gridwidth": 2
           }
          },
          "shapedefaults": {
           "line": {
            "color": "#f2f5fa"
           }
          },
          "annotationdefaults": {
           "arrowcolor": "#f2f5fa",
           "arrowhead": 0,
           "arrowwidth": 1
          },
          "geo": {
           "bgcolor": "rgb(17,17,17)",
           "landcolor": "rgb(17,17,17)",
           "subunitcolor": "#506784",
           "showland": true,
           "showlakes": true,
           "lakecolor": "rgb(17,17,17)"
          },
          "title": {
           "x": 0.05
          },
          "updatemenudefaults": {
           "bgcolor": "#506784",
           "borderwidth": 0
          },
          "sliderdefaults": {
           "bgcolor": "#C8D4E3",
           "borderwidth": 1,
           "bordercolor": "rgb(17,17,17)",
           "tickwidth": 0
          },
          "mapbox": {
           "style": "dark"
          }
         }
        },
        "xaxis": {
         "anchor": "y",
         "domain": [
          0.0,
          1.0
         ],
         "title": {
          "text": "Timestamp"
         }
        },
        "yaxis": {
         "anchor": "x",
         "domain": [
          0.0,
          1.0
         ],
         "title": {
          "text": "Average Sentiment per period"
         }
        },
        "legend": {
         "title": {
          "text": "Name"
         },
         "tracegroupgap": 0
        },
        "margin": {
         "t": 60
        },
        "title": {
         "text": "Topic sentiment -Section1"
        }
       },
       "config": {
        "plotlyServerURL": "https://plot.ly"
       }
      },
      "text/html": "<div>                            <div id=\"ccb7779e-293a-4629-8cd5-01480fdf77f9\" class=\"plotly-graph-div\" style=\"height:525px; width:100%;\"></div>            <script type=\"text/javascript\">                require([\"plotly\"], function(Plotly) {                    window.PLOTLYENV=window.PLOTLYENV || {};                                    if (document.getElementById(\"ccb7779e-293a-4629-8cd5-01480fdf77f9\")) {                    Plotly.newPlot(                        \"ccb7779e-293a-4629-8cd5-01480fdf77f9\",                        [{\"hovertemplate\":\"Name=1_diversity_workforce_diversity inclusion_diversity equity\\u003cbr\\u003eTimestamp=%{x}\\u003cbr\\u003esentiment_sigma_fsamean=%{y}\\u003cextra\\u003e\\u003c\\u002fextra\\u003e\",\"legendgroup\":\"1_diversity_workforce_diversity inclusion_diversity equity\",\"line\":{\"color\":\"#636efa\",\"dash\":\"solid\"},\"marker\":{\"symbol\":\"circle\"},\"mode\":\"lines\",\"name\":\"1_diversity_workforce_diversity inclusion_diversity equity\",\"orientation\":\"v\",\"showlegend\":true,\"x\":[\"2019-12-31T00:00:00+00:00\",\"2020-12-31T00:00:00+00:00\",\"2021-12-31T00:00:00+00:00\",\"2022-12-31T00:00:00+00:00\",\"2023-12-31T00:00:00+00:00\"],\"xaxis\":\"x\",\"y\":[0.4684392809867859,0.6104222571148592,0.456794174846459,0.4434625357037177,0.41768186651436984],\"yaxis\":\"y\",\"type\":\"scatter\"},{\"hovertemplate\":\"Name=2_patents_intellectual property_patent applications_trade secrets\\u003cbr\\u003eTimestamp=%{x}\\u003cbr\\u003esentiment_sigma_fsamean=%{y}\\u003cextra\\u003e\\u003c\\u002fextra\\u003e\",\"legendgroup\":\"2_patents_intellectual property_patent applications_trade secrets\",\"line\":{\"color\":\"#EF553B\",\"dash\":\"solid\"},\"marker\":{\"symbol\":\"circle\"},\"mode\":\"lines\",\"name\":\"2_patents_intellectual property_patent applications_trade secrets\",\"orientation\":\"v\",\"showlegend\":true,\"x\":[\"2019-12-31T00:00:00+00:00\",\"2020-12-31T00:00:00+00:00\",\"2021-12-31T00:00:00+00:00\",\"2022-12-31T00:00:00+00:00\",\"2023-12-31T00:00:00+00:00\"],\"xaxis\":\"x\",\"y\":[0.1077394466246328,0.07084869624686842,0.1138247615199978,0.09931849231024156,0.12508803906922156],\"yaxis\":\"y\",\"type\":\"scatter\"},{\"hovertemplate\":\"Name=3_wellness_benefits_mental health_19 pandemic\\u003cbr\\u003eTimestamp=%{x}\\u003cbr\\u003esentiment_sigma_fsamean=%{y}\\u003cextra\\u003e\\u003c\\u002fextra\\u003e\",\"legendgroup\":\"3_wellness_benefits_mental health_19 pandemic\",\"line\":{\"color\":\"#00cc96\",\"dash\":\"solid\"},\"marker\":{\"symbol\":\"circle\"},\"mode\":\"lines\",\"name\":\"3_wellness_benefits_mental health_19 pandemic\",\"orientation\":\"v\",\"showlegend\":true,\"x\":[\"2020-12-31T00:00:00+00:00\",\"2021-12-31T00:00:00+00:00\",\"2022-12-31T00:00:00+00:00\",\"2023-12-31T00:00:00+00:00\"],\"xaxis\":\"x\",\"y\":[0.3009925812482834,0.45384105745443076,0.42961877559201195,0.38247908115386964],\"yaxis\":\"y\",\"type\":\"scatter\"},{\"hovertemplate\":\"Name=4_data protection_personal data_ccpa_protection regulation\\u003cbr\\u003eTimestamp=%{x}\\u003cbr\\u003esentiment_sigma_fsamean=%{y}\\u003cextra\\u003e\\u003c\\u002fextra\\u003e\",\"legendgroup\":\"4_data protection_personal data_ccpa_protection regulation\",\"line\":{\"color\":\"#ab63fa\",\"dash\":\"solid\"},\"marker\":{\"symbol\":\"circle\"},\"mode\":\"lines\",\"name\":\"4_data protection_personal data_ccpa_protection regulation\",\"orientation\":\"v\",\"showlegend\":true,\"x\":[\"2019-12-31T00:00:00+00:00\",\"2020-12-31T00:00:00+00:00\",\"2021-12-31T00:00:00+00:00\",\"2022-12-31T00:00:00+00:00\",\"2023-12-31T00:00:00+00:00\"],\"xaxis\":\"x\",\"y\":[0.08780900692498242,0.06792178829511007,0.059400047654303435,0.025047628808829745,0.01261481208105882],\"yaxis\":\"y\",\"type\":\"scatter\"},{\"hovertemplate\":\"Name=5_raw materials_components_suppliers_materials components\\u003cbr\\u003eTimestamp=%{x}\\u003cbr\\u003esentiment_sigma_fsamean=%{y}\\u003cextra\\u003e\\u003c\\u002fextra\\u003e\",\"legendgroup\":\"5_raw materials_components_suppliers_materials components\",\"line\":{\"color\":\"#FFA15A\",\"dash\":\"solid\"},\"marker\":{\"symbol\":\"circle\"},\"mode\":\"lines\",\"name\":\"5_raw materials_components_suppliers_materials components\",\"orientation\":\"v\",\"showlegend\":true,\"x\":[\"2019-12-31T00:00:00+00:00\",\"2020-12-31T00:00:00+00:00\",\"2021-12-31T00:00:00+00:00\",\"2022-12-31T00:00:00+00:00\",\"2023-12-31T00:00:00+00:00\"],\"xaxis\":\"x\",\"y\":[0.09382703706815645,0.0354032972279717,0.05586196924303914,-0.06067474434773127,-0.07957977209335719],\"yaxis\":\"y\",\"type\":\"scatter\"},{\"hovertemplate\":\"Name=6_remediation_environmental laws_environmental matters_remediation costs\\u003cbr\\u003eTimestamp=%{x}\\u003cbr\\u003esentiment_sigma_fsamean=%{y}\\u003cextra\\u003e\\u003c\\u002fextra\\u003e\",\"legendgroup\":\"6_remediation_environmental laws_environmental matters_remediation costs\",\"line\":{\"color\":\"#19d3f3\",\"dash\":\"solid\"},\"marker\":{\"symbol\":\"circle\"},\"mode\":\"lines\",\"name\":\"6_remediation_environmental laws_environmental matters_remediation costs\",\"orientation\":\"v\",\"showlegend\":true,\"x\":[\"2019-12-31T00:00:00+00:00\",\"2020-12-31T00:00:00+00:00\",\"2021-12-31T00:00:00+00:00\",\"2022-12-31T00:00:00+00:00\",\"2023-12-31T00:00:00+00:00\"],\"xaxis\":\"x\",\"y\":[0.022694770424138932,0.03246113772575672,0.0435816275922558,0.0006224060213411009,0.04069877102186805],\"yaxis\":\"y\",\"type\":\"scatter\"},{\"hovertemplate\":\"Name=7_cruise_cruises_ships_cruise guests\\u003cbr\\u003eTimestamp=%{x}\\u003cbr\\u003esentiment_sigma_fsamean=%{y}\\u003cextra\\u003e\\u003c\\u002fextra\\u003e\",\"legendgroup\":\"7_cruise_cruises_ships_cruise guests\",\"line\":{\"color\":\"#FF6692\",\"dash\":\"solid\"},\"marker\":{\"symbol\":\"circle\"},\"mode\":\"lines\",\"name\":\"7_cruise_cruises_ships_cruise guests\",\"orientation\":\"v\",\"showlegend\":true,\"x\":[\"2019-12-31T00:00:00+00:00\",\"2020-12-31T00:00:00+00:00\",\"2021-12-31T00:00:00+00:00\",\"2022-12-31T00:00:00+00:00\",\"2023-12-31T00:00:00+00:00\"],\"xaxis\":\"x\",\"y\":[0.30988357944802924,0.305511282926256,0.19970449001070054,0.2766179346269177,0.24915555212646723],\"yaxis\":\"y\",\"type\":\"scatter\"},{\"hovertemplate\":\"Name=8_skills_leadership development_coaching_succession planning\\u003cbr\\u003eTimestamp=%{x}\\u003cbr\\u003esentiment_sigma_fsamean=%{y}\\u003cextra\\u003e\\u003c\\u002fextra\\u003e\",\"legendgroup\":\"8_skills_leadership development_coaching_succession planning\",\"line\":{\"color\":\"#B6E880\",\"dash\":\"solid\"},\"marker\":{\"symbol\":\"circle\"},\"mode\":\"lines\",\"name\":\"8_skills_leadership development_coaching_succession planning\",\"orientation\":\"v\",\"showlegend\":true,\"x\":[\"2019-12-31T00:00:00+00:00\",\"2020-12-31T00:00:00+00:00\",\"2021-12-31T00:00:00+00:00\",\"2022-12-31T00:00:00+00:00\",\"2023-12-31T00:00:00+00:00\"],\"xaxis\":\"x\",\"y\":[0.0,0.39610761404037476,0.37875307027412497,0.4104373769760132,0.4006195738367791],\"yaxis\":\"y\",\"type\":\"scatter\"},{\"hovertemplate\":\"Name=9_health safety_incidents_incident rate_safety performance\\u003cbr\\u003eTimestamp=%{x}\\u003cbr\\u003esentiment_sigma_fsamean=%{y}\\u003cextra\\u003e\\u003c\\u002fextra\\u003e\",\"legendgroup\":\"9_health safety_incidents_incident rate_safety performance\",\"line\":{\"color\":\"#FF97FF\",\"dash\":\"solid\"},\"marker\":{\"symbol\":\"circle\"},\"mode\":\"lines\",\"name\":\"9_health safety_incidents_incident rate_safety performance\",\"orientation\":\"v\",\"showlegend\":true,\"x\":[\"2019-12-31T00:00:00+00:00\",\"2020-12-31T00:00:00+00:00\",\"2021-12-31T00:00:00+00:00\",\"2022-12-31T00:00:00+00:00\",\"2023-12-31T00:00:00+00:00\"],\"xaxis\":\"x\",\"y\":[0.06499949842691422,0.28268885612487793,0.3081560147569535,0.3348031829703938,0.41518419324804884],\"yaxis\":\"y\",\"type\":\"scatter\"},{\"hovertemplate\":\"Name=10_covid 19_covid_pandemic_19 pandemic\\u003cbr\\u003eTimestamp=%{x}\\u003cbr\\u003esentiment_sigma_fsamean=%{y}\\u003cextra\\u003e\\u003c\\u002fextra\\u003e\",\"legendgroup\":\"10_covid 19_covid_pandemic_19 pandemic\",\"line\":{\"color\":\"#FECB52\",\"dash\":\"solid\"},\"marker\":{\"symbol\":\"circle\"},\"mode\":\"lines\",\"name\":\"10_covid 19_covid_pandemic_19 pandemic\",\"orientation\":\"v\",\"showlegend\":true,\"x\":[\"2020-12-31T00:00:00+00:00\",\"2021-12-31T00:00:00+00:00\",\"2022-12-31T00:00:00+00:00\",\"2023-12-31T00:00:00+00:00\"],\"xaxis\":\"x\",\"y\":[-0.39735972742701686,-0.2508518481814621,-0.1378347807460361,-0.3087691927657408],\"yaxis\":\"y\",\"type\":\"scatter\"},{\"hovertemplate\":\"Name=11_fedex_fedex express_fedex freight_fedex office\\u003cbr\\u003eTimestamp=%{x}\\u003cbr\\u003esentiment_sigma_fsamean=%{y}\\u003cextra\\u003e\\u003c\\u002fextra\\u003e\",\"legendgroup\":\"11_fedex_fedex express_fedex freight_fedex office\",\"line\":{\"color\":\"#636efa\",\"dash\":\"solid\"},\"marker\":{\"symbol\":\"circle\"},\"mode\":\"lines\",\"name\":\"11_fedex_fedex express_fedex freight_fedex office\",\"orientation\":\"v\",\"showlegend\":true,\"x\":[\"2019-12-31T00:00:00+00:00\",\"2020-12-31T00:00:00+00:00\",\"2021-12-31T00:00:00+00:00\",\"2022-12-31T00:00:00+00:00\",\"2023-12-31T00:00:00+00:00\"],\"xaxis\":\"x\",\"y\":[0.21161500350484308,0.2815813849369685,0.30179510445430363,0.3137123693119396,0.2661629021167755],\"yaxis\":\"y\",\"type\":\"scatter\"},{\"hovertemplate\":\"Name=12_prior joining_vice president_president chief_senior vice\\u003cbr\\u003eTimestamp=%{x}\\u003cbr\\u003esentiment_sigma_fsamean=%{y}\\u003cextra\\u003e\\u003c\\u002fextra\\u003e\",\"legendgroup\":\"12_prior joining_vice president_president chief_senior vice\",\"line\":{\"color\":\"#EF553B\",\"dash\":\"solid\"},\"marker\":{\"symbol\":\"circle\"},\"mode\":\"lines\",\"name\":\"12_prior joining_vice president_president chief_senior vice\",\"orientation\":\"v\",\"showlegend\":true,\"x\":[\"2019-12-31T00:00:00+00:00\",\"2020-12-31T00:00:00+00:00\",\"2021-12-31T00:00:00+00:00\",\"2022-12-31T00:00:00+00:00\",\"2023-12-31T00:00:00+00:00\"],\"xaxis\":\"x\",\"y\":[0.0,0.0,0.0,0.0,0.0],\"yaxis\":\"y\",\"type\":\"scatter\"},{\"hovertemplate\":\"Name=13_taxable reit_taxable income_reit subsidiary_reit subsidiaries\\u003cbr\\u003eTimestamp=%{x}\\u003cbr\\u003esentiment_sigma_fsamean=%{y}\\u003cextra\\u003e\\u003c\\u002fextra\\u003e\",\"legendgroup\":\"13_taxable reit_taxable income_reit subsidiary_reit subsidiaries\",\"line\":{\"color\":\"#00cc96\",\"dash\":\"solid\"},\"marker\":{\"symbol\":\"circle\"},\"mode\":\"lines\",\"name\":\"13_taxable reit_taxable income_reit subsidiary_reit subsidiaries\",\"orientation\":\"v\",\"showlegend\":true,\"x\":[\"2019-12-31T00:00:00+00:00\",\"2020-12-31T00:00:00+00:00\",\"2021-12-31T00:00:00+00:00\",\"2022-12-31T00:00:00+00:00\",\"2023-12-31T00:00:00+00:00\"],\"xaxis\":\"x\",\"y\":[-0.011545345187187195,-0.0018895700269815872,-0.06292649731040001,-0.0043090345958868665,-0.016639855224639177],\"yaxis\":\"y\",\"type\":\"scatter\"},{\"hovertemplate\":\"Name=14_money laundering_laundering_anti money_patriot act\\u003cbr\\u003eTimestamp=%{x}\\u003cbr\\u003esentiment_sigma_fsamean=%{y}\\u003cextra\\u003e\\u003c\\u002fextra\\u003e\",\"legendgroup\":\"14_money laundering_laundering_anti money_patriot act\",\"line\":{\"color\":\"#ab63fa\",\"dash\":\"solid\"},\"marker\":{\"symbol\":\"circle\"},\"mode\":\"lines\",\"name\":\"14_money laundering_laundering_anti money_patriot act\",\"orientation\":\"v\",\"showlegend\":true,\"x\":[\"2019-12-31T00:00:00+00:00\",\"2020-12-31T00:00:00+00:00\",\"2021-12-31T00:00:00+00:00\",\"2022-12-31T00:00:00+00:00\",\"2023-12-31T00:00:00+00:00\"],\"xaxis\":\"x\",\"y\":[0.03749275593845933,0.03460466927952237,0.02412419076319094,0.05919997984508298,0.0],\"yaxis\":\"y\",\"type\":\"scatter\"},{\"hovertemplate\":\"Name=15_aum_net inflows_inflows_etfs\\u003cbr\\u003eTimestamp=%{x}\\u003cbr\\u003esentiment_sigma_fsamean=%{y}\\u003cextra\\u003e\\u003c\\u002fextra\\u003e\",\"legendgroup\":\"15_aum_net inflows_inflows_etfs\",\"line\":{\"color\":\"#FFA15A\",\"dash\":\"solid\"},\"marker\":{\"symbol\":\"circle\"},\"mode\":\"lines\",\"name\":\"15_aum_net inflows_inflows_etfs\",\"orientation\":\"v\",\"showlegend\":true,\"x\":[\"2019-12-31T00:00:00+00:00\",\"2020-12-31T00:00:00+00:00\",\"2021-12-31T00:00:00+00:00\",\"2022-12-31T00:00:00+00:00\",\"2023-12-31T00:00:00+00:00\"],\"xaxis\":\"x\",\"y\":[0.3062798887491226,0.3631524257361889,0.373438975032495,0.3676528242918161,0.2133643769699594],\"yaxis\":\"y\",\"type\":\"scatter\"},{\"hovertemplate\":\"Name=16_human capital_capital management_employees_capital strategy\\u003cbr\\u003eTimestamp=%{x}\\u003cbr\\u003esentiment_sigma_fsamean=%{y}\\u003cextra\\u003e\\u003c\\u002fextra\\u003e\",\"legendgroup\":\"16_human capital_capital management_employees_capital strategy\",\"line\":{\"color\":\"#19d3f3\",\"dash\":\"solid\"},\"marker\":{\"symbol\":\"circle\"},\"mode\":\"lines\",\"name\":\"16_human capital_capital management_employees_capital strategy\",\"orientation\":\"v\",\"showlegend\":true,\"x\":[\"2019-12-31T00:00:00+00:00\",\"2020-12-31T00:00:00+00:00\",\"2021-12-31T00:00:00+00:00\",\"2022-12-31T00:00:00+00:00\",\"2023-12-31T00:00:00+00:00\"],\"xaxis\":\"x\",\"y\":[0.0,0.0,0.1947338799042488,0.21169930301150497,0.20884993833464546],\"yaxis\":\"y\",\"type\":\"scatter\"},{\"hovertemplate\":\"Name=17_rebate_medicaid_rebates_medicare\\u003cbr\\u003eTimestamp=%{x}\\u003cbr\\u003esentiment_sigma_fsamean=%{y}\\u003cextra\\u003e\\u003c\\u002fextra\\u003e\",\"legendgroup\":\"17_rebate_medicaid_rebates_medicare\",\"line\":{\"color\":\"#FF6692\",\"dash\":\"solid\"},\"marker\":{\"symbol\":\"circle\"},\"mode\":\"lines\",\"name\":\"17_rebate_medicaid_rebates_medicare\",\"orientation\":\"v\",\"showlegend\":true,\"x\":[\"2019-12-31T00:00:00+00:00\",\"2020-12-31T00:00:00+00:00\",\"2021-12-31T00:00:00+00:00\",\"2022-12-31T00:00:00+00:00\",\"2023-12-31T00:00:00+00:00\"],\"xaxis\":\"x\",\"y\":[-0.034499450309856516,0.03734476291216337,-0.00332449049484439,-0.06635473303075107,-0.06315747982469098],\"yaxis\":\"y\",\"type\":\"scatter\"},{\"hovertemplate\":\"Name=18_currency_currency exchange_foreign currency_international operations\\u003cbr\\u003eTimestamp=%{x}\\u003cbr\\u003esentiment_sigma_fsamean=%{y}\\u003cextra\\u003e\\u003c\\u002fextra\\u003e\",\"legendgroup\":\"18_currency_currency exchange_foreign currency_international operations\",\"line\":{\"color\":\"#B6E880\",\"dash\":\"solid\"},\"marker\":{\"symbol\":\"circle\"},\"mode\":\"lines\",\"name\":\"18_currency_currency exchange_foreign currency_international operations\",\"orientation\":\"v\",\"showlegend\":true,\"x\":[\"2019-12-31T00:00:00+00:00\",\"2020-12-31T00:00:00+00:00\",\"2021-12-31T00:00:00+00:00\",\"2022-12-31T00:00:00+00:00\",\"2023-12-31T00:00:00+00:00\"],\"xaxis\":\"x\",\"y\":[0.05183136463165283,0.005746166756812563,-0.010220174382372601,0.044011104769176905,0.01757131740450859],\"yaxis\":\"y\",\"type\":\"scatter\"},{\"hovertemplate\":\"Name=19_payroll_hr_paychex flex_benefits administration\\u003cbr\\u003eTimestamp=%{x}\\u003cbr\\u003esentiment_sigma_fsamean=%{y}\\u003cextra\\u003e\\u003c\\u002fextra\\u003e\",\"legendgroup\":\"19_payroll_hr_paychex flex_benefits administration\",\"line\":{\"color\":\"#FF97FF\",\"dash\":\"solid\"},\"marker\":{\"symbol\":\"circle\"},\"mode\":\"lines\",\"name\":\"19_payroll_hr_paychex flex_benefits administration\",\"orientation\":\"v\",\"showlegend\":true,\"x\":[\"2019-12-31T00:00:00+00:00\",\"2020-12-31T00:00:00+00:00\",\"2021-12-31T00:00:00+00:00\",\"2022-12-31T00:00:00+00:00\",\"2023-12-31T00:00:00+00:00\"],\"xaxis\":\"x\",\"y\":[0.2209914283054631,0.24139923584170458,0.2980060983211436,0.22912592203059096,0.23782281243071265],\"yaxis\":\"y\",\"type\":\"scatter\"}],                        {\"template\":{\"data\":{\"histogram2dcontour\":[{\"type\":\"histogram2dcontour\",\"colorbar\":{\"outlinewidth\":0,\"ticks\":\"\"},\"colorscale\":[[0.0,\"#0d0887\"],[0.1111111111111111,\"#46039f\"],[0.2222222222222222,\"#7201a8\"],[0.3333333333333333,\"#9c179e\"],[0.4444444444444444,\"#bd3786\"],[0.5555555555555556,\"#d8576b\"],[0.6666666666666666,\"#ed7953\"],[0.7777777777777778,\"#fb9f3a\"],[0.8888888888888888,\"#fdca26\"],[1.0,\"#f0f921\"]]}],\"choropleth\":[{\"type\":\"choropleth\",\"colorbar\":{\"outlinewidth\":0,\"ticks\":\"\"}}],\"histogram2d\":[{\"type\":\"histogram2d\",\"colorbar\":{\"outlinewidth\":0,\"ticks\":\"\"},\"colorscale\":[[0.0,\"#0d0887\"],[0.1111111111111111,\"#46039f\"],[0.2222222222222222,\"#7201a8\"],[0.3333333333333333,\"#9c179e\"],[0.4444444444444444,\"#bd3786\"],[0.5555555555555556,\"#d8576b\"],[0.6666666666666666,\"#ed7953\"],[0.7777777777777778,\"#fb9f3a\"],[0.8888888888888888,\"#fdca26\"],[1.0,\"#f0f921\"]]}],\"heatmap\":[{\"type\":\"heatmap\",\"colorbar\":{\"outlinewidth\":0,\"ticks\":\"\"},\"colorscale\":[[0.0,\"#0d0887\"],[0.1111111111111111,\"#46039f\"],[0.2222222222222222,\"#7201a8\"],[0.3333333333333333,\"#9c179e\"],[0.4444444444444444,\"#bd3786\"],[0.5555555555555556,\"#d8576b\"],[0.6666666666666666,\"#ed7953\"],[0.7777777777777778,\"#fb9f3a\"],[0.8888888888888888,\"#fdca26\"],[1.0,\"#f0f921\"]]}],\"heatmapgl\":[{\"type\":\"heatmapgl\",\"colorbar\":{\"outlinewidth\":0,\"ticks\":\"\"},\"colorscale\":[[0.0,\"#0d0887\"],[0.1111111111111111,\"#46039f\"],[0.2222222222222222,\"#7201a8\"],[0.3333333333333333,\"#9c179e\"],[0.4444444444444444,\"#bd3786\"],[0.5555555555555556,\"#d8576b\"],[0.6666666666666666,\"#ed7953\"],[0.7777777777777778,\"#fb9f3a\"],[0.8888888888888888,\"#fdca26\"],[1.0,\"#f0f921\"]]}],\"contourcarpet\":[{\"type\":\"contourcarpet\",\"colorbar\":{\"outlinewidth\":0,\"ticks\":\"\"}}],\"contour\":[{\"type\":\"contour\",\"colorbar\":{\"outlinewidth\":0,\"ticks\":\"\"},\"colorscale\":[[0.0,\"#0d0887\"],[0.1111111111111111,\"#46039f\"],[0.2222222222222222,\"#7201a8\"],[0.3333333333333333,\"#9c179e\"],[0.4444444444444444,\"#bd3786\"],[0.5555555555555556,\"#d8576b\"],[0.6666666666666666,\"#ed7953\"],[0.7777777777777778,\"#fb9f3a\"],[0.8888888888888888,\"#fdca26\"],[1.0,\"#f0f921\"]]}],\"surface\":[{\"type\":\"surface\",\"colorbar\":{\"outlinewidth\":0,\"ticks\":\"\"},\"colorscale\":[[0.0,\"#0d0887\"],[0.1111111111111111,\"#46039f\"],[0.2222222222222222,\"#7201a8\"],[0.3333333333333333,\"#9c179e\"],[0.4444444444444444,\"#bd3786\"],[0.5555555555555556,\"#d8576b\"],[0.6666666666666666,\"#ed7953\"],[0.7777777777777778,\"#fb9f3a\"],[0.8888888888888888,\"#fdca26\"],[1.0,\"#f0f921\"]]}],\"mesh3d\":[{\"type\":\"mesh3d\",\"colorbar\":{\"outlinewidth\":0,\"ticks\":\"\"}}],\"scatter\":[{\"marker\":{\"line\":{\"color\":\"#283442\"}},\"type\":\"scatter\"}],\"parcoords\":[{\"type\":\"parcoords\",\"line\":{\"colorbar\":{\"outlinewidth\":0,\"ticks\":\"\"}}}],\"scatterpolargl\":[{\"type\":\"scatterpolargl\",\"marker\":{\"colorbar\":{\"outlinewidth\":0,\"ticks\":\"\"}}}],\"bar\":[{\"error_x\":{\"color\":\"#f2f5fa\"},\"error_y\":{\"color\":\"#f2f5fa\"},\"marker\":{\"line\":{\"color\":\"rgb(17,17,17)\",\"width\":0.5},\"pattern\":{\"fillmode\":\"overlay\",\"size\":10,\"solidity\":0.2}},\"type\":\"bar\"}],\"scattergeo\":[{\"type\":\"scattergeo\",\"marker\":{\"colorbar\":{\"outlinewidth\":0,\"ticks\":\"\"}}}],\"scatterpolar\":[{\"type\":\"scatterpolar\",\"marker\":{\"colorbar\":{\"outlinewidth\":0,\"ticks\":\"\"}}}],\"histogram\":[{\"marker\":{\"pattern\":{\"fillmode\":\"overlay\",\"size\":10,\"solidity\":0.2}},\"type\":\"histogram\"}],\"scattergl\":[{\"marker\":{\"line\":{\"color\":\"#283442\"}},\"type\":\"scattergl\"}],\"scatter3d\":[{\"type\":\"scatter3d\",\"line\":{\"colorbar\":{\"outlinewidth\":0,\"ticks\":\"\"}},\"marker\":{\"colorbar\":{\"outlinewidth\":0,\"ticks\":\"\"}}}],\"scattermapbox\":[{\"type\":\"scattermapbox\",\"marker\":{\"colorbar\":{\"outlinewidth\":0,\"ticks\":\"\"}}}],\"scatterternary\":[{\"type\":\"scatterternary\",\"marker\":{\"colorbar\":{\"outlinewidth\":0,\"ticks\":\"\"}}}],\"scattercarpet\":[{\"type\":\"scattercarpet\",\"marker\":{\"colorbar\":{\"outlinewidth\":0,\"ticks\":\"\"}}}],\"carpet\":[{\"aaxis\":{\"endlinecolor\":\"#A2B1C6\",\"gridcolor\":\"#506784\",\"linecolor\":\"#506784\",\"minorgridcolor\":\"#506784\",\"startlinecolor\":\"#A2B1C6\"},\"baxis\":{\"endlinecolor\":\"#A2B1C6\",\"gridcolor\":\"#506784\",\"linecolor\":\"#506784\",\"minorgridcolor\":\"#506784\",\"startlinecolor\":\"#A2B1C6\"},\"type\":\"carpet\"}],\"table\":[{\"cells\":{\"fill\":{\"color\":\"#506784\"},\"line\":{\"color\":\"rgb(17,17,17)\"}},\"header\":{\"fill\":{\"color\":\"#2a3f5f\"},\"line\":{\"color\":\"rgb(17,17,17)\"}},\"type\":\"table\"}],\"barpolar\":[{\"marker\":{\"line\":{\"color\":\"rgb(17,17,17)\",\"width\":0.5},\"pattern\":{\"fillmode\":\"overlay\",\"size\":10,\"solidity\":0.2}},\"type\":\"barpolar\"}],\"pie\":[{\"automargin\":true,\"type\":\"pie\"}]},\"layout\":{\"autotypenumbers\":\"strict\",\"colorway\":[\"#636efa\",\"#EF553B\",\"#00cc96\",\"#ab63fa\",\"#FFA15A\",\"#19d3f3\",\"#FF6692\",\"#B6E880\",\"#FF97FF\",\"#FECB52\"],\"font\":{\"color\":\"#f2f5fa\"},\"hovermode\":\"closest\",\"hoverlabel\":{\"align\":\"left\"},\"paper_bgcolor\":\"rgb(17,17,17)\",\"plot_bgcolor\":\"rgb(17,17,17)\",\"polar\":{\"bgcolor\":\"rgb(17,17,17)\",\"angularaxis\":{\"gridcolor\":\"#506784\",\"linecolor\":\"#506784\",\"ticks\":\"\"},\"radialaxis\":{\"gridcolor\":\"#506784\",\"linecolor\":\"#506784\",\"ticks\":\"\"}},\"ternary\":{\"bgcolor\":\"rgb(17,17,17)\",\"aaxis\":{\"gridcolor\":\"#506784\",\"linecolor\":\"#506784\",\"ticks\":\"\"},\"baxis\":{\"gridcolor\":\"#506784\",\"linecolor\":\"#506784\",\"ticks\":\"\"},\"caxis\":{\"gridcolor\":\"#506784\",\"linecolor\":\"#506784\",\"ticks\":\"\"}},\"coloraxis\":{\"colorbar\":{\"outlinewidth\":0,\"ticks\":\"\"}},\"colorscale\":{\"sequential\":[[0.0,\"#0d0887\"],[0.1111111111111111,\"#46039f\"],[0.2222222222222222,\"#7201a8\"],[0.3333333333333333,\"#9c179e\"],[0.4444444444444444,\"#bd3786\"],[0.5555555555555556,\"#d8576b\"],[0.6666666666666666,\"#ed7953\"],[0.7777777777777778,\"#fb9f3a\"],[0.8888888888888888,\"#fdca26\"],[1.0,\"#f0f921\"]],\"sequentialminus\":[[0.0,\"#0d0887\"],[0.1111111111111111,\"#46039f\"],[0.2222222222222222,\"#7201a8\"],[0.3333333333333333,\"#9c179e\"],[0.4444444444444444,\"#bd3786\"],[0.5555555555555556,\"#d8576b\"],[0.6666666666666666,\"#ed7953\"],[0.7777777777777778,\"#fb9f3a\"],[0.8888888888888888,\"#fdca26\"],[1.0,\"#f0f921\"]],\"diverging\":[[0,\"#8e0152\"],[0.1,\"#c51b7d\"],[0.2,\"#de77ae\"],[0.3,\"#f1b6da\"],[0.4,\"#fde0ef\"],[0.5,\"#f7f7f7\"],[0.6,\"#e6f5d0\"],[0.7,\"#b8e186\"],[0.8,\"#7fbc41\"],[0.9,\"#4d9221\"],[1,\"#276419\"]]},\"xaxis\":{\"gridcolor\":\"#283442\",\"linecolor\":\"#506784\",\"ticks\":\"\",\"title\":{\"standoff\":15},\"zerolinecolor\":\"#283442\",\"automargin\":true,\"zerolinewidth\":2},\"yaxis\":{\"gridcolor\":\"#283442\",\"linecolor\":\"#506784\",\"ticks\":\"\",\"title\":{\"standoff\":15},\"zerolinecolor\":\"#283442\",\"automargin\":true,\"zerolinewidth\":2},\"scene\":{\"xaxis\":{\"backgroundcolor\":\"rgb(17,17,17)\",\"gridcolor\":\"#506784\",\"linecolor\":\"#506784\",\"showbackground\":true,\"ticks\":\"\",\"zerolinecolor\":\"#C8D4E3\",\"gridwidth\":2},\"yaxis\":{\"backgroundcolor\":\"rgb(17,17,17)\",\"gridcolor\":\"#506784\",\"linecolor\":\"#506784\",\"showbackground\":true,\"ticks\":\"\",\"zerolinecolor\":\"#C8D4E3\",\"gridwidth\":2},\"zaxis\":{\"backgroundcolor\":\"rgb(17,17,17)\",\"gridcolor\":\"#506784\",\"linecolor\":\"#506784\",\"showbackground\":true,\"ticks\":\"\",\"zerolinecolor\":\"#C8D4E3\",\"gridwidth\":2}},\"shapedefaults\":{\"line\":{\"color\":\"#f2f5fa\"}},\"annotationdefaults\":{\"arrowcolor\":\"#f2f5fa\",\"arrowhead\":0,\"arrowwidth\":1},\"geo\":{\"bgcolor\":\"rgb(17,17,17)\",\"landcolor\":\"rgb(17,17,17)\",\"subunitcolor\":\"#506784\",\"showland\":true,\"showlakes\":true,\"lakecolor\":\"rgb(17,17,17)\"},\"title\":{\"x\":0.05},\"updatemenudefaults\":{\"bgcolor\":\"#506784\",\"borderwidth\":0},\"sliderdefaults\":{\"bgcolor\":\"#C8D4E3\",\"borderwidth\":1,\"bordercolor\":\"rgb(17,17,17)\",\"tickwidth\":0},\"mapbox\":{\"style\":\"dark\"}}},\"xaxis\":{\"anchor\":\"y\",\"domain\":[0.0,1.0],\"title\":{\"text\":\"Timestamp\"}},\"yaxis\":{\"anchor\":\"x\",\"domain\":[0.0,1.0],\"title\":{\"text\":\"Average Sentiment per period\"}},\"legend\":{\"title\":{\"text\":\"Name\"},\"tracegroupgap\":0},\"margin\":{\"t\":60},\"title\":{\"text\":\"Topic sentiment -Section1\"}},                        {\"responsive\": true}                    ).then(function(){\n                            \nvar gd = document.getElementById('ccb7779e-293a-4629-8cd5-01480fdf77f9');\nvar x = new MutationObserver(function (mutations, observer) {{\n        var display = window.getComputedStyle(gd).display;\n        if (!display || display === 'none') {{\n            console.log([gd, 'removed!']);\n            Plotly.purge(gd);\n            observer.disconnect();\n        }}\n}});\n\n// Listen for the removal of the full notebook cells\nvar notebookContainer = gd.closest('#notebook-container');\nif (notebookContainer) {{\n    x.observe(notebookContainer, {childList: true});\n}}\n\n// Listen for the clearing of the current output cell\nvar outputEl = gd.closest('.output');\nif (outputEl) {{\n    x.observe(outputEl, {childList: true});\n}}\n\n                        })                };                });            </script>        </div>"
     },
     "metadata": {},
     "output_type": "display_data"
    },
    {
     "data": {
      "application/vnd.plotly.v1+json": {
       "data": [
        {
         "hovertemplate": "Name=1_components_raw materials_suppliers_manufacturing<br>Timestamp=%{x}<br>sentiment_sigma_fsamean=%{y}<extra></extra>",
         "legendgroup": "1_components_raw materials_suppliers_manufacturing",
         "line": {
          "color": "#636efa",
          "dash": "solid"
         },
         "marker": {
          "symbol": "circle"
         },
         "mode": "lines",
         "name": "1_components_raw materials_suppliers_manufacturing",
         "orientation": "v",
         "showlegend": true,
         "x": [
          "2019-12-31T00:00:00+00:00",
          "2020-12-31T00:00:00+00:00",
          "2021-12-31T00:00:00+00:00",
          "2022-12-31T00:00:00+00:00",
          "2023-12-31T00:00:00+00:00"
         ],
         "xaxis": "x",
         "y": [
          -0.614052752687319,
          -0.6094069740088832,
          -0.6134976988095183,
          -0.622631799294354,
          -0.6096356637953293
         ],
         "yaxis": "y",
         "type": "scatter"
        },
        {
         "hovertemplate": "Name=2_intellectual property_patents_infringement_protect intellectual<br>Timestamp=%{x}<br>sentiment_sigma_fsamean=%{y}<extra></extra>",
         "legendgroup": "2_intellectual property_patents_infringement_protect intellectual",
         "line": {
          "color": "#EF553B",
          "dash": "solid"
         },
         "marker": {
          "symbol": "circle"
         },
         "mode": "lines",
         "name": "2_intellectual property_patents_infringement_protect intellectual",
         "orientation": "v",
         "showlegend": true,
         "x": [
          "2019-12-31T00:00:00+00:00",
          "2020-12-31T00:00:00+00:00",
          "2021-12-31T00:00:00+00:00",
          "2022-12-31T00:00:00+00:00",
          "2023-12-31T00:00:00+00:00"
         ],
         "xaxis": "x",
         "y": [
          -0.17166952913006148,
          -0.19532447501465125,
          -0.20327010273509177,
          -0.23472593467476313,
          -0.21149141541341457
         ],
         "yaxis": "y",
         "type": "scatter"
        },
        {
         "hovertemplate": "Name=3_libor_sofr_reference rates_usd libor<br>Timestamp=%{x}<br>sentiment_sigma_fsamean=%{y}<extra></extra>",
         "legendgroup": "3_libor_sofr_reference rates_usd libor",
         "line": {
          "color": "#00cc96",
          "dash": "solid"
         },
         "marker": {
          "symbol": "circle"
         },
         "mode": "lines",
         "name": "3_libor_sofr_reference rates_usd libor",
         "orientation": "v",
         "showlegend": true,
         "x": [
          "2019-12-31T00:00:00+00:00",
          "2020-12-31T00:00:00+00:00",
          "2021-12-31T00:00:00+00:00",
          "2022-12-31T00:00:00+00:00",
          "2023-12-31T00:00:00+00:00"
         ],
         "xaxis": "x",
         "y": [
          -0.3246861226683439,
          -0.27937369701990195,
          -0.25725942966808757,
          -0.2324465102640099,
          -0.2798326198280472
         ],
         "yaxis": "y",
         "type": "scatter"
        },
        {
         "hovertemplate": "Name=4_goodwill_intangible assets_goodwill intangible_carrying value<br>Timestamp=%{x}<br>sentiment_sigma_fsamean=%{y}<extra></extra>",
         "legendgroup": "4_goodwill_intangible assets_goodwill intangible_carrying value",
         "line": {
          "color": "#ab63fa",
          "dash": "solid"
         },
         "marker": {
          "symbol": "circle"
         },
         "mode": "lines",
         "name": "4_goodwill_intangible assets_goodwill intangible_carrying value",
         "orientation": "v",
         "showlegend": true,
         "x": [
          "2019-12-31T00:00:00+00:00",
          "2020-12-31T00:00:00+00:00",
          "2021-12-31T00:00:00+00:00",
          "2022-12-31T00:00:00+00:00",
          "2023-12-31T00:00:00+00:00"
         ],
         "xaxis": "x",
         "y": [
          -0.5364161637931945,
          -0.5799887991342388,
          -0.5589850869359849,
          -0.5485678606844963,
          -0.5459387163147655
         ],
         "yaxis": "y",
         "type": "scatter"
        },
        {
         "hovertemplate": "Name=5_currency_currencies_exchange rates_currency exchange<br>Timestamp=%{x}<br>sentiment_sigma_fsamean=%{y}<extra></extra>",
         "legendgroup": "5_currency_currencies_exchange rates_currency exchange",
         "line": {
          "color": "#FFA15A",
          "dash": "solid"
         },
         "marker": {
          "symbol": "circle"
         },
         "mode": "lines",
         "name": "5_currency_currencies_exchange rates_currency exchange",
         "orientation": "v",
         "showlegend": true,
         "x": [
          "2019-12-31T00:00:00+00:00",
          "2020-12-31T00:00:00+00:00",
          "2021-12-31T00:00:00+00:00",
          "2022-12-31T00:00:00+00:00",
          "2023-12-31T00:00:00+00:00"
         ],
         "xaxis": "x",
         "y": [
          -0.48188897017594223,
          -0.4954417268664851,
          -0.5082631441525051,
          -0.5183110975629681,
          -0.5244589744181167
         ],
         "yaxis": "y",
         "type": "scatter"
        },
        {
         "hovertemplate": "Name=6_brexit_eu_united kingdom_european union<br>Timestamp=%{x}<br>sentiment_sigma_fsamean=%{y}<extra></extra>",
         "legendgroup": "6_brexit_eu_united kingdom_european union",
         "line": {
          "color": "#19d3f3",
          "dash": "solid"
         },
         "marker": {
          "symbol": "circle"
         },
         "mode": "lines",
         "name": "6_brexit_eu_united kingdom_european union",
         "orientation": "v",
         "showlegend": true,
         "x": [
          "2019-12-31T00:00:00+00:00",
          "2020-12-31T00:00:00+00:00",
          "2021-12-31T00:00:00+00:00",
          "2022-12-31T00:00:00+00:00",
          "2023-12-31T00:00:00+00:00"
         ],
         "xaxis": "x",
         "y": [
          -0.5251414763558772,
          -0.5019589974632803,
          -0.43068673295133253,
          -0.47587800403184527,
          -0.43612058758735656
         ],
         "yaxis": "y",
         "type": "scatter"
        },
        {
         "hovertemplate": "Name=7_end table_table_table start_table end<br>Timestamp=%{x}<br>sentiment_sigma_fsamean=%{y}<extra></extra>",
         "legendgroup": "7_end table_table_table start_table end",
         "line": {
          "color": "#FF6692",
          "dash": "solid"
         },
         "marker": {
          "symbol": "circle"
         },
         "mode": "lines",
         "name": "7_end table_table_table start_table end",
         "orientation": "v",
         "showlegend": true,
         "x": [
          "2019-12-31T00:00:00+00:00",
          "2020-12-31T00:00:00+00:00",
          "2021-12-31T00:00:00+00:00",
          "2022-12-31T00:00:00+00:00",
          "2023-12-31T00:00:00+00:00"
         ],
         "xaxis": "x",
         "y": [
          -0.4251714585520697,
          -0.46755194395512073,
          -0.6044526525000309,
          -0.4996661910166343,
          -0.6114968319733938
         ],
         "yaxis": "y",
         "type": "scatter"
        },
        {
         "hovertemplate": "Name=8_personnel_senior management_key personnel_attract retain<br>Timestamp=%{x}<br>sentiment_sigma_fsamean=%{y}<extra></extra>",
         "legendgroup": "8_personnel_senior management_key personnel_attract retain",
         "line": {
          "color": "#B6E880",
          "dash": "solid"
         },
         "marker": {
          "symbol": "circle"
         },
         "mode": "lines",
         "name": "8_personnel_senior management_key personnel_attract retain",
         "orientation": "v",
         "showlegend": true,
         "x": [
          "2019-12-31T00:00:00+00:00",
          "2020-12-31T00:00:00+00:00",
          "2021-12-31T00:00:00+00:00",
          "2022-12-31T00:00:00+00:00",
          "2023-12-31T00:00:00+00:00"
         ],
         "xaxis": "x",
         "y": [
          -0.4402633601600684,
          -0.4673557097420973,
          -0.4619070906530727,
          -0.5117281164998323,
          -0.5042614794025818
         ],
         "yaxis": "y",
         "type": "scatter"
        },
        {
         "hovertemplate": "Name=9_international operations_international_foreign_international sales<br>Timestamp=%{x}<br>sentiment_sigma_fsamean=%{y}<extra></extra>",
         "legendgroup": "9_international operations_international_foreign_international sales",
         "line": {
          "color": "#FF97FF",
          "dash": "solid"
         },
         "marker": {
          "symbol": "circle"
         },
         "mode": "lines",
         "name": "9_international operations_international_foreign_international sales",
         "orientation": "v",
         "showlegend": true,
         "x": [
          "2019-12-31T00:00:00+00:00",
          "2020-12-31T00:00:00+00:00",
          "2021-12-31T00:00:00+00:00",
          "2022-12-31T00:00:00+00:00",
          "2023-12-31T00:00:00+00:00"
         ],
         "xaxis": "x",
         "y": [
          -0.5463370938192714,
          -0.556715479824278,
          -0.369736464584575,
          -0.34897489649684804,
          -0.46018850494314123
         ],
         "yaxis": "y",
         "type": "scatter"
        },
        {
         "hovertemplate": "Name=10_pension_pension plans_benefit pension_funding requirements<br>Timestamp=%{x}<br>sentiment_sigma_fsamean=%{y}<extra></extra>",
         "legendgroup": "10_pension_pension plans_benefit pension_funding requirements",
         "line": {
          "color": "#FECB52",
          "dash": "solid"
         },
         "marker": {
          "symbol": "circle"
         },
         "mode": "lines",
         "name": "10_pension_pension plans_benefit pension_funding requirements",
         "orientation": "v",
         "showlegend": true,
         "x": [
          "2019-12-31T00:00:00+00:00",
          "2020-12-31T00:00:00+00:00",
          "2021-12-31T00:00:00+00:00",
          "2022-12-31T00:00:00+00:00",
          "2023-12-31T00:00:00+00:00"
         ],
         "xaxis": "x",
         "y": [
          -0.41427352220293073,
          -0.4133318229382779,
          -0.43316512496575066,
          -0.41323166423373753,
          -0.4315087376931392
         ],
         "yaxis": "y",
         "type": "scatter"
        },
        {
         "hovertemplate": "Name=11_end table_table_table start_table end<br>Timestamp=%{x}<br>sentiment_sigma_fsamean=%{y}<extra></extra>",
         "legendgroup": "11_end table_table_table start_table end",
         "line": {
          "color": "#636efa",
          "dash": "solid"
         },
         "marker": {
          "symbol": "circle"
         },
         "mode": "lines",
         "name": "11_end table_table_table start_table end",
         "orientation": "v",
         "showlegend": true,
         "x": [
          "2019-12-31T00:00:00+00:00",
          "2020-12-31T00:00:00+00:00",
          "2021-12-31T00:00:00+00:00",
          "2022-12-31T00:00:00+00:00",
          "2023-12-31T00:00:00+00:00"
         ],
         "xaxis": "x",
         "y": [
          -0.28269348778959474,
          -0.2615980025260679,
          -0.3195213556289673,
          -0.30815378597804477,
          -0.25870159149169925
         ],
         "yaxis": "y",
         "type": "scatter"
        },
        {
         "hovertemplate": "Name=12_credit ratings_rating agencies_credit rating_fitch<br>Timestamp=%{x}<br>sentiment_sigma_fsamean=%{y}<extra></extra>",
         "legendgroup": "12_credit ratings_rating agencies_credit rating_fitch",
         "line": {
          "color": "#EF553B",
          "dash": "solid"
         },
         "marker": {
          "symbol": "circle"
         },
         "mode": "lines",
         "name": "12_credit ratings_rating agencies_credit rating_fitch",
         "orientation": "v",
         "showlegend": true,
         "x": [
          "2019-12-31T00:00:00+00:00",
          "2020-12-31T00:00:00+00:00",
          "2021-12-31T00:00:00+00:00",
          "2022-12-31T00:00:00+00:00",
          "2023-12-31T00:00:00+00:00"
         ],
         "xaxis": "x",
         "y": [
          -0.5140716625798133,
          -0.4592361050717374,
          -0.552975412005576,
          -0.5462435857867295,
          -0.5111492419784719
         ],
         "yaxis": "y",
         "type": "scatter"
        },
        {
         "hovertemplate": "Name=13_financial reporting_internal controls_weaknesses_sarbanes oxley<br>Timestamp=%{x}<br>sentiment_sigma_fsamean=%{y}<extra></extra>",
         "legendgroup": "13_financial reporting_internal controls_weaknesses_sarbanes oxley",
         "line": {
          "color": "#00cc96",
          "dash": "solid"
         },
         "marker": {
          "symbol": "circle"
         },
         "mode": "lines",
         "name": "13_financial reporting_internal controls_weaknesses_sarbanes oxley",
         "orientation": "v",
         "showlegend": true,
         "x": [
          "2019-12-31T00:00:00+00:00",
          "2020-12-31T00:00:00+00:00",
          "2021-12-31T00:00:00+00:00",
          "2022-12-31T00:00:00+00:00",
          "2023-12-31T00:00:00+00:00"
         ],
         "xaxis": "x",
         "y": [
          -0.44795258683070804,
          -0.5223656036637047,
          -0.5264948373749143,
          -0.5155303725464777,
          -0.5207905692330906
         ],
         "yaxis": "y",
         "type": "scatter"
        },
        {
         "hovertemplate": "Name=14_esg_esg matters_esg practices_sustainability<br>Timestamp=%{x}<br>sentiment_sigma_fsamean=%{y}<extra></extra>",
         "legendgroup": "14_esg_esg matters_esg practices_sustainability",
         "line": {
          "color": "#ab63fa",
          "dash": "solid"
         },
         "marker": {
          "symbol": "circle"
         },
         "mode": "lines",
         "name": "14_esg_esg matters_esg practices_sustainability",
         "orientation": "v",
         "showlegend": true,
         "x": [
          "2019-12-31T00:00:00+00:00",
          "2020-12-31T00:00:00+00:00",
          "2021-12-31T00:00:00+00:00",
          "2022-12-31T00:00:00+00:00",
          "2023-12-31T00:00:00+00:00"
         ],
         "xaxis": "x",
         "y": [
          -0.511251429716746,
          -0.5286514369341043,
          -0.4347602680325508,
          -0.49153493233025075,
          -0.4034934830207091
         ],
         "yaxis": "y",
         "type": "scatter"
        },
        {
         "hovertemplate": "Name=15_looking statements_results differ_litigation reform_words 8220<br>Timestamp=%{x}<br>sentiment_sigma_fsamean=%{y}<extra></extra>",
         "legendgroup": "15_looking statements_results differ_litigation reform_words 8220",
         "line": {
          "color": "#FFA15A",
          "dash": "solid"
         },
         "marker": {
          "symbol": "circle"
         },
         "mode": "lines",
         "name": "15_looking statements_results differ_litigation reform_words 8220",
         "orientation": "v",
         "showlegend": true,
         "x": [
          "2019-12-31T00:00:00+00:00",
          "2020-12-31T00:00:00+00:00",
          "2021-12-31T00:00:00+00:00",
          "2022-12-31T00:00:00+00:00",
          "2023-12-31T00:00:00+00:00"
         ],
         "xaxis": "x",
         "y": [
          -0.049182140285318546,
          -0.06387815833091735,
          -0.03790619812513653,
          -0.01705627792920822,
          -0.037999092428772537
         ],
         "yaxis": "y",
         "type": "scatter"
        },
        {
         "hovertemplate": "Name=16_trials_clinical trials_investigational medicines_clinical trial<br>Timestamp=%{x}<br>sentiment_sigma_fsamean=%{y}<extra></extra>",
         "legendgroup": "16_trials_clinical trials_investigational medicines_clinical trial",
         "line": {
          "color": "#19d3f3",
          "dash": "solid"
         },
         "marker": {
          "symbol": "circle"
         },
         "mode": "lines",
         "name": "16_trials_clinical trials_investigational medicines_clinical trial",
         "orientation": "v",
         "showlegend": true,
         "x": [
          "2019-12-31T00:00:00+00:00",
          "2020-12-31T00:00:00+00:00",
          "2021-12-31T00:00:00+00:00",
          "2022-12-31T00:00:00+00:00",
          "2023-12-31T00:00:00+00:00"
         ],
         "xaxis": "x",
         "y": [
          -0.3171155201064216,
          -0.4057864726899744,
          -0.3599876018015893,
          -0.3592831371603785,
          -0.31935840408976485
         ],
         "yaxis": "y",
         "type": "scatter"
        },
        {
         "hovertemplate": "Name=17_television_broadcast_subscribers_stations<br>Timestamp=%{x}<br>sentiment_sigma_fsamean=%{y}<extra></extra>",
         "legendgroup": "17_television_broadcast_subscribers_stations",
         "line": {
          "color": "#FF6692",
          "dash": "solid"
         },
         "marker": {
          "symbol": "circle"
         },
         "mode": "lines",
         "name": "17_television_broadcast_subscribers_stations",
         "orientation": "v",
         "showlegend": true,
         "x": [
          "2019-12-31T00:00:00+00:00",
          "2020-12-31T00:00:00+00:00",
          "2021-12-31T00:00:00+00:00",
          "2022-12-31T00:00:00+00:00",
          "2023-12-31T00:00:00+00:00"
         ],
         "xaxis": "x",
         "y": [
          -0.48471909346459785,
          -0.5050093589984265,
          -0.4452405334153074,
          -0.541705253910511,
          -0.523354346362444
         ],
         "yaxis": "y",
         "type": "scatter"
        },
        {
         "hovertemplate": "Name=18_tax authorities_taxes_income taxes_effective tax<br>Timestamp=%{x}<br>sentiment_sigma_fsamean=%{y}<extra></extra>",
         "legendgroup": "18_tax authorities_taxes_income taxes_effective tax",
         "line": {
          "color": "#B6E880",
          "dash": "solid"
         },
         "marker": {
          "symbol": "circle"
         },
         "mode": "lines",
         "name": "18_tax authorities_taxes_income taxes_effective tax",
         "orientation": "v",
         "showlegend": true,
         "x": [
          "2019-12-31T00:00:00+00:00",
          "2020-12-31T00:00:00+00:00",
          "2021-12-31T00:00:00+00:00",
          "2022-12-31T00:00:00+00:00",
          "2023-12-31T00:00:00+00:00"
         ],
         "xaxis": "x",
         "y": [
          -0.3065432491181772,
          -0.3349374936914992,
          -0.3272208965250424,
          -0.2709303190085021,
          -0.2727267678294863
         ],
         "yaxis": "y",
         "type": "scatter"
        },
        {
         "hovertemplate": "Name=19_covenants_credit agreement_debt agreements_restrictive covenants<br>Timestamp=%{x}<br>sentiment_sigma_fsamean=%{y}<extra></extra>",
         "legendgroup": "19_covenants_credit agreement_debt agreements_restrictive covenants",
         "line": {
          "color": "#FF97FF",
          "dash": "solid"
         },
         "marker": {
          "symbol": "circle"
         },
         "mode": "lines",
         "name": "19_covenants_credit agreement_debt agreements_restrictive covenants",
         "orientation": "v",
         "showlegend": true,
         "x": [
          "2019-12-31T00:00:00+00:00",
          "2020-12-31T00:00:00+00:00",
          "2021-12-31T00:00:00+00:00",
          "2022-12-31T00:00:00+00:00",
          "2023-12-31T00:00:00+00:00"
         ],
         "xaxis": "x",
         "y": [
          -0.3326681943670396,
          -0.3091830966018495,
          -0.32738505660191825,
          -0.3569595420483461,
          -0.372689012600028
         ],
         "yaxis": "y",
         "type": "scatter"
        }
       ],
       "layout": {
        "template": {
         "data": {
          "histogram2dcontour": [
           {
            "type": "histogram2dcontour",
            "colorbar": {
             "outlinewidth": 0,
             "ticks": ""
            },
            "colorscale": [
             [
              0.0,
              "#0d0887"
             ],
             [
              0.1111111111111111,
              "#46039f"
             ],
             [
              0.2222222222222222,
              "#7201a8"
             ],
             [
              0.3333333333333333,
              "#9c179e"
             ],
             [
              0.4444444444444444,
              "#bd3786"
             ],
             [
              0.5555555555555556,
              "#d8576b"
             ],
             [
              0.6666666666666666,
              "#ed7953"
             ],
             [
              0.7777777777777778,
              "#fb9f3a"
             ],
             [
              0.8888888888888888,
              "#fdca26"
             ],
             [
              1.0,
              "#f0f921"
             ]
            ]
           }
          ],
          "choropleth": [
           {
            "type": "choropleth",
            "colorbar": {
             "outlinewidth": 0,
             "ticks": ""
            }
           }
          ],
          "histogram2d": [
           {
            "type": "histogram2d",
            "colorbar": {
             "outlinewidth": 0,
             "ticks": ""
            },
            "colorscale": [
             [
              0.0,
              "#0d0887"
             ],
             [
              0.1111111111111111,
              "#46039f"
             ],
             [
              0.2222222222222222,
              "#7201a8"
             ],
             [
              0.3333333333333333,
              "#9c179e"
             ],
             [
              0.4444444444444444,
              "#bd3786"
             ],
             [
              0.5555555555555556,
              "#d8576b"
             ],
             [
              0.6666666666666666,
              "#ed7953"
             ],
             [
              0.7777777777777778,
              "#fb9f3a"
             ],
             [
              0.8888888888888888,
              "#fdca26"
             ],
             [
              1.0,
              "#f0f921"
             ]
            ]
           }
          ],
          "heatmap": [
           {
            "type": "heatmap",
            "colorbar": {
             "outlinewidth": 0,
             "ticks": ""
            },
            "colorscale": [
             [
              0.0,
              "#0d0887"
             ],
             [
              0.1111111111111111,
              "#46039f"
             ],
             [
              0.2222222222222222,
              "#7201a8"
             ],
             [
              0.3333333333333333,
              "#9c179e"
             ],
             [
              0.4444444444444444,
              "#bd3786"
             ],
             [
              0.5555555555555556,
              "#d8576b"
             ],
             [
              0.6666666666666666,
              "#ed7953"
             ],
             [
              0.7777777777777778,
              "#fb9f3a"
             ],
             [
              0.8888888888888888,
              "#fdca26"
             ],
             [
              1.0,
              "#f0f921"
             ]
            ]
           }
          ],
          "heatmapgl": [
           {
            "type": "heatmapgl",
            "colorbar": {
             "outlinewidth": 0,
             "ticks": ""
            },
            "colorscale": [
             [
              0.0,
              "#0d0887"
             ],
             [
              0.1111111111111111,
              "#46039f"
             ],
             [
              0.2222222222222222,
              "#7201a8"
             ],
             [
              0.3333333333333333,
              "#9c179e"
             ],
             [
              0.4444444444444444,
              "#bd3786"
             ],
             [
              0.5555555555555556,
              "#d8576b"
             ],
             [
              0.6666666666666666,
              "#ed7953"
             ],
             [
              0.7777777777777778,
              "#fb9f3a"
             ],
             [
              0.8888888888888888,
              "#fdca26"
             ],
             [
              1.0,
              "#f0f921"
             ]
            ]
           }
          ],
          "contourcarpet": [
           {
            "type": "contourcarpet",
            "colorbar": {
             "outlinewidth": 0,
             "ticks": ""
            }
           }
          ],
          "contour": [
           {
            "type": "contour",
            "colorbar": {
             "outlinewidth": 0,
             "ticks": ""
            },
            "colorscale": [
             [
              0.0,
              "#0d0887"
             ],
             [
              0.1111111111111111,
              "#46039f"
             ],
             [
              0.2222222222222222,
              "#7201a8"
             ],
             [
              0.3333333333333333,
              "#9c179e"
             ],
             [
              0.4444444444444444,
              "#bd3786"
             ],
             [
              0.5555555555555556,
              "#d8576b"
             ],
             [
              0.6666666666666666,
              "#ed7953"
             ],
             [
              0.7777777777777778,
              "#fb9f3a"
             ],
             [
              0.8888888888888888,
              "#fdca26"
             ],
             [
              1.0,
              "#f0f921"
             ]
            ]
           }
          ],
          "surface": [
           {
            "type": "surface",
            "colorbar": {
             "outlinewidth": 0,
             "ticks": ""
            },
            "colorscale": [
             [
              0.0,
              "#0d0887"
             ],
             [
              0.1111111111111111,
              "#46039f"
             ],
             [
              0.2222222222222222,
              "#7201a8"
             ],
             [
              0.3333333333333333,
              "#9c179e"
             ],
             [
              0.4444444444444444,
              "#bd3786"
             ],
             [
              0.5555555555555556,
              "#d8576b"
             ],
             [
              0.6666666666666666,
              "#ed7953"
             ],
             [
              0.7777777777777778,
              "#fb9f3a"
             ],
             [
              0.8888888888888888,
              "#fdca26"
             ],
             [
              1.0,
              "#f0f921"
             ]
            ]
           }
          ],
          "mesh3d": [
           {
            "type": "mesh3d",
            "colorbar": {
             "outlinewidth": 0,
             "ticks": ""
            }
           }
          ],
          "scatter": [
           {
            "marker": {
             "line": {
              "color": "#283442"
             }
            },
            "type": "scatter"
           }
          ],
          "parcoords": [
           {
            "type": "parcoords",
            "line": {
             "colorbar": {
              "outlinewidth": 0,
              "ticks": ""
             }
            }
           }
          ],
          "scatterpolargl": [
           {
            "type": "scatterpolargl",
            "marker": {
             "colorbar": {
              "outlinewidth": 0,
              "ticks": ""
             }
            }
           }
          ],
          "bar": [
           {
            "error_x": {
             "color": "#f2f5fa"
            },
            "error_y": {
             "color": "#f2f5fa"
            },
            "marker": {
             "line": {
              "color": "rgb(17,17,17)",
              "width": 0.5
             },
             "pattern": {
              "fillmode": "overlay",
              "size": 10,
              "solidity": 0.2
             }
            },
            "type": "bar"
           }
          ],
          "scattergeo": [
           {
            "type": "scattergeo",
            "marker": {
             "colorbar": {
              "outlinewidth": 0,
              "ticks": ""
             }
            }
           }
          ],
          "scatterpolar": [
           {
            "type": "scatterpolar",
            "marker": {
             "colorbar": {
              "outlinewidth": 0,
              "ticks": ""
             }
            }
           }
          ],
          "histogram": [
           {
            "marker": {
             "pattern": {
              "fillmode": "overlay",
              "size": 10,
              "solidity": 0.2
             }
            },
            "type": "histogram"
           }
          ],
          "scattergl": [
           {
            "marker": {
             "line": {
              "color": "#283442"
             }
            },
            "type": "scattergl"
           }
          ],
          "scatter3d": [
           {
            "type": "scatter3d",
            "line": {
             "colorbar": {
              "outlinewidth": 0,
              "ticks": ""
             }
            },
            "marker": {
             "colorbar": {
              "outlinewidth": 0,
              "ticks": ""
             }
            }
           }
          ],
          "scattermapbox": [
           {
            "type": "scattermapbox",
            "marker": {
             "colorbar": {
              "outlinewidth": 0,
              "ticks": ""
             }
            }
           }
          ],
          "scatterternary": [
           {
            "type": "scatterternary",
            "marker": {
             "colorbar": {
              "outlinewidth": 0,
              "ticks": ""
             }
            }
           }
          ],
          "scattercarpet": [
           {
            "type": "scattercarpet",
            "marker": {
             "colorbar": {
              "outlinewidth": 0,
              "ticks": ""
             }
            }
           }
          ],
          "carpet": [
           {
            "aaxis": {
             "endlinecolor": "#A2B1C6",
             "gridcolor": "#506784",
             "linecolor": "#506784",
             "minorgridcolor": "#506784",
             "startlinecolor": "#A2B1C6"
            },
            "baxis": {
             "endlinecolor": "#A2B1C6",
             "gridcolor": "#506784",
             "linecolor": "#506784",
             "minorgridcolor": "#506784",
             "startlinecolor": "#A2B1C6"
            },
            "type": "carpet"
           }
          ],
          "table": [
           {
            "cells": {
             "fill": {
              "color": "#506784"
             },
             "line": {
              "color": "rgb(17,17,17)"
             }
            },
            "header": {
             "fill": {
              "color": "#2a3f5f"
             },
             "line": {
              "color": "rgb(17,17,17)"
             }
            },
            "type": "table"
           }
          ],
          "barpolar": [
           {
            "marker": {
             "line": {
              "color": "rgb(17,17,17)",
              "width": 0.5
             },
             "pattern": {
              "fillmode": "overlay",
              "size": 10,
              "solidity": 0.2
             }
            },
            "type": "barpolar"
           }
          ],
          "pie": [
           {
            "automargin": true,
            "type": "pie"
           }
          ]
         },
         "layout": {
          "autotypenumbers": "strict",
          "colorway": [
           "#636efa",
           "#EF553B",
           "#00cc96",
           "#ab63fa",
           "#FFA15A",
           "#19d3f3",
           "#FF6692",
           "#B6E880",
           "#FF97FF",
           "#FECB52"
          ],
          "font": {
           "color": "#f2f5fa"
          },
          "hovermode": "closest",
          "hoverlabel": {
           "align": "left"
          },
          "paper_bgcolor": "rgb(17,17,17)",
          "plot_bgcolor": "rgb(17,17,17)",
          "polar": {
           "bgcolor": "rgb(17,17,17)",
           "angularaxis": {
            "gridcolor": "#506784",
            "linecolor": "#506784",
            "ticks": ""
           },
           "radialaxis": {
            "gridcolor": "#506784",
            "linecolor": "#506784",
            "ticks": ""
           }
          },
          "ternary": {
           "bgcolor": "rgb(17,17,17)",
           "aaxis": {
            "gridcolor": "#506784",
            "linecolor": "#506784",
            "ticks": ""
           },
           "baxis": {
            "gridcolor": "#506784",
            "linecolor": "#506784",
            "ticks": ""
           },
           "caxis": {
            "gridcolor": "#506784",
            "linecolor": "#506784",
            "ticks": ""
           }
          },
          "coloraxis": {
           "colorbar": {
            "outlinewidth": 0,
            "ticks": ""
           }
          },
          "colorscale": {
           "sequential": [
            [
             0.0,
             "#0d0887"
            ],
            [
             0.1111111111111111,
             "#46039f"
            ],
            [
             0.2222222222222222,
             "#7201a8"
            ],
            [
             0.3333333333333333,
             "#9c179e"
            ],
            [
             0.4444444444444444,
             "#bd3786"
            ],
            [
             0.5555555555555556,
             "#d8576b"
            ],
            [
             0.6666666666666666,
             "#ed7953"
            ],
            [
             0.7777777777777778,
             "#fb9f3a"
            ],
            [
             0.8888888888888888,
             "#fdca26"
            ],
            [
             1.0,
             "#f0f921"
            ]
           ],
           "sequentialminus": [
            [
             0.0,
             "#0d0887"
            ],
            [
             0.1111111111111111,
             "#46039f"
            ],
            [
             0.2222222222222222,
             "#7201a8"
            ],
            [
             0.3333333333333333,
             "#9c179e"
            ],
            [
             0.4444444444444444,
             "#bd3786"
            ],
            [
             0.5555555555555556,
             "#d8576b"
            ],
            [
             0.6666666666666666,
             "#ed7953"
            ],
            [
             0.7777777777777778,
             "#fb9f3a"
            ],
            [
             0.8888888888888888,
             "#fdca26"
            ],
            [
             1.0,
             "#f0f921"
            ]
           ],
           "diverging": [
            [
             0,
             "#8e0152"
            ],
            [
             0.1,
             "#c51b7d"
            ],
            [
             0.2,
             "#de77ae"
            ],
            [
             0.3,
             "#f1b6da"
            ],
            [
             0.4,
             "#fde0ef"
            ],
            [
             0.5,
             "#f7f7f7"
            ],
            [
             0.6,
             "#e6f5d0"
            ],
            [
             0.7,
             "#b8e186"
            ],
            [
             0.8,
             "#7fbc41"
            ],
            [
             0.9,
             "#4d9221"
            ],
            [
             1,
             "#276419"
            ]
           ]
          },
          "xaxis": {
           "gridcolor": "#283442",
           "linecolor": "#506784",
           "ticks": "",
           "title": {
            "standoff": 15
           },
           "zerolinecolor": "#283442",
           "automargin": true,
           "zerolinewidth": 2
          },
          "yaxis": {
           "gridcolor": "#283442",
           "linecolor": "#506784",
           "ticks": "",
           "title": {
            "standoff": 15
           },
           "zerolinecolor": "#283442",
           "automargin": true,
           "zerolinewidth": 2
          },
          "scene": {
           "xaxis": {
            "backgroundcolor": "rgb(17,17,17)",
            "gridcolor": "#506784",
            "linecolor": "#506784",
            "showbackground": true,
            "ticks": "",
            "zerolinecolor": "#C8D4E3",
            "gridwidth": 2
           },
           "yaxis": {
            "backgroundcolor": "rgb(17,17,17)",
            "gridcolor": "#506784",
            "linecolor": "#506784",
            "showbackground": true,
            "ticks": "",
            "zerolinecolor": "#C8D4E3",
            "gridwidth": 2
           },
           "zaxis": {
            "backgroundcolor": "rgb(17,17,17)",
            "gridcolor": "#506784",
            "linecolor": "#506784",
            "showbackground": true,
            "ticks": "",
            "zerolinecolor": "#C8D4E3",
            "gridwidth": 2
           }
          },
          "shapedefaults": {
           "line": {
            "color": "#f2f5fa"
           }
          },
          "annotationdefaults": {
           "arrowcolor": "#f2f5fa",
           "arrowhead": 0,
           "arrowwidth": 1
          },
          "geo": {
           "bgcolor": "rgb(17,17,17)",
           "landcolor": "rgb(17,17,17)",
           "subunitcolor": "#506784",
           "showland": true,
           "showlakes": true,
           "lakecolor": "rgb(17,17,17)"
          },
          "title": {
           "x": 0.05
          },
          "updatemenudefaults": {
           "bgcolor": "#506784",
           "borderwidth": 0
          },
          "sliderdefaults": {
           "bgcolor": "#C8D4E3",
           "borderwidth": 1,
           "bordercolor": "rgb(17,17,17)",
           "tickwidth": 0
          },
          "mapbox": {
           "style": "dark"
          }
         }
        },
        "xaxis": {
         "anchor": "y",
         "domain": [
          0.0,
          1.0
         ],
         "title": {
          "text": "Timestamp"
         }
        },
        "yaxis": {
         "anchor": "x",
         "domain": [
          0.0,
          1.0
         ],
         "title": {
          "text": "Average Sentiment per period"
         }
        },
        "legend": {
         "title": {
          "text": "Name"
         },
         "tracegroupgap": 0
        },
        "margin": {
         "t": 60
        },
        "title": {
         "text": "Topic sentiment -Section1A"
        }
       },
       "config": {
        "plotlyServerURL": "https://plot.ly"
       }
      },
      "text/html": "<div>                            <div id=\"da463c0b-6513-4906-b851-158798a44959\" class=\"plotly-graph-div\" style=\"height:525px; width:100%;\"></div>            <script type=\"text/javascript\">                require([\"plotly\"], function(Plotly) {                    window.PLOTLYENV=window.PLOTLYENV || {};                                    if (document.getElementById(\"da463c0b-6513-4906-b851-158798a44959\")) {                    Plotly.newPlot(                        \"da463c0b-6513-4906-b851-158798a44959\",                        [{\"hovertemplate\":\"Name=1_components_raw materials_suppliers_manufacturing\\u003cbr\\u003eTimestamp=%{x}\\u003cbr\\u003esentiment_sigma_fsamean=%{y}\\u003cextra\\u003e\\u003c\\u002fextra\\u003e\",\"legendgroup\":\"1_components_raw materials_suppliers_manufacturing\",\"line\":{\"color\":\"#636efa\",\"dash\":\"solid\"},\"marker\":{\"symbol\":\"circle\"},\"mode\":\"lines\",\"name\":\"1_components_raw materials_suppliers_manufacturing\",\"orientation\":\"v\",\"showlegend\":true,\"x\":[\"2019-12-31T00:00:00+00:00\",\"2020-12-31T00:00:00+00:00\",\"2021-12-31T00:00:00+00:00\",\"2022-12-31T00:00:00+00:00\",\"2023-12-31T00:00:00+00:00\"],\"xaxis\":\"x\",\"y\":[-0.614052752687319,-0.6094069740088832,-0.6134976988095183,-0.622631799294354,-0.6096356637953293],\"yaxis\":\"y\",\"type\":\"scatter\"},{\"hovertemplate\":\"Name=2_intellectual property_patents_infringement_protect intellectual\\u003cbr\\u003eTimestamp=%{x}\\u003cbr\\u003esentiment_sigma_fsamean=%{y}\\u003cextra\\u003e\\u003c\\u002fextra\\u003e\",\"legendgroup\":\"2_intellectual property_patents_infringement_protect intellectual\",\"line\":{\"color\":\"#EF553B\",\"dash\":\"solid\"},\"marker\":{\"symbol\":\"circle\"},\"mode\":\"lines\",\"name\":\"2_intellectual property_patents_infringement_protect intellectual\",\"orientation\":\"v\",\"showlegend\":true,\"x\":[\"2019-12-31T00:00:00+00:00\",\"2020-12-31T00:00:00+00:00\",\"2021-12-31T00:00:00+00:00\",\"2022-12-31T00:00:00+00:00\",\"2023-12-31T00:00:00+00:00\"],\"xaxis\":\"x\",\"y\":[-0.17166952913006148,-0.19532447501465125,-0.20327010273509177,-0.23472593467476313,-0.21149141541341457],\"yaxis\":\"y\",\"type\":\"scatter\"},{\"hovertemplate\":\"Name=3_libor_sofr_reference rates_usd libor\\u003cbr\\u003eTimestamp=%{x}\\u003cbr\\u003esentiment_sigma_fsamean=%{y}\\u003cextra\\u003e\\u003c\\u002fextra\\u003e\",\"legendgroup\":\"3_libor_sofr_reference rates_usd libor\",\"line\":{\"color\":\"#00cc96\",\"dash\":\"solid\"},\"marker\":{\"symbol\":\"circle\"},\"mode\":\"lines\",\"name\":\"3_libor_sofr_reference rates_usd libor\",\"orientation\":\"v\",\"showlegend\":true,\"x\":[\"2019-12-31T00:00:00+00:00\",\"2020-12-31T00:00:00+00:00\",\"2021-12-31T00:00:00+00:00\",\"2022-12-31T00:00:00+00:00\",\"2023-12-31T00:00:00+00:00\"],\"xaxis\":\"x\",\"y\":[-0.3246861226683439,-0.27937369701990195,-0.25725942966808757,-0.2324465102640099,-0.2798326198280472],\"yaxis\":\"y\",\"type\":\"scatter\"},{\"hovertemplate\":\"Name=4_goodwill_intangible assets_goodwill intangible_carrying value\\u003cbr\\u003eTimestamp=%{x}\\u003cbr\\u003esentiment_sigma_fsamean=%{y}\\u003cextra\\u003e\\u003c\\u002fextra\\u003e\",\"legendgroup\":\"4_goodwill_intangible assets_goodwill intangible_carrying value\",\"line\":{\"color\":\"#ab63fa\",\"dash\":\"solid\"},\"marker\":{\"symbol\":\"circle\"},\"mode\":\"lines\",\"name\":\"4_goodwill_intangible assets_goodwill intangible_carrying value\",\"orientation\":\"v\",\"showlegend\":true,\"x\":[\"2019-12-31T00:00:00+00:00\",\"2020-12-31T00:00:00+00:00\",\"2021-12-31T00:00:00+00:00\",\"2022-12-31T00:00:00+00:00\",\"2023-12-31T00:00:00+00:00\"],\"xaxis\":\"x\",\"y\":[-0.5364161637931945,-0.5799887991342388,-0.5589850869359849,-0.5485678606844963,-0.5459387163147655],\"yaxis\":\"y\",\"type\":\"scatter\"},{\"hovertemplate\":\"Name=5_currency_currencies_exchange rates_currency exchange\\u003cbr\\u003eTimestamp=%{x}\\u003cbr\\u003esentiment_sigma_fsamean=%{y}\\u003cextra\\u003e\\u003c\\u002fextra\\u003e\",\"legendgroup\":\"5_currency_currencies_exchange rates_currency exchange\",\"line\":{\"color\":\"#FFA15A\",\"dash\":\"solid\"},\"marker\":{\"symbol\":\"circle\"},\"mode\":\"lines\",\"name\":\"5_currency_currencies_exchange rates_currency exchange\",\"orientation\":\"v\",\"showlegend\":true,\"x\":[\"2019-12-31T00:00:00+00:00\",\"2020-12-31T00:00:00+00:00\",\"2021-12-31T00:00:00+00:00\",\"2022-12-31T00:00:00+00:00\",\"2023-12-31T00:00:00+00:00\"],\"xaxis\":\"x\",\"y\":[-0.48188897017594223,-0.4954417268664851,-0.5082631441525051,-0.5183110975629681,-0.5244589744181167],\"yaxis\":\"y\",\"type\":\"scatter\"},{\"hovertemplate\":\"Name=6_brexit_eu_united kingdom_european union\\u003cbr\\u003eTimestamp=%{x}\\u003cbr\\u003esentiment_sigma_fsamean=%{y}\\u003cextra\\u003e\\u003c\\u002fextra\\u003e\",\"legendgroup\":\"6_brexit_eu_united kingdom_european union\",\"line\":{\"color\":\"#19d3f3\",\"dash\":\"solid\"},\"marker\":{\"symbol\":\"circle\"},\"mode\":\"lines\",\"name\":\"6_brexit_eu_united kingdom_european union\",\"orientation\":\"v\",\"showlegend\":true,\"x\":[\"2019-12-31T00:00:00+00:00\",\"2020-12-31T00:00:00+00:00\",\"2021-12-31T00:00:00+00:00\",\"2022-12-31T00:00:00+00:00\",\"2023-12-31T00:00:00+00:00\"],\"xaxis\":\"x\",\"y\":[-0.5251414763558772,-0.5019589974632803,-0.43068673295133253,-0.47587800403184527,-0.43612058758735656],\"yaxis\":\"y\",\"type\":\"scatter\"},{\"hovertemplate\":\"Name=7_end table_table_table start_table end\\u003cbr\\u003eTimestamp=%{x}\\u003cbr\\u003esentiment_sigma_fsamean=%{y}\\u003cextra\\u003e\\u003c\\u002fextra\\u003e\",\"legendgroup\":\"7_end table_table_table start_table end\",\"line\":{\"color\":\"#FF6692\",\"dash\":\"solid\"},\"marker\":{\"symbol\":\"circle\"},\"mode\":\"lines\",\"name\":\"7_end table_table_table start_table end\",\"orientation\":\"v\",\"showlegend\":true,\"x\":[\"2019-12-31T00:00:00+00:00\",\"2020-12-31T00:00:00+00:00\",\"2021-12-31T00:00:00+00:00\",\"2022-12-31T00:00:00+00:00\",\"2023-12-31T00:00:00+00:00\"],\"xaxis\":\"x\",\"y\":[-0.4251714585520697,-0.46755194395512073,-0.6044526525000309,-0.4996661910166343,-0.6114968319733938],\"yaxis\":\"y\",\"type\":\"scatter\"},{\"hovertemplate\":\"Name=8_personnel_senior management_key personnel_attract retain\\u003cbr\\u003eTimestamp=%{x}\\u003cbr\\u003esentiment_sigma_fsamean=%{y}\\u003cextra\\u003e\\u003c\\u002fextra\\u003e\",\"legendgroup\":\"8_personnel_senior management_key personnel_attract retain\",\"line\":{\"color\":\"#B6E880\",\"dash\":\"solid\"},\"marker\":{\"symbol\":\"circle\"},\"mode\":\"lines\",\"name\":\"8_personnel_senior management_key personnel_attract retain\",\"orientation\":\"v\",\"showlegend\":true,\"x\":[\"2019-12-31T00:00:00+00:00\",\"2020-12-31T00:00:00+00:00\",\"2021-12-31T00:00:00+00:00\",\"2022-12-31T00:00:00+00:00\",\"2023-12-31T00:00:00+00:00\"],\"xaxis\":\"x\",\"y\":[-0.4402633601600684,-0.4673557097420973,-0.4619070906530727,-0.5117281164998323,-0.5042614794025818],\"yaxis\":\"y\",\"type\":\"scatter\"},{\"hovertemplate\":\"Name=9_international operations_international_foreign_international sales\\u003cbr\\u003eTimestamp=%{x}\\u003cbr\\u003esentiment_sigma_fsamean=%{y}\\u003cextra\\u003e\\u003c\\u002fextra\\u003e\",\"legendgroup\":\"9_international operations_international_foreign_international sales\",\"line\":{\"color\":\"#FF97FF\",\"dash\":\"solid\"},\"marker\":{\"symbol\":\"circle\"},\"mode\":\"lines\",\"name\":\"9_international operations_international_foreign_international sales\",\"orientation\":\"v\",\"showlegend\":true,\"x\":[\"2019-12-31T00:00:00+00:00\",\"2020-12-31T00:00:00+00:00\",\"2021-12-31T00:00:00+00:00\",\"2022-12-31T00:00:00+00:00\",\"2023-12-31T00:00:00+00:00\"],\"xaxis\":\"x\",\"y\":[-0.5463370938192714,-0.556715479824278,-0.369736464584575,-0.34897489649684804,-0.46018850494314123],\"yaxis\":\"y\",\"type\":\"scatter\"},{\"hovertemplate\":\"Name=10_pension_pension plans_benefit pension_funding requirements\\u003cbr\\u003eTimestamp=%{x}\\u003cbr\\u003esentiment_sigma_fsamean=%{y}\\u003cextra\\u003e\\u003c\\u002fextra\\u003e\",\"legendgroup\":\"10_pension_pension plans_benefit pension_funding requirements\",\"line\":{\"color\":\"#FECB52\",\"dash\":\"solid\"},\"marker\":{\"symbol\":\"circle\"},\"mode\":\"lines\",\"name\":\"10_pension_pension plans_benefit pension_funding requirements\",\"orientation\":\"v\",\"showlegend\":true,\"x\":[\"2019-12-31T00:00:00+00:00\",\"2020-12-31T00:00:00+00:00\",\"2021-12-31T00:00:00+00:00\",\"2022-12-31T00:00:00+00:00\",\"2023-12-31T00:00:00+00:00\"],\"xaxis\":\"x\",\"y\":[-0.41427352220293073,-0.4133318229382779,-0.43316512496575066,-0.41323166423373753,-0.4315087376931392],\"yaxis\":\"y\",\"type\":\"scatter\"},{\"hovertemplate\":\"Name=11_end table_table_table start_table end\\u003cbr\\u003eTimestamp=%{x}\\u003cbr\\u003esentiment_sigma_fsamean=%{y}\\u003cextra\\u003e\\u003c\\u002fextra\\u003e\",\"legendgroup\":\"11_end table_table_table start_table end\",\"line\":{\"color\":\"#636efa\",\"dash\":\"solid\"},\"marker\":{\"symbol\":\"circle\"},\"mode\":\"lines\",\"name\":\"11_end table_table_table start_table end\",\"orientation\":\"v\",\"showlegend\":true,\"x\":[\"2019-12-31T00:00:00+00:00\",\"2020-12-31T00:00:00+00:00\",\"2021-12-31T00:00:00+00:00\",\"2022-12-31T00:00:00+00:00\",\"2023-12-31T00:00:00+00:00\"],\"xaxis\":\"x\",\"y\":[-0.28269348778959474,-0.2615980025260679,-0.3195213556289673,-0.30815378597804477,-0.25870159149169925],\"yaxis\":\"y\",\"type\":\"scatter\"},{\"hovertemplate\":\"Name=12_credit ratings_rating agencies_credit rating_fitch\\u003cbr\\u003eTimestamp=%{x}\\u003cbr\\u003esentiment_sigma_fsamean=%{y}\\u003cextra\\u003e\\u003c\\u002fextra\\u003e\",\"legendgroup\":\"12_credit ratings_rating agencies_credit rating_fitch\",\"line\":{\"color\":\"#EF553B\",\"dash\":\"solid\"},\"marker\":{\"symbol\":\"circle\"},\"mode\":\"lines\",\"name\":\"12_credit ratings_rating agencies_credit rating_fitch\",\"orientation\":\"v\",\"showlegend\":true,\"x\":[\"2019-12-31T00:00:00+00:00\",\"2020-12-31T00:00:00+00:00\",\"2021-12-31T00:00:00+00:00\",\"2022-12-31T00:00:00+00:00\",\"2023-12-31T00:00:00+00:00\"],\"xaxis\":\"x\",\"y\":[-0.5140716625798133,-0.4592361050717374,-0.552975412005576,-0.5462435857867295,-0.5111492419784719],\"yaxis\":\"y\",\"type\":\"scatter\"},{\"hovertemplate\":\"Name=13_financial reporting_internal controls_weaknesses_sarbanes oxley\\u003cbr\\u003eTimestamp=%{x}\\u003cbr\\u003esentiment_sigma_fsamean=%{y}\\u003cextra\\u003e\\u003c\\u002fextra\\u003e\",\"legendgroup\":\"13_financial reporting_internal controls_weaknesses_sarbanes oxley\",\"line\":{\"color\":\"#00cc96\",\"dash\":\"solid\"},\"marker\":{\"symbol\":\"circle\"},\"mode\":\"lines\",\"name\":\"13_financial reporting_internal controls_weaknesses_sarbanes oxley\",\"orientation\":\"v\",\"showlegend\":true,\"x\":[\"2019-12-31T00:00:00+00:00\",\"2020-12-31T00:00:00+00:00\",\"2021-12-31T00:00:00+00:00\",\"2022-12-31T00:00:00+00:00\",\"2023-12-31T00:00:00+00:00\"],\"xaxis\":\"x\",\"y\":[-0.44795258683070804,-0.5223656036637047,-0.5264948373749143,-0.5155303725464777,-0.5207905692330906],\"yaxis\":\"y\",\"type\":\"scatter\"},{\"hovertemplate\":\"Name=14_esg_esg matters_esg practices_sustainability\\u003cbr\\u003eTimestamp=%{x}\\u003cbr\\u003esentiment_sigma_fsamean=%{y}\\u003cextra\\u003e\\u003c\\u002fextra\\u003e\",\"legendgroup\":\"14_esg_esg matters_esg practices_sustainability\",\"line\":{\"color\":\"#ab63fa\",\"dash\":\"solid\"},\"marker\":{\"symbol\":\"circle\"},\"mode\":\"lines\",\"name\":\"14_esg_esg matters_esg practices_sustainability\",\"orientation\":\"v\",\"showlegend\":true,\"x\":[\"2019-12-31T00:00:00+00:00\",\"2020-12-31T00:00:00+00:00\",\"2021-12-31T00:00:00+00:00\",\"2022-12-31T00:00:00+00:00\",\"2023-12-31T00:00:00+00:00\"],\"xaxis\":\"x\",\"y\":[-0.511251429716746,-0.5286514369341043,-0.4347602680325508,-0.49153493233025075,-0.4034934830207091],\"yaxis\":\"y\",\"type\":\"scatter\"},{\"hovertemplate\":\"Name=15_looking statements_results differ_litigation reform_words 8220\\u003cbr\\u003eTimestamp=%{x}\\u003cbr\\u003esentiment_sigma_fsamean=%{y}\\u003cextra\\u003e\\u003c\\u002fextra\\u003e\",\"legendgroup\":\"15_looking statements_results differ_litigation reform_words 8220\",\"line\":{\"color\":\"#FFA15A\",\"dash\":\"solid\"},\"marker\":{\"symbol\":\"circle\"},\"mode\":\"lines\",\"name\":\"15_looking statements_results differ_litigation reform_words 8220\",\"orientation\":\"v\",\"showlegend\":true,\"x\":[\"2019-12-31T00:00:00+00:00\",\"2020-12-31T00:00:00+00:00\",\"2021-12-31T00:00:00+00:00\",\"2022-12-31T00:00:00+00:00\",\"2023-12-31T00:00:00+00:00\"],\"xaxis\":\"x\",\"y\":[-0.049182140285318546,-0.06387815833091735,-0.03790619812513653,-0.01705627792920822,-0.037999092428772537],\"yaxis\":\"y\",\"type\":\"scatter\"},{\"hovertemplate\":\"Name=16_trials_clinical trials_investigational medicines_clinical trial\\u003cbr\\u003eTimestamp=%{x}\\u003cbr\\u003esentiment_sigma_fsamean=%{y}\\u003cextra\\u003e\\u003c\\u002fextra\\u003e\",\"legendgroup\":\"16_trials_clinical trials_investigational medicines_clinical trial\",\"line\":{\"color\":\"#19d3f3\",\"dash\":\"solid\"},\"marker\":{\"symbol\":\"circle\"},\"mode\":\"lines\",\"name\":\"16_trials_clinical trials_investigational medicines_clinical trial\",\"orientation\":\"v\",\"showlegend\":true,\"x\":[\"2019-12-31T00:00:00+00:00\",\"2020-12-31T00:00:00+00:00\",\"2021-12-31T00:00:00+00:00\",\"2022-12-31T00:00:00+00:00\",\"2023-12-31T00:00:00+00:00\"],\"xaxis\":\"x\",\"y\":[-0.3171155201064216,-0.4057864726899744,-0.3599876018015893,-0.3592831371603785,-0.31935840408976485],\"yaxis\":\"y\",\"type\":\"scatter\"},{\"hovertemplate\":\"Name=17_television_broadcast_subscribers_stations\\u003cbr\\u003eTimestamp=%{x}\\u003cbr\\u003esentiment_sigma_fsamean=%{y}\\u003cextra\\u003e\\u003c\\u002fextra\\u003e\",\"legendgroup\":\"17_television_broadcast_subscribers_stations\",\"line\":{\"color\":\"#FF6692\",\"dash\":\"solid\"},\"marker\":{\"symbol\":\"circle\"},\"mode\":\"lines\",\"name\":\"17_television_broadcast_subscribers_stations\",\"orientation\":\"v\",\"showlegend\":true,\"x\":[\"2019-12-31T00:00:00+00:00\",\"2020-12-31T00:00:00+00:00\",\"2021-12-31T00:00:00+00:00\",\"2022-12-31T00:00:00+00:00\",\"2023-12-31T00:00:00+00:00\"],\"xaxis\":\"x\",\"y\":[-0.48471909346459785,-0.5050093589984265,-0.4452405334153074,-0.541705253910511,-0.523354346362444],\"yaxis\":\"y\",\"type\":\"scatter\"},{\"hovertemplate\":\"Name=18_tax authorities_taxes_income taxes_effective tax\\u003cbr\\u003eTimestamp=%{x}\\u003cbr\\u003esentiment_sigma_fsamean=%{y}\\u003cextra\\u003e\\u003c\\u002fextra\\u003e\",\"legendgroup\":\"18_tax authorities_taxes_income taxes_effective tax\",\"line\":{\"color\":\"#B6E880\",\"dash\":\"solid\"},\"marker\":{\"symbol\":\"circle\"},\"mode\":\"lines\",\"name\":\"18_tax authorities_taxes_income taxes_effective tax\",\"orientation\":\"v\",\"showlegend\":true,\"x\":[\"2019-12-31T00:00:00+00:00\",\"2020-12-31T00:00:00+00:00\",\"2021-12-31T00:00:00+00:00\",\"2022-12-31T00:00:00+00:00\",\"2023-12-31T00:00:00+00:00\"],\"xaxis\":\"x\",\"y\":[-0.3065432491181772,-0.3349374936914992,-0.3272208965250424,-0.2709303190085021,-0.2727267678294863],\"yaxis\":\"y\",\"type\":\"scatter\"},{\"hovertemplate\":\"Name=19_covenants_credit agreement_debt agreements_restrictive covenants\\u003cbr\\u003eTimestamp=%{x}\\u003cbr\\u003esentiment_sigma_fsamean=%{y}\\u003cextra\\u003e\\u003c\\u002fextra\\u003e\",\"legendgroup\":\"19_covenants_credit agreement_debt agreements_restrictive covenants\",\"line\":{\"color\":\"#FF97FF\",\"dash\":\"solid\"},\"marker\":{\"symbol\":\"circle\"},\"mode\":\"lines\",\"name\":\"19_covenants_credit agreement_debt agreements_restrictive covenants\",\"orientation\":\"v\",\"showlegend\":true,\"x\":[\"2019-12-31T00:00:00+00:00\",\"2020-12-31T00:00:00+00:00\",\"2021-12-31T00:00:00+00:00\",\"2022-12-31T00:00:00+00:00\",\"2023-12-31T00:00:00+00:00\"],\"xaxis\":\"x\",\"y\":[-0.3326681943670396,-0.3091830966018495,-0.32738505660191825,-0.3569595420483461,-0.372689012600028],\"yaxis\":\"y\",\"type\":\"scatter\"}],                        {\"template\":{\"data\":{\"histogram2dcontour\":[{\"type\":\"histogram2dcontour\",\"colorbar\":{\"outlinewidth\":0,\"ticks\":\"\"},\"colorscale\":[[0.0,\"#0d0887\"],[0.1111111111111111,\"#46039f\"],[0.2222222222222222,\"#7201a8\"],[0.3333333333333333,\"#9c179e\"],[0.4444444444444444,\"#bd3786\"],[0.5555555555555556,\"#d8576b\"],[0.6666666666666666,\"#ed7953\"],[0.7777777777777778,\"#fb9f3a\"],[0.8888888888888888,\"#fdca26\"],[1.0,\"#f0f921\"]]}],\"choropleth\":[{\"type\":\"choropleth\",\"colorbar\":{\"outlinewidth\":0,\"ticks\":\"\"}}],\"histogram2d\":[{\"type\":\"histogram2d\",\"colorbar\":{\"outlinewidth\":0,\"ticks\":\"\"},\"colorscale\":[[0.0,\"#0d0887\"],[0.1111111111111111,\"#46039f\"],[0.2222222222222222,\"#7201a8\"],[0.3333333333333333,\"#9c179e\"],[0.4444444444444444,\"#bd3786\"],[0.5555555555555556,\"#d8576b\"],[0.6666666666666666,\"#ed7953\"],[0.7777777777777778,\"#fb9f3a\"],[0.8888888888888888,\"#fdca26\"],[1.0,\"#f0f921\"]]}],\"heatmap\":[{\"type\":\"heatmap\",\"colorbar\":{\"outlinewidth\":0,\"ticks\":\"\"},\"colorscale\":[[0.0,\"#0d0887\"],[0.1111111111111111,\"#46039f\"],[0.2222222222222222,\"#7201a8\"],[0.3333333333333333,\"#9c179e\"],[0.4444444444444444,\"#bd3786\"],[0.5555555555555556,\"#d8576b\"],[0.6666666666666666,\"#ed7953\"],[0.7777777777777778,\"#fb9f3a\"],[0.8888888888888888,\"#fdca26\"],[1.0,\"#f0f921\"]]}],\"heatmapgl\":[{\"type\":\"heatmapgl\",\"colorbar\":{\"outlinewidth\":0,\"ticks\":\"\"},\"colorscale\":[[0.0,\"#0d0887\"],[0.1111111111111111,\"#46039f\"],[0.2222222222222222,\"#7201a8\"],[0.3333333333333333,\"#9c179e\"],[0.4444444444444444,\"#bd3786\"],[0.5555555555555556,\"#d8576b\"],[0.6666666666666666,\"#ed7953\"],[0.7777777777777778,\"#fb9f3a\"],[0.8888888888888888,\"#fdca26\"],[1.0,\"#f0f921\"]]}],\"contourcarpet\":[{\"type\":\"contourcarpet\",\"colorbar\":{\"outlinewidth\":0,\"ticks\":\"\"}}],\"contour\":[{\"type\":\"contour\",\"colorbar\":{\"outlinewidth\":0,\"ticks\":\"\"},\"colorscale\":[[0.0,\"#0d0887\"],[0.1111111111111111,\"#46039f\"],[0.2222222222222222,\"#7201a8\"],[0.3333333333333333,\"#9c179e\"],[0.4444444444444444,\"#bd3786\"],[0.5555555555555556,\"#d8576b\"],[0.6666666666666666,\"#ed7953\"],[0.7777777777777778,\"#fb9f3a\"],[0.8888888888888888,\"#fdca26\"],[1.0,\"#f0f921\"]]}],\"surface\":[{\"type\":\"surface\",\"colorbar\":{\"outlinewidth\":0,\"ticks\":\"\"},\"colorscale\":[[0.0,\"#0d0887\"],[0.1111111111111111,\"#46039f\"],[0.2222222222222222,\"#7201a8\"],[0.3333333333333333,\"#9c179e\"],[0.4444444444444444,\"#bd3786\"],[0.5555555555555556,\"#d8576b\"],[0.6666666666666666,\"#ed7953\"],[0.7777777777777778,\"#fb9f3a\"],[0.8888888888888888,\"#fdca26\"],[1.0,\"#f0f921\"]]}],\"mesh3d\":[{\"type\":\"mesh3d\",\"colorbar\":{\"outlinewidth\":0,\"ticks\":\"\"}}],\"scatter\":[{\"marker\":{\"line\":{\"color\":\"#283442\"}},\"type\":\"scatter\"}],\"parcoords\":[{\"type\":\"parcoords\",\"line\":{\"colorbar\":{\"outlinewidth\":0,\"ticks\":\"\"}}}],\"scatterpolargl\":[{\"type\":\"scatterpolargl\",\"marker\":{\"colorbar\":{\"outlinewidth\":0,\"ticks\":\"\"}}}],\"bar\":[{\"error_x\":{\"color\":\"#f2f5fa\"},\"error_y\":{\"color\":\"#f2f5fa\"},\"marker\":{\"line\":{\"color\":\"rgb(17,17,17)\",\"width\":0.5},\"pattern\":{\"fillmode\":\"overlay\",\"size\":10,\"solidity\":0.2}},\"type\":\"bar\"}],\"scattergeo\":[{\"type\":\"scattergeo\",\"marker\":{\"colorbar\":{\"outlinewidth\":0,\"ticks\":\"\"}}}],\"scatterpolar\":[{\"type\":\"scatterpolar\",\"marker\":{\"colorbar\":{\"outlinewidth\":0,\"ticks\":\"\"}}}],\"histogram\":[{\"marker\":{\"pattern\":{\"fillmode\":\"overlay\",\"size\":10,\"solidity\":0.2}},\"type\":\"histogram\"}],\"scattergl\":[{\"marker\":{\"line\":{\"color\":\"#283442\"}},\"type\":\"scattergl\"}],\"scatter3d\":[{\"type\":\"scatter3d\",\"line\":{\"colorbar\":{\"outlinewidth\":0,\"ticks\":\"\"}},\"marker\":{\"colorbar\":{\"outlinewidth\":0,\"ticks\":\"\"}}}],\"scattermapbox\":[{\"type\":\"scattermapbox\",\"marker\":{\"colorbar\":{\"outlinewidth\":0,\"ticks\":\"\"}}}],\"scatterternary\":[{\"type\":\"scatterternary\",\"marker\":{\"colorbar\":{\"outlinewidth\":0,\"ticks\":\"\"}}}],\"scattercarpet\":[{\"type\":\"scattercarpet\",\"marker\":{\"colorbar\":{\"outlinewidth\":0,\"ticks\":\"\"}}}],\"carpet\":[{\"aaxis\":{\"endlinecolor\":\"#A2B1C6\",\"gridcolor\":\"#506784\",\"linecolor\":\"#506784\",\"minorgridcolor\":\"#506784\",\"startlinecolor\":\"#A2B1C6\"},\"baxis\":{\"endlinecolor\":\"#A2B1C6\",\"gridcolor\":\"#506784\",\"linecolor\":\"#506784\",\"minorgridcolor\":\"#506784\",\"startlinecolor\":\"#A2B1C6\"},\"type\":\"carpet\"}],\"table\":[{\"cells\":{\"fill\":{\"color\":\"#506784\"},\"line\":{\"color\":\"rgb(17,17,17)\"}},\"header\":{\"fill\":{\"color\":\"#2a3f5f\"},\"line\":{\"color\":\"rgb(17,17,17)\"}},\"type\":\"table\"}],\"barpolar\":[{\"marker\":{\"line\":{\"color\":\"rgb(17,17,17)\",\"width\":0.5},\"pattern\":{\"fillmode\":\"overlay\",\"size\":10,\"solidity\":0.2}},\"type\":\"barpolar\"}],\"pie\":[{\"automargin\":true,\"type\":\"pie\"}]},\"layout\":{\"autotypenumbers\":\"strict\",\"colorway\":[\"#636efa\",\"#EF553B\",\"#00cc96\",\"#ab63fa\",\"#FFA15A\",\"#19d3f3\",\"#FF6692\",\"#B6E880\",\"#FF97FF\",\"#FECB52\"],\"font\":{\"color\":\"#f2f5fa\"},\"hovermode\":\"closest\",\"hoverlabel\":{\"align\":\"left\"},\"paper_bgcolor\":\"rgb(17,17,17)\",\"plot_bgcolor\":\"rgb(17,17,17)\",\"polar\":{\"bgcolor\":\"rgb(17,17,17)\",\"angularaxis\":{\"gridcolor\":\"#506784\",\"linecolor\":\"#506784\",\"ticks\":\"\"},\"radialaxis\":{\"gridcolor\":\"#506784\",\"linecolor\":\"#506784\",\"ticks\":\"\"}},\"ternary\":{\"bgcolor\":\"rgb(17,17,17)\",\"aaxis\":{\"gridcolor\":\"#506784\",\"linecolor\":\"#506784\",\"ticks\":\"\"},\"baxis\":{\"gridcolor\":\"#506784\",\"linecolor\":\"#506784\",\"ticks\":\"\"},\"caxis\":{\"gridcolor\":\"#506784\",\"linecolor\":\"#506784\",\"ticks\":\"\"}},\"coloraxis\":{\"colorbar\":{\"outlinewidth\":0,\"ticks\":\"\"}},\"colorscale\":{\"sequential\":[[0.0,\"#0d0887\"],[0.1111111111111111,\"#46039f\"],[0.2222222222222222,\"#7201a8\"],[0.3333333333333333,\"#9c179e\"],[0.4444444444444444,\"#bd3786\"],[0.5555555555555556,\"#d8576b\"],[0.6666666666666666,\"#ed7953\"],[0.7777777777777778,\"#fb9f3a\"],[0.8888888888888888,\"#fdca26\"],[1.0,\"#f0f921\"]],\"sequentialminus\":[[0.0,\"#0d0887\"],[0.1111111111111111,\"#46039f\"],[0.2222222222222222,\"#7201a8\"],[0.3333333333333333,\"#9c179e\"],[0.4444444444444444,\"#bd3786\"],[0.5555555555555556,\"#d8576b\"],[0.6666666666666666,\"#ed7953\"],[0.7777777777777778,\"#fb9f3a\"],[0.8888888888888888,\"#fdca26\"],[1.0,\"#f0f921\"]],\"diverging\":[[0,\"#8e0152\"],[0.1,\"#c51b7d\"],[0.2,\"#de77ae\"],[0.3,\"#f1b6da\"],[0.4,\"#fde0ef\"],[0.5,\"#f7f7f7\"],[0.6,\"#e6f5d0\"],[0.7,\"#b8e186\"],[0.8,\"#7fbc41\"],[0.9,\"#4d9221\"],[1,\"#276419\"]]},\"xaxis\":{\"gridcolor\":\"#283442\",\"linecolor\":\"#506784\",\"ticks\":\"\",\"title\":{\"standoff\":15},\"zerolinecolor\":\"#283442\",\"automargin\":true,\"zerolinewidth\":2},\"yaxis\":{\"gridcolor\":\"#283442\",\"linecolor\":\"#506784\",\"ticks\":\"\",\"title\":{\"standoff\":15},\"zerolinecolor\":\"#283442\",\"automargin\":true,\"zerolinewidth\":2},\"scene\":{\"xaxis\":{\"backgroundcolor\":\"rgb(17,17,17)\",\"gridcolor\":\"#506784\",\"linecolor\":\"#506784\",\"showbackground\":true,\"ticks\":\"\",\"zerolinecolor\":\"#C8D4E3\",\"gridwidth\":2},\"yaxis\":{\"backgroundcolor\":\"rgb(17,17,17)\",\"gridcolor\":\"#506784\",\"linecolor\":\"#506784\",\"showbackground\":true,\"ticks\":\"\",\"zerolinecolor\":\"#C8D4E3\",\"gridwidth\":2},\"zaxis\":{\"backgroundcolor\":\"rgb(17,17,17)\",\"gridcolor\":\"#506784\",\"linecolor\":\"#506784\",\"showbackground\":true,\"ticks\":\"\",\"zerolinecolor\":\"#C8D4E3\",\"gridwidth\":2}},\"shapedefaults\":{\"line\":{\"color\":\"#f2f5fa\"}},\"annotationdefaults\":{\"arrowcolor\":\"#f2f5fa\",\"arrowhead\":0,\"arrowwidth\":1},\"geo\":{\"bgcolor\":\"rgb(17,17,17)\",\"landcolor\":\"rgb(17,17,17)\",\"subunitcolor\":\"#506784\",\"showland\":true,\"showlakes\":true,\"lakecolor\":\"rgb(17,17,17)\"},\"title\":{\"x\":0.05},\"updatemenudefaults\":{\"bgcolor\":\"#506784\",\"borderwidth\":0},\"sliderdefaults\":{\"bgcolor\":\"#C8D4E3\",\"borderwidth\":1,\"bordercolor\":\"rgb(17,17,17)\",\"tickwidth\":0},\"mapbox\":{\"style\":\"dark\"}}},\"xaxis\":{\"anchor\":\"y\",\"domain\":[0.0,1.0],\"title\":{\"text\":\"Timestamp\"}},\"yaxis\":{\"anchor\":\"x\",\"domain\":[0.0,1.0],\"title\":{\"text\":\"Average Sentiment per period\"}},\"legend\":{\"title\":{\"text\":\"Name\"},\"tracegroupgap\":0},\"margin\":{\"t\":60},\"title\":{\"text\":\"Topic sentiment -Section1A\"}},                        {\"responsive\": true}                    ).then(function(){\n                            \nvar gd = document.getElementById('da463c0b-6513-4906-b851-158798a44959');\nvar x = new MutationObserver(function (mutations, observer) {{\n        var display = window.getComputedStyle(gd).display;\n        if (!display || display === 'none') {{\n            console.log([gd, 'removed!']);\n            Plotly.purge(gd);\n            observer.disconnect();\n        }}\n}});\n\n// Listen for the removal of the full notebook cells\nvar notebookContainer = gd.closest('#notebook-container');\nif (notebookContainer) {{\n    x.observe(notebookContainer, {childList: true});\n}}\n\n// Listen for the clearing of the current output cell\nvar outputEl = gd.closest('.output');\nif (outputEl) {{\n    x.observe(outputEl, {childList: true});\n}}\n\n                        })                };                });            </script>        </div>"
     },
     "metadata": {},
     "output_type": "display_data"
    },
    {
     "data": {
      "application/vnd.plotly.v1+json": {
       "data": [
        {
         "hovertemplate": "Name=1_repurchase program_share repurchase_shares_dividend<br>Timestamp=%{x}<br>sentiment_sigma_fsamean=%{y}<extra></extra>",
         "legendgroup": "1_repurchase program_share repurchase_shares_dividend",
         "line": {
          "color": "#636efa",
          "dash": "solid"
         },
         "marker": {
          "symbol": "circle"
         },
         "mode": "lines",
         "name": "1_repurchase program_share repurchase_shares_dividend",
         "orientation": "v",
         "showlegend": true,
         "x": [
          "2019-12-31T00:00:00+00:00",
          "2020-12-31T00:00:00+00:00",
          "2021-12-31T00:00:00+00:00",
          "2022-12-31T00:00:00+00:00",
          "2023-12-31T00:00:00+00:00"
         ],
         "xaxis": "x",
         "y": [
          0.275710584799982,
          0.2511105090379715,
          0.23535367276109576,
          0.251508318584099,
          0.2131127255568973
         ],
         "yaxis": "y",
         "type": "scatter"
        },
        {
         "hovertemplate": "Name=2_value reporting_reporting units_goodwill_goodwill impairment<br>Timestamp=%{x}<br>sentiment_sigma_fsamean=%{y}<extra></extra>",
         "legendgroup": "2_value reporting_reporting units_goodwill_goodwill impairment",
         "line": {
          "color": "#EF553B",
          "dash": "solid"
         },
         "marker": {
          "symbol": "circle"
         },
         "mode": "lines",
         "name": "2_value reporting_reporting units_goodwill_goodwill impairment",
         "orientation": "v",
         "showlegend": true,
         "x": [
          "2019-12-31T00:00:00+00:00",
          "2020-12-31T00:00:00+00:00",
          "2021-12-31T00:00:00+00:00",
          "2022-12-31T00:00:00+00:00",
          "2023-12-31T00:00:00+00:00"
         ],
         "xaxis": "x",
         "y": [
          -0.034771012431594264,
          -0.049956590783866966,
          -0.05041035901567789,
          -0.02800693600925047,
          -0.06811709424674699
         ],
         "yaxis": "y",
         "type": "scatter"
        },
        {
         "hovertemplate": "Name=3_accounting policies_critical accounting_accounting_accounting estimates<br>Timestamp=%{x}<br>sentiment_sigma_fsamean=%{y}<extra></extra>",
         "legendgroup": "3_accounting policies_critical accounting_accounting_accounting estimates",
         "line": {
          "color": "#00cc96",
          "dash": "solid"
         },
         "marker": {
          "symbol": "circle"
         },
         "mode": "lines",
         "name": "3_accounting policies_critical accounting_accounting_accounting estimates",
         "orientation": "v",
         "showlegend": true,
         "x": [
          "2019-12-31T00:00:00+00:00",
          "2020-12-31T00:00:00+00:00",
          "2021-12-31T00:00:00+00:00",
          "2022-12-31T00:00:00+00:00",
          "2023-12-31T00:00:00+00:00"
         ],
         "xaxis": "x",
         "y": [
          0.0055106569380655775,
          0.001025412930175662,
          0.01997140161693096,
          0.0207619968475951,
          0.002776297554373741
         ],
         "yaxis": "y",
         "type": "scatter"
        },
        {
         "hovertemplate": "Name=4_change 160_160 change_revenue 160_percentages<br>Timestamp=%{x}<br>sentiment_sigma_fsamean=%{y}<extra></extra>",
         "legendgroup": "4_change 160_160 change_revenue 160_percentages",
         "line": {
          "color": "#ab63fa",
          "dash": "solid"
         },
         "marker": {
          "symbol": "circle"
         },
         "mode": "lines",
         "name": "4_change 160_160 change_revenue 160_percentages",
         "orientation": "v",
         "showlegend": true,
         "x": [
          "2019-12-31T00:00:00+00:00",
          "2020-12-31T00:00:00+00:00",
          "2021-12-31T00:00:00+00:00",
          "2022-12-31T00:00:00+00:00",
          "2023-12-31T00:00:00+00:00"
         ],
         "xaxis": "x",
         "y": [
          0.03829867019281759,
          0.038384277448558164,
          -0.005751625773656434,
          0.05793021332759123,
          0.04521935510635376
         ],
         "yaxis": "y",
         "type": "scatter"
        },
        {
         "hovertemplate": "Name=5_looking statements_forward looking_expect 8221_8220 expect<br>Timestamp=%{x}<br>sentiment_sigma_fsamean=%{y}<extra></extra>",
         "legendgroup": "5_looking statements_forward looking_expect 8221_8220 expect",
         "line": {
          "color": "#FFA15A",
          "dash": "solid"
         },
         "marker": {
          "symbol": "circle"
         },
         "mode": "lines",
         "name": "5_looking statements_forward looking_expect 8221_8220 expect",
         "orientation": "v",
         "showlegend": true,
         "x": [
          "2019-12-31T00:00:00+00:00",
          "2020-12-31T00:00:00+00:00",
          "2021-12-31T00:00:00+00:00",
          "2022-12-31T00:00:00+00:00",
          "2023-12-31T00:00:00+00:00"
         ],
         "xaxis": "x",
         "y": [
          -0.026641921601562858,
          -0.012678988704597372,
          -0.029960180583753084,
          -0.012915384551705836,
          -0.01187923642777905
         ],
         "yaxis": "y",
         "type": "scatter"
        },
        {
         "hovertemplate": "Name=6_tier capital_basel iii_regulatory capital_risk weighted<br>Timestamp=%{x}<br>sentiment_sigma_fsamean=%{y}<extra></extra>",
         "legendgroup": "6_tier capital_basel iii_regulatory capital_risk weighted",
         "line": {
          "color": "#19d3f3",
          "dash": "solid"
         },
         "marker": {
          "symbol": "circle"
         },
         "mode": "lines",
         "name": "6_tier capital_basel iii_regulatory capital_risk weighted",
         "orientation": "v",
         "showlegend": true,
         "x": [
          "2019-12-31T00:00:00+00:00",
          "2020-12-31T00:00:00+00:00",
          "2021-12-31T00:00:00+00:00",
          "2022-12-31T00:00:00+00:00",
          "2023-12-31T00:00:00+00:00"
         ],
         "xaxis": "x",
         "y": [
          -0.010970583961655697,
          0.043301757606300145,
          0.06509340616563956,
          0.026662585219821414,
          0.010375026835511062
         ],
         "yaxis": "y",
         "type": "scatter"
        },
        {
         "hovertemplate": "Name=7_stable_bbb_credit ratings_credit rating<br>Timestamp=%{x}<br>sentiment_sigma_fsamean=%{y}<extra></extra>",
         "legendgroup": "7_stable_bbb_credit ratings_credit rating",
         "line": {
          "color": "#FF6692",
          "dash": "solid"
         },
         "marker": {
          "symbol": "circle"
         },
         "mode": "lines",
         "name": "7_stable_bbb_credit ratings_credit rating",
         "orientation": "v",
         "showlegend": true,
         "x": [
          "2019-12-31T00:00:00+00:00",
          "2020-12-31T00:00:00+00:00",
          "2021-12-31T00:00:00+00:00",
          "2022-12-31T00:00:00+00:00",
          "2023-12-31T00:00:00+00:00"
         ],
         "xaxis": "x",
         "y": [
          -0.005448089114257267,
          0.01046442352745631,
          -0.063093973553344,
          0.014045593846175406,
          0.112603531564985
         ],
         "yaxis": "y",
         "type": "scatter"
        },
        {
         "hovertemplate": "Name=8_tax act_tax rate_effective tax_tax<br>Timestamp=%{x}<br>sentiment_sigma_fsamean=%{y}<extra></extra>",
         "legendgroup": "8_tax act_tax rate_effective tax_tax",
         "line": {
          "color": "#B6E880",
          "dash": "solid"
         },
         "marker": {
          "symbol": "circle"
         },
         "mode": "lines",
         "name": "8_tax act_tax rate_effective tax_tax",
         "orientation": "v",
         "showlegend": true,
         "x": [
          "2019-12-31T00:00:00+00:00",
          "2020-12-31T00:00:00+00:00",
          "2021-12-31T00:00:00+00:00",
          "2022-12-31T00:00:00+00:00",
          "2023-12-31T00:00:00+00:00"
         ],
         "xaxis": "x",
         "y": [
          0.05949013962029175,
          0.08374881566989989,
          0.13301905573800551,
          0.08364517466966497,
          0.029834933819309357
         ],
         "yaxis": "y",
         "type": "scatter"
        },
        {
         "hovertemplate": "Name=9_stock options_restricted stock_stock based_scholes<br>Timestamp=%{x}<br>sentiment_sigma_fsamean=%{y}<extra></extra>",
         "legendgroup": "9_stock options_restricted stock_stock based_scholes",
         "line": {
          "color": "#FF97FF",
          "dash": "solid"
         },
         "marker": {
          "symbol": "circle"
         },
         "mode": "lines",
         "name": "9_stock options_restricted stock_stock based_scholes",
         "orientation": "v",
         "showlegend": true,
         "x": [
          "2019-12-31T00:00:00+00:00",
          "2020-12-31T00:00:00+00:00",
          "2021-12-31T00:00:00+00:00",
          "2022-12-31T00:00:00+00:00",
          "2023-12-31T00:00:00+00:00"
         ],
         "xaxis": "x",
         "y": [
          -0.005623353788485894,
          0.004640568296114604,
          0.013050323579369522,
          0.012569589434929614,
          0.0262118467350596
         ],
         "yaxis": "y",
         "type": "scatter"
        },
        {
         "hovertemplate": "Name=10_senior notes_notes_notes 8221_million aggregate<br>Timestamp=%{x}<br>sentiment_sigma_fsamean=%{y}<extra></extra>",
         "legendgroup": "10_senior notes_notes_notes 8221_million aggregate",
         "line": {
          "color": "#FECB52",
          "dash": "solid"
         },
         "marker": {
          "symbol": "circle"
         },
         "mode": "lines",
         "name": "10_senior notes_notes_notes 8221_million aggregate",
         "orientation": "v",
         "showlegend": true,
         "x": [
          "2019-12-31T00:00:00+00:00",
          "2020-12-31T00:00:00+00:00",
          "2021-12-31T00:00:00+00:00",
          "2022-12-31T00:00:00+00:00",
          "2023-12-31T00:00:00+00:00"
         ],
         "xaxis": "x",
         "y": [
          0.015310815942119544,
          -0.0025515415602260167,
          0.0011915709140032707,
          0.0201766574755311,
          0.04105684697628021
         ],
         "yaxis": "y",
         "type": "scatter"
        },
        {
         "hovertemplate": "Name=11_foreign currency_forward contracts_cross currency_exchange risk<br>Timestamp=%{x}<br>sentiment_sigma_fsamean=%{y}<extra></extra>",
         "legendgroup": "11_foreign currency_forward contracts_cross currency_exchange risk",
         "line": {
          "color": "#636efa",
          "dash": "solid"
         },
         "marker": {
          "symbol": "circle"
         },
         "mode": "lines",
         "name": "11_foreign currency_forward contracts_cross currency_exchange risk",
         "orientation": "v",
         "showlegend": true,
         "x": [
          "2019-12-31T00:00:00+00:00",
          "2020-12-31T00:00:00+00:00",
          "2021-12-31T00:00:00+00:00",
          "2022-12-31T00:00:00+00:00",
          "2023-12-31T00:00:00+00:00"
         ],
         "xaxis": "x",
         "y": [
          -0.012647791360986644,
          -0.034727787884482504,
          -0.06401027242342631,
          -0.08932381337003191,
          -0.08920195112462903
         ],
         "yaxis": "y",
         "type": "scatter"
        },
        {
         "hovertemplate": "Name=12_contractual obligations_obligations 160_payments period_lease obligations<br>Timestamp=%{x}<br>sentiment_sigma_fsamean=%{y}<extra></extra>",
         "legendgroup": "12_contractual obligations_obligations 160_payments period_lease obligations",
         "line": {
          "color": "#EF553B",
          "dash": "solid"
         },
         "marker": {
          "symbol": "circle"
         },
         "mode": "lines",
         "name": "12_contractual obligations_obligations 160_payments period_lease obligations",
         "orientation": "v",
         "showlegend": true,
         "x": [
          "2019-12-31T00:00:00+00:00",
          "2020-12-31T00:00:00+00:00",
          "2021-12-31T00:00:00+00:00",
          "2022-12-31T00:00:00+00:00",
          "2023-12-31T00:00:00+00:00"
         ],
         "xaxis": "x",
         "y": [
          -0.0045787374396900555,
          -0.00506405215314094,
          -0.012094184527030358,
          0.007218098236342608,
          0.014769501156277128
         ],
         "yaxis": "y",
         "type": "scatter"
        },
        {
         "hovertemplate": "Name=13_georgia_southern company_georgia power_mississippi power<br>Timestamp=%{x}<br>sentiment_sigma_fsamean=%{y}<extra></extra>",
         "legendgroup": "13_georgia_southern company_georgia power_mississippi power",
         "line": {
          "color": "#00cc96",
          "dash": "solid"
         },
         "marker": {
          "symbol": "circle"
         },
         "mode": "lines",
         "name": "13_georgia_southern company_georgia power_mississippi power",
         "orientation": "v",
         "showlegend": true,
         "x": [
          "2019-12-31T00:00:00+00:00",
          "2020-12-31T00:00:00+00:00",
          "2021-12-31T00:00:00+00:00"
         ],
         "xaxis": "x",
         "y": [
          0.04792150538979155,
          0.0,
          0.0
         ],
         "yaxis": "y",
         "type": "scatter"
        },
        {
         "hovertemplate": "Name=14_credit agreement_credit facility_revolving credit_sofr<br>Timestamp=%{x}<br>sentiment_sigma_fsamean=%{y}<extra></extra>",
         "legendgroup": "14_credit agreement_credit facility_revolving credit_sofr",
         "line": {
          "color": "#ab63fa",
          "dash": "solid"
         },
         "marker": {
          "symbol": "circle"
         },
         "mode": "lines",
         "name": "14_credit agreement_credit facility_revolving credit_sofr",
         "orientation": "v",
         "showlegend": true,
         "x": [
          "2019-12-31T00:00:00+00:00",
          "2020-12-31T00:00:00+00:00",
          "2021-12-31T00:00:00+00:00",
          "2022-12-31T00:00:00+00:00",
          "2023-12-31T00:00:00+00:00"
         ],
         "xaxis": "x",
         "y": [
          0.0668411279512831,
          0.03013632464999995,
          0.05590751274558138,
          0.0968678647563571,
          0.0749588518583474
         ],
         "yaxis": "y",
         "type": "scatter"
        },
        {
         "hovertemplate": "Name=15_aircraft fuel_passenger revenue_fuel expense_asms<br>Timestamp=%{x}<br>sentiment_sigma_fsamean=%{y}<extra></extra>",
         "legendgroup": "15_aircraft fuel_passenger revenue_fuel expense_asms",
         "line": {
          "color": "#FFA15A",
          "dash": "solid"
         },
         "marker": {
          "symbol": "circle"
         },
         "mode": "lines",
         "name": "15_aircraft fuel_passenger revenue_fuel expense_asms",
         "orientation": "v",
         "showlegend": true,
         "x": [
          "2019-12-31T00:00:00+00:00",
          "2020-12-31T00:00:00+00:00",
          "2021-12-31T00:00:00+00:00",
          "2022-12-31T00:00:00+00:00",
          "2023-12-31T00:00:00+00:00"
         ],
         "xaxis": "x",
         "y": [
          0.31000794070107596,
          0.19194402130026567,
          -0.2976664425361724,
          0.26827424795357224,
          0.39626917535183476
         ],
         "yaxis": "y",
         "type": "scatter"
        },
        {
         "hovertemplate": "Name=16_asset group_lived assets_value asset_undiscounted cash<br>Timestamp=%{x}<br>sentiment_sigma_fsamean=%{y}<extra></extra>",
         "legendgroup": "16_asset group_lived assets_value asset_undiscounted cash",
         "line": {
          "color": "#19d3f3",
          "dash": "solid"
         },
         "marker": {
          "symbol": "circle"
         },
         "mode": "lines",
         "name": "16_asset group_lived assets_value asset_undiscounted cash",
         "orientation": "v",
         "showlegend": true,
         "x": [
          "2019-12-31T00:00:00+00:00",
          "2020-12-31T00:00:00+00:00",
          "2021-12-31T00:00:00+00:00",
          "2022-12-31T00:00:00+00:00",
          "2023-12-31T00:00:00+00:00"
         ],
         "xaxis": "x",
         "y": [
          -0.02794072897203507,
          -0.039622553473427184,
          -0.035079036283930505,
          -0.020634144002741033,
          -0.04114886990157507
         ],
         "yaxis": "y",
         "type": "scatter"
        },
        {
         "hovertemplate": "Name=17_assets acquired_liabilities assumed_acquired liabilities_intangible assets<br>Timestamp=%{x}<br>sentiment_sigma_fsamean=%{y}<extra></extra>",
         "legendgroup": "17_assets acquired_liabilities assumed_acquired liabilities_intangible assets",
         "line": {
          "color": "#FF6692",
          "dash": "solid"
         },
         "marker": {
          "symbol": "circle"
         },
         "mode": "lines",
         "name": "17_assets acquired_liabilities assumed_acquired liabilities_intangible assets",
         "orientation": "v",
         "showlegend": true,
         "x": [
          "2019-12-31T00:00:00+00:00",
          "2020-12-31T00:00:00+00:00",
          "2021-12-31T00:00:00+00:00",
          "2022-12-31T00:00:00+00:00",
          "2023-12-31T00:00:00+00:00"
         ],
         "xaxis": "x",
         "y": [
          -0.001054583209575993,
          0.020733806295929667,
          0.0015691086786602615,
          0.0,
          -0.008519329492328236
         ],
         "yaxis": "y",
         "type": "scatter"
        },
        {
         "hovertemplate": "Name=18_membership_medicare_medicare advantage_medical membership<br>Timestamp=%{x}<br>sentiment_sigma_fsamean=%{y}<extra></extra>",
         "legendgroup": "18_membership_medicare_medicare advantage_medical membership",
         "line": {
          "color": "#B6E880",
          "dash": "solid"
         },
         "marker": {
          "symbol": "circle"
         },
         "mode": "lines",
         "name": "18_membership_medicare_medicare advantage_medical membership",
         "orientation": "v",
         "showlegend": true,
         "x": [
          "2019-12-31T00:00:00+00:00",
          "2020-12-31T00:00:00+00:00",
          "2021-12-31T00:00:00+00:00",
          "2022-12-31T00:00:00+00:00",
          "2023-12-31T00:00:00+00:00"
         ],
         "xaxis": "x",
         "y": [
          0.12313870493679831,
          0.2960102211597354,
          0.26552402244673834,
          0.1833019802369267,
          0.19741787776655081
         ],
         "yaxis": "y",
         "type": "scatter"
        },
        {
         "hovertemplate": "Name=19_research development_development expenses_marketing expenses_increase personnel<br>Timestamp=%{x}<br>sentiment_sigma_fsamean=%{y}<extra></extra>",
         "legendgroup": "19_research development_development expenses_marketing expenses_increase personnel",
         "line": {
          "color": "#FF97FF",
          "dash": "solid"
         },
         "marker": {
          "symbol": "circle"
         },
         "mode": "lines",
         "name": "19_research development_development expenses_marketing expenses_increase personnel",
         "orientation": "v",
         "showlegend": true,
         "x": [
          "2019-12-31T00:00:00+00:00",
          "2020-12-31T00:00:00+00:00",
          "2021-12-31T00:00:00+00:00",
          "2022-12-31T00:00:00+00:00",
          "2023-12-31T00:00:00+00:00"
         ],
         "xaxis": "x",
         "y": [
          0.5295795498103121,
          0.5305745732039213,
          0.47037957683205606,
          0.5022447899163488,
          0.5905775021422993
         ],
         "yaxis": "y",
         "type": "scatter"
        }
       ],
       "layout": {
        "template": {
         "data": {
          "histogram2dcontour": [
           {
            "type": "histogram2dcontour",
            "colorbar": {
             "outlinewidth": 0,
             "ticks": ""
            },
            "colorscale": [
             [
              0.0,
              "#0d0887"
             ],
             [
              0.1111111111111111,
              "#46039f"
             ],
             [
              0.2222222222222222,
              "#7201a8"
             ],
             [
              0.3333333333333333,
              "#9c179e"
             ],
             [
              0.4444444444444444,
              "#bd3786"
             ],
             [
              0.5555555555555556,
              "#d8576b"
             ],
             [
              0.6666666666666666,
              "#ed7953"
             ],
             [
              0.7777777777777778,
              "#fb9f3a"
             ],
             [
              0.8888888888888888,
              "#fdca26"
             ],
             [
              1.0,
              "#f0f921"
             ]
            ]
           }
          ],
          "choropleth": [
           {
            "type": "choropleth",
            "colorbar": {
             "outlinewidth": 0,
             "ticks": ""
            }
           }
          ],
          "histogram2d": [
           {
            "type": "histogram2d",
            "colorbar": {
             "outlinewidth": 0,
             "ticks": ""
            },
            "colorscale": [
             [
              0.0,
              "#0d0887"
             ],
             [
              0.1111111111111111,
              "#46039f"
             ],
             [
              0.2222222222222222,
              "#7201a8"
             ],
             [
              0.3333333333333333,
              "#9c179e"
             ],
             [
              0.4444444444444444,
              "#bd3786"
             ],
             [
              0.5555555555555556,
              "#d8576b"
             ],
             [
              0.6666666666666666,
              "#ed7953"
             ],
             [
              0.7777777777777778,
              "#fb9f3a"
             ],
             [
              0.8888888888888888,
              "#fdca26"
             ],
             [
              1.0,
              "#f0f921"
             ]
            ]
           }
          ],
          "heatmap": [
           {
            "type": "heatmap",
            "colorbar": {
             "outlinewidth": 0,
             "ticks": ""
            },
            "colorscale": [
             [
              0.0,
              "#0d0887"
             ],
             [
              0.1111111111111111,
              "#46039f"
             ],
             [
              0.2222222222222222,
              "#7201a8"
             ],
             [
              0.3333333333333333,
              "#9c179e"
             ],
             [
              0.4444444444444444,
              "#bd3786"
             ],
             [
              0.5555555555555556,
              "#d8576b"
             ],
             [
              0.6666666666666666,
              "#ed7953"
             ],
             [
              0.7777777777777778,
              "#fb9f3a"
             ],
             [
              0.8888888888888888,
              "#fdca26"
             ],
             [
              1.0,
              "#f0f921"
             ]
            ]
           }
          ],
          "heatmapgl": [
           {
            "type": "heatmapgl",
            "colorbar": {
             "outlinewidth": 0,
             "ticks": ""
            },
            "colorscale": [
             [
              0.0,
              "#0d0887"
             ],
             [
              0.1111111111111111,
              "#46039f"
             ],
             [
              0.2222222222222222,
              "#7201a8"
             ],
             [
              0.3333333333333333,
              "#9c179e"
             ],
             [
              0.4444444444444444,
              "#bd3786"
             ],
             [
              0.5555555555555556,
              "#d8576b"
             ],
             [
              0.6666666666666666,
              "#ed7953"
             ],
             [
              0.7777777777777778,
              "#fb9f3a"
             ],
             [
              0.8888888888888888,
              "#fdca26"
             ],
             [
              1.0,
              "#f0f921"
             ]
            ]
           }
          ],
          "contourcarpet": [
           {
            "type": "contourcarpet",
            "colorbar": {
             "outlinewidth": 0,
             "ticks": ""
            }
           }
          ],
          "contour": [
           {
            "type": "contour",
            "colorbar": {
             "outlinewidth": 0,
             "ticks": ""
            },
            "colorscale": [
             [
              0.0,
              "#0d0887"
             ],
             [
              0.1111111111111111,
              "#46039f"
             ],
             [
              0.2222222222222222,
              "#7201a8"
             ],
             [
              0.3333333333333333,
              "#9c179e"
             ],
             [
              0.4444444444444444,
              "#bd3786"
             ],
             [
              0.5555555555555556,
              "#d8576b"
             ],
             [
              0.6666666666666666,
              "#ed7953"
             ],
             [
              0.7777777777777778,
              "#fb9f3a"
             ],
             [
              0.8888888888888888,
              "#fdca26"
             ],
             [
              1.0,
              "#f0f921"
             ]
            ]
           }
          ],
          "surface": [
           {
            "type": "surface",
            "colorbar": {
             "outlinewidth": 0,
             "ticks": ""
            },
            "colorscale": [
             [
              0.0,
              "#0d0887"
             ],
             [
              0.1111111111111111,
              "#46039f"
             ],
             [
              0.2222222222222222,
              "#7201a8"
             ],
             [
              0.3333333333333333,
              "#9c179e"
             ],
             [
              0.4444444444444444,
              "#bd3786"
             ],
             [
              0.5555555555555556,
              "#d8576b"
             ],
             [
              0.6666666666666666,
              "#ed7953"
             ],
             [
              0.7777777777777778,
              "#fb9f3a"
             ],
             [
              0.8888888888888888,
              "#fdca26"
             ],
             [
              1.0,
              "#f0f921"
             ]
            ]
           }
          ],
          "mesh3d": [
           {
            "type": "mesh3d",
            "colorbar": {
             "outlinewidth": 0,
             "ticks": ""
            }
           }
          ],
          "scatter": [
           {
            "marker": {
             "line": {
              "color": "#283442"
             }
            },
            "type": "scatter"
           }
          ],
          "parcoords": [
           {
            "type": "parcoords",
            "line": {
             "colorbar": {
              "outlinewidth": 0,
              "ticks": ""
             }
            }
           }
          ],
          "scatterpolargl": [
           {
            "type": "scatterpolargl",
            "marker": {
             "colorbar": {
              "outlinewidth": 0,
              "ticks": ""
             }
            }
           }
          ],
          "bar": [
           {
            "error_x": {
             "color": "#f2f5fa"
            },
            "error_y": {
             "color": "#f2f5fa"
            },
            "marker": {
             "line": {
              "color": "rgb(17,17,17)",
              "width": 0.5
             },
             "pattern": {
              "fillmode": "overlay",
              "size": 10,
              "solidity": 0.2
             }
            },
            "type": "bar"
           }
          ],
          "scattergeo": [
           {
            "type": "scattergeo",
            "marker": {
             "colorbar": {
              "outlinewidth": 0,
              "ticks": ""
             }
            }
           }
          ],
          "scatterpolar": [
           {
            "type": "scatterpolar",
            "marker": {
             "colorbar": {
              "outlinewidth": 0,
              "ticks": ""
             }
            }
           }
          ],
          "histogram": [
           {
            "marker": {
             "pattern": {
              "fillmode": "overlay",
              "size": 10,
              "solidity": 0.2
             }
            },
            "type": "histogram"
           }
          ],
          "scattergl": [
           {
            "marker": {
             "line": {
              "color": "#283442"
             }
            },
            "type": "scattergl"
           }
          ],
          "scatter3d": [
           {
            "type": "scatter3d",
            "line": {
             "colorbar": {
              "outlinewidth": 0,
              "ticks": ""
             }
            },
            "marker": {
             "colorbar": {
              "outlinewidth": 0,
              "ticks": ""
             }
            }
           }
          ],
          "scattermapbox": [
           {
            "type": "scattermapbox",
            "marker": {
             "colorbar": {
              "outlinewidth": 0,
              "ticks": ""
             }
            }
           }
          ],
          "scatterternary": [
           {
            "type": "scatterternary",
            "marker": {
             "colorbar": {
              "outlinewidth": 0,
              "ticks": ""
             }
            }
           }
          ],
          "scattercarpet": [
           {
            "type": "scattercarpet",
            "marker": {
             "colorbar": {
              "outlinewidth": 0,
              "ticks": ""
             }
            }
           }
          ],
          "carpet": [
           {
            "aaxis": {
             "endlinecolor": "#A2B1C6",
             "gridcolor": "#506784",
             "linecolor": "#506784",
             "minorgridcolor": "#506784",
             "startlinecolor": "#A2B1C6"
            },
            "baxis": {
             "endlinecolor": "#A2B1C6",
             "gridcolor": "#506784",
             "linecolor": "#506784",
             "minorgridcolor": "#506784",
             "startlinecolor": "#A2B1C6"
            },
            "type": "carpet"
           }
          ],
          "table": [
           {
            "cells": {
             "fill": {
              "color": "#506784"
             },
             "line": {
              "color": "rgb(17,17,17)"
             }
            },
            "header": {
             "fill": {
              "color": "#2a3f5f"
             },
             "line": {
              "color": "rgb(17,17,17)"
             }
            },
            "type": "table"
           }
          ],
          "barpolar": [
           {
            "marker": {
             "line": {
              "color": "rgb(17,17,17)",
              "width": 0.5
             },
             "pattern": {
              "fillmode": "overlay",
              "size": 10,
              "solidity": 0.2
             }
            },
            "type": "barpolar"
           }
          ],
          "pie": [
           {
            "automargin": true,
            "type": "pie"
           }
          ]
         },
         "layout": {
          "autotypenumbers": "strict",
          "colorway": [
           "#636efa",
           "#EF553B",
           "#00cc96",
           "#ab63fa",
           "#FFA15A",
           "#19d3f3",
           "#FF6692",
           "#B6E880",
           "#FF97FF",
           "#FECB52"
          ],
          "font": {
           "color": "#f2f5fa"
          },
          "hovermode": "closest",
          "hoverlabel": {
           "align": "left"
          },
          "paper_bgcolor": "rgb(17,17,17)",
          "plot_bgcolor": "rgb(17,17,17)",
          "polar": {
           "bgcolor": "rgb(17,17,17)",
           "angularaxis": {
            "gridcolor": "#506784",
            "linecolor": "#506784",
            "ticks": ""
           },
           "radialaxis": {
            "gridcolor": "#506784",
            "linecolor": "#506784",
            "ticks": ""
           }
          },
          "ternary": {
           "bgcolor": "rgb(17,17,17)",
           "aaxis": {
            "gridcolor": "#506784",
            "linecolor": "#506784",
            "ticks": ""
           },
           "baxis": {
            "gridcolor": "#506784",
            "linecolor": "#506784",
            "ticks": ""
           },
           "caxis": {
            "gridcolor": "#506784",
            "linecolor": "#506784",
            "ticks": ""
           }
          },
          "coloraxis": {
           "colorbar": {
            "outlinewidth": 0,
            "ticks": ""
           }
          },
          "colorscale": {
           "sequential": [
            [
             0.0,
             "#0d0887"
            ],
            [
             0.1111111111111111,
             "#46039f"
            ],
            [
             0.2222222222222222,
             "#7201a8"
            ],
            [
             0.3333333333333333,
             "#9c179e"
            ],
            [
             0.4444444444444444,
             "#bd3786"
            ],
            [
             0.5555555555555556,
             "#d8576b"
            ],
            [
             0.6666666666666666,
             "#ed7953"
            ],
            [
             0.7777777777777778,
             "#fb9f3a"
            ],
            [
             0.8888888888888888,
             "#fdca26"
            ],
            [
             1.0,
             "#f0f921"
            ]
           ],
           "sequentialminus": [
            [
             0.0,
             "#0d0887"
            ],
            [
             0.1111111111111111,
             "#46039f"
            ],
            [
             0.2222222222222222,
             "#7201a8"
            ],
            [
             0.3333333333333333,
             "#9c179e"
            ],
            [
             0.4444444444444444,
             "#bd3786"
            ],
            [
             0.5555555555555556,
             "#d8576b"
            ],
            [
             0.6666666666666666,
             "#ed7953"
            ],
            [
             0.7777777777777778,
             "#fb9f3a"
            ],
            [
             0.8888888888888888,
             "#fdca26"
            ],
            [
             1.0,
             "#f0f921"
            ]
           ],
           "diverging": [
            [
             0,
             "#8e0152"
            ],
            [
             0.1,
             "#c51b7d"
            ],
            [
             0.2,
             "#de77ae"
            ],
            [
             0.3,
             "#f1b6da"
            ],
            [
             0.4,
             "#fde0ef"
            ],
            [
             0.5,
             "#f7f7f7"
            ],
            [
             0.6,
             "#e6f5d0"
            ],
            [
             0.7,
             "#b8e186"
            ],
            [
             0.8,
             "#7fbc41"
            ],
            [
             0.9,
             "#4d9221"
            ],
            [
             1,
             "#276419"
            ]
           ]
          },
          "xaxis": {
           "gridcolor": "#283442",
           "linecolor": "#506784",
           "ticks": "",
           "title": {
            "standoff": 15
           },
           "zerolinecolor": "#283442",
           "automargin": true,
           "zerolinewidth": 2
          },
          "yaxis": {
           "gridcolor": "#283442",
           "linecolor": "#506784",
           "ticks": "",
           "title": {
            "standoff": 15
           },
           "zerolinecolor": "#283442",
           "automargin": true,
           "zerolinewidth": 2
          },
          "scene": {
           "xaxis": {
            "backgroundcolor": "rgb(17,17,17)",
            "gridcolor": "#506784",
            "linecolor": "#506784",
            "showbackground": true,
            "ticks": "",
            "zerolinecolor": "#C8D4E3",
            "gridwidth": 2
           },
           "yaxis": {
            "backgroundcolor": "rgb(17,17,17)",
            "gridcolor": "#506784",
            "linecolor": "#506784",
            "showbackground": true,
            "ticks": "",
            "zerolinecolor": "#C8D4E3",
            "gridwidth": 2
           },
           "zaxis": {
            "backgroundcolor": "rgb(17,17,17)",
            "gridcolor": "#506784",
            "linecolor": "#506784",
            "showbackground": true,
            "ticks": "",
            "zerolinecolor": "#C8D4E3",
            "gridwidth": 2
           }
          },
          "shapedefaults": {
           "line": {
            "color": "#f2f5fa"
           }
          },
          "annotationdefaults": {
           "arrowcolor": "#f2f5fa",
           "arrowhead": 0,
           "arrowwidth": 1
          },
          "geo": {
           "bgcolor": "rgb(17,17,17)",
           "landcolor": "rgb(17,17,17)",
           "subunitcolor": "#506784",
           "showland": true,
           "showlakes": true,
           "lakecolor": "rgb(17,17,17)"
          },
          "title": {
           "x": 0.05
          },
          "updatemenudefaults": {
           "bgcolor": "#506784",
           "borderwidth": 0
          },
          "sliderdefaults": {
           "bgcolor": "#C8D4E3",
           "borderwidth": 1,
           "bordercolor": "rgb(17,17,17)",
           "tickwidth": 0
          },
          "mapbox": {
           "style": "dark"
          }
         }
        },
        "xaxis": {
         "anchor": "y",
         "domain": [
          0.0,
          1.0
         ],
         "title": {
          "text": "Timestamp"
         }
        },
        "yaxis": {
         "anchor": "x",
         "domain": [
          0.0,
          1.0
         ],
         "title": {
          "text": "Average Sentiment per period"
         }
        },
        "legend": {
         "title": {
          "text": "Name"
         },
         "tracegroupgap": 0
        },
        "margin": {
         "t": 60
        },
        "title": {
         "text": "Topic sentiment -Section7"
        }
       },
       "config": {
        "plotlyServerURL": "https://plot.ly"
       }
      },
      "text/html": "<div>                            <div id=\"dd0fe0d7-27b1-49a2-ad2e-885cd685bb1d\" class=\"plotly-graph-div\" style=\"height:525px; width:100%;\"></div>            <script type=\"text/javascript\">                require([\"plotly\"], function(Plotly) {                    window.PLOTLYENV=window.PLOTLYENV || {};                                    if (document.getElementById(\"dd0fe0d7-27b1-49a2-ad2e-885cd685bb1d\")) {                    Plotly.newPlot(                        \"dd0fe0d7-27b1-49a2-ad2e-885cd685bb1d\",                        [{\"hovertemplate\":\"Name=1_repurchase program_share repurchase_shares_dividend\\u003cbr\\u003eTimestamp=%{x}\\u003cbr\\u003esentiment_sigma_fsamean=%{y}\\u003cextra\\u003e\\u003c\\u002fextra\\u003e\",\"legendgroup\":\"1_repurchase program_share repurchase_shares_dividend\",\"line\":{\"color\":\"#636efa\",\"dash\":\"solid\"},\"marker\":{\"symbol\":\"circle\"},\"mode\":\"lines\",\"name\":\"1_repurchase program_share repurchase_shares_dividend\",\"orientation\":\"v\",\"showlegend\":true,\"x\":[\"2019-12-31T00:00:00+00:00\",\"2020-12-31T00:00:00+00:00\",\"2021-12-31T00:00:00+00:00\",\"2022-12-31T00:00:00+00:00\",\"2023-12-31T00:00:00+00:00\"],\"xaxis\":\"x\",\"y\":[0.275710584799982,0.2511105090379715,0.23535367276109576,0.251508318584099,0.2131127255568973],\"yaxis\":\"y\",\"type\":\"scatter\"},{\"hovertemplate\":\"Name=2_value reporting_reporting units_goodwill_goodwill impairment\\u003cbr\\u003eTimestamp=%{x}\\u003cbr\\u003esentiment_sigma_fsamean=%{y}\\u003cextra\\u003e\\u003c\\u002fextra\\u003e\",\"legendgroup\":\"2_value reporting_reporting units_goodwill_goodwill impairment\",\"line\":{\"color\":\"#EF553B\",\"dash\":\"solid\"},\"marker\":{\"symbol\":\"circle\"},\"mode\":\"lines\",\"name\":\"2_value reporting_reporting units_goodwill_goodwill impairment\",\"orientation\":\"v\",\"showlegend\":true,\"x\":[\"2019-12-31T00:00:00+00:00\",\"2020-12-31T00:00:00+00:00\",\"2021-12-31T00:00:00+00:00\",\"2022-12-31T00:00:00+00:00\",\"2023-12-31T00:00:00+00:00\"],\"xaxis\":\"x\",\"y\":[-0.034771012431594264,-0.049956590783866966,-0.05041035901567789,-0.02800693600925047,-0.06811709424674699],\"yaxis\":\"y\",\"type\":\"scatter\"},{\"hovertemplate\":\"Name=3_accounting policies_critical accounting_accounting_accounting estimates\\u003cbr\\u003eTimestamp=%{x}\\u003cbr\\u003esentiment_sigma_fsamean=%{y}\\u003cextra\\u003e\\u003c\\u002fextra\\u003e\",\"legendgroup\":\"3_accounting policies_critical accounting_accounting_accounting estimates\",\"line\":{\"color\":\"#00cc96\",\"dash\":\"solid\"},\"marker\":{\"symbol\":\"circle\"},\"mode\":\"lines\",\"name\":\"3_accounting policies_critical accounting_accounting_accounting estimates\",\"orientation\":\"v\",\"showlegend\":true,\"x\":[\"2019-12-31T00:00:00+00:00\",\"2020-12-31T00:00:00+00:00\",\"2021-12-31T00:00:00+00:00\",\"2022-12-31T00:00:00+00:00\",\"2023-12-31T00:00:00+00:00\"],\"xaxis\":\"x\",\"y\":[0.0055106569380655775,0.001025412930175662,0.01997140161693096,0.0207619968475951,0.002776297554373741],\"yaxis\":\"y\",\"type\":\"scatter\"},{\"hovertemplate\":\"Name=4_change 160_160 change_revenue 160_percentages\\u003cbr\\u003eTimestamp=%{x}\\u003cbr\\u003esentiment_sigma_fsamean=%{y}\\u003cextra\\u003e\\u003c\\u002fextra\\u003e\",\"legendgroup\":\"4_change 160_160 change_revenue 160_percentages\",\"line\":{\"color\":\"#ab63fa\",\"dash\":\"solid\"},\"marker\":{\"symbol\":\"circle\"},\"mode\":\"lines\",\"name\":\"4_change 160_160 change_revenue 160_percentages\",\"orientation\":\"v\",\"showlegend\":true,\"x\":[\"2019-12-31T00:00:00+00:00\",\"2020-12-31T00:00:00+00:00\",\"2021-12-31T00:00:00+00:00\",\"2022-12-31T00:00:00+00:00\",\"2023-12-31T00:00:00+00:00\"],\"xaxis\":\"x\",\"y\":[0.03829867019281759,0.038384277448558164,-0.005751625773656434,0.05793021332759123,0.04521935510635376],\"yaxis\":\"y\",\"type\":\"scatter\"},{\"hovertemplate\":\"Name=5_looking statements_forward looking_expect 8221_8220 expect\\u003cbr\\u003eTimestamp=%{x}\\u003cbr\\u003esentiment_sigma_fsamean=%{y}\\u003cextra\\u003e\\u003c\\u002fextra\\u003e\",\"legendgroup\":\"5_looking statements_forward looking_expect 8221_8220 expect\",\"line\":{\"color\":\"#FFA15A\",\"dash\":\"solid\"},\"marker\":{\"symbol\":\"circle\"},\"mode\":\"lines\",\"name\":\"5_looking statements_forward looking_expect 8221_8220 expect\",\"orientation\":\"v\",\"showlegend\":true,\"x\":[\"2019-12-31T00:00:00+00:00\",\"2020-12-31T00:00:00+00:00\",\"2021-12-31T00:00:00+00:00\",\"2022-12-31T00:00:00+00:00\",\"2023-12-31T00:00:00+00:00\"],\"xaxis\":\"x\",\"y\":[-0.026641921601562858,-0.012678988704597372,-0.029960180583753084,-0.012915384551705836,-0.01187923642777905],\"yaxis\":\"y\",\"type\":\"scatter\"},{\"hovertemplate\":\"Name=6_tier capital_basel iii_regulatory capital_risk weighted\\u003cbr\\u003eTimestamp=%{x}\\u003cbr\\u003esentiment_sigma_fsamean=%{y}\\u003cextra\\u003e\\u003c\\u002fextra\\u003e\",\"legendgroup\":\"6_tier capital_basel iii_regulatory capital_risk weighted\",\"line\":{\"color\":\"#19d3f3\",\"dash\":\"solid\"},\"marker\":{\"symbol\":\"circle\"},\"mode\":\"lines\",\"name\":\"6_tier capital_basel iii_regulatory capital_risk weighted\",\"orientation\":\"v\",\"showlegend\":true,\"x\":[\"2019-12-31T00:00:00+00:00\",\"2020-12-31T00:00:00+00:00\",\"2021-12-31T00:00:00+00:00\",\"2022-12-31T00:00:00+00:00\",\"2023-12-31T00:00:00+00:00\"],\"xaxis\":\"x\",\"y\":[-0.010970583961655697,0.043301757606300145,0.06509340616563956,0.026662585219821414,0.010375026835511062],\"yaxis\":\"y\",\"type\":\"scatter\"},{\"hovertemplate\":\"Name=7_stable_bbb_credit ratings_credit rating\\u003cbr\\u003eTimestamp=%{x}\\u003cbr\\u003esentiment_sigma_fsamean=%{y}\\u003cextra\\u003e\\u003c\\u002fextra\\u003e\",\"legendgroup\":\"7_stable_bbb_credit ratings_credit rating\",\"line\":{\"color\":\"#FF6692\",\"dash\":\"solid\"},\"marker\":{\"symbol\":\"circle\"},\"mode\":\"lines\",\"name\":\"7_stable_bbb_credit ratings_credit rating\",\"orientation\":\"v\",\"showlegend\":true,\"x\":[\"2019-12-31T00:00:00+00:00\",\"2020-12-31T00:00:00+00:00\",\"2021-12-31T00:00:00+00:00\",\"2022-12-31T00:00:00+00:00\",\"2023-12-31T00:00:00+00:00\"],\"xaxis\":\"x\",\"y\":[-0.005448089114257267,0.01046442352745631,-0.063093973553344,0.014045593846175406,0.112603531564985],\"yaxis\":\"y\",\"type\":\"scatter\"},{\"hovertemplate\":\"Name=8_tax act_tax rate_effective tax_tax\\u003cbr\\u003eTimestamp=%{x}\\u003cbr\\u003esentiment_sigma_fsamean=%{y}\\u003cextra\\u003e\\u003c\\u002fextra\\u003e\",\"legendgroup\":\"8_tax act_tax rate_effective tax_tax\",\"line\":{\"color\":\"#B6E880\",\"dash\":\"solid\"},\"marker\":{\"symbol\":\"circle\"},\"mode\":\"lines\",\"name\":\"8_tax act_tax rate_effective tax_tax\",\"orientation\":\"v\",\"showlegend\":true,\"x\":[\"2019-12-31T00:00:00+00:00\",\"2020-12-31T00:00:00+00:00\",\"2021-12-31T00:00:00+00:00\",\"2022-12-31T00:00:00+00:00\",\"2023-12-31T00:00:00+00:00\"],\"xaxis\":\"x\",\"y\":[0.05949013962029175,0.08374881566989989,0.13301905573800551,0.08364517466966497,0.029834933819309357],\"yaxis\":\"y\",\"type\":\"scatter\"},{\"hovertemplate\":\"Name=9_stock options_restricted stock_stock based_scholes\\u003cbr\\u003eTimestamp=%{x}\\u003cbr\\u003esentiment_sigma_fsamean=%{y}\\u003cextra\\u003e\\u003c\\u002fextra\\u003e\",\"legendgroup\":\"9_stock options_restricted stock_stock based_scholes\",\"line\":{\"color\":\"#FF97FF\",\"dash\":\"solid\"},\"marker\":{\"symbol\":\"circle\"},\"mode\":\"lines\",\"name\":\"9_stock options_restricted stock_stock based_scholes\",\"orientation\":\"v\",\"showlegend\":true,\"x\":[\"2019-12-31T00:00:00+00:00\",\"2020-12-31T00:00:00+00:00\",\"2021-12-31T00:00:00+00:00\",\"2022-12-31T00:00:00+00:00\",\"2023-12-31T00:00:00+00:00\"],\"xaxis\":\"x\",\"y\":[-0.005623353788485894,0.004640568296114604,0.013050323579369522,0.012569589434929614,0.0262118467350596],\"yaxis\":\"y\",\"type\":\"scatter\"},{\"hovertemplate\":\"Name=10_senior notes_notes_notes 8221_million aggregate\\u003cbr\\u003eTimestamp=%{x}\\u003cbr\\u003esentiment_sigma_fsamean=%{y}\\u003cextra\\u003e\\u003c\\u002fextra\\u003e\",\"legendgroup\":\"10_senior notes_notes_notes 8221_million aggregate\",\"line\":{\"color\":\"#FECB52\",\"dash\":\"solid\"},\"marker\":{\"symbol\":\"circle\"},\"mode\":\"lines\",\"name\":\"10_senior notes_notes_notes 8221_million aggregate\",\"orientation\":\"v\",\"showlegend\":true,\"x\":[\"2019-12-31T00:00:00+00:00\",\"2020-12-31T00:00:00+00:00\",\"2021-12-31T00:00:00+00:00\",\"2022-12-31T00:00:00+00:00\",\"2023-12-31T00:00:00+00:00\"],\"xaxis\":\"x\",\"y\":[0.015310815942119544,-0.0025515415602260167,0.0011915709140032707,0.0201766574755311,0.04105684697628021],\"yaxis\":\"y\",\"type\":\"scatter\"},{\"hovertemplate\":\"Name=11_foreign currency_forward contracts_cross currency_exchange risk\\u003cbr\\u003eTimestamp=%{x}\\u003cbr\\u003esentiment_sigma_fsamean=%{y}\\u003cextra\\u003e\\u003c\\u002fextra\\u003e\",\"legendgroup\":\"11_foreign currency_forward contracts_cross currency_exchange risk\",\"line\":{\"color\":\"#636efa\",\"dash\":\"solid\"},\"marker\":{\"symbol\":\"circle\"},\"mode\":\"lines\",\"name\":\"11_foreign currency_forward contracts_cross currency_exchange risk\",\"orientation\":\"v\",\"showlegend\":true,\"x\":[\"2019-12-31T00:00:00+00:00\",\"2020-12-31T00:00:00+00:00\",\"2021-12-31T00:00:00+00:00\",\"2022-12-31T00:00:00+00:00\",\"2023-12-31T00:00:00+00:00\"],\"xaxis\":\"x\",\"y\":[-0.012647791360986644,-0.034727787884482504,-0.06401027242342631,-0.08932381337003191,-0.08920195112462903],\"yaxis\":\"y\",\"type\":\"scatter\"},{\"hovertemplate\":\"Name=12_contractual obligations_obligations 160_payments period_lease obligations\\u003cbr\\u003eTimestamp=%{x}\\u003cbr\\u003esentiment_sigma_fsamean=%{y}\\u003cextra\\u003e\\u003c\\u002fextra\\u003e\",\"legendgroup\":\"12_contractual obligations_obligations 160_payments period_lease obligations\",\"line\":{\"color\":\"#EF553B\",\"dash\":\"solid\"},\"marker\":{\"symbol\":\"circle\"},\"mode\":\"lines\",\"name\":\"12_contractual obligations_obligations 160_payments period_lease obligations\",\"orientation\":\"v\",\"showlegend\":true,\"x\":[\"2019-12-31T00:00:00+00:00\",\"2020-12-31T00:00:00+00:00\",\"2021-12-31T00:00:00+00:00\",\"2022-12-31T00:00:00+00:00\",\"2023-12-31T00:00:00+00:00\"],\"xaxis\":\"x\",\"y\":[-0.0045787374396900555,-0.00506405215314094,-0.012094184527030358,0.007218098236342608,0.014769501156277128],\"yaxis\":\"y\",\"type\":\"scatter\"},{\"hovertemplate\":\"Name=13_georgia_southern company_georgia power_mississippi power\\u003cbr\\u003eTimestamp=%{x}\\u003cbr\\u003esentiment_sigma_fsamean=%{y}\\u003cextra\\u003e\\u003c\\u002fextra\\u003e\",\"legendgroup\":\"13_georgia_southern company_georgia power_mississippi power\",\"line\":{\"color\":\"#00cc96\",\"dash\":\"solid\"},\"marker\":{\"symbol\":\"circle\"},\"mode\":\"lines\",\"name\":\"13_georgia_southern company_georgia power_mississippi power\",\"orientation\":\"v\",\"showlegend\":true,\"x\":[\"2019-12-31T00:00:00+00:00\",\"2020-12-31T00:00:00+00:00\",\"2021-12-31T00:00:00+00:00\"],\"xaxis\":\"x\",\"y\":[0.04792150538979155,0.0,0.0],\"yaxis\":\"y\",\"type\":\"scatter\"},{\"hovertemplate\":\"Name=14_credit agreement_credit facility_revolving credit_sofr\\u003cbr\\u003eTimestamp=%{x}\\u003cbr\\u003esentiment_sigma_fsamean=%{y}\\u003cextra\\u003e\\u003c\\u002fextra\\u003e\",\"legendgroup\":\"14_credit agreement_credit facility_revolving credit_sofr\",\"line\":{\"color\":\"#ab63fa\",\"dash\":\"solid\"},\"marker\":{\"symbol\":\"circle\"},\"mode\":\"lines\",\"name\":\"14_credit agreement_credit facility_revolving credit_sofr\",\"orientation\":\"v\",\"showlegend\":true,\"x\":[\"2019-12-31T00:00:00+00:00\",\"2020-12-31T00:00:00+00:00\",\"2021-12-31T00:00:00+00:00\",\"2022-12-31T00:00:00+00:00\",\"2023-12-31T00:00:00+00:00\"],\"xaxis\":\"x\",\"y\":[0.0668411279512831,0.03013632464999995,0.05590751274558138,0.0968678647563571,0.0749588518583474],\"yaxis\":\"y\",\"type\":\"scatter\"},{\"hovertemplate\":\"Name=15_aircraft fuel_passenger revenue_fuel expense_asms\\u003cbr\\u003eTimestamp=%{x}\\u003cbr\\u003esentiment_sigma_fsamean=%{y}\\u003cextra\\u003e\\u003c\\u002fextra\\u003e\",\"legendgroup\":\"15_aircraft fuel_passenger revenue_fuel expense_asms\",\"line\":{\"color\":\"#FFA15A\",\"dash\":\"solid\"},\"marker\":{\"symbol\":\"circle\"},\"mode\":\"lines\",\"name\":\"15_aircraft fuel_passenger revenue_fuel expense_asms\",\"orientation\":\"v\",\"showlegend\":true,\"x\":[\"2019-12-31T00:00:00+00:00\",\"2020-12-31T00:00:00+00:00\",\"2021-12-31T00:00:00+00:00\",\"2022-12-31T00:00:00+00:00\",\"2023-12-31T00:00:00+00:00\"],\"xaxis\":\"x\",\"y\":[0.31000794070107596,0.19194402130026567,-0.2976664425361724,0.26827424795357224,0.39626917535183476],\"yaxis\":\"y\",\"type\":\"scatter\"},{\"hovertemplate\":\"Name=16_asset group_lived assets_value asset_undiscounted cash\\u003cbr\\u003eTimestamp=%{x}\\u003cbr\\u003esentiment_sigma_fsamean=%{y}\\u003cextra\\u003e\\u003c\\u002fextra\\u003e\",\"legendgroup\":\"16_asset group_lived assets_value asset_undiscounted cash\",\"line\":{\"color\":\"#19d3f3\",\"dash\":\"solid\"},\"marker\":{\"symbol\":\"circle\"},\"mode\":\"lines\",\"name\":\"16_asset group_lived assets_value asset_undiscounted cash\",\"orientation\":\"v\",\"showlegend\":true,\"x\":[\"2019-12-31T00:00:00+00:00\",\"2020-12-31T00:00:00+00:00\",\"2021-12-31T00:00:00+00:00\",\"2022-12-31T00:00:00+00:00\",\"2023-12-31T00:00:00+00:00\"],\"xaxis\":\"x\",\"y\":[-0.02794072897203507,-0.039622553473427184,-0.035079036283930505,-0.020634144002741033,-0.04114886990157507],\"yaxis\":\"y\",\"type\":\"scatter\"},{\"hovertemplate\":\"Name=17_assets acquired_liabilities assumed_acquired liabilities_intangible assets\\u003cbr\\u003eTimestamp=%{x}\\u003cbr\\u003esentiment_sigma_fsamean=%{y}\\u003cextra\\u003e\\u003c\\u002fextra\\u003e\",\"legendgroup\":\"17_assets acquired_liabilities assumed_acquired liabilities_intangible assets\",\"line\":{\"color\":\"#FF6692\",\"dash\":\"solid\"},\"marker\":{\"symbol\":\"circle\"},\"mode\":\"lines\",\"name\":\"17_assets acquired_liabilities assumed_acquired liabilities_intangible assets\",\"orientation\":\"v\",\"showlegend\":true,\"x\":[\"2019-12-31T00:00:00+00:00\",\"2020-12-31T00:00:00+00:00\",\"2021-12-31T00:00:00+00:00\",\"2022-12-31T00:00:00+00:00\",\"2023-12-31T00:00:00+00:00\"],\"xaxis\":\"x\",\"y\":[-0.001054583209575993,0.020733806295929667,0.0015691086786602615,0.0,-0.008519329492328236],\"yaxis\":\"y\",\"type\":\"scatter\"},{\"hovertemplate\":\"Name=18_membership_medicare_medicare advantage_medical membership\\u003cbr\\u003eTimestamp=%{x}\\u003cbr\\u003esentiment_sigma_fsamean=%{y}\\u003cextra\\u003e\\u003c\\u002fextra\\u003e\",\"legendgroup\":\"18_membership_medicare_medicare advantage_medical membership\",\"line\":{\"color\":\"#B6E880\",\"dash\":\"solid\"},\"marker\":{\"symbol\":\"circle\"},\"mode\":\"lines\",\"name\":\"18_membership_medicare_medicare advantage_medical membership\",\"orientation\":\"v\",\"showlegend\":true,\"x\":[\"2019-12-31T00:00:00+00:00\",\"2020-12-31T00:00:00+00:00\",\"2021-12-31T00:00:00+00:00\",\"2022-12-31T00:00:00+00:00\",\"2023-12-31T00:00:00+00:00\"],\"xaxis\":\"x\",\"y\":[0.12313870493679831,0.2960102211597354,0.26552402244673834,0.1833019802369267,0.19741787776655081],\"yaxis\":\"y\",\"type\":\"scatter\"},{\"hovertemplate\":\"Name=19_research development_development expenses_marketing expenses_increase personnel\\u003cbr\\u003eTimestamp=%{x}\\u003cbr\\u003esentiment_sigma_fsamean=%{y}\\u003cextra\\u003e\\u003c\\u002fextra\\u003e\",\"legendgroup\":\"19_research development_development expenses_marketing expenses_increase personnel\",\"line\":{\"color\":\"#FF97FF\",\"dash\":\"solid\"},\"marker\":{\"symbol\":\"circle\"},\"mode\":\"lines\",\"name\":\"19_research development_development expenses_marketing expenses_increase personnel\",\"orientation\":\"v\",\"showlegend\":true,\"x\":[\"2019-12-31T00:00:00+00:00\",\"2020-12-31T00:00:00+00:00\",\"2021-12-31T00:00:00+00:00\",\"2022-12-31T00:00:00+00:00\",\"2023-12-31T00:00:00+00:00\"],\"xaxis\":\"x\",\"y\":[0.5295795498103121,0.5305745732039213,0.47037957683205606,0.5022447899163488,0.5905775021422993],\"yaxis\":\"y\",\"type\":\"scatter\"}],                        {\"template\":{\"data\":{\"histogram2dcontour\":[{\"type\":\"histogram2dcontour\",\"colorbar\":{\"outlinewidth\":0,\"ticks\":\"\"},\"colorscale\":[[0.0,\"#0d0887\"],[0.1111111111111111,\"#46039f\"],[0.2222222222222222,\"#7201a8\"],[0.3333333333333333,\"#9c179e\"],[0.4444444444444444,\"#bd3786\"],[0.5555555555555556,\"#d8576b\"],[0.6666666666666666,\"#ed7953\"],[0.7777777777777778,\"#fb9f3a\"],[0.8888888888888888,\"#fdca26\"],[1.0,\"#f0f921\"]]}],\"choropleth\":[{\"type\":\"choropleth\",\"colorbar\":{\"outlinewidth\":0,\"ticks\":\"\"}}],\"histogram2d\":[{\"type\":\"histogram2d\",\"colorbar\":{\"outlinewidth\":0,\"ticks\":\"\"},\"colorscale\":[[0.0,\"#0d0887\"],[0.1111111111111111,\"#46039f\"],[0.2222222222222222,\"#7201a8\"],[0.3333333333333333,\"#9c179e\"],[0.4444444444444444,\"#bd3786\"],[0.5555555555555556,\"#d8576b\"],[0.6666666666666666,\"#ed7953\"],[0.7777777777777778,\"#fb9f3a\"],[0.8888888888888888,\"#fdca26\"],[1.0,\"#f0f921\"]]}],\"heatmap\":[{\"type\":\"heatmap\",\"colorbar\":{\"outlinewidth\":0,\"ticks\":\"\"},\"colorscale\":[[0.0,\"#0d0887\"],[0.1111111111111111,\"#46039f\"],[0.2222222222222222,\"#7201a8\"],[0.3333333333333333,\"#9c179e\"],[0.4444444444444444,\"#bd3786\"],[0.5555555555555556,\"#d8576b\"],[0.6666666666666666,\"#ed7953\"],[0.7777777777777778,\"#fb9f3a\"],[0.8888888888888888,\"#fdca26\"],[1.0,\"#f0f921\"]]}],\"heatmapgl\":[{\"type\":\"heatmapgl\",\"colorbar\":{\"outlinewidth\":0,\"ticks\":\"\"},\"colorscale\":[[0.0,\"#0d0887\"],[0.1111111111111111,\"#46039f\"],[0.2222222222222222,\"#7201a8\"],[0.3333333333333333,\"#9c179e\"],[0.4444444444444444,\"#bd3786\"],[0.5555555555555556,\"#d8576b\"],[0.6666666666666666,\"#ed7953\"],[0.7777777777777778,\"#fb9f3a\"],[0.8888888888888888,\"#fdca26\"],[1.0,\"#f0f921\"]]}],\"contourcarpet\":[{\"type\":\"contourcarpet\",\"colorbar\":{\"outlinewidth\":0,\"ticks\":\"\"}}],\"contour\":[{\"type\":\"contour\",\"colorbar\":{\"outlinewidth\":0,\"ticks\":\"\"},\"colorscale\":[[0.0,\"#0d0887\"],[0.1111111111111111,\"#46039f\"],[0.2222222222222222,\"#7201a8\"],[0.3333333333333333,\"#9c179e\"],[0.4444444444444444,\"#bd3786\"],[0.5555555555555556,\"#d8576b\"],[0.6666666666666666,\"#ed7953\"],[0.7777777777777778,\"#fb9f3a\"],[0.8888888888888888,\"#fdca26\"],[1.0,\"#f0f921\"]]}],\"surface\":[{\"type\":\"surface\",\"colorbar\":{\"outlinewidth\":0,\"ticks\":\"\"},\"colorscale\":[[0.0,\"#0d0887\"],[0.1111111111111111,\"#46039f\"],[0.2222222222222222,\"#7201a8\"],[0.3333333333333333,\"#9c179e\"],[0.4444444444444444,\"#bd3786\"],[0.5555555555555556,\"#d8576b\"],[0.6666666666666666,\"#ed7953\"],[0.7777777777777778,\"#fb9f3a\"],[0.8888888888888888,\"#fdca26\"],[1.0,\"#f0f921\"]]}],\"mesh3d\":[{\"type\":\"mesh3d\",\"colorbar\":{\"outlinewidth\":0,\"ticks\":\"\"}}],\"scatter\":[{\"marker\":{\"line\":{\"color\":\"#283442\"}},\"type\":\"scatter\"}],\"parcoords\":[{\"type\":\"parcoords\",\"line\":{\"colorbar\":{\"outlinewidth\":0,\"ticks\":\"\"}}}],\"scatterpolargl\":[{\"type\":\"scatterpolargl\",\"marker\":{\"colorbar\":{\"outlinewidth\":0,\"ticks\":\"\"}}}],\"bar\":[{\"error_x\":{\"color\":\"#f2f5fa\"},\"error_y\":{\"color\":\"#f2f5fa\"},\"marker\":{\"line\":{\"color\":\"rgb(17,17,17)\",\"width\":0.5},\"pattern\":{\"fillmode\":\"overlay\",\"size\":10,\"solidity\":0.2}},\"type\":\"bar\"}],\"scattergeo\":[{\"type\":\"scattergeo\",\"marker\":{\"colorbar\":{\"outlinewidth\":0,\"ticks\":\"\"}}}],\"scatterpolar\":[{\"type\":\"scatterpolar\",\"marker\":{\"colorbar\":{\"outlinewidth\":0,\"ticks\":\"\"}}}],\"histogram\":[{\"marker\":{\"pattern\":{\"fillmode\":\"overlay\",\"size\":10,\"solidity\":0.2}},\"type\":\"histogram\"}],\"scattergl\":[{\"marker\":{\"line\":{\"color\":\"#283442\"}},\"type\":\"scattergl\"}],\"scatter3d\":[{\"type\":\"scatter3d\",\"line\":{\"colorbar\":{\"outlinewidth\":0,\"ticks\":\"\"}},\"marker\":{\"colorbar\":{\"outlinewidth\":0,\"ticks\":\"\"}}}],\"scattermapbox\":[{\"type\":\"scattermapbox\",\"marker\":{\"colorbar\":{\"outlinewidth\":0,\"ticks\":\"\"}}}],\"scatterternary\":[{\"type\":\"scatterternary\",\"marker\":{\"colorbar\":{\"outlinewidth\":0,\"ticks\":\"\"}}}],\"scattercarpet\":[{\"type\":\"scattercarpet\",\"marker\":{\"colorbar\":{\"outlinewidth\":0,\"ticks\":\"\"}}}],\"carpet\":[{\"aaxis\":{\"endlinecolor\":\"#A2B1C6\",\"gridcolor\":\"#506784\",\"linecolor\":\"#506784\",\"minorgridcolor\":\"#506784\",\"startlinecolor\":\"#A2B1C6\"},\"baxis\":{\"endlinecolor\":\"#A2B1C6\",\"gridcolor\":\"#506784\",\"linecolor\":\"#506784\",\"minorgridcolor\":\"#506784\",\"startlinecolor\":\"#A2B1C6\"},\"type\":\"carpet\"}],\"table\":[{\"cells\":{\"fill\":{\"color\":\"#506784\"},\"line\":{\"color\":\"rgb(17,17,17)\"}},\"header\":{\"fill\":{\"color\":\"#2a3f5f\"},\"line\":{\"color\":\"rgb(17,17,17)\"}},\"type\":\"table\"}],\"barpolar\":[{\"marker\":{\"line\":{\"color\":\"rgb(17,17,17)\",\"width\":0.5},\"pattern\":{\"fillmode\":\"overlay\",\"size\":10,\"solidity\":0.2}},\"type\":\"barpolar\"}],\"pie\":[{\"automargin\":true,\"type\":\"pie\"}]},\"layout\":{\"autotypenumbers\":\"strict\",\"colorway\":[\"#636efa\",\"#EF553B\",\"#00cc96\",\"#ab63fa\",\"#FFA15A\",\"#19d3f3\",\"#FF6692\",\"#B6E880\",\"#FF97FF\",\"#FECB52\"],\"font\":{\"color\":\"#f2f5fa\"},\"hovermode\":\"closest\",\"hoverlabel\":{\"align\":\"left\"},\"paper_bgcolor\":\"rgb(17,17,17)\",\"plot_bgcolor\":\"rgb(17,17,17)\",\"polar\":{\"bgcolor\":\"rgb(17,17,17)\",\"angularaxis\":{\"gridcolor\":\"#506784\",\"linecolor\":\"#506784\",\"ticks\":\"\"},\"radialaxis\":{\"gridcolor\":\"#506784\",\"linecolor\":\"#506784\",\"ticks\":\"\"}},\"ternary\":{\"bgcolor\":\"rgb(17,17,17)\",\"aaxis\":{\"gridcolor\":\"#506784\",\"linecolor\":\"#506784\",\"ticks\":\"\"},\"baxis\":{\"gridcolor\":\"#506784\",\"linecolor\":\"#506784\",\"ticks\":\"\"},\"caxis\":{\"gridcolor\":\"#506784\",\"linecolor\":\"#506784\",\"ticks\":\"\"}},\"coloraxis\":{\"colorbar\":{\"outlinewidth\":0,\"ticks\":\"\"}},\"colorscale\":{\"sequential\":[[0.0,\"#0d0887\"],[0.1111111111111111,\"#46039f\"],[0.2222222222222222,\"#7201a8\"],[0.3333333333333333,\"#9c179e\"],[0.4444444444444444,\"#bd3786\"],[0.5555555555555556,\"#d8576b\"],[0.6666666666666666,\"#ed7953\"],[0.7777777777777778,\"#fb9f3a\"],[0.8888888888888888,\"#fdca26\"],[1.0,\"#f0f921\"]],\"sequentialminus\":[[0.0,\"#0d0887\"],[0.1111111111111111,\"#46039f\"],[0.2222222222222222,\"#7201a8\"],[0.3333333333333333,\"#9c179e\"],[0.4444444444444444,\"#bd3786\"],[0.5555555555555556,\"#d8576b\"],[0.6666666666666666,\"#ed7953\"],[0.7777777777777778,\"#fb9f3a\"],[0.8888888888888888,\"#fdca26\"],[1.0,\"#f0f921\"]],\"diverging\":[[0,\"#8e0152\"],[0.1,\"#c51b7d\"],[0.2,\"#de77ae\"],[0.3,\"#f1b6da\"],[0.4,\"#fde0ef\"],[0.5,\"#f7f7f7\"],[0.6,\"#e6f5d0\"],[0.7,\"#b8e186\"],[0.8,\"#7fbc41\"],[0.9,\"#4d9221\"],[1,\"#276419\"]]},\"xaxis\":{\"gridcolor\":\"#283442\",\"linecolor\":\"#506784\",\"ticks\":\"\",\"title\":{\"standoff\":15},\"zerolinecolor\":\"#283442\",\"automargin\":true,\"zerolinewidth\":2},\"yaxis\":{\"gridcolor\":\"#283442\",\"linecolor\":\"#506784\",\"ticks\":\"\",\"title\":{\"standoff\":15},\"zerolinecolor\":\"#283442\",\"automargin\":true,\"zerolinewidth\":2},\"scene\":{\"xaxis\":{\"backgroundcolor\":\"rgb(17,17,17)\",\"gridcolor\":\"#506784\",\"linecolor\":\"#506784\",\"showbackground\":true,\"ticks\":\"\",\"zerolinecolor\":\"#C8D4E3\",\"gridwidth\":2},\"yaxis\":{\"backgroundcolor\":\"rgb(17,17,17)\",\"gridcolor\":\"#506784\",\"linecolor\":\"#506784\",\"showbackground\":true,\"ticks\":\"\",\"zerolinecolor\":\"#C8D4E3\",\"gridwidth\":2},\"zaxis\":{\"backgroundcolor\":\"rgb(17,17,17)\",\"gridcolor\":\"#506784\",\"linecolor\":\"#506784\",\"showbackground\":true,\"ticks\":\"\",\"zerolinecolor\":\"#C8D4E3\",\"gridwidth\":2}},\"shapedefaults\":{\"line\":{\"color\":\"#f2f5fa\"}},\"annotationdefaults\":{\"arrowcolor\":\"#f2f5fa\",\"arrowhead\":0,\"arrowwidth\":1},\"geo\":{\"bgcolor\":\"rgb(17,17,17)\",\"landcolor\":\"rgb(17,17,17)\",\"subunitcolor\":\"#506784\",\"showland\":true,\"showlakes\":true,\"lakecolor\":\"rgb(17,17,17)\"},\"title\":{\"x\":0.05},\"updatemenudefaults\":{\"bgcolor\":\"#506784\",\"borderwidth\":0},\"sliderdefaults\":{\"bgcolor\":\"#C8D4E3\",\"borderwidth\":1,\"bordercolor\":\"rgb(17,17,17)\",\"tickwidth\":0},\"mapbox\":{\"style\":\"dark\"}}},\"xaxis\":{\"anchor\":\"y\",\"domain\":[0.0,1.0],\"title\":{\"text\":\"Timestamp\"}},\"yaxis\":{\"anchor\":\"x\",\"domain\":[0.0,1.0],\"title\":{\"text\":\"Average Sentiment per period\"}},\"legend\":{\"title\":{\"text\":\"Name\"},\"tracegroupgap\":0},\"margin\":{\"t\":60},\"title\":{\"text\":\"Topic sentiment -Section7\"}},                        {\"responsive\": true}                    ).then(function(){\n                            \nvar gd = document.getElementById('dd0fe0d7-27b1-49a2-ad2e-885cd685bb1d');\nvar x = new MutationObserver(function (mutations, observer) {{\n        var display = window.getComputedStyle(gd).display;\n        if (!display || display === 'none') {{\n            console.log([gd, 'removed!']);\n            Plotly.purge(gd);\n            observer.disconnect();\n        }}\n}});\n\n// Listen for the removal of the full notebook cells\nvar notebookContainer = gd.closest('#notebook-container');\nif (notebookContainer) {{\n    x.observe(notebookContainer, {childList: true});\n}}\n\n// Listen for the clearing of the current output cell\nvar outputEl = gd.closest('.output');\nif (outputEl) {{\n    x.observe(outputEl, {childList: true});\n}}\n\n                        })                };                });            </script>        </div>"
     },
     "metadata": {},
     "output_type": "display_data"
    }
   ],
   "source": [
    "import plotly.express as px\n",
    "\n",
    "for s in agg_sentiment:\n",
    "    sentiment = agg_sentiment[s]\n",
    "    fig = px.line(data_frame=sentiment.loc[sentiment.Topic.isin(range(1, 20)),:], x='Timestamp', y='sentiment_sigma_fsamean', color='Name')\n",
    "    fig.update_layout(\n",
    "        title=f'Topic sentiment -{s}',\n",
    "        xaxis_title='Timestamp',\n",
    "        yaxis_title='Average Sentiment per period'\n",
    "    )\n",
    "\n",
    "    fig.show()"
   ],
   "metadata": {
    "collapsed": false,
    "ExecuteTime": {
     "start_time": "2023-08-31T10:50:04.562980Z",
     "end_time": "2023-08-31T10:50:04.667918Z"
    }
   }
  },
  {
   "cell_type": "markdown",
   "source": [
    "Above, we can see how the sentiment evolved for the top 20 periods per section. Although, while using only the chart, is not possible to do an exhaustive analysis, we can see an improvement of the sentiment around the topic 6 (COVID-19) in section 1. In fact, we can see for the timestamp 31 December 2020 a very negative sentiment as measured by the mean for that topic, which reflects the imense impact that covid-19 had during the year 2020. We also see on section 7 a decrease in sentiment for the topic 15, which relates to aircraft and airlines. Again this probably reflects the worries about airlines, very accentuated during the pandemic, as we can see from the minimum in Jan 2022, which consists of the annual reports for the year 2021, which was a very complicated year for the airlines. It is important to remark that in the context of annual filings, sentiment will be backward-looking, sometimes with a significant lag. We now save the series sentiment so that we can use it for the web service. This file will be large and needs to be added to the git-lfs."
   ],
   "metadata": {
    "collapsed": false
   }
  },
  {
   "cell_type": "code",
   "execution_count": 54,
   "outputs": [],
   "source": [
    "with open('../api/assets/topics_and_docs_sentiment.json', 'w') as f:\n",
    "    topics_and_docs_sentiment = {s:v.to_json()for s,v in topics_and_docs.items()}\n",
    "    json.dump(topics_and_docs_sentiment,f)"
   ],
   "metadata": {
    "collapsed": false,
    "ExecuteTime": {
     "start_time": "2023-08-31T11:04:20.474292Z",
     "end_time": "2023-08-31T11:04:24.562916Z"
    }
   }
  },
  {
   "cell_type": "code",
   "execution_count": null,
   "outputs": [],
   "source": [],
   "metadata": {
    "collapsed": false
   }
  }
 ],
 "metadata": {
  "kernelspec": {
   "display_name": "Python 3",
   "language": "python",
   "name": "python3"
  },
  "language_info": {
   "codemirror_mode": {
    "name": "ipython",
    "version": 2
   },
   "file_extension": ".py",
   "mimetype": "text/x-python",
   "name": "python",
   "nbconvert_exporter": "python",
   "pygments_lexer": "ipython2",
   "version": "2.7.6"
  }
 },
 "nbformat": 4,
 "nbformat_minor": 0
}
