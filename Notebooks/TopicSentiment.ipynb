{
 "cells": [
  {
   "cell_type": "markdown",
   "source": [
    "### Measuring Topic Sentiment\n",
    "There are various ways of approaching this problem. Here, we will use the information that we already have from the topic modelling, namely the\n",
    "topic models. We then apply sentiment at document level. For that purpose we will use a model that is hosted in hugging face, and that consistutes an improvement over FinBert. The advantage of this approach is that we don't have to use the external api vendors and submit our data to them. However, under the right circunstances, and with the appropriate budget considerations, this problem can be solved with prompt engineering directly. We load the data containing the documents for each section and then load the topic models.\n"
   ],
   "metadata": {
    "collapsed": false
   }
  },
  {
   "cell_type": "code",
   "execution_count": 1,
   "outputs": [
    {
     "name": "stderr",
     "output_type": "stream",
     "text": [
      "/Users/sapereira/anaconda3/envs/audio-course-huggingface/lib/python3.10/site-packages/umap/distances.py:1063: NumbaDeprecationWarning: The 'nopython' keyword argument was not supplied to the 'numba.jit' decorator. The implicit default value for this argument is currently False, but it will be changed to True in Numba 0.59.0. See https://numba.readthedocs.io/en/stable/reference/deprecation.html#deprecation-of-object-mode-fall-back-behaviour-when-using-jit for details.\n",
      "  @numba.jit()\n",
      "/Users/sapereira/anaconda3/envs/audio-course-huggingface/lib/python3.10/site-packages/umap/distances.py:1071: NumbaDeprecationWarning: The 'nopython' keyword argument was not supplied to the 'numba.jit' decorator. The implicit default value for this argument is currently False, but it will be changed to True in Numba 0.59.0. See https://numba.readthedocs.io/en/stable/reference/deprecation.html#deprecation-of-object-mode-fall-back-behaviour-when-using-jit for details.\n",
      "  @numba.jit()\n",
      "/Users/sapereira/anaconda3/envs/audio-course-huggingface/lib/python3.10/site-packages/umap/distances.py:1086: NumbaDeprecationWarning: The 'nopython' keyword argument was not supplied to the 'numba.jit' decorator. The implicit default value for this argument is currently False, but it will be changed to True in Numba 0.59.0. See https://numba.readthedocs.io/en/stable/reference/deprecation.html#deprecation-of-object-mode-fall-back-behaviour-when-using-jit for details.\n",
      "  @numba.jit()\n",
      "/Users/sapereira/anaconda3/envs/audio-course-huggingface/lib/python3.10/site-packages/umap/umap_.py:660: NumbaDeprecationWarning: The 'nopython' keyword argument was not supplied to the 'numba.jit' decorator. The implicit default value for this argument is currently False, but it will be changed to True in Numba 0.59.0. See https://numba.readthedocs.io/en/stable/reference/deprecation.html#deprecation-of-object-mode-fall-back-behaviour-when-using-jit for details.\n",
      "  @numba.jit()\n"
     ]
    }
   ],
   "source": [
    "import pandas as pd\n",
    "from bertopic import BERTopic\n",
    "import pickle\n",
    "sections = [f'Section{s}' for s in ['1', '1A', '7'] ]\n",
    "topic_models = {s: BERTopic.load(f'../topic_models/topic_models_{s}') for s in sections}\n",
    "\n",
    "# Load the split_sections_file\n",
    "with open(\"../data/split_sections_text.pickle\", \"rb\") as file:\n",
    "    split_sections_text = pickle.load(file)\n"
   ],
   "metadata": {
    "collapsed": false,
    "ExecuteTime": {
     "start_time": "2023-08-31T00:09:58.576987Z",
     "end_time": "2023-08-31T00:10:05.376450Z"
    }
   }
  },
  {
   "cell_type": "code",
   "execution_count": 2,
   "outputs": [
    {
     "ename": "ValueError",
     "evalue": "All arrays must be of the same length",
     "output_type": "error",
     "traceback": [
      "\u001B[0;31m---------------------------------------------------------------------------\u001B[0m",
      "\u001B[0;31mValueError\u001B[0m                                Traceback (most recent call last)",
      "Cell \u001B[0;32mIn[2], line 1\u001B[0m\n\u001B[0;32m----> 1\u001B[0m topics_and_docs \u001B[38;5;241m=\u001B[39m {s: tm\u001B[38;5;241m.\u001B[39mget_document_info(split_sections_text[s][\u001B[38;5;124m'\u001B[39m\u001B[38;5;124mtext\u001B[39m\u001B[38;5;124m'\u001B[39m]) \u001B[38;5;28;01mfor\u001B[39;00m s,tm \u001B[38;5;129;01min\u001B[39;00m topic_models\u001B[38;5;241m.\u001B[39mitems() }\n\u001B[1;32m      2\u001B[0m \u001B[38;5;28;01mfor\u001B[39;00m s,v \u001B[38;5;129;01min\u001B[39;00m topics_and_docs\u001B[38;5;241m.\u001B[39mitems():\n\u001B[1;32m      3\u001B[0m     topics_and_docs[s][\u001B[38;5;124m'\u001B[39m\u001B[38;5;124mTimestamp\u001B[39m\u001B[38;5;124m'\u001B[39m] \u001B[38;5;241m=\u001B[39m pd\u001B[38;5;241m.\u001B[39mSeries(data\u001B[38;5;241m=\u001B[39m[meta[\u001B[38;5;124m'\u001B[39m\u001B[38;5;124mfiledAt\u001B[39m\u001B[38;5;124m'\u001B[39m] \u001B[38;5;28;01mfor\u001B[39;00m meta \u001B[38;5;129;01min\u001B[39;00m split_sections_text[s][\u001B[38;5;124m'\u001B[39m\u001B[38;5;124mmeta\u001B[39m\u001B[38;5;124m'\u001B[39m]])\n",
      "Cell \u001B[0;32mIn[2], line 1\u001B[0m, in \u001B[0;36m<dictcomp>\u001B[0;34m(.0)\u001B[0m\n\u001B[0;32m----> 1\u001B[0m topics_and_docs \u001B[38;5;241m=\u001B[39m {s: \u001B[43mtm\u001B[49m\u001B[38;5;241;43m.\u001B[39;49m\u001B[43mget_document_info\u001B[49m\u001B[43m(\u001B[49m\u001B[43msplit_sections_text\u001B[49m\u001B[43m[\u001B[49m\u001B[43ms\u001B[49m\u001B[43m]\u001B[49m\u001B[43m[\u001B[49m\u001B[38;5;124;43m'\u001B[39;49m\u001B[38;5;124;43mtext\u001B[39;49m\u001B[38;5;124;43m'\u001B[39;49m\u001B[43m]\u001B[49m\u001B[43m)\u001B[49m \u001B[38;5;28;01mfor\u001B[39;00m s,tm \u001B[38;5;129;01min\u001B[39;00m topic_models\u001B[38;5;241m.\u001B[39mitems() }\n\u001B[1;32m      2\u001B[0m \u001B[38;5;28;01mfor\u001B[39;00m s,v \u001B[38;5;129;01min\u001B[39;00m topics_and_docs\u001B[38;5;241m.\u001B[39mitems():\n\u001B[1;32m      3\u001B[0m     topics_and_docs[s][\u001B[38;5;124m'\u001B[39m\u001B[38;5;124mTimestamp\u001B[39m\u001B[38;5;124m'\u001B[39m] \u001B[38;5;241m=\u001B[39m pd\u001B[38;5;241m.\u001B[39mSeries(data\u001B[38;5;241m=\u001B[39m[meta[\u001B[38;5;124m'\u001B[39m\u001B[38;5;124mfiledAt\u001B[39m\u001B[38;5;124m'\u001B[39m] \u001B[38;5;28;01mfor\u001B[39;00m meta \u001B[38;5;129;01min\u001B[39;00m split_sections_text[s][\u001B[38;5;124m'\u001B[39m\u001B[38;5;124mmeta\u001B[39m\u001B[38;5;124m'\u001B[39m]])\n",
      "File \u001B[0;32m~/anaconda3/envs/audio-course-huggingface/lib/python3.10/site-packages/bertopic/_bertopic.py:1591\u001B[0m, in \u001B[0;36mBERTopic.get_document_info\u001B[0;34m(self, docs, df, metadata)\u001B[0m\n\u001B[1;32m   1589\u001B[0m     document_info[\u001B[38;5;124m\"\u001B[39m\u001B[38;5;124mTopic\u001B[39m\u001B[38;5;124m\"\u001B[39m] \u001B[38;5;241m=\u001B[39m \u001B[38;5;28mself\u001B[39m\u001B[38;5;241m.\u001B[39mtopics_\n\u001B[1;32m   1590\u001B[0m \u001B[38;5;28;01melse\u001B[39;00m:\n\u001B[0;32m-> 1591\u001B[0m     document_info \u001B[38;5;241m=\u001B[39m \u001B[43mpd\u001B[49m\u001B[38;5;241;43m.\u001B[39;49m\u001B[43mDataFrame\u001B[49m\u001B[43m(\u001B[49m\u001B[43m{\u001B[49m\u001B[38;5;124;43m\"\u001B[39;49m\u001B[38;5;124;43mDocument\u001B[39;49m\u001B[38;5;124;43m\"\u001B[39;49m\u001B[43m:\u001B[49m\u001B[43m \u001B[49m\u001B[43mdocs\u001B[49m\u001B[43m,\u001B[49m\u001B[43m \u001B[49m\u001B[38;5;124;43m\"\u001B[39;49m\u001B[38;5;124;43mTopic\u001B[39;49m\u001B[38;5;124;43m\"\u001B[39;49m\u001B[43m:\u001B[49m\u001B[43m \u001B[49m\u001B[38;5;28;43mself\u001B[39;49m\u001B[38;5;241;43m.\u001B[39;49m\u001B[43mtopics_\u001B[49m\u001B[43m}\u001B[49m\u001B[43m)\u001B[49m\n\u001B[1;32m   1593\u001B[0m \u001B[38;5;66;03m# Add topic info through `.get_topic_info()`\u001B[39;00m\n\u001B[1;32m   1594\u001B[0m topic_info \u001B[38;5;241m=\u001B[39m \u001B[38;5;28mself\u001B[39m\u001B[38;5;241m.\u001B[39mget_topic_info()\u001B[38;5;241m.\u001B[39mdrop(\u001B[38;5;124m\"\u001B[39m\u001B[38;5;124mCount\u001B[39m\u001B[38;5;124m\"\u001B[39m, axis\u001B[38;5;241m=\u001B[39m\u001B[38;5;241m1\u001B[39m)\n",
      "File \u001B[0;32m~/anaconda3/envs/audio-course-huggingface/lib/python3.10/site-packages/pandas/core/frame.py:664\u001B[0m, in \u001B[0;36mDataFrame.__init__\u001B[0;34m(self, data, index, columns, dtype, copy)\u001B[0m\n\u001B[1;32m    658\u001B[0m     mgr \u001B[38;5;241m=\u001B[39m \u001B[38;5;28mself\u001B[39m\u001B[38;5;241m.\u001B[39m_init_mgr(\n\u001B[1;32m    659\u001B[0m         data, axes\u001B[38;5;241m=\u001B[39m{\u001B[38;5;124m\"\u001B[39m\u001B[38;5;124mindex\u001B[39m\u001B[38;5;124m\"\u001B[39m: index, \u001B[38;5;124m\"\u001B[39m\u001B[38;5;124mcolumns\u001B[39m\u001B[38;5;124m\"\u001B[39m: columns}, dtype\u001B[38;5;241m=\u001B[39mdtype, copy\u001B[38;5;241m=\u001B[39mcopy\n\u001B[1;32m    660\u001B[0m     )\n\u001B[1;32m    662\u001B[0m \u001B[38;5;28;01melif\u001B[39;00m \u001B[38;5;28misinstance\u001B[39m(data, \u001B[38;5;28mdict\u001B[39m):\n\u001B[1;32m    663\u001B[0m     \u001B[38;5;66;03m# GH#38939 de facto copy defaults to False only in non-dict cases\u001B[39;00m\n\u001B[0;32m--> 664\u001B[0m     mgr \u001B[38;5;241m=\u001B[39m \u001B[43mdict_to_mgr\u001B[49m\u001B[43m(\u001B[49m\u001B[43mdata\u001B[49m\u001B[43m,\u001B[49m\u001B[43m \u001B[49m\u001B[43mindex\u001B[49m\u001B[43m,\u001B[49m\u001B[43m \u001B[49m\u001B[43mcolumns\u001B[49m\u001B[43m,\u001B[49m\u001B[43m \u001B[49m\u001B[43mdtype\u001B[49m\u001B[38;5;241;43m=\u001B[39;49m\u001B[43mdtype\u001B[49m\u001B[43m,\u001B[49m\u001B[43m \u001B[49m\u001B[43mcopy\u001B[49m\u001B[38;5;241;43m=\u001B[39;49m\u001B[43mcopy\u001B[49m\u001B[43m,\u001B[49m\u001B[43m \u001B[49m\u001B[43mtyp\u001B[49m\u001B[38;5;241;43m=\u001B[39;49m\u001B[43mmanager\u001B[49m\u001B[43m)\u001B[49m\n\u001B[1;32m    665\u001B[0m \u001B[38;5;28;01melif\u001B[39;00m \u001B[38;5;28misinstance\u001B[39m(data, ma\u001B[38;5;241m.\u001B[39mMaskedArray):\n\u001B[1;32m    666\u001B[0m     \u001B[38;5;28;01mimport\u001B[39;00m \u001B[38;5;21;01mnumpy\u001B[39;00m\u001B[38;5;21;01m.\u001B[39;00m\u001B[38;5;21;01mma\u001B[39;00m\u001B[38;5;21;01m.\u001B[39;00m\u001B[38;5;21;01mmrecords\u001B[39;00m \u001B[38;5;28;01mas\u001B[39;00m \u001B[38;5;21;01mmrecords\u001B[39;00m\n",
      "File \u001B[0;32m~/anaconda3/envs/audio-course-huggingface/lib/python3.10/site-packages/pandas/core/internals/construction.py:493\u001B[0m, in \u001B[0;36mdict_to_mgr\u001B[0;34m(data, index, columns, dtype, typ, copy)\u001B[0m\n\u001B[1;32m    489\u001B[0m     \u001B[38;5;28;01melse\u001B[39;00m:\n\u001B[1;32m    490\u001B[0m         \u001B[38;5;66;03m# dtype check to exclude e.g. range objects, scalars\u001B[39;00m\n\u001B[1;32m    491\u001B[0m         arrays \u001B[38;5;241m=\u001B[39m [x\u001B[38;5;241m.\u001B[39mcopy() \u001B[38;5;28;01mif\u001B[39;00m \u001B[38;5;28mhasattr\u001B[39m(x, \u001B[38;5;124m\"\u001B[39m\u001B[38;5;124mdtype\u001B[39m\u001B[38;5;124m\"\u001B[39m) \u001B[38;5;28;01melse\u001B[39;00m x \u001B[38;5;28;01mfor\u001B[39;00m x \u001B[38;5;129;01min\u001B[39;00m arrays]\n\u001B[0;32m--> 493\u001B[0m \u001B[38;5;28;01mreturn\u001B[39;00m \u001B[43marrays_to_mgr\u001B[49m\u001B[43m(\u001B[49m\u001B[43marrays\u001B[49m\u001B[43m,\u001B[49m\u001B[43m \u001B[49m\u001B[43mcolumns\u001B[49m\u001B[43m,\u001B[49m\u001B[43m \u001B[49m\u001B[43mindex\u001B[49m\u001B[43m,\u001B[49m\u001B[43m \u001B[49m\u001B[43mdtype\u001B[49m\u001B[38;5;241;43m=\u001B[39;49m\u001B[43mdtype\u001B[49m\u001B[43m,\u001B[49m\u001B[43m \u001B[49m\u001B[43mtyp\u001B[49m\u001B[38;5;241;43m=\u001B[39;49m\u001B[43mtyp\u001B[49m\u001B[43m,\u001B[49m\u001B[43m \u001B[49m\u001B[43mconsolidate\u001B[49m\u001B[38;5;241;43m=\u001B[39;49m\u001B[43mcopy\u001B[49m\u001B[43m)\u001B[49m\n",
      "File \u001B[0;32m~/anaconda3/envs/audio-course-huggingface/lib/python3.10/site-packages/pandas/core/internals/construction.py:118\u001B[0m, in \u001B[0;36marrays_to_mgr\u001B[0;34m(arrays, columns, index, dtype, verify_integrity, typ, consolidate)\u001B[0m\n\u001B[1;32m    115\u001B[0m \u001B[38;5;28;01mif\u001B[39;00m verify_integrity:\n\u001B[1;32m    116\u001B[0m     \u001B[38;5;66;03m# figure out the index, if necessary\u001B[39;00m\n\u001B[1;32m    117\u001B[0m     \u001B[38;5;28;01mif\u001B[39;00m index \u001B[38;5;129;01mis\u001B[39;00m \u001B[38;5;28;01mNone\u001B[39;00m:\n\u001B[0;32m--> 118\u001B[0m         index \u001B[38;5;241m=\u001B[39m \u001B[43m_extract_index\u001B[49m\u001B[43m(\u001B[49m\u001B[43marrays\u001B[49m\u001B[43m)\u001B[49m\n\u001B[1;32m    119\u001B[0m     \u001B[38;5;28;01melse\u001B[39;00m:\n\u001B[1;32m    120\u001B[0m         index \u001B[38;5;241m=\u001B[39m ensure_index(index)\n",
      "File \u001B[0;32m~/anaconda3/envs/audio-course-huggingface/lib/python3.10/site-packages/pandas/core/internals/construction.py:666\u001B[0m, in \u001B[0;36m_extract_index\u001B[0;34m(data)\u001B[0m\n\u001B[1;32m    664\u001B[0m lengths \u001B[38;5;241m=\u001B[39m \u001B[38;5;28mlist\u001B[39m(\u001B[38;5;28mset\u001B[39m(raw_lengths))\n\u001B[1;32m    665\u001B[0m \u001B[38;5;28;01mif\u001B[39;00m \u001B[38;5;28mlen\u001B[39m(lengths) \u001B[38;5;241m>\u001B[39m \u001B[38;5;241m1\u001B[39m:\n\u001B[0;32m--> 666\u001B[0m     \u001B[38;5;28;01mraise\u001B[39;00m \u001B[38;5;167;01mValueError\u001B[39;00m(\u001B[38;5;124m\"\u001B[39m\u001B[38;5;124mAll arrays must be of the same length\u001B[39m\u001B[38;5;124m\"\u001B[39m)\n\u001B[1;32m    668\u001B[0m \u001B[38;5;28;01mif\u001B[39;00m have_dicts:\n\u001B[1;32m    669\u001B[0m     \u001B[38;5;28;01mraise\u001B[39;00m \u001B[38;5;167;01mValueError\u001B[39;00m(\n\u001B[1;32m    670\u001B[0m         \u001B[38;5;124m\"\u001B[39m\u001B[38;5;124mMixing dicts with non-Series may lead to ambiguous ordering.\u001B[39m\u001B[38;5;124m\"\u001B[39m\n\u001B[1;32m    671\u001B[0m     )\n",
      "\u001B[0;31mValueError\u001B[0m: All arrays must be of the same length"
     ]
    }
   ],
   "source": [
    "topics_and_docs = {s: tm.get_document_info(split_sections_text[s]['text']) for s,tm in topic_models.items() }\n",
    "for s,v in topics_and_docs.items():\n",
    "    topics_and_docs[s]['Timestamp'] = pd.Series(data=[meta['filedAt'] for meta in split_sections_text[s]['meta']])\n"
   ],
   "metadata": {
    "collapsed": false,
    "ExecuteTime": {
     "start_time": "2023-08-30T21:28:06.484378Z",
     "end_time": "2023-08-30T21:28:06.817500Z"
    }
   }
  },
  {
   "cell_type": "code",
   "execution_count": 32,
   "outputs": [
    {
     "data": {
      "text/plain": "                                                Document  Topic  \\\n0      item 1. business assurant, inc. was incorporat...    169   \n1      of december 31, 2022, we had $ 33. 12 billion ...     31   \n2      partnerships with major clients and prospects ...     31   \n3      we continued to strengthen partnerships with k...     31   \n4      year, we have maintained a strong balance shee...    169   \n...                                                  ...    ...   \n71062  a single vendor. at the same time & # 8212 ; b...     -1   \n71063  ag ). we also compete with other eda vendors, ...     -1   \n71064  many cases, under our customer agreements and ...      3   \n71065  of engineering and senior vice president of ma...     33   \n71066  joseph w. logan serves as our sales and corpor...     -1   \n\n                                                    Name  \\\n0      169_lender_global housing_flood insurance_hous...   \n1                31_start 8226_end table_table_table end   \n2                31_start 8226_end table_table_table end   \n3                31_start 8226_end table_table_table end   \n4      169_lender_global housing_flood insurance_hous...   \n...                                                  ...   \n71062               -1_160_table_environmental_financial   \n71063               -1_160_table_environmental_financial   \n71064  3_patents_intellectual property_trademarks_pat...   \n71065   33_university_vice president_vice_executive vice   \n71066               -1_160_table_environmental_financial   \n\n                                          Representation  Representative_Docs  \\\n0      [lender, global housing, flood insurance, hous...                  NaN   \n1      [start 8226, end table, table, table end, tabl...                  NaN   \n2      [start 8226, end table, table, table end, tabl...                  NaN   \n3      [start 8226, end table, table, table end, tabl...                  NaN   \n4      [lender, global housing, flood insurance, hous...                  NaN   \n...                                                  ...                  ...   \n71062  [160, table, environmental, financial, vice, t...                  NaN   \n71063  [160, table, environmental, financial, vice, t...                  NaN   \n71064  [patents, intellectual property, trademarks, p...                  NaN   \n71065  [university, vice president, vice, executive v...                  NaN   \n71066  [160, table, environmental, financial, vice, t...                  NaN   \n\n                                             Top_n_words  \\\n0      lender - global housing - flood insurance - ho...   \n1      start 8226 - end table - table - table end - t...   \n2      start 8226 - end table - table - table end - t...   \n3      start 8226 - end table - table - table end - t...   \n4      lender - global housing - flood insurance - ho...   \n...                                                  ...   \n71062  160 - table - environmental - financial - vice...   \n71063  160 - table - environmental - financial - vice...   \n71064  patents - intellectual property - trademarks -...   \n71065  university - vice president - vice - executive...   \n71066  160 - table - environmental - financial - vice...   \n\n       Representative_document                  Timestamp  \n0                        False  2023-02-17 16:12:13-05:00  \n1                        False  2023-02-17 16:12:13-05:00  \n2                        False  2023-02-17 16:12:13-05:00  \n3                        False  2023-02-17 16:12:13-05:00  \n4                        False  2023-02-17 16:12:13-05:00  \n...                        ...                        ...  \n71062                    False  2019-12-20 17:04:07-05:00  \n71063                    False  2019-12-20 17:04:07-05:00  \n71064                    False  2019-12-20 17:04:07-05:00  \n71065                    False  2019-12-20 17:04:07-05:00  \n71066                    False  2019-12-20 17:04:07-05:00  \n\n[71067 rows x 8 columns]",
      "text/html": "<div>\n<style scoped>\n    .dataframe tbody tr th:only-of-type {\n        vertical-align: middle;\n    }\n\n    .dataframe tbody tr th {\n        vertical-align: top;\n    }\n\n    .dataframe thead th {\n        text-align: right;\n    }\n</style>\n<table border=\"1\" class=\"dataframe\">\n  <thead>\n    <tr style=\"text-align: right;\">\n      <th></th>\n      <th>Document</th>\n      <th>Topic</th>\n      <th>Name</th>\n      <th>Representation</th>\n      <th>Representative_Docs</th>\n      <th>Top_n_words</th>\n      <th>Representative_document</th>\n      <th>Timestamp</th>\n    </tr>\n  </thead>\n  <tbody>\n    <tr>\n      <th>0</th>\n      <td>item 1. business assurant, inc. was incorporat...</td>\n      <td>169</td>\n      <td>169_lender_global housing_flood insurance_hous...</td>\n      <td>[lender, global housing, flood insurance, hous...</td>\n      <td>NaN</td>\n      <td>lender - global housing - flood insurance - ho...</td>\n      <td>False</td>\n      <td>2023-02-17 16:12:13-05:00</td>\n    </tr>\n    <tr>\n      <th>1</th>\n      <td>of december 31, 2022, we had $ 33. 12 billion ...</td>\n      <td>31</td>\n      <td>31_start 8226_end table_table_table end</td>\n      <td>[start 8226, end table, table, table end, tabl...</td>\n      <td>NaN</td>\n      <td>start 8226 - end table - table - table end - t...</td>\n      <td>False</td>\n      <td>2023-02-17 16:12:13-05:00</td>\n    </tr>\n    <tr>\n      <th>2</th>\n      <td>partnerships with major clients and prospects ...</td>\n      <td>31</td>\n      <td>31_start 8226_end table_table_table end</td>\n      <td>[start 8226, end table, table, table end, tabl...</td>\n      <td>NaN</td>\n      <td>start 8226 - end table - table - table end - t...</td>\n      <td>False</td>\n      <td>2023-02-17 16:12:13-05:00</td>\n    </tr>\n    <tr>\n      <th>3</th>\n      <td>we continued to strengthen partnerships with k...</td>\n      <td>31</td>\n      <td>31_start 8226_end table_table_table end</td>\n      <td>[start 8226, end table, table, table end, tabl...</td>\n      <td>NaN</td>\n      <td>start 8226 - end table - table - table end - t...</td>\n      <td>False</td>\n      <td>2023-02-17 16:12:13-05:00</td>\n    </tr>\n    <tr>\n      <th>4</th>\n      <td>year, we have maintained a strong balance shee...</td>\n      <td>169</td>\n      <td>169_lender_global housing_flood insurance_hous...</td>\n      <td>[lender, global housing, flood insurance, hous...</td>\n      <td>NaN</td>\n      <td>lender - global housing - flood insurance - ho...</td>\n      <td>False</td>\n      <td>2023-02-17 16:12:13-05:00</td>\n    </tr>\n    <tr>\n      <th>...</th>\n      <td>...</td>\n      <td>...</td>\n      <td>...</td>\n      <td>...</td>\n      <td>...</td>\n      <td>...</td>\n      <td>...</td>\n      <td>...</td>\n    </tr>\n    <tr>\n      <th>71062</th>\n      <td>a single vendor. at the same time &amp; # 8212 ; b...</td>\n      <td>-1</td>\n      <td>-1_160_table_environmental_financial</td>\n      <td>[160, table, environmental, financial, vice, t...</td>\n      <td>NaN</td>\n      <td>160 - table - environmental - financial - vice...</td>\n      <td>False</td>\n      <td>2019-12-20 17:04:07-05:00</td>\n    </tr>\n    <tr>\n      <th>71063</th>\n      <td>ag ). we also compete with other eda vendors, ...</td>\n      <td>-1</td>\n      <td>-1_160_table_environmental_financial</td>\n      <td>[160, table, environmental, financial, vice, t...</td>\n      <td>NaN</td>\n      <td>160 - table - environmental - financial - vice...</td>\n      <td>False</td>\n      <td>2019-12-20 17:04:07-05:00</td>\n    </tr>\n    <tr>\n      <th>71064</th>\n      <td>many cases, under our customer agreements and ...</td>\n      <td>3</td>\n      <td>3_patents_intellectual property_trademarks_pat...</td>\n      <td>[patents, intellectual property, trademarks, p...</td>\n      <td>NaN</td>\n      <td>patents - intellectual property - trademarks -...</td>\n      <td>False</td>\n      <td>2019-12-20 17:04:07-05:00</td>\n    </tr>\n    <tr>\n      <th>71065</th>\n      <td>of engineering and senior vice president of ma...</td>\n      <td>33</td>\n      <td>33_university_vice president_vice_executive vice</td>\n      <td>[university, vice president, vice, executive v...</td>\n      <td>NaN</td>\n      <td>university - vice president - vice - executive...</td>\n      <td>False</td>\n      <td>2019-12-20 17:04:07-05:00</td>\n    </tr>\n    <tr>\n      <th>71066</th>\n      <td>joseph w. logan serves as our sales and corpor...</td>\n      <td>-1</td>\n      <td>-1_160_table_environmental_financial</td>\n      <td>[160, table, environmental, financial, vice, t...</td>\n      <td>NaN</td>\n      <td>160 - table - environmental - financial - vice...</td>\n      <td>False</td>\n      <td>2019-12-20 17:04:07-05:00</td>\n    </tr>\n  </tbody>\n</table>\n<p>71067 rows × 8 columns</p>\n</div>"
     },
     "execution_count": 32,
     "metadata": {},
     "output_type": "execute_result"
    }
   ],
   "source": [
    "topics_and_docs[sections[0]]"
   ],
   "metadata": {
    "collapsed": false,
    "ExecuteTime": {
     "start_time": "2023-08-30T21:28:09.543814Z",
     "end_time": "2023-08-30T21:28:09.546795Z"
    }
   }
  },
  {
   "cell_type": "markdown",
   "source": [
    "Now, we can apply sentiment to each of the document. We will use a fine tuned version of  [FinancialBERT](https://huggingface.co/Sigma/financial-sentiment-analysis) on the financial_phrasebank dataset. This model is currently the top performer on this dataset.\n"
   ],
   "metadata": {
    "collapsed": false
   }
  },
  {
   "cell_type": "code",
   "execution_count": 62,
   "outputs": [],
   "source": [
    "from transformers import pipeline\n",
    "import torch\n",
    "device = 'mps' if torch.backends.mps.is_available() else 'cpu'\n",
    "device = 'cuda' if torch.cuda.is_available() else device\n",
    "classifier = pipeline(model='Sigma/financial-sentiment-analysis', task='sentiment-analysis', device=device)"
   ],
   "metadata": {
    "collapsed": false,
    "ExecuteTime": {
     "start_time": "2023-08-30T22:11:55.176805Z",
     "end_time": "2023-08-30T22:11:56.729389Z"
    }
   }
  },
  {
   "cell_type": "markdown",
   "source": [
    "We can now call the classifier to predict the label and the probability associated with that label. We then compute a sentiment value using those scores if the label is positive, or their symetric if the label is negative. We also have to perform a mapping of labels because the authors of the model use\n",
    "the labels 'LABEL_0', 'LABEL_1' amd 'LABEL_2' which map to 'NEGATIVE', 'NEUTRAL', and 'POSITIVE' respectively. We start by"
   ],
   "metadata": {
    "collapsed": false
   }
  },
  {
   "cell_type": "code",
   "execution_count": null,
   "outputs": [],
   "source": [
    "sentiment_labels = {s: classifier(topics_and_docs[s]['Document'].tolist()) for s in topics_and_docs}"
   ],
   "metadata": {
    "collapsed": false,
    "ExecuteTime": {
     "start_time": "2023-08-30T20:31:05.679829Z",
     "end_time": "2023-08-30T20:52:49.805408Z"
    }
   }
  },
  {
   "cell_type": "code",
   "execution_count": 64,
   "outputs": [
    {
     "ename": "NameError",
     "evalue": "name 'sentiment_labels' is not defined",
     "output_type": "error",
     "traceback": [
      "\u001B[0;31m---------------------------------------------------------------------------\u001B[0m",
      "\u001B[0;31mNameError\u001B[0m                                 Traceback (most recent call last)",
      "Cell \u001B[0;32mIn[64], line 2\u001B[0m\n\u001B[1;32m      1\u001B[0m \u001B[38;5;28;01mimport\u001B[39;00m \u001B[38;5;21;01mpandas\u001B[39;00m \u001B[38;5;28;01mas\u001B[39;00m \u001B[38;5;21;01mpd\u001B[39;00m\n\u001B[0;32m----> 2\u001B[0m documents_df \u001B[38;5;241m=\u001B[39m pd\u001B[38;5;241m.\u001B[39mDataFrame(\u001B[43msentiment_labels\u001B[49m)\u001B[38;5;241m.\u001B[39madd_suffix(\u001B[38;5;124m'\u001B[39m\u001B[38;5;124m_sigma_fsa\u001B[39m\u001B[38;5;124m'\u001B[39m)\n\u001B[1;32m      3\u001B[0m \u001B[38;5;28;01mimport\u001B[39;00m \u001B[38;5;21;01mnumpy\u001B[39;00m \u001B[38;5;28;01mas\u001B[39;00m \u001B[38;5;21;01mnp\u001B[39;00m\n\u001B[1;32m      5\u001B[0m \u001B[38;5;66;03m# Dictionary to map sentiment\u001B[39;00m\n",
      "\u001B[0;31mNameError\u001B[0m: name 'sentiment_labels' is not defined"
     ]
    }
   ],
   "source": [
    "import pandas as pd\n",
    "documents_df = pd.DataFrame(sentiment_labels).add_suffix('_sigma_fsa')\n",
    "import numpy as np\n",
    "\n",
    "# Dictionary to map sentiment\n",
    "sentiment_mapping = {'LABEL_0': 'NEGATIVE', 'LABEL_1': 'NEUTRAL', 'LABEL_2': 'POSITIVE'}\n",
    "for s in topics_and_docs:\n",
    "    topics_and_docs[s]['label_sigma_fsa'] = documents_df['label_sigma_fsa'].map(sentiment_mapping)\n",
    "    topics_and_docs[s]['sentiment_sigma_fsa'] = np.where(topics_and_docs[s]['label_sigma_fsa'] =='NEGATIVE', -1 *topics_and_docs[s]['score_sigma_fsa'], topics_and_docs[s]['score_sigma_fsa'])\n",
    "    topics_and_docs[s].loc[topics_and_docs[s]['label_sigma_fsa']=='NEUTRAL','sentiment_sigma_fsa'] = 0\n",
    "    # We need to parse the date again\n",
    "    topics_and_docs[sections[0]]['Timestamp'] = pd.to_datetime(topics_and_docs[sections[0]]['Timestamp'], utc=True)\n"
   ],
   "metadata": {
    "collapsed": false,
    "ExecuteTime": {
     "start_time": "2023-08-30T21:47:24.229994Z",
     "end_time": "2023-08-30T21:47:24.238552Z"
    }
   }
  },
  {
   "cell_type": "code",
   "execution_count": 63,
   "outputs": [
    {
     "ename": "TypeError",
     "evalue": "Only valid with DatetimeIndex, TimedeltaIndex or PeriodIndex, but got an instance of 'Index'",
     "output_type": "error",
     "traceback": [
      "\u001B[0;31m---------------------------------------------------------------------------\u001B[0m",
      "\u001B[0;31mTypeError\u001B[0m                                 Traceback (most recent call last)",
      "Cell \u001B[0;32mIn[63], line 4\u001B[0m\n\u001B[1;32m      2\u001B[0m \u001B[38;5;28;01mimport\u001B[39;00m \u001B[38;5;21;01mnumpy\u001B[39;00m \u001B[38;5;28;01mas\u001B[39;00m \u001B[38;5;21;01mnp\u001B[39;00m\n\u001B[1;32m      3\u001B[0m \u001B[38;5;28;01mfor\u001B[39;00m s \u001B[38;5;129;01min\u001B[39;00m topics_and_docs:\n\u001B[0;32m----> 4\u001B[0m     agg_sentiment[s] \u001B[38;5;241m=\u001B[39m\u001B[43mtopics_and_docs\u001B[49m\u001B[43m[\u001B[49m\u001B[43ms\u001B[49m\u001B[43m]\u001B[49m\u001B[38;5;241;43m.\u001B[39;49m\u001B[43mset_index\u001B[49m\u001B[43m(\u001B[49m\u001B[38;5;124;43m'\u001B[39;49m\u001B[38;5;124;43mTimestamp\u001B[39;49m\u001B[38;5;124;43m'\u001B[39;49m\u001B[43m)\u001B[49m\u001B[38;5;241;43m.\u001B[39;49m\u001B[43mgroupby\u001B[49m\u001B[43m(\u001B[49m\u001B[43m[\u001B[49m\u001B[38;5;124;43m'\u001B[39;49m\u001B[38;5;124;43mTopic\u001B[39;49m\u001B[38;5;124;43m'\u001B[39;49m\u001B[43m,\u001B[49m\u001B[38;5;124;43m'\u001B[39;49m\u001B[38;5;124;43mName\u001B[39;49m\u001B[38;5;124;43m'\u001B[39;49m\u001B[43m]\u001B[49m\u001B[43m)\u001B[49m\u001B[38;5;241;43m.\u001B[39;49m\u001B[43mresample\u001B[49m\u001B[43m(\u001B[49m\u001B[43mrule\u001B[49m\u001B[38;5;241;43m=\u001B[39;49m\u001B[38;5;124;43m'\u001B[39;49m\u001B[38;5;124;43m1Y\u001B[39;49m\u001B[38;5;124;43m'\u001B[39;49m\u001B[43m)\u001B[49m\u001B[38;5;241m.\u001B[39magg({\u001B[38;5;124m'\u001B[39m\u001B[38;5;124msentiment_sigma_fsa\u001B[39m\u001B[38;5;124m'\u001B[39m: [np\u001B[38;5;241m.\u001B[39mmean, np\u001B[38;5;241m.\u001B[39mmedian]})\u001B[38;5;241m.\u001B[39mreset_index(level\u001B[38;5;241m=\u001B[39m(\u001B[38;5;241m0\u001B[39m,\u001B[38;5;241m1\u001B[39m,\u001B[38;5;241m2\u001B[39m,))\n",
      "File \u001B[0;32m~/anaconda3/envs/audio-course-huggingface/lib/python3.10/site-packages/pandas/core/groupby/groupby.py:2803\u001B[0m, in \u001B[0;36mGroupBy.resample\u001B[0;34m(self, rule, *args, **kwargs)\u001B[0m\n\u001B[1;32m   2705\u001B[0m \u001B[38;5;250m\u001B[39m\u001B[38;5;124;03m\"\"\"\u001B[39;00m\n\u001B[1;32m   2706\u001B[0m \u001B[38;5;124;03mProvide resampling when using a TimeGrouper.\u001B[39;00m\n\u001B[1;32m   2707\u001B[0m \n\u001B[0;32m   (...)\u001B[0m\n\u001B[1;32m   2799\u001B[0m \u001B[38;5;124;03m5   2000-01-01 00:03:00  5  1\u001B[39;00m\n\u001B[1;32m   2800\u001B[0m \u001B[38;5;124;03m\"\"\"\u001B[39;00m\n\u001B[1;32m   2801\u001B[0m \u001B[38;5;28;01mfrom\u001B[39;00m \u001B[38;5;21;01mpandas\u001B[39;00m\u001B[38;5;21;01m.\u001B[39;00m\u001B[38;5;21;01mcore\u001B[39;00m\u001B[38;5;21;01m.\u001B[39;00m\u001B[38;5;21;01mresample\u001B[39;00m \u001B[38;5;28;01mimport\u001B[39;00m get_resampler_for_grouping\n\u001B[0;32m-> 2803\u001B[0m \u001B[38;5;28;01mreturn\u001B[39;00m \u001B[43mget_resampler_for_grouping\u001B[49m\u001B[43m(\u001B[49m\u001B[38;5;28;43mself\u001B[39;49m\u001B[43m,\u001B[49m\u001B[43m \u001B[49m\u001B[43mrule\u001B[49m\u001B[43m,\u001B[49m\u001B[43m \u001B[49m\u001B[38;5;241;43m*\u001B[39;49m\u001B[43margs\u001B[49m\u001B[43m,\u001B[49m\u001B[43m \u001B[49m\u001B[38;5;241;43m*\u001B[39;49m\u001B[38;5;241;43m*\u001B[39;49m\u001B[43mkwargs\u001B[49m\u001B[43m)\u001B[49m\n",
      "File \u001B[0;32m~/anaconda3/envs/audio-course-huggingface/lib/python3.10/site-packages/pandas/core/resample.py:1558\u001B[0m, in \u001B[0;36mget_resampler_for_grouping\u001B[0;34m(groupby, rule, how, fill_method, limit, kind, on, **kwargs)\u001B[0m\n\u001B[1;32m   1556\u001B[0m \u001B[38;5;66;03m# .resample uses 'on' similar to how .groupby uses 'key'\u001B[39;00m\n\u001B[1;32m   1557\u001B[0m tg \u001B[38;5;241m=\u001B[39m TimeGrouper(freq\u001B[38;5;241m=\u001B[39mrule, key\u001B[38;5;241m=\u001B[39mon, \u001B[38;5;241m*\u001B[39m\u001B[38;5;241m*\u001B[39mkwargs)\n\u001B[0;32m-> 1558\u001B[0m resampler \u001B[38;5;241m=\u001B[39m \u001B[43mtg\u001B[49m\u001B[38;5;241;43m.\u001B[39;49m\u001B[43m_get_resampler\u001B[49m\u001B[43m(\u001B[49m\u001B[43mgroupby\u001B[49m\u001B[38;5;241;43m.\u001B[39;49m\u001B[43mobj\u001B[49m\u001B[43m,\u001B[49m\u001B[43m \u001B[49m\u001B[43mkind\u001B[49m\u001B[38;5;241;43m=\u001B[39;49m\u001B[43mkind\u001B[49m\u001B[43m)\u001B[49m\n\u001B[1;32m   1559\u001B[0m \u001B[38;5;28;01mreturn\u001B[39;00m resampler\u001B[38;5;241m.\u001B[39m_get_resampler_for_grouping(groupby\u001B[38;5;241m=\u001B[39mgroupby, key\u001B[38;5;241m=\u001B[39mtg\u001B[38;5;241m.\u001B[39mkey)\n",
      "File \u001B[0;32m~/anaconda3/envs/audio-course-huggingface/lib/python3.10/site-packages/pandas/core/resample.py:1725\u001B[0m, in \u001B[0;36mTimeGrouper._get_resampler\u001B[0;34m(self, obj, kind)\u001B[0m\n\u001B[1;32m   1720\u001B[0m \u001B[38;5;28;01melif\u001B[39;00m \u001B[38;5;28misinstance\u001B[39m(ax, TimedeltaIndex):\n\u001B[1;32m   1721\u001B[0m     \u001B[38;5;28;01mreturn\u001B[39;00m TimedeltaIndexResampler(\n\u001B[1;32m   1722\u001B[0m         obj, groupby\u001B[38;5;241m=\u001B[39m\u001B[38;5;28mself\u001B[39m, axis\u001B[38;5;241m=\u001B[39m\u001B[38;5;28mself\u001B[39m\u001B[38;5;241m.\u001B[39maxis, group_keys\u001B[38;5;241m=\u001B[39m\u001B[38;5;28mself\u001B[39m\u001B[38;5;241m.\u001B[39mgroup_keys\n\u001B[1;32m   1723\u001B[0m     )\n\u001B[0;32m-> 1725\u001B[0m \u001B[38;5;28;01mraise\u001B[39;00m \u001B[38;5;167;01mTypeError\u001B[39;00m(\n\u001B[1;32m   1726\u001B[0m     \u001B[38;5;124m\"\u001B[39m\u001B[38;5;124mOnly valid with DatetimeIndex, \u001B[39m\u001B[38;5;124m\"\u001B[39m\n\u001B[1;32m   1727\u001B[0m     \u001B[38;5;124m\"\u001B[39m\u001B[38;5;124mTimedeltaIndex or PeriodIndex, \u001B[39m\u001B[38;5;124m\"\u001B[39m\n\u001B[1;32m   1728\u001B[0m     \u001B[38;5;124mf\u001B[39m\u001B[38;5;124m\"\u001B[39m\u001B[38;5;124mbut got an instance of \u001B[39m\u001B[38;5;124m'\u001B[39m\u001B[38;5;132;01m{\u001B[39;00m\u001B[38;5;28mtype\u001B[39m(ax)\u001B[38;5;241m.\u001B[39m\u001B[38;5;18m__name__\u001B[39m\u001B[38;5;132;01m}\u001B[39;00m\u001B[38;5;124m'\u001B[39m\u001B[38;5;124m\"\u001B[39m\n\u001B[1;32m   1729\u001B[0m )\n",
      "\u001B[0;31mTypeError\u001B[0m: Only valid with DatetimeIndex, TimedeltaIndex or PeriodIndex, but got an instance of 'Index'"
     ]
    }
   ],
   "source": [
    "agg_sentiment = {}\n",
    "import numpy as np\n",
    "for s in topics_and_docs:\n",
    "    agg_sentiment[s] =topics_and_docs[s].set_index('Timestamp').groupby(['Topic','Name']).resample(rule='1Y').agg({'sentiment_sigma_fsa': [np.mean, np.median]}).reset_index(level=(0,1,2,))"
   ],
   "metadata": {
    "collapsed": false
   }
  },
  {
   "cell_type": "code",
   "execution_count": 49,
   "outputs": [
    {
     "data": {
      "text/plain": "                                                Document  Topic  \\\n64048  details. in 2018, ametek achieved sales of $ 4...    329   \n19455  dividends strong general insurance performance...    848   \n63977  responsible for successfully driving these str...     -1   \n63995  2021, the company posted record sales, operati...     -1   \n17438  brand dealers and distributors. further, finan...     -1   \n...                                                  ...    ...   \n26825  item 1a. & # 8220 ; risk factors & # 8221 ; fo...    142   \n26826  ##bdenum disulfide. we operate molybdenum roas...     -1   \n26827  . we continue to review our mine development a...    669   \n26828  with our existing mines focusing on opportunit...    142   \n71066  joseph w. logan serves as our sales and corpor...     -1   \n\n                                                    Name  \\\n64048  329_emg_eig 8217_power industrial_electromecha...   \n19455  848_aig_business aig_international group_aig p...   \n63977               -1_160_table_environmental_financial   \n63995               -1_160_table_environmental_financial   \n17438               -1_160_table_environmental_financial   \n...                                                  ...   \n26825  142_smelting_smelter_pt smelting_copper concen...   \n26826               -1_160_table_environmental_financial   \n26827  669_block cave_grasberg block_metric tons_ore ...   \n26828  142_smelting_smelter_pt smelting_copper concen...   \n71066               -1_160_table_environmental_financial   \n\n                                          Representation  Representative_Docs  \\\n64048  [emg, eig 8217, power industrial, electromecha...                  NaN   \n19455  [aig, business aig, international group, aig p...                  NaN   \n63977  [160, table, environmental, financial, vice, t...                  NaN   \n63995  [160, table, environmental, financial, vice, t...                  NaN   \n17438  [160, table, environmental, financial, vice, t...                  NaN   \n...                                                  ...                  ...   \n26825  [smelting, smelter, pt smelting, copper concen...                  NaN   \n26826  [160, table, environmental, financial, vice, t...                  NaN   \n26827  [block cave, grasberg block, metric tons, ore ...                  NaN   \n26828  [smelting, smelter, pt smelting, copper concen...                  NaN   \n71066  [160, table, environmental, financial, vice, t...                  NaN   \n\n                                             Top_n_words  \\\n64048  emg - eig 8217 - power industrial - electromec...   \n19455  aig - business aig - international group - aig...   \n63977  160 - table - environmental - financial - vice...   \n63995  160 - table - environmental - financial - vice...   \n17438  160 - table - environmental - financial - vice...   \n...                                                  ...   \n26825  smelting - smelter - pt smelting - copper conc...   \n26826  160 - table - environmental - financial - vice...   \n26827  block cave - grasberg block - metric tons - or...   \n26828  smelting - smelter - pt smelting - copper conc...   \n71066  160 - table - environmental - financial - vice...   \n\n       Representative_document                  Timestamp label_sigma_fsa  \\\n64048                    False  2019-02-21 15:22:45-05:00        POSITIVE   \n19455                    False  2023-02-17 13:24:05-05:00        POSITIVE   \n63977                    False  2023-02-21 13:37:14-05:00        POSITIVE   \n63995                    False  2022-02-22 13:58:32-05:00        POSITIVE   \n17438                    False  2023-02-28 15:55:52-05:00        POSITIVE   \n...                        ...                        ...             ...   \n26825                    False  2021-02-16 15:38:33-05:00         NEUTRAL   \n26826                    False  2021-02-16 15:38:33-05:00         NEUTRAL   \n26827                    False  2021-02-16 15:38:33-05:00         NEUTRAL   \n26828                    False  2021-02-16 15:38:33-05:00         NEUTRAL   \n71066                    False  2019-12-20 17:04:07-05:00         NEUTRAL   \n\n       score_sigma_fsa  sentiment_sgima_fsa  sentiment_sigma_fsa  \n64048         0.998357             0.998357             0.998357  \n19455         0.998063             0.998063             0.998063  \n63977         0.998050             0.998050             0.998050  \n63995         0.997955             0.997955             0.997955  \n17438         0.997925             0.997925             0.997925  \n...                ...                  ...                  ...  \n26825         0.000000             0.990650             0.000000  \n26826         0.000000             0.985354             0.000000  \n26827         0.000000             0.581226             0.000000  \n26828         0.000000             0.875626             0.000000  \n71066         0.000000             0.990265             0.000000  \n\n[71067 rows x 12 columns]",
      "text/html": "<div>\n<style scoped>\n    .dataframe tbody tr th:only-of-type {\n        vertical-align: middle;\n    }\n\n    .dataframe tbody tr th {\n        vertical-align: top;\n    }\n\n    .dataframe thead th {\n        text-align: right;\n    }\n</style>\n<table border=\"1\" class=\"dataframe\">\n  <thead>\n    <tr style=\"text-align: right;\">\n      <th></th>\n      <th>Document</th>\n      <th>Topic</th>\n      <th>Name</th>\n      <th>Representation</th>\n      <th>Representative_Docs</th>\n      <th>Top_n_words</th>\n      <th>Representative_document</th>\n      <th>Timestamp</th>\n      <th>label_sigma_fsa</th>\n      <th>score_sigma_fsa</th>\n      <th>sentiment_sgima_fsa</th>\n      <th>sentiment_sigma_fsa</th>\n    </tr>\n  </thead>\n  <tbody>\n    <tr>\n      <th>64048</th>\n      <td>details. in 2018, ametek achieved sales of $ 4...</td>\n      <td>329</td>\n      <td>329_emg_eig 8217_power industrial_electromecha...</td>\n      <td>[emg, eig 8217, power industrial, electromecha...</td>\n      <td>NaN</td>\n      <td>emg - eig 8217 - power industrial - electromec...</td>\n      <td>False</td>\n      <td>2019-02-21 15:22:45-05:00</td>\n      <td>POSITIVE</td>\n      <td>0.998357</td>\n      <td>0.998357</td>\n      <td>0.998357</td>\n    </tr>\n    <tr>\n      <th>19455</th>\n      <td>dividends strong general insurance performance...</td>\n      <td>848</td>\n      <td>848_aig_business aig_international group_aig p...</td>\n      <td>[aig, business aig, international group, aig p...</td>\n      <td>NaN</td>\n      <td>aig - business aig - international group - aig...</td>\n      <td>False</td>\n      <td>2023-02-17 13:24:05-05:00</td>\n      <td>POSITIVE</td>\n      <td>0.998063</td>\n      <td>0.998063</td>\n      <td>0.998063</td>\n    </tr>\n    <tr>\n      <th>63977</th>\n      <td>responsible for successfully driving these str...</td>\n      <td>-1</td>\n      <td>-1_160_table_environmental_financial</td>\n      <td>[160, table, environmental, financial, vice, t...</td>\n      <td>NaN</td>\n      <td>160 - table - environmental - financial - vice...</td>\n      <td>False</td>\n      <td>2023-02-21 13:37:14-05:00</td>\n      <td>POSITIVE</td>\n      <td>0.998050</td>\n      <td>0.998050</td>\n      <td>0.998050</td>\n    </tr>\n    <tr>\n      <th>63995</th>\n      <td>2021, the company posted record sales, operati...</td>\n      <td>-1</td>\n      <td>-1_160_table_environmental_financial</td>\n      <td>[160, table, environmental, financial, vice, t...</td>\n      <td>NaN</td>\n      <td>160 - table - environmental - financial - vice...</td>\n      <td>False</td>\n      <td>2022-02-22 13:58:32-05:00</td>\n      <td>POSITIVE</td>\n      <td>0.997955</td>\n      <td>0.997955</td>\n      <td>0.997955</td>\n    </tr>\n    <tr>\n      <th>17438</th>\n      <td>brand dealers and distributors. further, finan...</td>\n      <td>-1</td>\n      <td>-1_160_table_environmental_financial</td>\n      <td>[160, table, environmental, financial, vice, t...</td>\n      <td>NaN</td>\n      <td>160 - table - environmental - financial - vice...</td>\n      <td>False</td>\n      <td>2023-02-28 15:55:52-05:00</td>\n      <td>POSITIVE</td>\n      <td>0.997925</td>\n      <td>0.997925</td>\n      <td>0.997925</td>\n    </tr>\n    <tr>\n      <th>...</th>\n      <td>...</td>\n      <td>...</td>\n      <td>...</td>\n      <td>...</td>\n      <td>...</td>\n      <td>...</td>\n      <td>...</td>\n      <td>...</td>\n      <td>...</td>\n      <td>...</td>\n      <td>...</td>\n      <td>...</td>\n    </tr>\n    <tr>\n      <th>26825</th>\n      <td>item 1a. &amp; # 8220 ; risk factors &amp; # 8221 ; fo...</td>\n      <td>142</td>\n      <td>142_smelting_smelter_pt smelting_copper concen...</td>\n      <td>[smelting, smelter, pt smelting, copper concen...</td>\n      <td>NaN</td>\n      <td>smelting - smelter - pt smelting - copper conc...</td>\n      <td>False</td>\n      <td>2021-02-16 15:38:33-05:00</td>\n      <td>NEUTRAL</td>\n      <td>0.000000</td>\n      <td>0.990650</td>\n      <td>0.000000</td>\n    </tr>\n    <tr>\n      <th>26826</th>\n      <td>##bdenum disulfide. we operate molybdenum roas...</td>\n      <td>-1</td>\n      <td>-1_160_table_environmental_financial</td>\n      <td>[160, table, environmental, financial, vice, t...</td>\n      <td>NaN</td>\n      <td>160 - table - environmental - financial - vice...</td>\n      <td>False</td>\n      <td>2021-02-16 15:38:33-05:00</td>\n      <td>NEUTRAL</td>\n      <td>0.000000</td>\n      <td>0.985354</td>\n      <td>0.000000</td>\n    </tr>\n    <tr>\n      <th>26827</th>\n      <td>. we continue to review our mine development a...</td>\n      <td>669</td>\n      <td>669_block cave_grasberg block_metric tons_ore ...</td>\n      <td>[block cave, grasberg block, metric tons, ore ...</td>\n      <td>NaN</td>\n      <td>block cave - grasberg block - metric tons - or...</td>\n      <td>False</td>\n      <td>2021-02-16 15:38:33-05:00</td>\n      <td>NEUTRAL</td>\n      <td>0.000000</td>\n      <td>0.581226</td>\n      <td>0.000000</td>\n    </tr>\n    <tr>\n      <th>26828</th>\n      <td>with our existing mines focusing on opportunit...</td>\n      <td>142</td>\n      <td>142_smelting_smelter_pt smelting_copper concen...</td>\n      <td>[smelting, smelter, pt smelting, copper concen...</td>\n      <td>NaN</td>\n      <td>smelting - smelter - pt smelting - copper conc...</td>\n      <td>False</td>\n      <td>2021-02-16 15:38:33-05:00</td>\n      <td>NEUTRAL</td>\n      <td>0.000000</td>\n      <td>0.875626</td>\n      <td>0.000000</td>\n    </tr>\n    <tr>\n      <th>71066</th>\n      <td>joseph w. logan serves as our sales and corpor...</td>\n      <td>-1</td>\n      <td>-1_160_table_environmental_financial</td>\n      <td>[160, table, environmental, financial, vice, t...</td>\n      <td>NaN</td>\n      <td>160 - table - environmental - financial - vice...</td>\n      <td>False</td>\n      <td>2019-12-20 17:04:07-05:00</td>\n      <td>NEUTRAL</td>\n      <td>0.000000</td>\n      <td>0.990265</td>\n      <td>0.000000</td>\n    </tr>\n  </tbody>\n</table>\n<p>71067 rows × 12 columns</p>\n</div>"
     },
     "execution_count": 49,
     "metadata": {},
     "output_type": "execute_result"
    }
   ],
   "source": [
    "topics_and_docs[sections[0]].sort_values('score_sigma_fsa', ascending=False)"
   ],
   "metadata": {
    "collapsed": false,
    "ExecuteTime": {
     "start_time": "2023-08-30T21:47:25.310015Z",
     "end_time": "2023-08-30T21:47:25.326724Z"
    }
   }
  },
  {
   "cell_type": "markdown",
   "source": [
    "Since we want to aggregate across topics, we keep topic, name and compute the mean and median sentiment."
   ],
   "metadata": {
    "collapsed": false
   }
  },
  {
   "cell_type": "code",
   "execution_count": 56,
   "outputs": [],
   "source": [
    "topics_and_docs[sections[0]]['Timestamp'] = pd.to_datetime(topics_and_docs[sections[0]]['Timestamp'], utc=True)\n",
    "sentiment = topics_and_docs[sections[0]].set_index('Timestamp').groupby(['Topic','Name'])['sentiment_sigma_fsa'].resample(rule='1Y').mean().reset_index(level=(0,1,2,))"
   ],
   "metadata": {
    "collapsed": false,
    "ExecuteTime": {
     "start_time": "2023-08-30T21:52:32.536539Z",
     "end_time": "2023-08-30T21:52:33.076503Z"
    }
   }
  },
  {
   "cell_type": "code",
   "execution_count": 57,
   "outputs": [
    {
     "data": {
      "text/plain": "   Topic                                  Name                 Timestamp  \\\n0     -1  -1_160_table_environmental_financial 2019-12-31 00:00:00+00:00   \n1     -1  -1_160_table_environmental_financial 2020-12-31 00:00:00+00:00   \n2     -1  -1_160_table_environmental_financial 2021-12-31 00:00:00+00:00   \n3     -1  -1_160_table_environmental_financial 2022-12-31 00:00:00+00:00   \n4     -1  -1_160_table_environmental_financial 2023-12-31 00:00:00+00:00   \n\n   sentiment_sigma_fsa  \n0             0.116944  \n1             0.131976  \n2             0.168374  \n3             0.183749  \n4             0.179892  ",
      "text/html": "<div>\n<style scoped>\n    .dataframe tbody tr th:only-of-type {\n        vertical-align: middle;\n    }\n\n    .dataframe tbody tr th {\n        vertical-align: top;\n    }\n\n    .dataframe thead th {\n        text-align: right;\n    }\n</style>\n<table border=\"1\" class=\"dataframe\">\n  <thead>\n    <tr style=\"text-align: right;\">\n      <th></th>\n      <th>Topic</th>\n      <th>Name</th>\n      <th>Timestamp</th>\n      <th>sentiment_sigma_fsa</th>\n    </tr>\n  </thead>\n  <tbody>\n    <tr>\n      <th>0</th>\n      <td>-1</td>\n      <td>-1_160_table_environmental_financial</td>\n      <td>2019-12-31 00:00:00+00:00</td>\n      <td>0.116944</td>\n    </tr>\n    <tr>\n      <th>1</th>\n      <td>-1</td>\n      <td>-1_160_table_environmental_financial</td>\n      <td>2020-12-31 00:00:00+00:00</td>\n      <td>0.131976</td>\n    </tr>\n    <tr>\n      <th>2</th>\n      <td>-1</td>\n      <td>-1_160_table_environmental_financial</td>\n      <td>2021-12-31 00:00:00+00:00</td>\n      <td>0.168374</td>\n    </tr>\n    <tr>\n      <th>3</th>\n      <td>-1</td>\n      <td>-1_160_table_environmental_financial</td>\n      <td>2022-12-31 00:00:00+00:00</td>\n      <td>0.183749</td>\n    </tr>\n    <tr>\n      <th>4</th>\n      <td>-1</td>\n      <td>-1_160_table_environmental_financial</td>\n      <td>2023-12-31 00:00:00+00:00</td>\n      <td>0.179892</td>\n    </tr>\n  </tbody>\n</table>\n</div>"
     },
     "execution_count": 57,
     "metadata": {},
     "output_type": "execute_result"
    }
   ],
   "source": [
    "sentiment.head()"
   ],
   "metadata": {
    "collapsed": false,
    "ExecuteTime": {
     "start_time": "2023-08-30T21:52:37.718250Z",
     "end_time": "2023-08-30T21:52:37.727720Z"
    }
   }
  },
  {
   "cell_type": "code",
   "execution_count": 61,
   "outputs": [
    {
     "data": {
      "application/vnd.plotly.v1+json": {
       "data": [
        {
         "hovertemplate": "Name=1_employees_employee_covid 19_health safety<br>Timestamp=%{x}<br>sentiment_sigma_fsa=%{y}<extra></extra>",
         "legendgroup": "1_employees_employee_covid 19_health safety",
         "line": {
          "color": "#636efa",
          "dash": "solid"
         },
         "marker": {
          "symbol": "circle"
         },
         "mode": "lines",
         "name": "1_employees_employee_covid 19_health safety",
         "orientation": "v",
         "showlegend": true,
         "x": [
          "2019-12-31T00:00:00+00:00",
          "2020-12-31T00:00:00+00:00",
          "2021-12-31T00:00:00+00:00",
          "2022-12-31T00:00:00+00:00",
          "2023-12-31T00:00:00+00:00"
         ],
         "xaxis": "x",
         "y": [
          0.15024188848642203,
          0.4131507469075067,
          0.4332015363657229,
          0.42939135189360983,
          0.4281924366036807
         ],
         "yaxis": "y",
         "type": "scatter"
        },
        {
         "hovertemplate": "Name=2_diversity_workforce_gender_diversity inclusion<br>Timestamp=%{x}<br>sentiment_sigma_fsa=%{y}<extra></extra>",
         "legendgroup": "2_diversity_workforce_gender_diversity inclusion",
         "line": {
          "color": "#EF553B",
          "dash": "solid"
         },
         "marker": {
          "symbol": "circle"
         },
         "mode": "lines",
         "name": "2_diversity_workforce_gender_diversity inclusion",
         "orientation": "v",
         "showlegend": true,
         "x": [
          "2020-12-31T00:00:00+00:00",
          "2021-12-31T00:00:00+00:00",
          "2022-12-31T00:00:00+00:00",
          "2023-12-31T00:00:00+00:00"
         ],
         "xaxis": "x",
         "y": [
          0.5725447443815378,
          0.43864170663497026,
          0.4597322276076795,
          0.42668953546999433
         ],
         "yaxis": "y",
         "type": "scatter"
        },
        {
         "hovertemplate": "Name=3_patents_intellectual property_trademarks_patent applications<br>Timestamp=%{x}<br>sentiment_sigma_fsa=%{y}<extra></extra>",
         "legendgroup": "3_patents_intellectual property_trademarks_patent applications",
         "line": {
          "color": "#00cc96",
          "dash": "solid"
         },
         "marker": {
          "symbol": "circle"
         },
         "mode": "lines",
         "name": "3_patents_intellectual property_trademarks_patent applications",
         "orientation": "v",
         "showlegend": true,
         "x": [
          "2019-12-31T00:00:00+00:00",
          "2020-12-31T00:00:00+00:00",
          "2021-12-31T00:00:00+00:00",
          "2022-12-31T00:00:00+00:00",
          "2023-12-31T00:00:00+00:00"
         ],
         "xaxis": "x",
         "y": [
          0.092822154936118,
          0.08449228994685448,
          0.09634982894180687,
          0.09457939937247993,
          0.13427369869672334
         ],
         "yaxis": "y",
         "type": "scatter"
        },
        {
         "hovertemplate": "Name=4_sustainability_emissions_sustainable_2030<br>Timestamp=%{x}<br>sentiment_sigma_fsa=%{y}<extra></extra>",
         "legendgroup": "4_sustainability_emissions_sustainable_2030",
         "line": {
          "color": "#ab63fa",
          "dash": "solid"
         },
         "marker": {
          "symbol": "circle"
         },
         "mode": "lines",
         "name": "4_sustainability_emissions_sustainable_2030",
         "orientation": "v",
         "showlegend": true,
         "x": [
          "2019-12-31T00:00:00+00:00",
          "2020-12-31T00:00:00+00:00",
          "2021-12-31T00:00:00+00:00",
          "2022-12-31T00:00:00+00:00",
          "2023-12-31T00:00:00+00:00"
         ],
         "xaxis": "x",
         "y": [
          0.492092739790678,
          0.4854294831554095,
          0.4376476925611496,
          0.5230104178190231,
          0.41072189952308386
         ],
         "yaxis": "y",
         "type": "scatter"
        },
        {
         "hovertemplate": "Name=5_gdpr_data protection_personal data_ccpa<br>Timestamp=%{x}<br>sentiment_sigma_fsa=%{y}<extra></extra>",
         "legendgroup": "5_gdpr_data protection_personal data_ccpa",
         "line": {
          "color": "#FFA15A",
          "dash": "solid"
         },
         "marker": {
          "symbol": "circle"
         },
         "mode": "lines",
         "name": "5_gdpr_data protection_personal data_ccpa",
         "orientation": "v",
         "showlegend": true,
         "x": [
          "2019-12-31T00:00:00+00:00",
          "2020-12-31T00:00:00+00:00",
          "2021-12-31T00:00:00+00:00",
          "2022-12-31T00:00:00+00:00",
          "2023-12-31T00:00:00+00:00"
         ],
         "xaxis": "x",
         "y": [
          0.05578167832666828,
          0.03053180785740123,
          0.028520747514094336,
          0.04101020860117535,
          1.2355257374371669E-5
         ],
         "yaxis": "y",
         "type": "scatter"
        },
        {
         "hovertemplate": "Name=6_covid 19_covid_pandemic_19 pandemic<br>Timestamp=%{x}<br>sentiment_sigma_fsa=%{y}<extra></extra>",
         "legendgroup": "6_covid 19_covid_pandemic_19 pandemic",
         "line": {
          "color": "#19d3f3",
          "dash": "solid"
         },
         "marker": {
          "symbol": "circle"
         },
         "mode": "lines",
         "name": "6_covid 19_covid_pandemic_19 pandemic",
         "orientation": "v",
         "showlegend": true,
         "x": [
          "2019-12-31T00:00:00+00:00",
          "2020-12-31T00:00:00+00:00",
          "2021-12-31T00:00:00+00:00",
          "2022-12-31T00:00:00+00:00",
          "2023-12-31T00:00:00+00:00"
         ],
         "xaxis": "x",
         "y": [
          -0.43194764852523804,
          -0.3720080726676517,
          -0.1480600335726551,
          -0.05498135049049169,
          -0.1121806846610431
         ],
         "yaxis": "y",
         "type": "scatter"
        },
        {
         "hovertemplate": "Name=7_forward looking_looking statements_statements_risks uncertainties<br>Timestamp=%{x}<br>sentiment_sigma_fsa=%{y}<extra></extra>",
         "legendgroup": "7_forward looking_looking statements_statements_risks uncertainties",
         "line": {
          "color": "#FF6692",
          "dash": "solid"
         },
         "marker": {
          "symbol": "circle"
         },
         "mode": "lines",
         "name": "7_forward looking_looking statements_statements_risks uncertainties",
         "orientation": "v",
         "showlegend": true,
         "x": [
          "2019-12-31T00:00:00+00:00",
          "2020-12-31T00:00:00+00:00",
          "2021-12-31T00:00:00+00:00",
          "2022-12-31T00:00:00+00:00",
          "2023-12-31T00:00:00+00:00"
         ],
         "xaxis": "x",
         "y": [
          -0.0013765110525974008,
          -0.023705253775200146,
          -0.015168398969313678,
          -0.020356172739073287,
          -0.03525905844605999
         ],
         "yaxis": "y",
         "type": "scatter"
        },
        {
         "hovertemplate": "Name=8_cruise_ships_cruises_carnival<br>Timestamp=%{x}<br>sentiment_sigma_fsa=%{y}<extra></extra>",
         "legendgroup": "8_cruise_ships_cruises_carnival",
         "line": {
          "color": "#B6E880",
          "dash": "solid"
         },
         "marker": {
          "symbol": "circle"
         },
         "mode": "lines",
         "name": "8_cruise_ships_cruises_carnival",
         "orientation": "v",
         "showlegend": true,
         "x": [
          "2019-12-31T00:00:00+00:00",
          "2020-12-31T00:00:00+00:00",
          "2021-12-31T00:00:00+00:00",
          "2022-12-31T00:00:00+00:00",
          "2023-12-31T00:00:00+00:00"
         ],
         "xaxis": "x",
         "y": [
          0.2722401714071314,
          0.35309752134176403,
          0.19991814061289742,
          0.24527839361092982,
          0.24495339433889132
         ],
         "yaxis": "y",
         "type": "scatter"
        },
        {
         "hovertemplate": "Name=9_bank_bhc_fhc_federal reserve<br>Timestamp=%{x}<br>sentiment_sigma_fsa=%{y}<extra></extra>",
         "legendgroup": "9_bank_bhc_fhc_federal reserve",
         "line": {
          "color": "#FF97FF",
          "dash": "solid"
         },
         "marker": {
          "symbol": "circle"
         },
         "mode": "lines",
         "name": "9_bank_bhc_fhc_federal reserve",
         "orientation": "v",
         "showlegend": true,
         "x": [
          "2019-12-31T00:00:00+00:00",
          "2020-12-31T00:00:00+00:00",
          "2021-12-31T00:00:00+00:00",
          "2022-12-31T00:00:00+00:00",
          "2023-12-31T00:00:00+00:00"
         ],
         "xaxis": "x",
         "y": [
          0.011049940601571814,
          0.01339547336101532,
          0.026468460349475635,
          0.020835140631312414,
          0.006748619713360751
         ],
         "yaxis": "y",
         "type": "scatter"
        },
        {
         "hovertemplate": "Name=10_human capital_employees_capital management_workforce<br>Timestamp=%{x}<br>sentiment_sigma_fsa=%{y}<extra></extra>",
         "legendgroup": "10_human capital_employees_capital management_workforce",
         "line": {
          "color": "#FECB52",
          "dash": "solid"
         },
         "marker": {
          "symbol": "circle"
         },
         "mode": "lines",
         "name": "10_human capital_employees_capital management_workforce",
         "orientation": "v",
         "showlegend": true,
         "x": [
          "2019-12-31T00:00:00+00:00",
          "2020-12-31T00:00:00+00:00",
          "2021-12-31T00:00:00+00:00",
          "2022-12-31T00:00:00+00:00",
          "2023-12-31T00:00:00+00:00"
         ],
         "xaxis": "x",
         "y": [
          0.24710319936275482,
          0.2673028310139974,
          0.2759481689571279,
          0.28244942185041066,
          0.27441134295965497
         ],
         "yaxis": "y",
         "type": "scatter"
        },
        {
         "hovertemplate": "Name=11_diagnostic information_diagnostics_labcorp_tests<br>Timestamp=%{x}<br>sentiment_sigma_fsa=%{y}<extra></extra>",
         "legendgroup": "11_diagnostic information_diagnostics_labcorp_tests",
         "line": {
          "color": "#636efa",
          "dash": "solid"
         },
         "marker": {
          "symbol": "circle"
         },
         "mode": "lines",
         "name": "11_diagnostic information_diagnostics_labcorp_tests",
         "orientation": "v",
         "showlegend": true,
         "x": [
          "2019-12-31T00:00:00+00:00",
          "2020-12-31T00:00:00+00:00",
          "2021-12-31T00:00:00+00:00",
          "2022-12-31T00:00:00+00:00",
          "2023-12-31T00:00:00+00:00"
         ],
         "xaxis": "x",
         "y": [
          0.4943796106510692,
          0.4706094109493753,
          0.5602114294414167,
          0.5342890290113596,
          0.6722069108296954
         ],
         "yaxis": "y",
         "type": "scatter"
        },
        {
         "hovertemplate": "Name=12_end table_59 table_table_table end<br>Timestamp=%{x}<br>sentiment_sigma_fsa=%{y}<extra></extra>",
         "legendgroup": "12_end table_59 table_table_table end",
         "line": {
          "color": "#EF553B",
          "dash": "solid"
         },
         "marker": {
          "symbol": "circle"
         },
         "mode": "lines",
         "name": "12_end table_59 table_table_table end",
         "orientation": "v",
         "showlegend": true,
         "x": [
          "2019-12-31T00:00:00+00:00",
          "2020-12-31T00:00:00+00:00",
          "2021-12-31T00:00:00+00:00",
          "2022-12-31T00:00:00+00:00",
          "2023-12-31T00:00:00+00:00"
         ],
         "xaxis": "x",
         "y": [
          -0.1257259961217642,
          -0.12542042317913799,
          -0.17530325898584329,
          -0.2501250055601012,
          -0.14930465004660867
         ],
         "yaxis": "y",
         "type": "scatter"
        },
        {
         "hovertemplate": "Name=13_leadership_career_skills_succession planning<br>Timestamp=%{x}<br>sentiment_sigma_fsa=%{y}<extra></extra>",
         "legendgroup": "13_leadership_career_skills_succession planning",
         "line": {
          "color": "#00cc96",
          "dash": "solid"
         },
         "marker": {
          "symbol": "circle"
         },
         "mode": "lines",
         "name": "13_leadership_career_skills_succession planning",
         "orientation": "v",
         "showlegend": true,
         "x": [
          "2019-12-31T00:00:00+00:00",
          "2020-12-31T00:00:00+00:00",
          "2021-12-31T00:00:00+00:00",
          "2022-12-31T00:00:00+00:00",
          "2023-12-31T00:00:00+00:00"
         ],
         "xaxis": "x",
         "y": [
          0.0,
          0.4001066784063975,
          0.39573388415224414,
          0.44569381982973305,
          0.4276959540996146
         ],
         "yaxis": "y",
         "type": "scatter"
        },
        {
         "hovertemplate": "Name=14_fda_labeling_medical devices_bd<br>Timestamp=%{x}<br>sentiment_sigma_fsa=%{y}<extra></extra>",
         "legendgroup": "14_fda_labeling_medical devices_bd",
         "line": {
          "color": "#ab63fa",
          "dash": "solid"
         },
         "marker": {
          "symbol": "circle"
         },
         "mode": "lines",
         "name": "14_fda_labeling_medical devices_bd",
         "orientation": "v",
         "showlegend": true,
         "x": [
          "2019-12-31T00:00:00+00:00",
          "2020-12-31T00:00:00+00:00",
          "2021-12-31T00:00:00+00:00",
          "2022-12-31T00:00:00+00:00",
          "2023-12-31T00:00:00+00:00"
         ],
         "xaxis": "x",
         "y": [
          0.0015963028217184133,
          -0.02470697659366536,
          0.006459888603006091,
          0.002384040572426536,
          0.017740664922672768
         ],
         "yaxis": "y",
         "type": "scatter"
        },
        {
         "hovertemplate": "Name=15_vice president_prior joining_senior vice_executive vice<br>Timestamp=%{x}<br>sentiment_sigma_fsa=%{y}<extra></extra>",
         "legendgroup": "15_vice president_prior joining_senior vice_executive vice",
         "line": {
          "color": "#FFA15A",
          "dash": "solid"
         },
         "marker": {
          "symbol": "circle"
         },
         "mode": "lines",
         "name": "15_vice president_prior joining_senior vice_executive vice",
         "orientation": "v",
         "showlegend": true,
         "x": [
          "2019-12-31T00:00:00+00:00",
          "2020-12-31T00:00:00+00:00",
          "2021-12-31T00:00:00+00:00",
          "2022-12-31T00:00:00+00:00",
          "2023-12-31T00:00:00+00:00"
         ],
         "xaxis": "x",
         "y": [
          0.0,
          0.0,
          0.0,
          0.0,
          0.0
         ],
         "yaxis": "y",
         "type": "scatter"
        },
        {
         "hovertemplate": "Name=16_dominion energy_dominion_virginia_virginia power<br>Timestamp=%{x}<br>sentiment_sigma_fsa=%{y}<extra></extra>",
         "legendgroup": "16_dominion energy_dominion_virginia_virginia power",
         "line": {
          "color": "#19d3f3",
          "dash": "solid"
         },
         "marker": {
          "symbol": "circle"
         },
         "mode": "lines",
         "name": "16_dominion energy_dominion_virginia_virginia power",
         "orientation": "v",
         "showlegend": true,
         "x": [
          "2019-12-31T00:00:00+00:00",
          "2020-12-31T00:00:00+00:00",
          "2021-12-31T00:00:00+00:00",
          "2022-12-31T00:00:00+00:00",
          "2023-12-31T00:00:00+00:00"
         ],
         "xaxis": "x",
         "y": [
          0.030902648749558823,
          0.07773785357889922,
          0.1592494719906857,
          0.1403291766033616,
          0.11305260528688846
         ],
         "yaxis": "y",
         "type": "scatter"
        },
        {
         "hovertemplate": "Name=17_vice president_executive vice_executive officers_senior vice<br>Timestamp=%{x}<br>sentiment_sigma_fsa=%{y}<extra></extra>",
         "legendgroup": "17_vice president_executive vice_executive officers_senior vice",
         "line": {
          "color": "#FF6692",
          "dash": "solid"
         },
         "marker": {
          "symbol": "circle"
         },
         "mode": "lines",
         "name": "17_vice president_executive vice_executive officers_senior vice",
         "orientation": "v",
         "showlegend": true,
         "x": [
          "2019-12-31T00:00:00+00:00",
          "2020-12-31T00:00:00+00:00",
          "2021-12-31T00:00:00+00:00",
          "2022-12-31T00:00:00+00:00",
          "2023-12-31T00:00:00+00:00"
         ],
         "xaxis": "x",
         "y": [
          0.0,
          -0.034937047958374025,
          0.017179754045274522,
          0.0060260866550689044,
          -0.01689413785934448
         ],
         "yaxis": "y",
         "type": "scatter"
        },
        {
         "hovertemplate": "Name=18_cboe_exchanges_equities_nasdaq<br>Timestamp=%{x}<br>sentiment_sigma_fsa=%{y}<extra></extra>",
         "legendgroup": "18_cboe_exchanges_equities_nasdaq",
         "line": {
          "color": "#B6E880",
          "dash": "solid"
         },
         "marker": {
          "symbol": "circle"
         },
         "mode": "lines",
         "name": "18_cboe_exchanges_equities_nasdaq",
         "orientation": "v",
         "showlegend": true,
         "x": [
          "2019-12-31T00:00:00+00:00",
          "2020-12-31T00:00:00+00:00",
          "2021-12-31T00:00:00+00:00",
          "2022-12-31T00:00:00+00:00",
          "2023-12-31T00:00:00+00:00"
         ],
         "xaxis": "x",
         "y": [
          0.24548387858602735,
          0.21852008235163806,
          0.2231505258781154,
          0.14182424261456444,
          0.1931224650627858
         ],
         "yaxis": "y",
         "type": "scatter"
        },
        {
         "hovertemplate": "Name=19_cybersecurity_information security_security_cybersecurity program<br>Timestamp=%{x}<br>sentiment_sigma_fsa=%{y}<extra></extra>",
         "legendgroup": "19_cybersecurity_information security_security_cybersecurity program",
         "line": {
          "color": "#FF97FF",
          "dash": "solid"
         },
         "marker": {
          "symbol": "circle"
         },
         "mode": "lines",
         "name": "19_cybersecurity_information security_security_cybersecurity program",
         "orientation": "v",
         "showlegend": true,
         "x": [
          "2019-12-31T00:00:00+00:00",
          "2020-12-31T00:00:00+00:00",
          "2021-12-31T00:00:00+00:00",
          "2022-12-31T00:00:00+00:00",
          "2023-12-31T00:00:00+00:00"
         ],
         "xaxis": "x",
         "y": [
          -0.03961165363972004,
          -0.021781493510518755,
          -0.07973048953633559,
          0.016542286288981536,
          0.041955114372314944
         ],
         "yaxis": "y",
         "type": "scatter"
        }
       ],
       "layout": {
        "template": {
         "data": {
          "histogram2dcontour": [
           {
            "type": "histogram2dcontour",
            "colorbar": {
             "outlinewidth": 0,
             "ticks": ""
            },
            "colorscale": [
             [
              0.0,
              "#0d0887"
             ],
             [
              0.1111111111111111,
              "#46039f"
             ],
             [
              0.2222222222222222,
              "#7201a8"
             ],
             [
              0.3333333333333333,
              "#9c179e"
             ],
             [
              0.4444444444444444,
              "#bd3786"
             ],
             [
              0.5555555555555556,
              "#d8576b"
             ],
             [
              0.6666666666666666,
              "#ed7953"
             ],
             [
              0.7777777777777778,
              "#fb9f3a"
             ],
             [
              0.8888888888888888,
              "#fdca26"
             ],
             [
              1.0,
              "#f0f921"
             ]
            ]
           }
          ],
          "choropleth": [
           {
            "type": "choropleth",
            "colorbar": {
             "outlinewidth": 0,
             "ticks": ""
            }
           }
          ],
          "histogram2d": [
           {
            "type": "histogram2d",
            "colorbar": {
             "outlinewidth": 0,
             "ticks": ""
            },
            "colorscale": [
             [
              0.0,
              "#0d0887"
             ],
             [
              0.1111111111111111,
              "#46039f"
             ],
             [
              0.2222222222222222,
              "#7201a8"
             ],
             [
              0.3333333333333333,
              "#9c179e"
             ],
             [
              0.4444444444444444,
              "#bd3786"
             ],
             [
              0.5555555555555556,
              "#d8576b"
             ],
             [
              0.6666666666666666,
              "#ed7953"
             ],
             [
              0.7777777777777778,
              "#fb9f3a"
             ],
             [
              0.8888888888888888,
              "#fdca26"
             ],
             [
              1.0,
              "#f0f921"
             ]
            ]
           }
          ],
          "heatmap": [
           {
            "type": "heatmap",
            "colorbar": {
             "outlinewidth": 0,
             "ticks": ""
            },
            "colorscale": [
             [
              0.0,
              "#0d0887"
             ],
             [
              0.1111111111111111,
              "#46039f"
             ],
             [
              0.2222222222222222,
              "#7201a8"
             ],
             [
              0.3333333333333333,
              "#9c179e"
             ],
             [
              0.4444444444444444,
              "#bd3786"
             ],
             [
              0.5555555555555556,
              "#d8576b"
             ],
             [
              0.6666666666666666,
              "#ed7953"
             ],
             [
              0.7777777777777778,
              "#fb9f3a"
             ],
             [
              0.8888888888888888,
              "#fdca26"
             ],
             [
              1.0,
              "#f0f921"
             ]
            ]
           }
          ],
          "heatmapgl": [
           {
            "type": "heatmapgl",
            "colorbar": {
             "outlinewidth": 0,
             "ticks": ""
            },
            "colorscale": [
             [
              0.0,
              "#0d0887"
             ],
             [
              0.1111111111111111,
              "#46039f"
             ],
             [
              0.2222222222222222,
              "#7201a8"
             ],
             [
              0.3333333333333333,
              "#9c179e"
             ],
             [
              0.4444444444444444,
              "#bd3786"
             ],
             [
              0.5555555555555556,
              "#d8576b"
             ],
             [
              0.6666666666666666,
              "#ed7953"
             ],
             [
              0.7777777777777778,
              "#fb9f3a"
             ],
             [
              0.8888888888888888,
              "#fdca26"
             ],
             [
              1.0,
              "#f0f921"
             ]
            ]
           }
          ],
          "contourcarpet": [
           {
            "type": "contourcarpet",
            "colorbar": {
             "outlinewidth": 0,
             "ticks": ""
            }
           }
          ],
          "contour": [
           {
            "type": "contour",
            "colorbar": {
             "outlinewidth": 0,
             "ticks": ""
            },
            "colorscale": [
             [
              0.0,
              "#0d0887"
             ],
             [
              0.1111111111111111,
              "#46039f"
             ],
             [
              0.2222222222222222,
              "#7201a8"
             ],
             [
              0.3333333333333333,
              "#9c179e"
             ],
             [
              0.4444444444444444,
              "#bd3786"
             ],
             [
              0.5555555555555556,
              "#d8576b"
             ],
             [
              0.6666666666666666,
              "#ed7953"
             ],
             [
              0.7777777777777778,
              "#fb9f3a"
             ],
             [
              0.8888888888888888,
              "#fdca26"
             ],
             [
              1.0,
              "#f0f921"
             ]
            ]
           }
          ],
          "surface": [
           {
            "type": "surface",
            "colorbar": {
             "outlinewidth": 0,
             "ticks": ""
            },
            "colorscale": [
             [
              0.0,
              "#0d0887"
             ],
             [
              0.1111111111111111,
              "#46039f"
             ],
             [
              0.2222222222222222,
              "#7201a8"
             ],
             [
              0.3333333333333333,
              "#9c179e"
             ],
             [
              0.4444444444444444,
              "#bd3786"
             ],
             [
              0.5555555555555556,
              "#d8576b"
             ],
             [
              0.6666666666666666,
              "#ed7953"
             ],
             [
              0.7777777777777778,
              "#fb9f3a"
             ],
             [
              0.8888888888888888,
              "#fdca26"
             ],
             [
              1.0,
              "#f0f921"
             ]
            ]
           }
          ],
          "mesh3d": [
           {
            "type": "mesh3d",
            "colorbar": {
             "outlinewidth": 0,
             "ticks": ""
            }
           }
          ],
          "scatter": [
           {
            "marker": {
             "line": {
              "color": "#283442"
             }
            },
            "type": "scatter"
           }
          ],
          "parcoords": [
           {
            "type": "parcoords",
            "line": {
             "colorbar": {
              "outlinewidth": 0,
              "ticks": ""
             }
            }
           }
          ],
          "scatterpolargl": [
           {
            "type": "scatterpolargl",
            "marker": {
             "colorbar": {
              "outlinewidth": 0,
              "ticks": ""
             }
            }
           }
          ],
          "bar": [
           {
            "error_x": {
             "color": "#f2f5fa"
            },
            "error_y": {
             "color": "#f2f5fa"
            },
            "marker": {
             "line": {
              "color": "rgb(17,17,17)",
              "width": 0.5
             },
             "pattern": {
              "fillmode": "overlay",
              "size": 10,
              "solidity": 0.2
             }
            },
            "type": "bar"
           }
          ],
          "scattergeo": [
           {
            "type": "scattergeo",
            "marker": {
             "colorbar": {
              "outlinewidth": 0,
              "ticks": ""
             }
            }
           }
          ],
          "scatterpolar": [
           {
            "type": "scatterpolar",
            "marker": {
             "colorbar": {
              "outlinewidth": 0,
              "ticks": ""
             }
            }
           }
          ],
          "histogram": [
           {
            "marker": {
             "pattern": {
              "fillmode": "overlay",
              "size": 10,
              "solidity": 0.2
             }
            },
            "type": "histogram"
           }
          ],
          "scattergl": [
           {
            "marker": {
             "line": {
              "color": "#283442"
             }
            },
            "type": "scattergl"
           }
          ],
          "scatter3d": [
           {
            "type": "scatter3d",
            "line": {
             "colorbar": {
              "outlinewidth": 0,
              "ticks": ""
             }
            },
            "marker": {
             "colorbar": {
              "outlinewidth": 0,
              "ticks": ""
             }
            }
           }
          ],
          "scattermapbox": [
           {
            "type": "scattermapbox",
            "marker": {
             "colorbar": {
              "outlinewidth": 0,
              "ticks": ""
             }
            }
           }
          ],
          "scatterternary": [
           {
            "type": "scatterternary",
            "marker": {
             "colorbar": {
              "outlinewidth": 0,
              "ticks": ""
             }
            }
           }
          ],
          "scattercarpet": [
           {
            "type": "scattercarpet",
            "marker": {
             "colorbar": {
              "outlinewidth": 0,
              "ticks": ""
             }
            }
           }
          ],
          "carpet": [
           {
            "aaxis": {
             "endlinecolor": "#A2B1C6",
             "gridcolor": "#506784",
             "linecolor": "#506784",
             "minorgridcolor": "#506784",
             "startlinecolor": "#A2B1C6"
            },
            "baxis": {
             "endlinecolor": "#A2B1C6",
             "gridcolor": "#506784",
             "linecolor": "#506784",
             "minorgridcolor": "#506784",
             "startlinecolor": "#A2B1C6"
            },
            "type": "carpet"
           }
          ],
          "table": [
           {
            "cells": {
             "fill": {
              "color": "#506784"
             },
             "line": {
              "color": "rgb(17,17,17)"
             }
            },
            "header": {
             "fill": {
              "color": "#2a3f5f"
             },
             "line": {
              "color": "rgb(17,17,17)"
             }
            },
            "type": "table"
           }
          ],
          "barpolar": [
           {
            "marker": {
             "line": {
              "color": "rgb(17,17,17)",
              "width": 0.5
             },
             "pattern": {
              "fillmode": "overlay",
              "size": 10,
              "solidity": 0.2
             }
            },
            "type": "barpolar"
           }
          ],
          "pie": [
           {
            "automargin": true,
            "type": "pie"
           }
          ]
         },
         "layout": {
          "autotypenumbers": "strict",
          "colorway": [
           "#636efa",
           "#EF553B",
           "#00cc96",
           "#ab63fa",
           "#FFA15A",
           "#19d3f3",
           "#FF6692",
           "#B6E880",
           "#FF97FF",
           "#FECB52"
          ],
          "font": {
           "color": "#f2f5fa"
          },
          "hovermode": "closest",
          "hoverlabel": {
           "align": "left"
          },
          "paper_bgcolor": "rgb(17,17,17)",
          "plot_bgcolor": "rgb(17,17,17)",
          "polar": {
           "bgcolor": "rgb(17,17,17)",
           "angularaxis": {
            "gridcolor": "#506784",
            "linecolor": "#506784",
            "ticks": ""
           },
           "radialaxis": {
            "gridcolor": "#506784",
            "linecolor": "#506784",
            "ticks": ""
           }
          },
          "ternary": {
           "bgcolor": "rgb(17,17,17)",
           "aaxis": {
            "gridcolor": "#506784",
            "linecolor": "#506784",
            "ticks": ""
           },
           "baxis": {
            "gridcolor": "#506784",
            "linecolor": "#506784",
            "ticks": ""
           },
           "caxis": {
            "gridcolor": "#506784",
            "linecolor": "#506784",
            "ticks": ""
           }
          },
          "coloraxis": {
           "colorbar": {
            "outlinewidth": 0,
            "ticks": ""
           }
          },
          "colorscale": {
           "sequential": [
            [
             0.0,
             "#0d0887"
            ],
            [
             0.1111111111111111,
             "#46039f"
            ],
            [
             0.2222222222222222,
             "#7201a8"
            ],
            [
             0.3333333333333333,
             "#9c179e"
            ],
            [
             0.4444444444444444,
             "#bd3786"
            ],
            [
             0.5555555555555556,
             "#d8576b"
            ],
            [
             0.6666666666666666,
             "#ed7953"
            ],
            [
             0.7777777777777778,
             "#fb9f3a"
            ],
            [
             0.8888888888888888,
             "#fdca26"
            ],
            [
             1.0,
             "#f0f921"
            ]
           ],
           "sequentialminus": [
            [
             0.0,
             "#0d0887"
            ],
            [
             0.1111111111111111,
             "#46039f"
            ],
            [
             0.2222222222222222,
             "#7201a8"
            ],
            [
             0.3333333333333333,
             "#9c179e"
            ],
            [
             0.4444444444444444,
             "#bd3786"
            ],
            [
             0.5555555555555556,
             "#d8576b"
            ],
            [
             0.6666666666666666,
             "#ed7953"
            ],
            [
             0.7777777777777778,
             "#fb9f3a"
            ],
            [
             0.8888888888888888,
             "#fdca26"
            ],
            [
             1.0,
             "#f0f921"
            ]
           ],
           "diverging": [
            [
             0,
             "#8e0152"
            ],
            [
             0.1,
             "#c51b7d"
            ],
            [
             0.2,
             "#de77ae"
            ],
            [
             0.3,
             "#f1b6da"
            ],
            [
             0.4,
             "#fde0ef"
            ],
            [
             0.5,
             "#f7f7f7"
            ],
            [
             0.6,
             "#e6f5d0"
            ],
            [
             0.7,
             "#b8e186"
            ],
            [
             0.8,
             "#7fbc41"
            ],
            [
             0.9,
             "#4d9221"
            ],
            [
             1,
             "#276419"
            ]
           ]
          },
          "xaxis": {
           "gridcolor": "#283442",
           "linecolor": "#506784",
           "ticks": "",
           "title": {
            "standoff": 15
           },
           "zerolinecolor": "#283442",
           "automargin": true,
           "zerolinewidth": 2
          },
          "yaxis": {
           "gridcolor": "#283442",
           "linecolor": "#506784",
           "ticks": "",
           "title": {
            "standoff": 15
           },
           "zerolinecolor": "#283442",
           "automargin": true,
           "zerolinewidth": 2
          },
          "scene": {
           "xaxis": {
            "backgroundcolor": "rgb(17,17,17)",
            "gridcolor": "#506784",
            "linecolor": "#506784",
            "showbackground": true,
            "ticks": "",
            "zerolinecolor": "#C8D4E3",
            "gridwidth": 2
           },
           "yaxis": {
            "backgroundcolor": "rgb(17,17,17)",
            "gridcolor": "#506784",
            "linecolor": "#506784",
            "showbackground": true,
            "ticks": "",
            "zerolinecolor": "#C8D4E3",
            "gridwidth": 2
           },
           "zaxis": {
            "backgroundcolor": "rgb(17,17,17)",
            "gridcolor": "#506784",
            "linecolor": "#506784",
            "showbackground": true,
            "ticks": "",
            "zerolinecolor": "#C8D4E3",
            "gridwidth": 2
           }
          },
          "shapedefaults": {
           "line": {
            "color": "#f2f5fa"
           }
          },
          "annotationdefaults": {
           "arrowcolor": "#f2f5fa",
           "arrowhead": 0,
           "arrowwidth": 1
          },
          "geo": {
           "bgcolor": "rgb(17,17,17)",
           "landcolor": "rgb(17,17,17)",
           "subunitcolor": "#506784",
           "showland": true,
           "showlakes": true,
           "lakecolor": "rgb(17,17,17)"
          },
          "title": {
           "x": 0.05
          },
          "updatemenudefaults": {
           "bgcolor": "#506784",
           "borderwidth": 0
          },
          "sliderdefaults": {
           "bgcolor": "#C8D4E3",
           "borderwidth": 1,
           "bordercolor": "rgb(17,17,17)",
           "tickwidth": 0
          },
          "mapbox": {
           "style": "dark"
          }
         }
        },
        "xaxis": {
         "anchor": "y",
         "domain": [
          0.0,
          1.0
         ],
         "title": {
          "text": "Timestamp"
         }
        },
        "yaxis": {
         "anchor": "x",
         "domain": [
          0.0,
          1.0
         ],
         "title": {
          "text": "Average Sentiment per period"
         }
        },
        "legend": {
         "title": {
          "text": "Name"
         },
         "tracegroupgap": 0
        },
        "margin": {
         "t": 60
        },
        "title": {
         "text": "Frequency over Time"
        }
       },
       "config": {
        "plotlyServerURL": "https://plot.ly"
       }
      },
      "text/html": "<div>                            <div id=\"ab58f785-0f47-4d39-ad92-10e59b507b13\" class=\"plotly-graph-div\" style=\"height:525px; width:100%;\"></div>            <script type=\"text/javascript\">                require([\"plotly\"], function(Plotly) {                    window.PLOTLYENV=window.PLOTLYENV || {};                                    if (document.getElementById(\"ab58f785-0f47-4d39-ad92-10e59b507b13\")) {                    Plotly.newPlot(                        \"ab58f785-0f47-4d39-ad92-10e59b507b13\",                        [{\"hovertemplate\":\"Name=1_employees_employee_covid 19_health safety\\u003cbr\\u003eTimestamp=%{x}\\u003cbr\\u003esentiment_sigma_fsa=%{y}\\u003cextra\\u003e\\u003c\\u002fextra\\u003e\",\"legendgroup\":\"1_employees_employee_covid 19_health safety\",\"line\":{\"color\":\"#636efa\",\"dash\":\"solid\"},\"marker\":{\"symbol\":\"circle\"},\"mode\":\"lines\",\"name\":\"1_employees_employee_covid 19_health safety\",\"orientation\":\"v\",\"showlegend\":true,\"x\":[\"2019-12-31T00:00:00+00:00\",\"2020-12-31T00:00:00+00:00\",\"2021-12-31T00:00:00+00:00\",\"2022-12-31T00:00:00+00:00\",\"2023-12-31T00:00:00+00:00\"],\"xaxis\":\"x\",\"y\":[0.15024188848642203,0.4131507469075067,0.4332015363657229,0.42939135189360983,0.4281924366036807],\"yaxis\":\"y\",\"type\":\"scatter\"},{\"hovertemplate\":\"Name=2_diversity_workforce_gender_diversity inclusion\\u003cbr\\u003eTimestamp=%{x}\\u003cbr\\u003esentiment_sigma_fsa=%{y}\\u003cextra\\u003e\\u003c\\u002fextra\\u003e\",\"legendgroup\":\"2_diversity_workforce_gender_diversity inclusion\",\"line\":{\"color\":\"#EF553B\",\"dash\":\"solid\"},\"marker\":{\"symbol\":\"circle\"},\"mode\":\"lines\",\"name\":\"2_diversity_workforce_gender_diversity inclusion\",\"orientation\":\"v\",\"showlegend\":true,\"x\":[\"2020-12-31T00:00:00+00:00\",\"2021-12-31T00:00:00+00:00\",\"2022-12-31T00:00:00+00:00\",\"2023-12-31T00:00:00+00:00\"],\"xaxis\":\"x\",\"y\":[0.5725447443815378,0.43864170663497026,0.4597322276076795,0.42668953546999433],\"yaxis\":\"y\",\"type\":\"scatter\"},{\"hovertemplate\":\"Name=3_patents_intellectual property_trademarks_patent applications\\u003cbr\\u003eTimestamp=%{x}\\u003cbr\\u003esentiment_sigma_fsa=%{y}\\u003cextra\\u003e\\u003c\\u002fextra\\u003e\",\"legendgroup\":\"3_patents_intellectual property_trademarks_patent applications\",\"line\":{\"color\":\"#00cc96\",\"dash\":\"solid\"},\"marker\":{\"symbol\":\"circle\"},\"mode\":\"lines\",\"name\":\"3_patents_intellectual property_trademarks_patent applications\",\"orientation\":\"v\",\"showlegend\":true,\"x\":[\"2019-12-31T00:00:00+00:00\",\"2020-12-31T00:00:00+00:00\",\"2021-12-31T00:00:00+00:00\",\"2022-12-31T00:00:00+00:00\",\"2023-12-31T00:00:00+00:00\"],\"xaxis\":\"x\",\"y\":[0.092822154936118,0.08449228994685448,0.09634982894180687,0.09457939937247993,0.13427369869672334],\"yaxis\":\"y\",\"type\":\"scatter\"},{\"hovertemplate\":\"Name=4_sustainability_emissions_sustainable_2030\\u003cbr\\u003eTimestamp=%{x}\\u003cbr\\u003esentiment_sigma_fsa=%{y}\\u003cextra\\u003e\\u003c\\u002fextra\\u003e\",\"legendgroup\":\"4_sustainability_emissions_sustainable_2030\",\"line\":{\"color\":\"#ab63fa\",\"dash\":\"solid\"},\"marker\":{\"symbol\":\"circle\"},\"mode\":\"lines\",\"name\":\"4_sustainability_emissions_sustainable_2030\",\"orientation\":\"v\",\"showlegend\":true,\"x\":[\"2019-12-31T00:00:00+00:00\",\"2020-12-31T00:00:00+00:00\",\"2021-12-31T00:00:00+00:00\",\"2022-12-31T00:00:00+00:00\",\"2023-12-31T00:00:00+00:00\"],\"xaxis\":\"x\",\"y\":[0.492092739790678,0.4854294831554095,0.4376476925611496,0.5230104178190231,0.41072189952308386],\"yaxis\":\"y\",\"type\":\"scatter\"},{\"hovertemplate\":\"Name=5_gdpr_data protection_personal data_ccpa\\u003cbr\\u003eTimestamp=%{x}\\u003cbr\\u003esentiment_sigma_fsa=%{y}\\u003cextra\\u003e\\u003c\\u002fextra\\u003e\",\"legendgroup\":\"5_gdpr_data protection_personal data_ccpa\",\"line\":{\"color\":\"#FFA15A\",\"dash\":\"solid\"},\"marker\":{\"symbol\":\"circle\"},\"mode\":\"lines\",\"name\":\"5_gdpr_data protection_personal data_ccpa\",\"orientation\":\"v\",\"showlegend\":true,\"x\":[\"2019-12-31T00:00:00+00:00\",\"2020-12-31T00:00:00+00:00\",\"2021-12-31T00:00:00+00:00\",\"2022-12-31T00:00:00+00:00\",\"2023-12-31T00:00:00+00:00\"],\"xaxis\":\"x\",\"y\":[0.05578167832666828,0.03053180785740123,0.028520747514094336,0.04101020860117535,0.000012355257374371669],\"yaxis\":\"y\",\"type\":\"scatter\"},{\"hovertemplate\":\"Name=6_covid 19_covid_pandemic_19 pandemic\\u003cbr\\u003eTimestamp=%{x}\\u003cbr\\u003esentiment_sigma_fsa=%{y}\\u003cextra\\u003e\\u003c\\u002fextra\\u003e\",\"legendgroup\":\"6_covid 19_covid_pandemic_19 pandemic\",\"line\":{\"color\":\"#19d3f3\",\"dash\":\"solid\"},\"marker\":{\"symbol\":\"circle\"},\"mode\":\"lines\",\"name\":\"6_covid 19_covid_pandemic_19 pandemic\",\"orientation\":\"v\",\"showlegend\":true,\"x\":[\"2019-12-31T00:00:00+00:00\",\"2020-12-31T00:00:00+00:00\",\"2021-12-31T00:00:00+00:00\",\"2022-12-31T00:00:00+00:00\",\"2023-12-31T00:00:00+00:00\"],\"xaxis\":\"x\",\"y\":[-0.43194764852523804,-0.3720080726676517,-0.1480600335726551,-0.05498135049049169,-0.1121806846610431],\"yaxis\":\"y\",\"type\":\"scatter\"},{\"hovertemplate\":\"Name=7_forward looking_looking statements_statements_risks uncertainties\\u003cbr\\u003eTimestamp=%{x}\\u003cbr\\u003esentiment_sigma_fsa=%{y}\\u003cextra\\u003e\\u003c\\u002fextra\\u003e\",\"legendgroup\":\"7_forward looking_looking statements_statements_risks uncertainties\",\"line\":{\"color\":\"#FF6692\",\"dash\":\"solid\"},\"marker\":{\"symbol\":\"circle\"},\"mode\":\"lines\",\"name\":\"7_forward looking_looking statements_statements_risks uncertainties\",\"orientation\":\"v\",\"showlegend\":true,\"x\":[\"2019-12-31T00:00:00+00:00\",\"2020-12-31T00:00:00+00:00\",\"2021-12-31T00:00:00+00:00\",\"2022-12-31T00:00:00+00:00\",\"2023-12-31T00:00:00+00:00\"],\"xaxis\":\"x\",\"y\":[-0.0013765110525974008,-0.023705253775200146,-0.015168398969313678,-0.020356172739073287,-0.03525905844605999],\"yaxis\":\"y\",\"type\":\"scatter\"},{\"hovertemplate\":\"Name=8_cruise_ships_cruises_carnival\\u003cbr\\u003eTimestamp=%{x}\\u003cbr\\u003esentiment_sigma_fsa=%{y}\\u003cextra\\u003e\\u003c\\u002fextra\\u003e\",\"legendgroup\":\"8_cruise_ships_cruises_carnival\",\"line\":{\"color\":\"#B6E880\",\"dash\":\"solid\"},\"marker\":{\"symbol\":\"circle\"},\"mode\":\"lines\",\"name\":\"8_cruise_ships_cruises_carnival\",\"orientation\":\"v\",\"showlegend\":true,\"x\":[\"2019-12-31T00:00:00+00:00\",\"2020-12-31T00:00:00+00:00\",\"2021-12-31T00:00:00+00:00\",\"2022-12-31T00:00:00+00:00\",\"2023-12-31T00:00:00+00:00\"],\"xaxis\":\"x\",\"y\":[0.2722401714071314,0.35309752134176403,0.19991814061289742,0.24527839361092982,0.24495339433889132],\"yaxis\":\"y\",\"type\":\"scatter\"},{\"hovertemplate\":\"Name=9_bank_bhc_fhc_federal reserve\\u003cbr\\u003eTimestamp=%{x}\\u003cbr\\u003esentiment_sigma_fsa=%{y}\\u003cextra\\u003e\\u003c\\u002fextra\\u003e\",\"legendgroup\":\"9_bank_bhc_fhc_federal reserve\",\"line\":{\"color\":\"#FF97FF\",\"dash\":\"solid\"},\"marker\":{\"symbol\":\"circle\"},\"mode\":\"lines\",\"name\":\"9_bank_bhc_fhc_federal reserve\",\"orientation\":\"v\",\"showlegend\":true,\"x\":[\"2019-12-31T00:00:00+00:00\",\"2020-12-31T00:00:00+00:00\",\"2021-12-31T00:00:00+00:00\",\"2022-12-31T00:00:00+00:00\",\"2023-12-31T00:00:00+00:00\"],\"xaxis\":\"x\",\"y\":[0.011049940601571814,0.01339547336101532,0.026468460349475635,0.020835140631312414,0.006748619713360751],\"yaxis\":\"y\",\"type\":\"scatter\"},{\"hovertemplate\":\"Name=10_human capital_employees_capital management_workforce\\u003cbr\\u003eTimestamp=%{x}\\u003cbr\\u003esentiment_sigma_fsa=%{y}\\u003cextra\\u003e\\u003c\\u002fextra\\u003e\",\"legendgroup\":\"10_human capital_employees_capital management_workforce\",\"line\":{\"color\":\"#FECB52\",\"dash\":\"solid\"},\"marker\":{\"symbol\":\"circle\"},\"mode\":\"lines\",\"name\":\"10_human capital_employees_capital management_workforce\",\"orientation\":\"v\",\"showlegend\":true,\"x\":[\"2019-12-31T00:00:00+00:00\",\"2020-12-31T00:00:00+00:00\",\"2021-12-31T00:00:00+00:00\",\"2022-12-31T00:00:00+00:00\",\"2023-12-31T00:00:00+00:00\"],\"xaxis\":\"x\",\"y\":[0.24710319936275482,0.2673028310139974,0.2759481689571279,0.28244942185041066,0.27441134295965497],\"yaxis\":\"y\",\"type\":\"scatter\"},{\"hovertemplate\":\"Name=11_diagnostic information_diagnostics_labcorp_tests\\u003cbr\\u003eTimestamp=%{x}\\u003cbr\\u003esentiment_sigma_fsa=%{y}\\u003cextra\\u003e\\u003c\\u002fextra\\u003e\",\"legendgroup\":\"11_diagnostic information_diagnostics_labcorp_tests\",\"line\":{\"color\":\"#636efa\",\"dash\":\"solid\"},\"marker\":{\"symbol\":\"circle\"},\"mode\":\"lines\",\"name\":\"11_diagnostic information_diagnostics_labcorp_tests\",\"orientation\":\"v\",\"showlegend\":true,\"x\":[\"2019-12-31T00:00:00+00:00\",\"2020-12-31T00:00:00+00:00\",\"2021-12-31T00:00:00+00:00\",\"2022-12-31T00:00:00+00:00\",\"2023-12-31T00:00:00+00:00\"],\"xaxis\":\"x\",\"y\":[0.4943796106510692,0.4706094109493753,0.5602114294414167,0.5342890290113596,0.6722069108296954],\"yaxis\":\"y\",\"type\":\"scatter\"},{\"hovertemplate\":\"Name=12_end table_59 table_table_table end\\u003cbr\\u003eTimestamp=%{x}\\u003cbr\\u003esentiment_sigma_fsa=%{y}\\u003cextra\\u003e\\u003c\\u002fextra\\u003e\",\"legendgroup\":\"12_end table_59 table_table_table end\",\"line\":{\"color\":\"#EF553B\",\"dash\":\"solid\"},\"marker\":{\"symbol\":\"circle\"},\"mode\":\"lines\",\"name\":\"12_end table_59 table_table_table end\",\"orientation\":\"v\",\"showlegend\":true,\"x\":[\"2019-12-31T00:00:00+00:00\",\"2020-12-31T00:00:00+00:00\",\"2021-12-31T00:00:00+00:00\",\"2022-12-31T00:00:00+00:00\",\"2023-12-31T00:00:00+00:00\"],\"xaxis\":\"x\",\"y\":[-0.1257259961217642,-0.12542042317913799,-0.17530325898584329,-0.2501250055601012,-0.14930465004660867],\"yaxis\":\"y\",\"type\":\"scatter\"},{\"hovertemplate\":\"Name=13_leadership_career_skills_succession planning\\u003cbr\\u003eTimestamp=%{x}\\u003cbr\\u003esentiment_sigma_fsa=%{y}\\u003cextra\\u003e\\u003c\\u002fextra\\u003e\",\"legendgroup\":\"13_leadership_career_skills_succession planning\",\"line\":{\"color\":\"#00cc96\",\"dash\":\"solid\"},\"marker\":{\"symbol\":\"circle\"},\"mode\":\"lines\",\"name\":\"13_leadership_career_skills_succession planning\",\"orientation\":\"v\",\"showlegend\":true,\"x\":[\"2019-12-31T00:00:00+00:00\",\"2020-12-31T00:00:00+00:00\",\"2021-12-31T00:00:00+00:00\",\"2022-12-31T00:00:00+00:00\",\"2023-12-31T00:00:00+00:00\"],\"xaxis\":\"x\",\"y\":[0.0,0.4001066784063975,0.39573388415224414,0.44569381982973305,0.4276959540996146],\"yaxis\":\"y\",\"type\":\"scatter\"},{\"hovertemplate\":\"Name=14_fda_labeling_medical devices_bd\\u003cbr\\u003eTimestamp=%{x}\\u003cbr\\u003esentiment_sigma_fsa=%{y}\\u003cextra\\u003e\\u003c\\u002fextra\\u003e\",\"legendgroup\":\"14_fda_labeling_medical devices_bd\",\"line\":{\"color\":\"#ab63fa\",\"dash\":\"solid\"},\"marker\":{\"symbol\":\"circle\"},\"mode\":\"lines\",\"name\":\"14_fda_labeling_medical devices_bd\",\"orientation\":\"v\",\"showlegend\":true,\"x\":[\"2019-12-31T00:00:00+00:00\",\"2020-12-31T00:00:00+00:00\",\"2021-12-31T00:00:00+00:00\",\"2022-12-31T00:00:00+00:00\",\"2023-12-31T00:00:00+00:00\"],\"xaxis\":\"x\",\"y\":[0.0015963028217184133,-0.02470697659366536,0.006459888603006091,0.002384040572426536,0.017740664922672768],\"yaxis\":\"y\",\"type\":\"scatter\"},{\"hovertemplate\":\"Name=15_vice president_prior joining_senior vice_executive vice\\u003cbr\\u003eTimestamp=%{x}\\u003cbr\\u003esentiment_sigma_fsa=%{y}\\u003cextra\\u003e\\u003c\\u002fextra\\u003e\",\"legendgroup\":\"15_vice president_prior joining_senior vice_executive vice\",\"line\":{\"color\":\"#FFA15A\",\"dash\":\"solid\"},\"marker\":{\"symbol\":\"circle\"},\"mode\":\"lines\",\"name\":\"15_vice president_prior joining_senior vice_executive vice\",\"orientation\":\"v\",\"showlegend\":true,\"x\":[\"2019-12-31T00:00:00+00:00\",\"2020-12-31T00:00:00+00:00\",\"2021-12-31T00:00:00+00:00\",\"2022-12-31T00:00:00+00:00\",\"2023-12-31T00:00:00+00:00\"],\"xaxis\":\"x\",\"y\":[0.0,0.0,0.0,0.0,0.0],\"yaxis\":\"y\",\"type\":\"scatter\"},{\"hovertemplate\":\"Name=16_dominion energy_dominion_virginia_virginia power\\u003cbr\\u003eTimestamp=%{x}\\u003cbr\\u003esentiment_sigma_fsa=%{y}\\u003cextra\\u003e\\u003c\\u002fextra\\u003e\",\"legendgroup\":\"16_dominion energy_dominion_virginia_virginia power\",\"line\":{\"color\":\"#19d3f3\",\"dash\":\"solid\"},\"marker\":{\"symbol\":\"circle\"},\"mode\":\"lines\",\"name\":\"16_dominion energy_dominion_virginia_virginia power\",\"orientation\":\"v\",\"showlegend\":true,\"x\":[\"2019-12-31T00:00:00+00:00\",\"2020-12-31T00:00:00+00:00\",\"2021-12-31T00:00:00+00:00\",\"2022-12-31T00:00:00+00:00\",\"2023-12-31T00:00:00+00:00\"],\"xaxis\":\"x\",\"y\":[0.030902648749558823,0.07773785357889922,0.1592494719906857,0.1403291766033616,0.11305260528688846],\"yaxis\":\"y\",\"type\":\"scatter\"},{\"hovertemplate\":\"Name=17_vice president_executive vice_executive officers_senior vice\\u003cbr\\u003eTimestamp=%{x}\\u003cbr\\u003esentiment_sigma_fsa=%{y}\\u003cextra\\u003e\\u003c\\u002fextra\\u003e\",\"legendgroup\":\"17_vice president_executive vice_executive officers_senior vice\",\"line\":{\"color\":\"#FF6692\",\"dash\":\"solid\"},\"marker\":{\"symbol\":\"circle\"},\"mode\":\"lines\",\"name\":\"17_vice president_executive vice_executive officers_senior vice\",\"orientation\":\"v\",\"showlegend\":true,\"x\":[\"2019-12-31T00:00:00+00:00\",\"2020-12-31T00:00:00+00:00\",\"2021-12-31T00:00:00+00:00\",\"2022-12-31T00:00:00+00:00\",\"2023-12-31T00:00:00+00:00\"],\"xaxis\":\"x\",\"y\":[0.0,-0.034937047958374025,0.017179754045274522,0.0060260866550689044,-0.01689413785934448],\"yaxis\":\"y\",\"type\":\"scatter\"},{\"hovertemplate\":\"Name=18_cboe_exchanges_equities_nasdaq\\u003cbr\\u003eTimestamp=%{x}\\u003cbr\\u003esentiment_sigma_fsa=%{y}\\u003cextra\\u003e\\u003c\\u002fextra\\u003e\",\"legendgroup\":\"18_cboe_exchanges_equities_nasdaq\",\"line\":{\"color\":\"#B6E880\",\"dash\":\"solid\"},\"marker\":{\"symbol\":\"circle\"},\"mode\":\"lines\",\"name\":\"18_cboe_exchanges_equities_nasdaq\",\"orientation\":\"v\",\"showlegend\":true,\"x\":[\"2019-12-31T00:00:00+00:00\",\"2020-12-31T00:00:00+00:00\",\"2021-12-31T00:00:00+00:00\",\"2022-12-31T00:00:00+00:00\",\"2023-12-31T00:00:00+00:00\"],\"xaxis\":\"x\",\"y\":[0.24548387858602735,0.21852008235163806,0.2231505258781154,0.14182424261456444,0.1931224650627858],\"yaxis\":\"y\",\"type\":\"scatter\"},{\"hovertemplate\":\"Name=19_cybersecurity_information security_security_cybersecurity program\\u003cbr\\u003eTimestamp=%{x}\\u003cbr\\u003esentiment_sigma_fsa=%{y}\\u003cextra\\u003e\\u003c\\u002fextra\\u003e\",\"legendgroup\":\"19_cybersecurity_information security_security_cybersecurity program\",\"line\":{\"color\":\"#FF97FF\",\"dash\":\"solid\"},\"marker\":{\"symbol\":\"circle\"},\"mode\":\"lines\",\"name\":\"19_cybersecurity_information security_security_cybersecurity program\",\"orientation\":\"v\",\"showlegend\":true,\"x\":[\"2019-12-31T00:00:00+00:00\",\"2020-12-31T00:00:00+00:00\",\"2021-12-31T00:00:00+00:00\",\"2022-12-31T00:00:00+00:00\",\"2023-12-31T00:00:00+00:00\"],\"xaxis\":\"x\",\"y\":[-0.03961165363972004,-0.021781493510518755,-0.07973048953633559,0.016542286288981536,0.041955114372314944],\"yaxis\":\"y\",\"type\":\"scatter\"}],                        {\"template\":{\"data\":{\"histogram2dcontour\":[{\"type\":\"histogram2dcontour\",\"colorbar\":{\"outlinewidth\":0,\"ticks\":\"\"},\"colorscale\":[[0.0,\"#0d0887\"],[0.1111111111111111,\"#46039f\"],[0.2222222222222222,\"#7201a8\"],[0.3333333333333333,\"#9c179e\"],[0.4444444444444444,\"#bd3786\"],[0.5555555555555556,\"#d8576b\"],[0.6666666666666666,\"#ed7953\"],[0.7777777777777778,\"#fb9f3a\"],[0.8888888888888888,\"#fdca26\"],[1.0,\"#f0f921\"]]}],\"choropleth\":[{\"type\":\"choropleth\",\"colorbar\":{\"outlinewidth\":0,\"ticks\":\"\"}}],\"histogram2d\":[{\"type\":\"histogram2d\",\"colorbar\":{\"outlinewidth\":0,\"ticks\":\"\"},\"colorscale\":[[0.0,\"#0d0887\"],[0.1111111111111111,\"#46039f\"],[0.2222222222222222,\"#7201a8\"],[0.3333333333333333,\"#9c179e\"],[0.4444444444444444,\"#bd3786\"],[0.5555555555555556,\"#d8576b\"],[0.6666666666666666,\"#ed7953\"],[0.7777777777777778,\"#fb9f3a\"],[0.8888888888888888,\"#fdca26\"],[1.0,\"#f0f921\"]]}],\"heatmap\":[{\"type\":\"heatmap\",\"colorbar\":{\"outlinewidth\":0,\"ticks\":\"\"},\"colorscale\":[[0.0,\"#0d0887\"],[0.1111111111111111,\"#46039f\"],[0.2222222222222222,\"#7201a8\"],[0.3333333333333333,\"#9c179e\"],[0.4444444444444444,\"#bd3786\"],[0.5555555555555556,\"#d8576b\"],[0.6666666666666666,\"#ed7953\"],[0.7777777777777778,\"#fb9f3a\"],[0.8888888888888888,\"#fdca26\"],[1.0,\"#f0f921\"]]}],\"heatmapgl\":[{\"type\":\"heatmapgl\",\"colorbar\":{\"outlinewidth\":0,\"ticks\":\"\"},\"colorscale\":[[0.0,\"#0d0887\"],[0.1111111111111111,\"#46039f\"],[0.2222222222222222,\"#7201a8\"],[0.3333333333333333,\"#9c179e\"],[0.4444444444444444,\"#bd3786\"],[0.5555555555555556,\"#d8576b\"],[0.6666666666666666,\"#ed7953\"],[0.7777777777777778,\"#fb9f3a\"],[0.8888888888888888,\"#fdca26\"],[1.0,\"#f0f921\"]]}],\"contourcarpet\":[{\"type\":\"contourcarpet\",\"colorbar\":{\"outlinewidth\":0,\"ticks\":\"\"}}],\"contour\":[{\"type\":\"contour\",\"colorbar\":{\"outlinewidth\":0,\"ticks\":\"\"},\"colorscale\":[[0.0,\"#0d0887\"],[0.1111111111111111,\"#46039f\"],[0.2222222222222222,\"#7201a8\"],[0.3333333333333333,\"#9c179e\"],[0.4444444444444444,\"#bd3786\"],[0.5555555555555556,\"#d8576b\"],[0.6666666666666666,\"#ed7953\"],[0.7777777777777778,\"#fb9f3a\"],[0.8888888888888888,\"#fdca26\"],[1.0,\"#f0f921\"]]}],\"surface\":[{\"type\":\"surface\",\"colorbar\":{\"outlinewidth\":0,\"ticks\":\"\"},\"colorscale\":[[0.0,\"#0d0887\"],[0.1111111111111111,\"#46039f\"],[0.2222222222222222,\"#7201a8\"],[0.3333333333333333,\"#9c179e\"],[0.4444444444444444,\"#bd3786\"],[0.5555555555555556,\"#d8576b\"],[0.6666666666666666,\"#ed7953\"],[0.7777777777777778,\"#fb9f3a\"],[0.8888888888888888,\"#fdca26\"],[1.0,\"#f0f921\"]]}],\"mesh3d\":[{\"type\":\"mesh3d\",\"colorbar\":{\"outlinewidth\":0,\"ticks\":\"\"}}],\"scatter\":[{\"marker\":{\"line\":{\"color\":\"#283442\"}},\"type\":\"scatter\"}],\"parcoords\":[{\"type\":\"parcoords\",\"line\":{\"colorbar\":{\"outlinewidth\":0,\"ticks\":\"\"}}}],\"scatterpolargl\":[{\"type\":\"scatterpolargl\",\"marker\":{\"colorbar\":{\"outlinewidth\":0,\"ticks\":\"\"}}}],\"bar\":[{\"error_x\":{\"color\":\"#f2f5fa\"},\"error_y\":{\"color\":\"#f2f5fa\"},\"marker\":{\"line\":{\"color\":\"rgb(17,17,17)\",\"width\":0.5},\"pattern\":{\"fillmode\":\"overlay\",\"size\":10,\"solidity\":0.2}},\"type\":\"bar\"}],\"scattergeo\":[{\"type\":\"scattergeo\",\"marker\":{\"colorbar\":{\"outlinewidth\":0,\"ticks\":\"\"}}}],\"scatterpolar\":[{\"type\":\"scatterpolar\",\"marker\":{\"colorbar\":{\"outlinewidth\":0,\"ticks\":\"\"}}}],\"histogram\":[{\"marker\":{\"pattern\":{\"fillmode\":\"overlay\",\"size\":10,\"solidity\":0.2}},\"type\":\"histogram\"}],\"scattergl\":[{\"marker\":{\"line\":{\"color\":\"#283442\"}},\"type\":\"scattergl\"}],\"scatter3d\":[{\"type\":\"scatter3d\",\"line\":{\"colorbar\":{\"outlinewidth\":0,\"ticks\":\"\"}},\"marker\":{\"colorbar\":{\"outlinewidth\":0,\"ticks\":\"\"}}}],\"scattermapbox\":[{\"type\":\"scattermapbox\",\"marker\":{\"colorbar\":{\"outlinewidth\":0,\"ticks\":\"\"}}}],\"scatterternary\":[{\"type\":\"scatterternary\",\"marker\":{\"colorbar\":{\"outlinewidth\":0,\"ticks\":\"\"}}}],\"scattercarpet\":[{\"type\":\"scattercarpet\",\"marker\":{\"colorbar\":{\"outlinewidth\":0,\"ticks\":\"\"}}}],\"carpet\":[{\"aaxis\":{\"endlinecolor\":\"#A2B1C6\",\"gridcolor\":\"#506784\",\"linecolor\":\"#506784\",\"minorgridcolor\":\"#506784\",\"startlinecolor\":\"#A2B1C6\"},\"baxis\":{\"endlinecolor\":\"#A2B1C6\",\"gridcolor\":\"#506784\",\"linecolor\":\"#506784\",\"minorgridcolor\":\"#506784\",\"startlinecolor\":\"#A2B1C6\"},\"type\":\"carpet\"}],\"table\":[{\"cells\":{\"fill\":{\"color\":\"#506784\"},\"line\":{\"color\":\"rgb(17,17,17)\"}},\"header\":{\"fill\":{\"color\":\"#2a3f5f\"},\"line\":{\"color\":\"rgb(17,17,17)\"}},\"type\":\"table\"}],\"barpolar\":[{\"marker\":{\"line\":{\"color\":\"rgb(17,17,17)\",\"width\":0.5},\"pattern\":{\"fillmode\":\"overlay\",\"size\":10,\"solidity\":0.2}},\"type\":\"barpolar\"}],\"pie\":[{\"automargin\":true,\"type\":\"pie\"}]},\"layout\":{\"autotypenumbers\":\"strict\",\"colorway\":[\"#636efa\",\"#EF553B\",\"#00cc96\",\"#ab63fa\",\"#FFA15A\",\"#19d3f3\",\"#FF6692\",\"#B6E880\",\"#FF97FF\",\"#FECB52\"],\"font\":{\"color\":\"#f2f5fa\"},\"hovermode\":\"closest\",\"hoverlabel\":{\"align\":\"left\"},\"paper_bgcolor\":\"rgb(17,17,17)\",\"plot_bgcolor\":\"rgb(17,17,17)\",\"polar\":{\"bgcolor\":\"rgb(17,17,17)\",\"angularaxis\":{\"gridcolor\":\"#506784\",\"linecolor\":\"#506784\",\"ticks\":\"\"},\"radialaxis\":{\"gridcolor\":\"#506784\",\"linecolor\":\"#506784\",\"ticks\":\"\"}},\"ternary\":{\"bgcolor\":\"rgb(17,17,17)\",\"aaxis\":{\"gridcolor\":\"#506784\",\"linecolor\":\"#506784\",\"ticks\":\"\"},\"baxis\":{\"gridcolor\":\"#506784\",\"linecolor\":\"#506784\",\"ticks\":\"\"},\"caxis\":{\"gridcolor\":\"#506784\",\"linecolor\":\"#506784\",\"ticks\":\"\"}},\"coloraxis\":{\"colorbar\":{\"outlinewidth\":0,\"ticks\":\"\"}},\"colorscale\":{\"sequential\":[[0.0,\"#0d0887\"],[0.1111111111111111,\"#46039f\"],[0.2222222222222222,\"#7201a8\"],[0.3333333333333333,\"#9c179e\"],[0.4444444444444444,\"#bd3786\"],[0.5555555555555556,\"#d8576b\"],[0.6666666666666666,\"#ed7953\"],[0.7777777777777778,\"#fb9f3a\"],[0.8888888888888888,\"#fdca26\"],[1.0,\"#f0f921\"]],\"sequentialminus\":[[0.0,\"#0d0887\"],[0.1111111111111111,\"#46039f\"],[0.2222222222222222,\"#7201a8\"],[0.3333333333333333,\"#9c179e\"],[0.4444444444444444,\"#bd3786\"],[0.5555555555555556,\"#d8576b\"],[0.6666666666666666,\"#ed7953\"],[0.7777777777777778,\"#fb9f3a\"],[0.8888888888888888,\"#fdca26\"],[1.0,\"#f0f921\"]],\"diverging\":[[0,\"#8e0152\"],[0.1,\"#c51b7d\"],[0.2,\"#de77ae\"],[0.3,\"#f1b6da\"],[0.4,\"#fde0ef\"],[0.5,\"#f7f7f7\"],[0.6,\"#e6f5d0\"],[0.7,\"#b8e186\"],[0.8,\"#7fbc41\"],[0.9,\"#4d9221\"],[1,\"#276419\"]]},\"xaxis\":{\"gridcolor\":\"#283442\",\"linecolor\":\"#506784\",\"ticks\":\"\",\"title\":{\"standoff\":15},\"zerolinecolor\":\"#283442\",\"automargin\":true,\"zerolinewidth\":2},\"yaxis\":{\"gridcolor\":\"#283442\",\"linecolor\":\"#506784\",\"ticks\":\"\",\"title\":{\"standoff\":15},\"zerolinecolor\":\"#283442\",\"automargin\":true,\"zerolinewidth\":2},\"scene\":{\"xaxis\":{\"backgroundcolor\":\"rgb(17,17,17)\",\"gridcolor\":\"#506784\",\"linecolor\":\"#506784\",\"showbackground\":true,\"ticks\":\"\",\"zerolinecolor\":\"#C8D4E3\",\"gridwidth\":2},\"yaxis\":{\"backgroundcolor\":\"rgb(17,17,17)\",\"gridcolor\":\"#506784\",\"linecolor\":\"#506784\",\"showbackground\":true,\"ticks\":\"\",\"zerolinecolor\":\"#C8D4E3\",\"gridwidth\":2},\"zaxis\":{\"backgroundcolor\":\"rgb(17,17,17)\",\"gridcolor\":\"#506784\",\"linecolor\":\"#506784\",\"showbackground\":true,\"ticks\":\"\",\"zerolinecolor\":\"#C8D4E3\",\"gridwidth\":2}},\"shapedefaults\":{\"line\":{\"color\":\"#f2f5fa\"}},\"annotationdefaults\":{\"arrowcolor\":\"#f2f5fa\",\"arrowhead\":0,\"arrowwidth\":1},\"geo\":{\"bgcolor\":\"rgb(17,17,17)\",\"landcolor\":\"rgb(17,17,17)\",\"subunitcolor\":\"#506784\",\"showland\":true,\"showlakes\":true,\"lakecolor\":\"rgb(17,17,17)\"},\"title\":{\"x\":0.05},\"updatemenudefaults\":{\"bgcolor\":\"#506784\",\"borderwidth\":0},\"sliderdefaults\":{\"bgcolor\":\"#C8D4E3\",\"borderwidth\":1,\"bordercolor\":\"rgb(17,17,17)\",\"tickwidth\":0},\"mapbox\":{\"style\":\"dark\"}}},\"xaxis\":{\"anchor\":\"y\",\"domain\":[0.0,1.0],\"title\":{\"text\":\"Timestamp\"}},\"yaxis\":{\"anchor\":\"x\",\"domain\":[0.0,1.0],\"title\":{\"text\":\"Average Sentiment per period\"}},\"legend\":{\"title\":{\"text\":\"Name\"},\"tracegroupgap\":0},\"margin\":{\"t\":60},\"title\":{\"text\":\"Frequency over Time\"}},                        {\"responsive\": true}                    ).then(function(){\n                            \nvar gd = document.getElementById('ab58f785-0f47-4d39-ad92-10e59b507b13');\nvar x = new MutationObserver(function (mutations, observer) {{\n        var display = window.getComputedStyle(gd).display;\n        if (!display || display === 'none') {{\n            console.log([gd, 'removed!']);\n            Plotly.purge(gd);\n            observer.disconnect();\n        }}\n}});\n\n// Listen for the removal of the full notebook cells\nvar notebookContainer = gd.closest('#notebook-container');\nif (notebookContainer) {{\n    x.observe(notebookContainer, {childList: true});\n}}\n\n// Listen for the clearing of the current output cell\nvar outputEl = gd.closest('.output');\nif (outputEl) {{\n    x.observe(outputEl, {childList: true});\n}}\n\n                        })                };                });            </script>        </div>"
     },
     "metadata": {},
     "output_type": "display_data"
    }
   ],
   "source": [
    "import plotly.express as px\n",
    "fig = px.line(data_frame=sentiment.loc[sentiment.Topic.isin(range(1, 20)),:], x='Timestamp', y='sentiment_sigma_fsa', color='Name')\n",
    "fig.update_layout(\n",
    "    title='Frequency over Time',\n",
    "    xaxis_title='Timestamp',\n",
    "    yaxis_title='Average Sentiment per period'\n",
    ")\n",
    "\n",
    "fig.show()"
   ],
   "metadata": {
    "collapsed": false,
    "ExecuteTime": {
     "start_time": "2023-08-30T21:59:12.287204Z",
     "end_time": "2023-08-30T21:59:12.330384Z"
    }
   }
  },
  {
   "cell_type": "markdown",
   "source": [
    "Above, we can see how the sentiment evolved for the top 20 periods. Although, while using only the chart, is not possible to do an exhaustive analysis, we can see an improvement of the sentiment around the topic 6 (COVID-19). Let's do this for the remaining two sections,"
   ],
   "metadata": {
    "collapsed": false
   }
  }
 ],
 "metadata": {
  "kernelspec": {
   "display_name": "Python 3",
   "language": "python",
   "name": "python3"
  },
  "language_info": {
   "codemirror_mode": {
    "name": "ipython",
    "version": 2
   },
   "file_extension": ".py",
   "mimetype": "text/x-python",
   "name": "python",
   "nbconvert_exporter": "python",
   "pygments_lexer": "ipython2",
   "version": "2.7.6"
  }
 },
 "nbformat": 4,
 "nbformat_minor": 0
}
