{
 "cells": [
  {
   "cell_type": "code",
   "execution_count": 1,
   "metadata": {
    "ExecuteTime": {
     "end_time": "2023-08-31T15:18:47.837655Z",
     "start_time": "2023-08-31T15:18:44.810618Z"
    }
   },
   "outputs": [],
   "source": [
    "from langchain.document_loaders import WebBaseLoader\n",
    "from langchain.text_splitter import SentenceTransformersTokenTextSplitter\n",
    "\n",
    "\n",
    "url = 'https://www.federalreserve.gov/newsevents/pressreleases/bcreg20230829b.htm'\n",
    "loader = WebBaseLoader(url)\n",
    "splitter = SentenceTransformersTokenTextSplitter(chunk_overlap=0, model_name='sentence-transformers/all-MiniLM-L6-v2')\n",
    "\n",
    "page = loader.load()\n",
    "docs = splitter.split_documents(page)\n",
    "docs_str = [doc.page_content for doc in docs]"
   ]
  },
  {
   "cell_type": "markdown",
   "metadata": {},
   "source": [
    "### Load the topic models.\n",
    "We load the topic models and extract a mapping between Topic no. and Name"
   ]
  },
  {
   "cell_type": "code",
   "execution_count": 24,
   "metadata": {
    "ExecuteTime": {
     "end_time": "2023-08-31T15:19:09.552790Z",
     "start_time": "2023-08-31T15:19:06.212222Z"
    }
   },
   "outputs": [],
   "source": [
    "from bertopic import BERTopic\n",
    "sections = [f'Section{s}' for s in ['1', '1A', '7'] ]\n",
    "topic_models = {s: BERTopic.load(f'../topic_models/topic_models_{s}', embedding_model='all-MiniLM-L6-v2') for s in sections}\n",
    "topics_names_dict = {s: dict(zip(tm.get_topic_info()['Topic'], tm.get_topic_info()['Name'])) for s,tm in topic_models.items()}"
   ]
  },
  {
   "cell_type": "code",
   "execution_count": 31,
   "metadata": {
    "ExecuteTime": {
     "end_time": "2023-08-31T15:18:17.885287Z",
     "start_time": "2023-08-31T15:18:17.702552Z"
    }
   },
   "outputs": [],
   "source": [
    "topics_doc = {}\n",
    "import numpy as np\n",
    "for s, tm in topic_models.items():\n",
    "    topics, _ = tm.transform(docs_str)\n",
    "    \n",
    "    # Use set to keep uniques\n",
    "    topics_doc[s] = list(set(np.vectorize(topics_names_dict[s].get)(topics)))"
   ]
  },
  {
   "cell_type": "code",
   "execution_count": 32,
   "metadata": {},
   "outputs": [
    {
     "data": {
      "text/plain": [
       "{'Section1': ['86_fdic_reserve fdic_submit resolution_orderly resolution',\n",
       "  '878_monetary policy_monetary policies_instruments monetary_fiscal policies'],\n",
       " 'Section1A': ['44_federal reserve_capital liquidity_regulatory capital_basel iii',\n",
       "  '1305_america corporation_bank america_fdic_bank',\n",
       "  '178_bearing liabilities_net income_deposits borrowings_loans securities',\n",
       "  '557_funds rate_federal funds_federal reserve_actions federal',\n",
       "  '3_libor_sofr_reference rates_usd libor',\n",
       "  '786_spoe_spoe strategy_parent company_support agreement'],\n",
       " 'Section7': ['2573_aenb_qualifying collateral_charge trust_lending trust',\n",
       "  '2462_secured funding_collateralized financings_gs bank_financings consolidated',\n",
       "  '2005_corporation 8217_financial markets_instability impact_certain corporation',\n",
       "  '846_backed securities_fasb financial_rmbs residential_capital financial',\n",
       "  '2013_cares act_programs facilities_provisions cares_consolidated appropriations']}"
      ]
     },
     "execution_count": 32,
     "metadata": {},
     "output_type": "execute_result"
    }
   ],
   "source": [
    "topics_doc"
   ]
  },
  {
   "cell_type": "markdown",
   "metadata": {
    "ExecuteTime": {
     "end_time": "2023-08-31T15:21:18.083691Z",
     "start_time": "2023-08-31T15:21:18.065813Z"
    }
   },
   "source": [
    "Above, we can see the topics are all related to federal reserve and/or monetary policy related topics. For the API, we can return an object equal to topics_doc. For further improvements, we can include the probabilities."
   ]
  },
  {
   "cell_type": "code",
   "execution_count": null,
   "metadata": {},
   "outputs": [],
   "source": []
  }
 ],
 "metadata": {
  "kernelspec": {
   "display_name": "Python 3 (ipykernel)",
   "language": "python",
   "name": "python3"
  },
  "language_info": {
   "codemirror_mode": {
    "name": "ipython",
    "version": 3
   },
   "file_extension": ".py",
   "mimetype": "text/x-python",
   "name": "python",
   "nbconvert_exporter": "python",
   "pygments_lexer": "ipython3",
   "version": "3.10.12"
  }
 },
 "nbformat": 4,
 "nbformat_minor": 1
}
