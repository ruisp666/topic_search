{
 "cells": [
  {
   "cell_type": "markdown",
   "source": [
    "### Case Study on the 10k filings for the 10k form - Business, Risk and Management Discussion\n",
    "\n",
    "Background: 10k filings are the annual fillings required by the SEC. The form a strict format.\n",
    "For this case study we are interested in the following sections:\n",
    "\n",
    "Item 1\n",
    "“Business” requires a description of the company’s business, including its main products and services, what subsidiaries it owns, and what markets it operates in. This section may also include information about recent events, competition the company faces, regulations that apply to it, labor issues, special operating costs, or seasonal factors. This is a good place to start to understand how the company operates.\n",
    "\n",
    "Item1A\n",
    "“Risk Factors” includes information about the most significant risks that apply to the company or to its securiies. Companies generally list the risk factors in order of their importance.\n",
    "In practice, this section focuses on the risks themselves, not how the company addresses those risks. Some risks may be true for the entire economy, some may apply only to the company’s in- dustry sector or geographic region, and some may be unique to the company.\n",
    "\n",
    "Item7\n",
    "\n",
    "Management’s Discussion and Analysis of Financial Condition and Results of Operations” gives the company’s perspective on the business results of the past financial year. This section, known as the MD&A for short, allows company management to tell its story in its own words.\n",
    "\n",
    "\n",
    "\n",
    "We import some standard packages."
   ],
   "metadata": {
    "collapsed": false
   }
  },
  {
   "cell_type": "markdown",
   "source": [
    "### Load the data\n",
    "We load the data."
   ],
   "metadata": {
    "collapsed": false
   }
  },
  {
   "cell_type": "code",
   "execution_count": 1,
   "outputs": [],
   "source": [
    "import pandas as pd\n",
    "import numpy as np"
   ],
   "metadata": {
    "collapsed": false,
    "ExecuteTime": {
     "start_time": "2023-08-29T10:20:22.067518Z",
     "end_time": "2023-08-29T10:20:23.405504Z"
    }
   }
  },
  {
   "cell_type": "code",
   "execution_count": 11,
   "outputs": [],
   "source": [
    "link = 'https://storage.googleapis.com/iig-ds-test-data/all_filings_and_sections.csv'\n",
    "df = pd.read_csv(link)"
   ],
   "metadata": {
    "collapsed": false,
    "ExecuteTime": {
     "start_time": "2023-08-29T11:25:20.649634Z",
     "end_time": "2023-08-29T11:26:02.564697Z"
    }
   }
  },
  {
   "cell_type": "code",
   "execution_count": 12,
   "outputs": [
    {
     "name": "stdout",
     "output_type": "stream",
     "text": [
      "<class 'pandas.core.frame.DataFrame'>\n",
      "RangeIndex: 2420 entries, 0 to 2419\n",
      "Data columns (total 10 columns):\n",
      " #   Column               Non-Null Count  Dtype \n",
      "---  ------               --------------  ----- \n",
      " 0   Unnamed: 0           2420 non-null   int64 \n",
      " 1   ticker               2419 non-null   object\n",
      " 2   companyName          2420 non-null   object\n",
      " 3   formType             2420 non-null   object\n",
      " 4   description          2420 non-null   object\n",
      " 5   filedAt              2420 non-null   object\n",
      " 6   linkToFilingDetails  2420 non-null   object\n",
      " 7   Section1             2404 non-null   object\n",
      " 8   Section1A            2395 non-null   object\n",
      " 9   Section7             2389 non-null   object\n",
      "dtypes: int64(1), object(9)\n",
      "memory usage: 189.2+ KB\n"
     ]
    }
   ],
   "source": [
    "df.info()"
   ],
   "metadata": {
    "collapsed": false,
    "ExecuteTime": {
     "start_time": "2023-08-29T11:26:12.610964Z",
     "end_time": "2023-08-29T11:26:12.629013Z"
    }
   }
  },
  {
   "cell_type": "markdown",
   "source": [
    "Let's have a look at the data. But first we parse the dates and drop the 'Unnamed: 0' column."
   ],
   "metadata": {
    "collapsed": false
   }
  },
  {
   "cell_type": "code",
   "execution_count": 13,
   "outputs": [
    {
     "data": {
      "text/plain": "  ticker     companyName formType  \\\n0    AIZ  ASSURANT, INC.     10-K   \n1    AIZ  ASSURANT, INC.     10-K   \n2    AIZ  ASSURANT, INC.     10-K   \n3    AIZ  ASSURANT, INC.     10-K   \n4    AIZ    ASSURANT INC     10-K   \n\n                                         description  \\\n0  Form 10-K - Annual report [Section 13 and 15(d...   \n1  Form 10-K - Annual report [Section 13 and 15(d...   \n2  Form 10-K - Annual report [Section 13 and 15(d...   \n3  Form 10-K - Annual report [Section 13 and 15(d...   \n4  Form 10-K - Annual report [Section 13 and 15(d...   \n\n                     filedAt  \\\n0  2023-02-17 16:12:13-05:00   \n1  2022-02-22 16:24:39-05:00   \n2  2021-02-19 16:44:57-05:00   \n3  2020-02-19 17:13:43-05:00   \n4  2019-02-22 16:48:45-05:00   \n\n                                 linkToFilingDetails  \\\n0  https://www.sec.gov/Archives/edgar/data/126723...   \n1  https://www.sec.gov/Archives/edgar/data/126723...   \n2  https://www.sec.gov/Archives/edgar/data/126723...   \n3  https://www.sec.gov/ix?doc=/Archives/edgar/dat...   \n4  https://www.sec.gov/ix?doc=/Archives/edgar/dat...   \n\n                                            Section1  \\\n0   Item 1. Business \\n\\nAssurant, Inc. was incor...   \n1   Item 1. Business \\n\\nAssurant, Inc. was incor...   \n2   Item 1. Business \\n\\nAssurant, Inc. was incor...   \n3   Item 1. Business \\n\\nAssurant, Inc. was incor...   \n4   Item 1. Business \\n\\nAssurant, Inc. was incor...   \n\n                                           Section1A  \\\n0   Item 1A. Risk Factors \\n\\nCertain factors may...   \n1   Item 1A. Risk Factors \\n\\nCertain factors may...   \n2   Item 1A. Risk Factors \\n\\nCertain factors may...   \n3   Item 1A. Risk Factors \\n\\nCertain factors may...   \n4   Item 1A. Risk Factors \\n\\nCertain factors may...   \n\n                                            Section7  \n0   Item 7. Management&#8217;s Discussion and Ana...  \n1   Item 7. Management&#8217;s Discussion and Ana...  \n2   Item 7. Management&#8217;s Discussion and Ana...  \n3   Item 7. Management&#8217;s Discussion and Ana...  \n4   Item 7. Management&#8217;s Discussion and Ana...  ",
      "text/html": "<div>\n<style scoped>\n    .dataframe tbody tr th:only-of-type {\n        vertical-align: middle;\n    }\n\n    .dataframe tbody tr th {\n        vertical-align: top;\n    }\n\n    .dataframe thead th {\n        text-align: right;\n    }\n</style>\n<table border=\"1\" class=\"dataframe\">\n  <thead>\n    <tr style=\"text-align: right;\">\n      <th></th>\n      <th>ticker</th>\n      <th>companyName</th>\n      <th>formType</th>\n      <th>description</th>\n      <th>filedAt</th>\n      <th>linkToFilingDetails</th>\n      <th>Section1</th>\n      <th>Section1A</th>\n      <th>Section7</th>\n    </tr>\n  </thead>\n  <tbody>\n    <tr>\n      <th>0</th>\n      <td>AIZ</td>\n      <td>ASSURANT, INC.</td>\n      <td>10-K</td>\n      <td>Form 10-K - Annual report [Section 13 and 15(d...</td>\n      <td>2023-02-17 16:12:13-05:00</td>\n      <td>https://www.sec.gov/Archives/edgar/data/126723...</td>\n      <td>Item 1. Business \\n\\nAssurant, Inc. was incor...</td>\n      <td>Item 1A. Risk Factors \\n\\nCertain factors may...</td>\n      <td>Item 7. Management&amp;#8217;s Discussion and Ana...</td>\n    </tr>\n    <tr>\n      <th>1</th>\n      <td>AIZ</td>\n      <td>ASSURANT, INC.</td>\n      <td>10-K</td>\n      <td>Form 10-K - Annual report [Section 13 and 15(d...</td>\n      <td>2022-02-22 16:24:39-05:00</td>\n      <td>https://www.sec.gov/Archives/edgar/data/126723...</td>\n      <td>Item 1. Business \\n\\nAssurant, Inc. was incor...</td>\n      <td>Item 1A. Risk Factors \\n\\nCertain factors may...</td>\n      <td>Item 7. Management&amp;#8217;s Discussion and Ana...</td>\n    </tr>\n    <tr>\n      <th>2</th>\n      <td>AIZ</td>\n      <td>ASSURANT, INC.</td>\n      <td>10-K</td>\n      <td>Form 10-K - Annual report [Section 13 and 15(d...</td>\n      <td>2021-02-19 16:44:57-05:00</td>\n      <td>https://www.sec.gov/Archives/edgar/data/126723...</td>\n      <td>Item 1. Business \\n\\nAssurant, Inc. was incor...</td>\n      <td>Item 1A. Risk Factors \\n\\nCertain factors may...</td>\n      <td>Item 7. Management&amp;#8217;s Discussion and Ana...</td>\n    </tr>\n    <tr>\n      <th>3</th>\n      <td>AIZ</td>\n      <td>ASSURANT, INC.</td>\n      <td>10-K</td>\n      <td>Form 10-K - Annual report [Section 13 and 15(d...</td>\n      <td>2020-02-19 17:13:43-05:00</td>\n      <td>https://www.sec.gov/ix?doc=/Archives/edgar/dat...</td>\n      <td>Item 1. Business \\n\\nAssurant, Inc. was incor...</td>\n      <td>Item 1A. Risk Factors \\n\\nCertain factors may...</td>\n      <td>Item 7. Management&amp;#8217;s Discussion and Ana...</td>\n    </tr>\n    <tr>\n      <th>4</th>\n      <td>AIZ</td>\n      <td>ASSURANT INC</td>\n      <td>10-K</td>\n      <td>Form 10-K - Annual report [Section 13 and 15(d...</td>\n      <td>2019-02-22 16:48:45-05:00</td>\n      <td>https://www.sec.gov/ix?doc=/Archives/edgar/dat...</td>\n      <td>Item 1. Business \\n\\nAssurant, Inc. was incor...</td>\n      <td>Item 1A. Risk Factors \\n\\nCertain factors may...</td>\n      <td>Item 7. Management&amp;#8217;s Discussion and Ana...</td>\n    </tr>\n  </tbody>\n</table>\n</div>"
     },
     "execution_count": 13,
     "metadata": {},
     "output_type": "execute_result"
    }
   ],
   "source": [
    "df['filedAt'] = pd.to_datetime(df['filedAt'], infer_datetime_format=True)\n",
    "df = df.drop(columns='Unnamed: 0')\n",
    "df.head(5)"
   ],
   "metadata": {
    "collapsed": false,
    "ExecuteTime": {
     "start_time": "2023-08-29T11:26:36.578671Z",
     "end_time": "2023-08-29T11:26:36.643311Z"
    }
   }
  },
  {
   "cell_type": "markdown",
   "source": [
    "Let's have a look at the number of filings per ticker."
   ],
   "metadata": {
    "collapsed": false
   }
  },
  {
   "cell_type": "code",
   "execution_count": 8,
   "outputs": [
    {
     "data": {
      "text/plain": "count    502.000000\nmean       4.818725\nstd        0.610134\nmin        1.000000\n25%        5.000000\n50%        5.000000\n75%        5.000000\nmax        9.000000\nName: ticker, dtype: float64"
     },
     "execution_count": 8,
     "metadata": {},
     "output_type": "execute_result"
    }
   ],
   "source": [
    "ticker_counts = df.ticker.value_counts()\n",
    "ticker_counts.describe()"
   ],
   "metadata": {
    "collapsed": false,
    "ExecuteTime": {
     "start_time": "2023-08-29T11:20:54.308035Z",
     "end_time": "2023-08-29T11:20:54.313398Z"
    }
   }
  },
  {
   "cell_type": "markdown",
   "source": [
    "As expected, the number of filings per ticker is above, which is consistent with the 4-5 years. Let's look at the range of dates."
   ],
   "metadata": {
    "collapsed": false
   }
  },
  {
   "cell_type": "code",
   "execution_count": 30,
   "outputs": [],
   "source": [
    "dates_range = df.groupby('ticker')['filedAt'].agg({'min','max'})\n",
    "dates_range['range_years'] = (dates_range['max'] - dates_range['min']).dt.days / 365"
   ],
   "metadata": {
    "collapsed": false,
    "ExecuteTime": {
     "start_time": "2023-08-29T11:39:12.046925Z",
     "end_time": "2023-08-29T11:39:12.077142Z"
    }
   }
  },
  {
   "cell_type": "code",
   "execution_count": 29,
   "outputs": [
    {
     "data": {
      "text/plain": "            range\ncount  502.000000\nmean     3.793822\nstd      0.563010\nmin      0.000000\n25%      3.980822\n50%      3.989041\n75%      4.005479\nmax      4.065753",
      "text/html": "<div>\n<style scoped>\n    .dataframe tbody tr th:only-of-type {\n        vertical-align: middle;\n    }\n\n    .dataframe tbody tr th {\n        vertical-align: top;\n    }\n\n    .dataframe thead th {\n        text-align: right;\n    }\n</style>\n<table border=\"1\" class=\"dataframe\">\n  <thead>\n    <tr style=\"text-align: right;\">\n      <th></th>\n      <th>range</th>\n    </tr>\n  </thead>\n  <tbody>\n    <tr>\n      <th>count</th>\n      <td>502.000000</td>\n    </tr>\n    <tr>\n      <th>mean</th>\n      <td>3.793822</td>\n    </tr>\n    <tr>\n      <th>std</th>\n      <td>0.563010</td>\n    </tr>\n    <tr>\n      <th>min</th>\n      <td>0.000000</td>\n    </tr>\n    <tr>\n      <th>25%</th>\n      <td>3.980822</td>\n    </tr>\n    <tr>\n      <th>50%</th>\n      <td>3.989041</td>\n    </tr>\n    <tr>\n      <th>75%</th>\n      <td>4.005479</td>\n    </tr>\n    <tr>\n      <th>max</th>\n      <td>4.065753</td>\n    </tr>\n  </tbody>\n</table>\n</div>"
     },
     "execution_count": 29,
     "metadata": {},
     "output_type": "execute_result"
    }
   ],
   "source": [
    "dates_range.describe()"
   ],
   "metadata": {
    "collapsed": false,
    "ExecuteTime": {
     "start_time": "2023-08-29T11:39:02.179762Z",
     "end_time": "2023-08-29T11:39:02.188255Z"
    }
   }
  },
  {
   "cell_type": "markdown",
   "source": [
    "We suspect that there are companies with repeated filings. We can filter for these later. Let's look now at the actual text data.\n",
    "### 1. Business description"
   ],
   "metadata": {
    "collapsed": false
   }
  },
  {
   "cell_type": "code",
   "execution_count": 37,
   "outputs": [
    {
     "name": "stdout",
     "output_type": "stream",
     "text": [
      "62027 characters for section 1\n",
      "51410 characters for section 1A\n",
      "148246 characters for section 7\n"
     ]
    }
   ],
   "source": [
    "example_sect1 = df.loc[35, 'Section1']\n",
    "example_sect1a=  df.loc[35, 'Section1A']\n",
    "example_sect7 = df.loc[35, 'Section7']\n",
    "\n",
    "print(f'{len(example_sect1)} characters for section 1')\n",
    "print(f'{len(example_sect1a)} characters for section 1A')\n",
    "print(f'{len(example_sect7)} characters for section 7')"
   ],
   "metadata": {
    "collapsed": false,
    "ExecuteTime": {
     "start_time": "2023-08-29T12:00:22.076886Z",
     "end_time": "2023-08-29T12:00:22.080693Z"
    }
   }
  },
  {
   "cell_type": "markdown",
   "source": [
    "We can see the length of the sections is high. Overall, we get the following\n"
   ],
   "metadata": {
    "collapsed": false
   }
  },
  {
   "cell_type": "code",
   "execution_count": 43,
   "outputs": [
    {
     "name": "stdout",
     "output_type": "stream",
     "text": [
      "count      2420.000000\n",
      "mean      55073.604545\n",
      "std       37290.827366\n",
      "min           3.000000\n",
      "25%       31010.500000\n",
      "50%       47889.500000\n",
      "75%       69790.250000\n",
      "max      533690.000000\n",
      "Name: Section1, dtype: float64\n",
      "\n",
      "\n",
      "count      2420.000000\n",
      "mean      68644.264463\n",
      "std       41021.402465\n",
      "min           3.000000\n",
      "25%       43639.000000\n",
      "50%       64877.500000\n",
      "75%       85113.750000\n",
      "max      606309.000000\n",
      "Name: Section1A, dtype: float64\n",
      "\n",
      "\n",
      "count    2.420000e+03\n",
      "mean     9.364633e+04\n",
      "std      6.605767e+04\n",
      "min      3.000000e+00\n",
      "25%      5.760825e+04\n",
      "50%      8.332800e+04\n",
      "75%      1.138970e+05\n",
      "max      1.018864e+06\n",
      "Name: Section7, dtype: float64\n",
      "\n",
      "\n"
     ]
    }
   ],
   "source": [
    "sections = [f'Section{s}' for s in ['1', '1A', '7'] ]\n",
    "lens_summary = { k: df.loc[:,k].astype('str').apply(len).describe()  for k in sections}\n",
    "for k, v in lens_summary.items():\n",
    "    print(v)\n",
    "    print('\\n')"
   ],
   "metadata": {
    "collapsed": false,
    "ExecuteTime": {
     "start_time": "2023-08-29T12:08:16.173296Z",
     "end_time": "2023-08-29T12:08:16.181275Z"
    }
   }
  },
  {
   "cell_type": "markdown",
   "source": [
    "1. The 25 percentile is already higher than 10k characters, or around 2000 words.\n",
    "2. There is a record with only 3 characters.\n"
   ],
   "metadata": {
    "collapsed": false
   }
  },
  {
   "cell_type": "markdown",
   "source": [
    "In the [next](topic_modelling_langchain.ipynb) notebook we look at potential ways of detecting topics and their trending."
   ],
   "metadata": {
    "collapsed": false
   }
  },
  {
   "cell_type": "code",
   "execution_count": null,
   "outputs": [],
   "source": [],
   "metadata": {
    "collapsed": false
   }
  }
 ],
 "metadata": {
  "kernelspec": {
   "display_name": "Python 3",
   "language": "python",
   "name": "python3"
  },
  "language_info": {
   "codemirror_mode": {
    "name": "ipython",
    "version": 2
   },
   "file_extension": ".py",
   "mimetype": "text/x-python",
   "name": "python",
   "nbconvert_exporter": "python",
   "pygments_lexer": "ipython2",
   "version": "2.7.6"
  }
 },
 "nbformat": 4,
 "nbformat_minor": 0
}
